{
 "cells": [
  {
   "cell_type": "code",
   "execution_count": null,
   "metadata": {},
   "outputs": [],
   "source": [
    "%reload_ext autoreload\n",
    "%autoreload 2\n",
    "%matplotlib notebook\n",
    "\n",
    "import numbers\n",
    "\n",
    "import torch\n",
    "from torch import nn\n",
    "from torch import optim\n",
    "from torch import distributions\n",
    "import numpy as np\n",
    "import matplotlib.pyplot as plt\n",
    "from mpl_toolkits.mplot3d import Axes3D\n",
    "from matplotlib import cm\n",
    "from tqdm.auto import tqdm, trange\n",
    "\n",
    "import notebook_setup\n",
    "import ppo, utils\n",
    "from systems import CartPoleEnv, plot_cartpole"
   ]
  },
  {
   "cell_type": "markdown",
   "metadata": {},
   "source": [
    "## Probabilistic model\n",
    "\n",
    "Traditional models predict mapping $x \\rightarrow y$\n",
    "\n",
    "Model $M$ learns to predict mapping $x \\rightarrow (\\mu, \\sigma) : y \\sim N(\\mu, \\sigma)$"
   ]
  },
  {
   "cell_type": "code",
   "execution_count": 245,
   "metadata": {},
   "outputs": [],
   "source": [
    "# TODO: Compare single variance parameter vs. variance output per instance\n",
    "class Model(nn.Module):\n",
    "    def __init__(self, inputs, outputs, hidden=32, variance=None):\n",
    "        super().__init__()\n",
    "        self.repr =  nn.Sequential(\n",
    "            nn.Linear(inputs, hidden),\n",
    "            nn.ReLU(),\n",
    "            nn.Linear(hidden, hidden),\n",
    "            nn.ReLU(),\n",
    "            nn.Linear(hidden, hidden)\n",
    "        )\n",
    "        self.state = nn.Sequential(\n",
    "            nn.Linear(hidden, hidden),\n",
    "            nn.ReLU(),\n",
    "            nn.Linear(hidden, outputs)\n",
    "        )\n",
    "        self.uncertainty = nn.Sequential(\n",
    "            nn.Linear(hidden, hidden),\n",
    "            nn.ReLU(),\n",
    "            nn.Linear(hidden, outputs)\n",
    "        )\n",
    "        if isinstance(variance, (torch.Tensor, np.ndarray)):\n",
    "            if variance.ndim == 1:\n",
    "                self.var = nn.Parameter(torch.diagflat(variance))\n",
    "            elif variance.ndim == 2:\n",
    "                self.var = nn.Parameter(torch.tensor(variance))\n",
    "        elif isinstance(variance, numbers.Real):\n",
    "            self.var = nn.Parameter(torch.eye(outputs) * variance)\n",
    "        else:\n",
    "            self.var = None\n",
    "        \n",
    "\n",
    "    def evaluate(self, x):\n",
    "        x_ = self.repr(x)\n",
    "        mean = self.state(x_)\n",
    "        if self.var is None:\n",
    "            variance = torch.diag(torch.abs(self.uncertainty(x_)) + 1e-3)\n",
    "        else:\n",
    "            variance = torch.abs(self.var)\n",
    "        if x.ndim > 1:\n",
    "            raise ValueError('x must me 1 dimensional i.e one instance')\n",
    "        dist = distributions.MultivariateNormal(mean, covariance_matrix=variance)    \n",
    "        return dist\n",
    "        \n",
    "    def forward(self, x):\n",
    "        dist = self.evaluate(x)\n",
    "        state = dist.sample()\n",
    "        return state"
   ]
  },
  {
   "cell_type": "markdown",
   "metadata": {},
   "source": [
    "## Example\n",
    "Training for regression over a simple function $z = \\sqrt{x^2 + y^2}$\n",
    "\n",
    "Domain: $x, y \\in [-5..5]$"
   ]
  },
  {
   "cell_type": "code",
   "execution_count": 231,
   "metadata": {},
   "outputs": [
    {
     "data": {
      "application/vnd.jupyter.widget-view+json": {
       "model_id": "",
       "version_major": 2,
       "version_minor": 0
      },
      "text/plain": [
       "  0%|          | 0/20 [00:00<?, ?it/s]"
      ]
     },
     "metadata": {},
     "output_type": "display_data"
    }
   ],
   "source": [
    "torch.manual_seed(0)\n",
    "m = Model(2, 1, variance=None)\n",
    "o = optim.Adam(m.parameters(), lr=0.001)\n",
    "X, Y = torch.rand(100, 1), torch.rand(100, 1)\n",
    "with torch.no_grad():\n",
    "    X, Y = -5 + (X * 10), -5 + (Y * 10)\n",
    "    Z = torch.sqrt(X**2 + Y**2)\n",
    "\n",
    "uncertainties, losses = [], []\n",
    "for epoch in trange(20, leave=False):\n",
    "    losses.append([])\n",
    "    uncertainties.append([])\n",
    "    for x, y, z in zip(X, Y, Z):\n",
    "        d = m.evaluate(torch.cat((x, y)))\n",
    "        z_ = d.rsample()\n",
    "        loss = (z_ - z)**2\n",
    "        loss.backward()\n",
    "        o.step()\n",
    "        o.zero_grad()\n",
    "        losses[-1].append(loss.item())\n",
    "        uncertainties[-1].append(d.variance.item())\n",
    "    uncertainties[-1] = np.mean(uncertainties[-1])\n",
    "    losses[-1] = sum(losses[-1]) / len(losses[-1])"
   ]
  },
  {
   "cell_type": "code",
   "execution_count": 244,
   "metadata": {},
   "outputs": [
    {
     "name": "stdout",
     "output_type": "stream",
     "text": [
      "sqrt(3^2 + 4^2)=5: 0.98\n",
      "sqrt(3^2 + 4^2)=5.1: 0.56\n",
      "sqrt(3^2 + 4^2)=5.2: 0.27\n",
      "\n",
      "Out of distribution:\n",
      "sqrt(8^2 + 6^2)=10: 1.07\n",
      "sqrt(8^2 + 6^2)=10.1: 0.96\n",
      "sqrt(8^2 + 6^2)=10.2: 0.80\n"
     ]
    }
   ],
   "source": [
    "# Detecting anomaly\n",
    "inputs = torch.tensor([3., 4.])\n",
    "d = m.evaluate(inputs)\n",
    "print('sqrt(3^2 + 4^2)=5: %.2f' % torch.exp(d.log_prob(torch.tensor([5.]))).item())\n",
    "print('sqrt(3^2 + 4^2)=5.1: %.2f' % torch.exp(d.log_prob(torch.tensor([5.1]))).item())\n",
    "print('sqrt(3^2 + 4^2)=5.2: %.2f' % torch.exp(d.log_prob(torch.tensor([5.2]))).item())\n",
    "print('\\nOut of distribution:')\n",
    "inputs = torch.tensor([8., 6.])\n",
    "d = m.evaluate(inputs)\n",
    "print('sqrt(8^2 + 6^2)=10: %.2f' % torch.exp(d.log_prob(torch.tensor([10.]))).item())\n",
    "print('sqrt(8^2 + 6^2)=10.1: %.2f' % torch.exp(d.log_prob(torch.tensor([10.1]))).item())\n",
    "print('sqrt(8^2 + 6^2)=10.2: %.2f' % torch.exp(d.log_prob(torch.tensor([10.2]))).item())"
   ]
  },
  {
   "cell_type": "code",
   "execution_count": null,
   "metadata": {},
   "outputs": [],
   "source": [
    "plt.plot(losses)\n",
    "plt.title('MSE Loss over epochs')"
   ]
  },
  {
   "cell_type": "code",
   "execution_count": null,
   "metadata": {},
   "outputs": [],
   "source": [
    "plt.plot(uncertainties)\n",
    "plt.title('Average predicted variance over epochs')"
   ]
  },
  {
   "cell_type": "code",
   "execution_count": null,
   "metadata": {},
   "outputs": [],
   "source": [
    "X = torch.linspace(0, 10, 25).reshape(-1, 1)\n",
    "Y = torch.linspace(0, 10, 25).reshape(-1, 1)\n",
    "Z = torch.zeros(len(Y), len(X))\n",
    "varZ = torch.zeros_like(Z)\n",
    "for i, y in enumerate(Y):\n",
    "    for j, x in enumerate(X):\n",
    "        d = m.evaluate(torch.cat((x,y)))\n",
    "        Z[i, j] = d.mean\n",
    "        varZ[i, j] = d.variance.item()\n",
    "Z, varZ = Z.detach().numpy(), varZ.detach().numpy()"
   ]
  },
  {
   "cell_type": "code",
   "execution_count": null,
   "metadata": {},
   "outputs": [],
   "source": [
    "xgrid, ygrid = torch.meshgrid(X[:,0], Y[:,0])\n",
    "\n",
    "fig = plt.figure(figsize=(6,6))\n",
    "ax = fig.gca(projection='3d')\n",
    "\n",
    "ax.plot_surface(xgrid, ygrid, Z,cmap=cm.coolwarm,\n",
    "                       linewidth=0, antialiased=False)\n",
    "ax.plot_surface(xgrid, ygrid, Z + 5 * varZ,\n",
    "                       linewidth=0, antialiased=False, alpha=0.3, facecolor='r')\n",
    "ax.plot_surface(xgrid, ygrid, Z - 5 * varZ,\n",
    "                       linewidth=0, antialiased=False, alpha=0.3, facecolor='b')"
   ]
  },
  {
   "cell_type": "markdown",
   "metadata": {},
   "source": [
    "## Example\n",
    "Training for regression over a simple function $z = sin(x) * y$"
   ]
  },
  {
   "cell_type": "code",
   "execution_count": null,
   "metadata": {},
   "outputs": [],
   "source": [
    "torch.manual_seed(0)\n",
    "m = Model(2, 1, variance=None)\n",
    "o = optim.Adam(m.parameters(), lr=0.001)\n",
    "X, Y = torch.rand(100, 1), torch.rand(100, 1)\n",
    "with torch.no_grad():\n",
    "    X, Y = -5 + (X * 10), -5 + (Y * 10)\n",
    "    Z = torch.sin(X) * Y\n",
    "\n",
    "uncertainties, losses = [], []\n",
    "for epoch in trange(20, leave=False):\n",
    "    losses.append([])\n",
    "    uncertainties.append([])\n",
    "    for x, y, z in zip(X, Y, Z):\n",
    "        d = m.evaluate(torch.cat((x, y)))\n",
    "        z_ = d.rsample()\n",
    "        loss = (z_ - z)**2\n",
    "        loss.backward()\n",
    "        o.step()\n",
    "        o.zero_grad()\n",
    "        losses[-1].append(loss.item())\n",
    "        uncertainties[-1].append(d.variance.item())\n",
    "    uncertainties[-1] = np.mean(uncertainties[-1])\n",
    "    losses[-1] = sum(losses[-1]) / len(losses[-1])"
   ]
  },
  {
   "cell_type": "code",
   "execution_count": null,
   "metadata": {},
   "outputs": [],
   "source": [
    "plt.plot(losses)\n",
    "plt.title('MSE Loss over epochs')"
   ]
  },
  {
   "cell_type": "code",
   "execution_count": null,
   "metadata": {},
   "outputs": [],
   "source": [
    "plt.plot(uncertainties)\n",
    "plt.title('Average predicted variance over epochs')"
   ]
  },
  {
   "cell_type": "code",
   "execution_count": null,
   "metadata": {},
   "outputs": [],
   "source": [
    "X = torch.linspace(0, 10, 25).reshape(-1, 1)\n",
    "Y = torch.linspace(0, 10, 25).reshape(-1, 1)\n",
    "Z = torch.zeros(len(Y), len(X))\n",
    "varZ = torch.zeros_like(Z)\n",
    "for i, y in enumerate(Y):\n",
    "    for j, x in enumerate(X):\n",
    "        d = m.evaluate(torch.cat((x,y)))\n",
    "        Z[i, j] = d.mean\n",
    "        varZ[i, j] = d.variance.item()\n",
    "Z, varZ = Z.detach().numpy(), varZ.detach().numpy()"
   ]
  },
  {
   "cell_type": "code",
   "execution_count": null,
   "metadata": {},
   "outputs": [],
   "source": [
    "xgrid, ygrid = torch.meshgrid(X[:,0], Y[:,0])\n",
    "\n",
    "fig = plt.figure(figsize=(6,6))\n",
    "ax = fig.gca(projection='3d')\n",
    "\n",
    "ax.plot_surface(xgrid, ygrid, Z,cmap=cm.coolwarm,\n",
    "                       linewidth=0, antialiased=False)\n",
    "ax.plot_surface(xgrid, ygrid, Z + 5 * varZ,\n",
    "                       linewidth=0, antialiased=False, alpha=0.3, facecolor='r')\n",
    "ax.plot_surface(xgrid, ygrid, Z - 5 * varZ,\n",
    "                       linewidth=0, antialiased=False, alpha=0.3, facecolor='b')"
   ]
  }
 ],
 "metadata": {
  "kernelspec": {
   "display_name": "Python 3",
   "language": "python",
   "name": "python3"
  },
  "language_info": {
   "codemirror_mode": {
    "name": "ipython",
    "version": 3
   },
   "file_extension": ".py",
   "mimetype": "text/x-python",
   "name": "python",
   "nbconvert_exporter": "python",
   "pygments_lexer": "ipython3",
   "version": "3.7.6"
  }
 },
 "nbformat": 4,
 "nbformat_minor": 4
}
