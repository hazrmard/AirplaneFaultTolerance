{
 "cells": [
  {
   "cell_type": "markdown",
   "metadata": {},
   "source": [
    "Testing a toy example for demonstrating enhanced MAML in RL."
   ]
  },
  {
   "cell_type": "code",
   "execution_count": 1,
   "metadata": {},
   "outputs": [],
   "source": [
    "%reload_ext autoreload\n",
    "%autoreload 2\n",
    "%matplotlib inline\n",
    "\n",
    "from itertools import combinations\n",
    "\n",
    "import torch\n",
    "from torch import nn\n",
    "from torch import optim\n",
    "from torch.autograd import grad\n",
    "from higher import innerloop_ctx\n",
    "import numpy as np\n",
    "from scipy.spatial.distance import jensenshannon\n",
    "from sklearn import cluster\n",
    "import matplotlib.pyplot as plt\n",
    "from tqdm.auto import tqdm, trange\n",
    "\n",
    "import notebook_setup\n",
    "import ppo, utils, meta\n",
    "from ppo import DEVICE\n",
    "from systems import CartPoleEnv, plot_cartpole\n",
    "from systems import TanksPhysicalEnv, TanksFactory, plot_tanks"
   ]
  },
  {
   "cell_type": "markdown",
   "metadata": {},
   "source": [
    "### Standard MAML training"
   ]
  },
  {
   "cell_type": "code",
   "execution_count": 2,
   "metadata": {},
   "outputs": [],
   "source": [
    "def train(agent: ppo.PPO, tasks, n=10, losses=None, seed=None, lr_ini=None):\n",
    "    \"\"\"Pre-training model using higher-order gradients on per-task samples from `training_tasks`\"\"\"\n",
    "    if seed is not None: torch.manual_seed(seed)\n",
    "    model, opt = agent.policy, agent.optimizer\n",
    "    og_lrs = []\n",
    "    for pgroup in opt.param_groups:\n",
    "        og_lrs.append(pgroup['lr'])\n",
    "        if lr_ini is not None:\n",
    "            pgroup['lr'] = lr_ini\n",
    "    scheduler = optim.lr_scheduler.CosineAnnealingLR(opt, T_max=n)\n",
    "    memory = ppo.Memory()\n",
    "    for e in trange(n, leave=False, desc='MAML Initialization'):\n",
    "        opti = optim.Adam(model.parameters(), **opt.defaults)\n",
    "        for i, env in enumerate(tasks):\n",
    "            with innerloop_ctx(model, opti, copy_initial_weights=False) as (fmodel, diffopt):\n",
    "\n",
    "                agent.experience(memory, timesteps=k, env=env, policy=fmodel)\n",
    "                agent.update(fmodel, memory, epochs=4, optimizer=diffopt, higher_optim=True)\n",
    "                memory.clear()\n",
    "                \n",
    "                agent.experience(memory, timesteps=k, env=env, policy=fmodel)\n",
    "                l = agent.update(fmodel, memory, optimizer=None)\n",
    "                memory.clear()\n",
    "                if losses is not None:\n",
    "                    losses[i].append(l.item())\n",
    "\n",
    "        opt.step()\n",
    "        scheduler.step()\n",
    "        opt.zero_grad()\n",
    "    for pgroup, lr in zip(opt.param_groups, og_lrs):\n",
    "        pgroup['lr'] = lr\n",
    "\n",
    "def benchmark_train(agent, tasks, n=10, losses=None, seed=None):\n",
    "    \"\"\"Pre-training model on aggregated samples from `training_tasks`\"\"\"\n",
    "    if seed is not None: torch.manual_seed(seed)\n",
    "    model, opt = agent.policy, agent.optimizer\n",
    "    scheduler = optim.lr_scheduler.CosineAnnealingLR(opt, T_max=n)\n",
    "    memory = ppo.Memory()\n",
    "    for _ in trange(n, leave=False, desc='Bench. Initialization'):\n",
    "        for i, env in enumerate(tasks):\n",
    "\n",
    "                agent.experience(memory, timesteps=k, env=env, policy=model)\n",
    "                l = agent.update(model, memory, epochs=4, optimizer=opt, higher_optim=False)\n",
    "                memory.clear()\n",
    "                if losses is not None:\n",
    "                    losses[i].append(l.item())\n",
    "\n",
    "        opt.step()\n",
    "        scheduler.step()\n",
    "        opt.zero_grad()"
   ]
  },
  {
   "cell_type": "code",
   "execution_count": 3,
   "metadata": {},
   "outputs": [],
   "source": [
    "def test(agent, n, env, losses=None, rewards=None, callback=None, track_higher_grads=False, seed=None):\n",
    "    \"\"\"Fine-tuning model on tasks contained in `evaluation_tasks`\"\"\"\n",
    "    if seed is not None: torch.manual_seed(seed)\n",
    "    model = agent.policy\n",
    "    memory = ppo.Memory()\n",
    "    opti = optim.Adam(model.parameters(), **agent.optimizer.defaults)\n",
    "    with innerloop_ctx(model, opti, track_higher_grads=track_higher_grads) as (fmodel, diffopt):\n",
    "        for e in trange(n, leave=False, desc='Testing'):\n",
    "\n",
    "            agent.experience(memory, timesteps=k, env=env, policy=fmodel)\n",
    "            agent.update(fmodel, memory, epochs=n_adapt, optimizer=diffopt, higher_optim=True)\n",
    "            memory.clear()\n",
    "\n",
    "            if losses is not None or rewards is not None:\n",
    "                agent.experience(memory, timesteps=k*3, env=env, policy=fmodel)\n",
    "                episodic_rewards = utils.cache_to_episodic_rewards([memory.rewards], [memory.is_terminals])\n",
    "                l = agent.update(fmodel, memory, epochs=4, optimizer=None, higher_optim=True)\n",
    "                memory.clear()\n",
    "                if losses is not None: losses.append(l.item())\n",
    "                if rewards is not None: rewards.append(np.nanmean(episodic_rewards))\n",
    "            \n",
    "            if callback is not None:\n",
    "                callback(locals())\n",
    "            "
   ]
  },
  {
   "cell_type": "markdown",
   "metadata": {},
   "source": [
    "### Complementary MAML training"
   ]
  },
  {
   "cell_type": "code",
   "execution_count": 4,
   "metadata": {},
   "outputs": [],
   "source": [
    "def initialize(agent, tasks, n=1, mode='fomaml', seed=None):\n",
    "    if seed is not None: torch.manual_seed(seed)\n",
    "    library, gradients, losses = [], [], []\n",
    "    model, opt = agent.policy, agent.optimizer\n",
    "    og_params = model.state_dict()\n",
    "    memory = ppo.Memory()\n",
    "\n",
    "    for i, env in tqdm(enumerate(tasks), total=len(tasks), desc='Initialization', leave=False):\n",
    "\n",
    "        for e in trange(n, leave=False):\n",
    "            \n",
    "            if e == 0:\n",
    "                opti = optim.Adam(model.parameters(), **agent.optimizer.defaults)\n",
    "                library.append(og_params)\n",
    "                filler = torch.ones_like if mode in ('maml', 'fomaml') else torch.zeros_like\n",
    "                gradsi = [filler(p) for p in model.parameters()]\n",
    "                gradients.append(gradsi)\n",
    "                losses.append([])\n",
    "            \n",
    "            with innerloop_ctx(model, opti, track_higher_grads=True) as (fmodel, diffopt):\n",
    "\n",
    "                # train on task\n",
    "                fmodel.load_state_dict(library[i])\n",
    "                agent.experience(memory, timesteps=k, env=env, policy=fmodel)\n",
    "                agent.update(fmodel, memory, epochs=1, optimizer=diffopt, higher_optim=True)\n",
    "                memory.clear()\n",
    "                library[i] = fmodel.state_dict()\n",
    "                \n",
    "                agent.experience(memory, timesteps=k, env=env, policy=fmodel)\n",
    "                l = agent.update(fmodel, memory, optimizer=None)\n",
    "                memory.clear()\n",
    "                losses[i].append(l.item())\n",
    "                \n",
    "                # get gradints\n",
    "                gradsi = gradients[i]\n",
    "                for j, (p0, p1) in enumerate(zip(fmodel.parameters(time=0), fmodel.parameters())):\n",
    "                    if mode in ('maml', 'fomaml'):\n",
    "                        gradsi[j] *= grad(p1.sum(), p0, retain_graph=True)[0]\n",
    "                    elif mode == 'reptile':\n",
    "                        gradsi[j].data += p1.data - p0.data\n",
    "\n",
    "    model.load_state_dict(og_params)\n",
    "    return library, gradients, losses"
   ]
  },
  {
   "cell_type": "code",
   "execution_count": 5,
   "metadata": {},
   "outputs": [],
   "source": [
    "def ctrain(agent, n, memory, library, gradients, losses=None, mode='fomaml', lr_ini=None):\n",
    "    \"\"\"Create a new initialization of policy (and gradients) based in library and memory\"\"\"\n",
    "    model, opt = agent.policy, agent.optimizer\n",
    "    og_lrs = []\n",
    "    for pgroup in opt.param_groups:\n",
    "        og_lrs.append(pgroup['lr'])\n",
    "        if lr_ini is not None:\n",
    "            pgroup['lr'] = lr_ini\n",
    "    scheduler = optim.lr_scheduler.CosineAnnealingLR(opt, T_max=n)\n",
    "    for _ in trange(n, leave=False, desc='Training'):\n",
    "        # Iterate over trained parameters, and gradients of parameters w.r.t parent params\n",
    "        # Parameters in library are *trained* on tasks sampled from to population\n",
    "        for i, (params, grads) in enumerate(zip(library, gradients)):\n",
    "            # Here we get *test* gradients of trained params on the new task represented by the memory\n",
    "            opti = optim.Adam(model.parameters(), **opt.defaults)\n",
    "            # Create a functional version of model that tracks parameters over time as they are updated\n",
    "            with innerloop_ctx(model, opti, track_higher_grads=False, copy_initial_weights=False) as (fmodel, diffopt):\n",
    "                # Load parameters from library for evaluation\n",
    "                fmodel.load_state_dict(params)\n",
    "                # Update functional model\n",
    "                agent.update(fmodel, memory, optimizer=diffopt, higher_optim=True)\n",
    "                # Backpropagate gradients to original agent\n",
    "                agent.update(fmodel, memory, optimizer=None)\n",
    "        # TODO: Only need gradients between parameters before and after this step:\n",
    "        # How? Make opt a diffopt. Have update() return loss for each params in library. Sum losses and feed then to\n",
    "        # opt? No - each loss gradient needs to be multiplied with gradients between parameters, summing bundles them\n",
    "        # toegether. (dl1)\n",
    "        opt.step()  # copy_initial_weights=False accumulates gradients in model.parameters()\n",
    "        scheduler.step()\n",
    "        opt.zero_grad()\n",
    "    for pgroup, lr in zip(opt.param_groups, og_lrs):\n",
    "        pgroup['lr'] = lr\n",
    "\n",
    "def ctest(agent, n, env, losses=None, rewards=None, callback=None, library=None, gradients=None, tasks=None):\n",
    "    def store(lvars):\n",
    "#         i = lvars.get('i')\n",
    "#         fmodel = lvars.get('fmodel')\n",
    "#         if library is not None:\n",
    "#             library[i] = fmodel.state_dict()\n",
    "#             gradients[i] = utils.get_gradients(fmodel.parameters(), fmodel.parameters(time=0))\n",
    "        if callback is not None: callback(lvars)\n",
    "    test(agent, n, env, losses=losses, rewards=rewards, callback=store, track_higher_grads=False)"
   ]
  },
  {
   "cell_type": "code",
   "execution_count": 6,
   "metadata": {},
   "outputs": [],
   "source": [
    "def distance(memory, policy, params1, params2):\n",
    "    \"\"\"Similarity between two policies based on probabilities of same experience\"\"\"\n",
    "    og_params = policy.state_dict()\n",
    "    s = torch.tensor(memory.states).float().to(DEVICE)\n",
    "    a = torch.tensor(memory.actions).float().to(DEVICE)\n",
    "\n",
    "    policy.load_state_dict(params1)\n",
    "    logprobs0, _, _ = policy.evaluate(s, a)\n",
    "    p0 = torch.exp(logprobs0).detach()\n",
    "\n",
    "    policy.load_state_dict(params2)\n",
    "    logprobs1, _, _ = policy.evaluate(s, a)\n",
    "    p1 = torch.exp(logprobs1).detach()\n",
    "\n",
    "    dist = jensenshannon(p0.cpu(), p1.cpu())\n",
    "    policy.load_state_dict(og_params)\n",
    "    return dist, dist\n",
    "\n",
    "def prune_library(library, agent, memory, max_library_size=10, seed=None):\n",
    "    \"\"\"Rank policies with most divergent behavior from other policies\"\"\"\n",
    "    random = np.random.RandomState(seed) if seed is not None else seed\n",
    "    policy = agent.policy\n",
    "    divmat = np.zeros((len(library), len(library)))\n",
    "    for p1, p2 in combinations(range(len(library)), 2):\n",
    "        divmat[p1, p2], divmat[p2, p1] = distance(memory, policy, library[p1], library[p2])\n",
    "    # https://sklearn.org/modules/generated/sklearn.cluster.SpectralClustering.html#sklearn.cluster.SpectralClustering\n",
    "    affmat = np.exp(- divmat**2 / 2)\n",
    "    size = min(max_library_size, len(library))  # size of divergence matrix\n",
    "    if size < len(library):\n",
    "        clusterer = cluster.SpectralClustering(size, affinity='precomputed')\n",
    "        clusters = clusterer.fit_predict(affmat)\n",
    "        keep, clusters_added = [], []\n",
    "        for i, c in enumerate(clusters):\n",
    "            if c not in clusters_added:\n",
    "                keep.append(i)\n",
    "                clusters_added.append(c)\n",
    "        if len(keep) < size:\n",
    "            left = [i for r in range(len(library)) if i not in keep]\n",
    "            keep.extend(random.choice(left, size - len(keep)))\n",
    "    else:\n",
    "        keep = np.argsort(np.sum(divmat, axis=1))[::-1][:size]\n",
    "    idx = np.ix_(keep, keep)  # generate indices to select range of axes\n",
    "    return [library[k] for k in keep], divmat[idx], keep\n",
    "\n",
    "def rank_library(library, agent, memory):\n",
    "    \"\"\"Sort policies by expected returns on a memory of experiences (descending)\"\"\"\n",
    "    og_params = agent.policy.state_dict()\n",
    "    returns = torch.tensor(memory.returns).float().to(DEVICE).detach()\n",
    "    truncate = len(returns)\n",
    "    # returns = (returns - returns.mean()) / (returns.std() + 1e-5)\n",
    "    states = torch.tensor(memory.states[:truncate]).float().to(DEVICE).detach()\n",
    "    actions = torch.tensor(memory.actions[:truncate]).float().to(DEVICE).detach()\n",
    "    vals = []\n",
    "    for params in library:\n",
    "        agent.policy.load_state_dict(params)\n",
    "        logp, _, _ = agent.policy.evaluate(states, actions)\n",
    "        p = torch.exp(logp)\n",
    "        vals.append(torch.sum(p * returns).item())\n",
    "    agent.policy.load_state_dict(og_params)\n",
    "    return np.argsort(vals)[::-1], np.asarray(vals)"
   ]
  },
  {
   "cell_type": "markdown",
   "metadata": {},
   "source": [
    "# Experiments"
   ]
  },
  {
   "cell_type": "code",
   "execution_count": 12,
   "metadata": {},
   "outputs": [],
   "source": [
    "n_training_tasks = 5\n",
    "# training_tasks = list(range(n_training_tasks))  # random seeds for generating task parameters\n",
    "training_tasks = [0,1,2,3,4]\n",
    "evaluation_task = 6\n",
    "k = 300        # number of examples per task\n",
    "alpha = 0.002   # global learning rate\n",
    "alpha_ini = 0.02 # initialization lr for our approach\n",
    "n_adapt = 5\n",
    "n_train = 10\n",
    "n_test = 20\n",
    "max_library_size = 6\n",
    "rank_threshold = 0.25\n",
    "env_name = 'Tanks'"
   ]
  },
  {
   "cell_type": "code",
   "execution_count": 13,
   "metadata": {},
   "outputs": [],
   "source": [
    "if env_name=='CartPole':\n",
    "\n",
    "    def get_task(seed=None, randomize=True):\n",
    "        env = CartPoleEnv(seed)\n",
    "        return env.randomize() if randomize else env\n",
    "\n",
    "    def make_model(seed=None):\n",
    "        return ppo.PPO(\n",
    "            env=None,\n",
    "            policy=ppo.ActorCriticDiscrete,\n",
    "            state_dim=4,\n",
    "            action_dim=2,\n",
    "            n_latent_var=50,\n",
    "            lr=alpha,\n",
    "            seed=seed)\n",
    "\n",
    "elif env_name=='Tanks':\n",
    "    \n",
    "    faults = [\n",
    "        dict(valves_min=np.asarray([0,0.5,0,0,0,0])),\n",
    "        dict(valves_min=np.asarray([0,0,0.5,0,0,0])),\n",
    "        dict(valves_min=np.asarray([0,0,1.,0,0,0])),\n",
    "        dict(valves_min=np.asarray([0.25,0,0,0,0,0])),\n",
    "        dict(valves_min=np.asarray([0.5,0,0,0,0,0])),\n",
    "        dict(valves_min=np.asarray([0.25,0,0,0,0,0])),\n",
    "        dict(valves_min=np.asarray([0,0,0,0,0.25,0])),\n",
    "    ]\n",
    "\n",
    "    def get_task(seed=None, randomize=False):\n",
    "        if seed is None:\n",
    "            env = TanksPhysicalEnv(TanksFactory(), seed=seed)\n",
    "        else:\n",
    "            env = TanksPhysicalEnv(TanksFactory(**faults[seed]), seed=seed)\n",
    "        return env if not randomize else env.randomize()\n",
    "\n",
    "    def make_model(seed=None):\n",
    "        return ppo.PPO(\n",
    "            env=None,\n",
    "            policy=ppo.ActorCriticDiscrete,\n",
    "            state_dim=6,\n",
    "            action_dim=6,\n",
    "            n_latent_var=50,\n",
    "            lr=alpha,\n",
    "            seed=seed)"
   ]
  },
  {
   "cell_type": "code",
   "execution_count": null,
   "metadata": {},
   "outputs": [],
   "source": [
    "a = make_model()\n",
    "e = get_task()\n",
    "a.env = e\n",
    "r = a.learn(20000, 300)\n",
    "plt.plot(r)"
   ]
  },
  {
   "cell_type": "markdown",
   "metadata": {},
   "source": [
    "### Standard MAML testing"
   ]
  },
  {
   "cell_type": "code",
   "execution_count": null,
   "metadata": {},
   "outputs": [],
   "source": [
    "class TE(TanksPhysicalEnv):\n",
    "    def reset(self):\n",
    "        self.t = 0.\n",
    "        self.x = np.ones(6)\n",
    "        return self.x\n",
    "e = TE(TanksFactory())\n",
    "e.tanks.engines[:] = 0.001\n",
    "e.reset()\n",
    "e.x = np.ones_like(e.tanks.heights)\n",
    "# done = False\n",
    "# while not done:\n",
    "#     s, r, done, _ = e.step(np.zeros(6))\n",
    "#     print(s)\n",
    "plot_tanks(e, a)"
   ]
  },
  {
   "cell_type": "code",
   "execution_count": null,
   "metadata": {},
   "outputs": [],
   "source": [
    "agent = make_model()\n",
    "bench = make_model()\n",
    "bench.policy.load_state_dict(agent.policy.state_dict())\n",
    "\n",
    "losses_train = [[] for _ in training_tasks]\n",
    "losses_bench_train = [[] for _ in training_tasks]\n",
    "losses_test = [[] for _ in evaluation_tasks]\n",
    "losses_bench_test = [[] for _ in evaluation_tasks]\n",
    "\n",
    "for epoch in trange(10, leave=False):\n",
    "    train(agent, 10, losses_train)\n",
    "    benchmark_train(bench, 10, losses_bench_train)\n",
    "    test(agent, losses=losses_test)\n",
    "    test(bench, losses=losses_bench_test)"
   ]
  },
  {
   "cell_type": "code",
   "execution_count": null,
   "metadata": {},
   "outputs": [],
   "source": [
    "# Loss perfomance\n",
    "for t, tb in zip(losses_test, losses_bench_test):\n",
    "    plt.plot(t, label='Test')\n",
    "    plt.plot(tb, label='Bench')\n",
    "plt.grid(True)\n",
    "plt.legend()"
   ]
  },
  {
   "cell_type": "code",
   "execution_count": null,
   "metadata": {},
   "outputs": [],
   "source": [
    "# Plotting actual outputs\n",
    "plt.figure(figsize=(12, 6))\n",
    "plt.subplot(1,2,1)\n",
    "plot_cartpole(get_task(evaluation_tasks[-1]), agent, legend=False)\n",
    "plt.subplot(1,2,2)\n",
    "test(agent, evaluation_tasks[-1], losses=None, callback=lambda args: plot_cartpole(args.get('env'), args.get('agent')))\n",
    "plt.tight_layout()"
   ]
  },
  {
   "cell_type": "markdown",
   "metadata": {},
   "source": [
    "### Complementary MAML testing"
   ]
  },
  {
   "cell_type": "markdown",
   "metadata": {
    "heading_collapsed": true
   },
   "source": [
    "#### Post-fault adaption"
   ]
  },
  {
   "cell_type": "code",
   "execution_count": null,
   "metadata": {
    "hidden": true,
    "scrolled": true
   },
   "outputs": [
    {
     "data": {
      "application/vnd.jupyter.widget-view+json": {
       "model_id": "37dad852a2774d50b233c1317314537a",
       "version_major": 2,
       "version_minor": 0
      },
      "text/plain": [
       "Seed:   0%|          | 0/3 [00:00<?, ?it/s]"
      ]
     },
     "metadata": {},
     "output_type": "display_data"
    },
    {
     "data": {
      "application/vnd.jupyter.widget-view+json": {
       "model_id": "",
       "version_major": 2,
       "version_minor": 0
      },
      "text/plain": [
       "Initialization:   0%|          | 0/5 [00:00<?, ?it/s]"
      ]
     },
     "metadata": {},
     "output_type": "display_data"
    },
    {
     "data": {
      "application/vnd.jupyter.widget-view+json": {
       "model_id": "",
       "version_major": 2,
       "version_minor": 0
      },
      "text/plain": [
       "  0%|          | 0/20 [00:00<?, ?it/s]"
      ]
     },
     "metadata": {},
     "output_type": "display_data"
    },
    {
     "data": {
      "application/vnd.jupyter.widget-view+json": {
       "model_id": "",
       "version_major": 2,
       "version_minor": 0
      },
      "text/plain": [
       "  0%|          | 0/20 [00:00<?, ?it/s]"
      ]
     },
     "metadata": {},
     "output_type": "display_data"
    },
    {
     "data": {
      "application/vnd.jupyter.widget-view+json": {
       "model_id": "",
       "version_major": 2,
       "version_minor": 0
      },
      "text/plain": [
       "  0%|          | 0/20 [00:00<?, ?it/s]"
      ]
     },
     "metadata": {},
     "output_type": "display_data"
    },
    {
     "data": {
      "application/vnd.jupyter.widget-view+json": {
       "model_id": "",
       "version_major": 2,
       "version_minor": 0
      },
      "text/plain": [
       "  0%|          | 0/20 [00:00<?, ?it/s]"
      ]
     },
     "metadata": {},
     "output_type": "display_data"
    },
    {
     "data": {
      "application/vnd.jupyter.widget-view+json": {
       "model_id": "",
       "version_major": 2,
       "version_minor": 0
      },
      "text/plain": [
       "  0%|          | 0/20 [00:00<?, ?it/s]"
      ]
     },
     "metadata": {},
     "output_type": "display_data"
    },
    {
     "data": {
      "application/vnd.jupyter.widget-view+json": {
       "model_id": "",
       "version_major": 2,
       "version_minor": 0
      },
      "text/plain": [
       "MAML Initialization:   0%|          | 0/20 [00:00<?, ?it/s]"
      ]
     },
     "metadata": {},
     "output_type": "display_data"
    },
    {
     "data": {
      "application/vnd.jupyter.widget-view+json": {
       "model_id": "",
       "version_major": 2,
       "version_minor": 0
      },
      "text/plain": [
       "Training:   0%|          | 0/20 [00:00<?, ?it/s]"
      ]
     },
     "metadata": {},
     "output_type": "display_data"
    },
    {
     "data": {
      "application/vnd.jupyter.widget-view+json": {
       "model_id": "",
       "version_major": 2,
       "version_minor": 0
      },
      "text/plain": [
       "Testing:   0%|          | 0/50 [00:00<?, ?it/s]"
      ]
     },
     "metadata": {},
     "output_type": "display_data"
    },
    {
     "data": {
      "application/vnd.jupyter.widget-view+json": {
       "model_id": "",
       "version_major": 2,
       "version_minor": 0
      },
      "text/plain": [
       "Testing:   0%|          | 0/50 [00:00<?, ?it/s]"
      ]
     },
     "metadata": {},
     "output_type": "display_data"
    },
    {
     "data": {
      "application/vnd.jupyter.widget-view+json": {
       "model_id": "",
       "version_major": 2,
       "version_minor": 0
      },
      "text/plain": [
       "Testing:   0%|          | 0/50 [00:00<?, ?it/s]"
      ]
     },
     "metadata": {},
     "output_type": "display_data"
    },
    {
     "data": {
      "application/vnd.jupyter.widget-view+json": {
       "model_id": "",
       "version_major": 2,
       "version_minor": 0
      },
      "text/plain": [
       "Initialization:   0%|          | 0/5 [00:00<?, ?it/s]"
      ]
     },
     "metadata": {},
     "output_type": "display_data"
    },
    {
     "data": {
      "application/vnd.jupyter.widget-view+json": {
       "model_id": "",
       "version_major": 2,
       "version_minor": 0
      },
      "text/plain": [
       "  0%|          | 0/20 [00:00<?, ?it/s]"
      ]
     },
     "metadata": {},
     "output_type": "display_data"
    },
    {
     "data": {
      "application/vnd.jupyter.widget-view+json": {
       "model_id": "",
       "version_major": 2,
       "version_minor": 0
      },
      "text/plain": [
       "  0%|          | 0/20 [00:00<?, ?it/s]"
      ]
     },
     "metadata": {},
     "output_type": "display_data"
    },
    {
     "data": {
      "application/vnd.jupyter.widget-view+json": {
       "model_id": "",
       "version_major": 2,
       "version_minor": 0
      },
      "text/plain": [
       "  0%|          | 0/20 [00:00<?, ?it/s]"
      ]
     },
     "metadata": {},
     "output_type": "display_data"
    },
    {
     "data": {
      "application/vnd.jupyter.widget-view+json": {
       "model_id": "",
       "version_major": 2,
       "version_minor": 0
      },
      "text/plain": [
       "  0%|          | 0/20 [00:00<?, ?it/s]"
      ]
     },
     "metadata": {},
     "output_type": "display_data"
    },
    {
     "data": {
      "application/vnd.jupyter.widget-view+json": {
       "model_id": "",
       "version_major": 2,
       "version_minor": 0
      },
      "text/plain": [
       "  0%|          | 0/20 [00:00<?, ?it/s]"
      ]
     },
     "metadata": {},
     "output_type": "display_data"
    },
    {
     "data": {
      "application/vnd.jupyter.widget-view+json": {
       "model_id": "",
       "version_major": 2,
       "version_minor": 0
      },
      "text/plain": [
       "MAML Initialization:   0%|          | 0/20 [00:00<?, ?it/s]"
      ]
     },
     "metadata": {},
     "output_type": "display_data"
    },
    {
     "data": {
      "application/vnd.jupyter.widget-view+json": {
       "model_id": "",
       "version_major": 2,
       "version_minor": 0
      },
      "text/plain": [
       "Training:   0%|          | 0/20 [00:00<?, ?it/s]"
      ]
     },
     "metadata": {},
     "output_type": "display_data"
    },
    {
     "data": {
      "application/vnd.jupyter.widget-view+json": {
       "model_id": "",
       "version_major": 2,
       "version_minor": 0
      },
      "text/plain": [
       "Testing:   0%|          | 0/50 [00:00<?, ?it/s]"
      ]
     },
     "metadata": {},
     "output_type": "display_data"
    },
    {
     "data": {
      "application/vnd.jupyter.widget-view+json": {
       "model_id": "",
       "version_major": 2,
       "version_minor": 0
      },
      "text/plain": [
       "Testing:   0%|          | 0/50 [00:00<?, ?it/s]"
      ]
     },
     "metadata": {},
     "output_type": "display_data"
    },
    {
     "data": {
      "application/vnd.jupyter.widget-view+json": {
       "model_id": "",
       "version_major": 2,
       "version_minor": 0
      },
      "text/plain": [
       "Testing:   0%|          | 0/50 [00:00<?, ?it/s]"
      ]
     },
     "metadata": {},
     "output_type": "display_data"
    },
    {
     "data": {
      "application/vnd.jupyter.widget-view+json": {
       "model_id": "c0f2024699624118b77682be7f929768",
       "version_major": 2,
       "version_minor": 0
      },
      "text/plain": [
       "Initialization:   0%|          | 0/5 [00:00<?, ?it/s]"
      ]
     },
     "metadata": {},
     "output_type": "display_data"
    },
    {
     "data": {
      "application/vnd.jupyter.widget-view+json": {
       "model_id": "",
       "version_major": 2,
       "version_minor": 0
      },
      "text/plain": [
       "  0%|          | 0/20 [00:00<?, ?it/s]"
      ]
     },
     "metadata": {},
     "output_type": "display_data"
    },
    {
     "data": {
      "application/vnd.jupyter.widget-view+json": {
       "model_id": "",
       "version_major": 2,
       "version_minor": 0
      },
      "text/plain": [
       "  0%|          | 0/20 [00:00<?, ?it/s]"
      ]
     },
     "metadata": {},
     "output_type": "display_data"
    },
    {
     "data": {
      "application/vnd.jupyter.widget-view+json": {
       "model_id": "",
       "version_major": 2,
       "version_minor": 0
      },
      "text/plain": [
       "  0%|          | 0/20 [00:00<?, ?it/s]"
      ]
     },
     "metadata": {},
     "output_type": "display_data"
    },
    {
     "data": {
      "application/vnd.jupyter.widget-view+json": {
       "model_id": "",
       "version_major": 2,
       "version_minor": 0
      },
      "text/plain": [
       "  0%|          | 0/20 [00:00<?, ?it/s]"
      ]
     },
     "metadata": {},
     "output_type": "display_data"
    },
    {
     "data": {
      "application/vnd.jupyter.widget-view+json": {
       "model_id": "a3cbc940bda2496fbaa3ec0170b46579",
       "version_major": 2,
       "version_minor": 0
      },
      "text/plain": [
       "  0%|          | 0/20 [00:00<?, ?it/s]"
      ]
     },
     "metadata": {},
     "output_type": "display_data"
    }
   ],
   "source": [
    "seeds = [0, 1, 2]\n",
    "\n",
    "r_test = [[] for _ in seeds]\n",
    "r_bench_test = [[] for _ in seeds]\n",
    "r_maml_test = [[] for _ in seeds]\n",
    "\n",
    "\n",
    "for i, seed in tqdm(enumerate(seeds), total=len(seeds), leave=False, desc='Seed'):\n",
    "    torch.manual_seed(seed)\n",
    "    agent = make_model()\n",
    "    bench = make_model()\n",
    "    maml = make_model()\n",
    "    bench.policy.load_state_dict(agent.policy.state_dict())\n",
    "    maml.policy.load_state_dict(agent.policy.state_dict())\n",
    "\n",
    "    library, gradients, losses_init = initialize(agent, list(map(get_task, training_tasks)), n=n_train, seed=seed)\n",
    "    # benchmark_train(bench, list(map(get_task, training_tasks)), n=n_train, seed=seed)\n",
    "    train(maml, list(map(get_task, training_tasks)), n=n_train, seed=seed)\n",
    "\n",
    "    memory = ppo.Memory()\n",
    "    \n",
    "    # get performance prior to adaption\n",
    "    for ag, reward in zip((agent, bench, maml), (r_test, r_bench_test, r_maml_test)):\n",
    "        env = get_task(evaluation_task)\n",
    "        torch.manual_seed(seed)\n",
    "        ag.experience(memory, k, env, ag.policy)\n",
    "        episodic_rewards = utils.cache_to_episodic_rewards([memory.rewards], [memory.is_terminals])\n",
    "        reward[i].append(np.nanmean(episodic_rewards))\n",
    "        memory.clear()\n",
    "    \n",
    "    env = get_task(evaluation_task)\n",
    "    agent.experience(memory, k, env, agent.policy)\n",
    "    \n",
    "    library, divmat, pidx = prune_library(library, agent, memory, max_library_size=max_library_size)\n",
    "    vidx, vals = rank_library(library, agent, memory)\n",
    "    maxv, minv = max(vals), min(vals)\n",
    "    threshold_val = maxv - rank_threshold * (maxv - minv)\n",
    "    library = [param for i, param in enumerate(library) if vals[i] >= threshold_val]\n",
    "    gradients = [grads for i, grads in enumerate(gradients) if vals[i] >= threshold_val]\n",
    "    # plt.bar(np.arange(len(vals)), vals[vidx], tick_label=vidx)\n",
    "    # plt.axhline(threshold_val, linestyle=':')\n",
    "    # print('Top %d params selected' % len(library))\n",
    "\n",
    "    # Pre-train\n",
    "    ctrain(agent, n_train, memory, library, gradients, lr_ini=alpha_ini)  # buffered experiences\n",
    "    \n",
    "    test(agent, n_test, env, rewards=r_test[i], seed=seed) # fomaml doesn't need to store grads\n",
    "    test(bench, n_test, env, rewards=r_bench_test[i], seed=seed)\n",
    "    test(maml, n_test, env, rewards=r_maml_test[i], seed=seed)"
   ]
  },
  {
   "cell_type": "code",
   "execution_count": null,
   "metadata": {
    "hidden": true
   },
   "outputs": [],
   "source": [
    "# Reward perfomance\n",
    "t, t_s = np.mean(r_test, axis=0), np.std(r_test, axis=0)\n",
    "tb, tb_s = np.mean(r_bench_test, axis=0), np.std(r_bench_test, axis=0)\n",
    "tm, tm_s = np.mean(r_maml_test, axis=0), np.std(r_maml_test, axis=0)\n",
    "\n",
    "l, = plt.plot(t, label='Ours')\n",
    "plt.fill_between(np.arange(len(t)), t - t_s, t + t_s, alpha=0.3, color=l.get_color())\n",
    "l, = plt.plot(tb, label='Vanilla')\n",
    "plt.fill_between(np.arange(len(tb)), tb - tb_s, tb + tb_s, alpha=0.3, color=l.get_color())\n",
    "l, = plt.plot(tm, label='MAML')\n",
    "plt.fill_between(np.arange(len(tm)), tm - tm_s, tm + tm_s, alpha=0.3, color=l.get_color())\n",
    "\n",
    "plt.grid(True)\n",
    "plt.legend()"
   ]
  },
  {
   "cell_type": "markdown",
   "metadata": {
    "heading_collapsed": true
   },
   "source": [
    "#### Varying ranking threshold"
   ]
  },
  {
   "cell_type": "code",
   "execution_count": 14,
   "metadata": {
    "hidden": true
   },
   "outputs": [
    {
     "data": {
      "application/vnd.jupyter.widget-view+json": {
       "model_id": "",
       "version_major": 2,
       "version_minor": 0
      },
      "text/plain": [
       "Seed:   0%|          | 0/3 [00:00<?, ?it/s]"
      ]
     },
     "metadata": {},
     "output_type": "display_data"
    },
    {
     "data": {
      "application/vnd.jupyter.widget-view+json": {
       "model_id": "",
       "version_major": 2,
       "version_minor": 0
      },
      "text/plain": [
       "Initialization:   0%|          | 0/5 [00:00<?, ?it/s]"
      ]
     },
     "metadata": {},
     "output_type": "display_data"
    },
    {
     "data": {
      "application/vnd.jupyter.widget-view+json": {
       "model_id": "",
       "version_major": 2,
       "version_minor": 0
      },
      "text/plain": [
       "  0%|          | 0/10 [00:00<?, ?it/s]"
      ]
     },
     "metadata": {},
     "output_type": "display_data"
    },
    {
     "data": {
      "application/vnd.jupyter.widget-view+json": {
       "model_id": "",
       "version_major": 2,
       "version_minor": 0
      },
      "text/plain": [
       "  0%|          | 0/10 [00:00<?, ?it/s]"
      ]
     },
     "metadata": {},
     "output_type": "display_data"
    },
    {
     "data": {
      "application/vnd.jupyter.widget-view+json": {
       "model_id": "",
       "version_major": 2,
       "version_minor": 0
      },
      "text/plain": [
       "  0%|          | 0/10 [00:00<?, ?it/s]"
      ]
     },
     "metadata": {},
     "output_type": "display_data"
    },
    {
     "data": {
      "application/vnd.jupyter.widget-view+json": {
       "model_id": "",
       "version_major": 2,
       "version_minor": 0
      },
      "text/plain": [
       "  0%|          | 0/10 [00:00<?, ?it/s]"
      ]
     },
     "metadata": {},
     "output_type": "display_data"
    },
    {
     "data": {
      "application/vnd.jupyter.widget-view+json": {
       "model_id": "",
       "version_major": 2,
       "version_minor": 0
      },
      "text/plain": [
       "  0%|          | 0/10 [00:00<?, ?it/s]"
      ]
     },
     "metadata": {},
     "output_type": "display_data"
    },
    {
     "data": {
      "application/vnd.jupyter.widget-view+json": {
       "model_id": "",
       "version_major": 2,
       "version_minor": 0
      },
      "text/plain": [
       "Training:   0%|          | 0/10 [00:00<?, ?it/s]"
      ]
     },
     "metadata": {},
     "output_type": "display_data"
    },
    {
     "data": {
      "application/vnd.jupyter.widget-view+json": {
       "model_id": "",
       "version_major": 2,
       "version_minor": 0
      },
      "text/plain": [
       "Testing:   0%|          | 0/20 [00:00<?, ?it/s]"
      ]
     },
     "metadata": {},
     "output_type": "display_data"
    },
    {
     "data": {
      "application/vnd.jupyter.widget-view+json": {
       "model_id": "",
       "version_major": 2,
       "version_minor": 0
      },
      "text/plain": [
       "Training:   0%|          | 0/10 [00:00<?, ?it/s]"
      ]
     },
     "metadata": {},
     "output_type": "display_data"
    },
    {
     "data": {
      "application/vnd.jupyter.widget-view+json": {
       "model_id": "",
       "version_major": 2,
       "version_minor": 0
      },
      "text/plain": [
       "Testing:   0%|          | 0/20 [00:00<?, ?it/s]"
      ]
     },
     "metadata": {},
     "output_type": "display_data"
    },
    {
     "data": {
      "application/vnd.jupyter.widget-view+json": {
       "model_id": "",
       "version_major": 2,
       "version_minor": 0
      },
      "text/plain": [
       "Training:   0%|          | 0/10 [00:00<?, ?it/s]"
      ]
     },
     "metadata": {},
     "output_type": "display_data"
    },
    {
     "data": {
      "application/vnd.jupyter.widget-view+json": {
       "model_id": "",
       "version_major": 2,
       "version_minor": 0
      },
      "text/plain": [
       "Testing:   0%|          | 0/20 [00:00<?, ?it/s]"
      ]
     },
     "metadata": {},
     "output_type": "display_data"
    },
    {
     "data": {
      "application/vnd.jupyter.widget-view+json": {
       "model_id": "",
       "version_major": 2,
       "version_minor": 0
      },
      "text/plain": [
       "Initialization:   0%|          | 0/5 [00:00<?, ?it/s]"
      ]
     },
     "metadata": {},
     "output_type": "display_data"
    },
    {
     "data": {
      "application/vnd.jupyter.widget-view+json": {
       "model_id": "",
       "version_major": 2,
       "version_minor": 0
      },
      "text/plain": [
       "  0%|          | 0/10 [00:00<?, ?it/s]"
      ]
     },
     "metadata": {},
     "output_type": "display_data"
    },
    {
     "data": {
      "application/vnd.jupyter.widget-view+json": {
       "model_id": "",
       "version_major": 2,
       "version_minor": 0
      },
      "text/plain": [
       "  0%|          | 0/10 [00:00<?, ?it/s]"
      ]
     },
     "metadata": {},
     "output_type": "display_data"
    },
    {
     "data": {
      "application/vnd.jupyter.widget-view+json": {
       "model_id": "",
       "version_major": 2,
       "version_minor": 0
      },
      "text/plain": [
       "  0%|          | 0/10 [00:00<?, ?it/s]"
      ]
     },
     "metadata": {},
     "output_type": "display_data"
    },
    {
     "data": {
      "application/vnd.jupyter.widget-view+json": {
       "model_id": "",
       "version_major": 2,
       "version_minor": 0
      },
      "text/plain": [
       "  0%|          | 0/10 [00:00<?, ?it/s]"
      ]
     },
     "metadata": {},
     "output_type": "display_data"
    },
    {
     "data": {
      "application/vnd.jupyter.widget-view+json": {
       "model_id": "",
       "version_major": 2,
       "version_minor": 0
      },
      "text/plain": [
       "  0%|          | 0/10 [00:00<?, ?it/s]"
      ]
     },
     "metadata": {},
     "output_type": "display_data"
    },
    {
     "data": {
      "application/vnd.jupyter.widget-view+json": {
       "model_id": "",
       "version_major": 2,
       "version_minor": 0
      },
      "text/plain": [
       "Training:   0%|          | 0/10 [00:00<?, ?it/s]"
      ]
     },
     "metadata": {},
     "output_type": "display_data"
    },
    {
     "data": {
      "application/vnd.jupyter.widget-view+json": {
       "model_id": "",
       "version_major": 2,
       "version_minor": 0
      },
      "text/plain": [
       "Testing:   0%|          | 0/20 [00:00<?, ?it/s]"
      ]
     },
     "metadata": {},
     "output_type": "display_data"
    },
    {
     "data": {
      "application/vnd.jupyter.widget-view+json": {
       "model_id": "",
       "version_major": 2,
       "version_minor": 0
      },
      "text/plain": [
       "Training:   0%|          | 0/10 [00:00<?, ?it/s]"
      ]
     },
     "metadata": {},
     "output_type": "display_data"
    },
    {
     "data": {
      "application/vnd.jupyter.widget-view+json": {
       "model_id": "",
       "version_major": 2,
       "version_minor": 0
      },
      "text/plain": [
       "Testing:   0%|          | 0/20 [00:00<?, ?it/s]"
      ]
     },
     "metadata": {},
     "output_type": "display_data"
    },
    {
     "data": {
      "application/vnd.jupyter.widget-view+json": {
       "model_id": "",
       "version_major": 2,
       "version_minor": 0
      },
      "text/plain": [
       "Training:   0%|          | 0/10 [00:00<?, ?it/s]"
      ]
     },
     "metadata": {},
     "output_type": "display_data"
    },
    {
     "data": {
      "application/vnd.jupyter.widget-view+json": {
       "model_id": "",
       "version_major": 2,
       "version_minor": 0
      },
      "text/plain": [
       "Testing:   0%|          | 0/20 [00:00<?, ?it/s]"
      ]
     },
     "metadata": {},
     "output_type": "display_data"
    },
    {
     "data": {
      "application/vnd.jupyter.widget-view+json": {
       "model_id": "",
       "version_major": 2,
       "version_minor": 0
      },
      "text/plain": [
       "Initialization:   0%|          | 0/5 [00:00<?, ?it/s]"
      ]
     },
     "metadata": {},
     "output_type": "display_data"
    },
    {
     "data": {
      "application/vnd.jupyter.widget-view+json": {
       "model_id": "",
       "version_major": 2,
       "version_minor": 0
      },
      "text/plain": [
       "  0%|          | 0/10 [00:00<?, ?it/s]"
      ]
     },
     "metadata": {},
     "output_type": "display_data"
    },
    {
     "data": {
      "application/vnd.jupyter.widget-view+json": {
       "model_id": "",
       "version_major": 2,
       "version_minor": 0
      },
      "text/plain": [
       "  0%|          | 0/10 [00:00<?, ?it/s]"
      ]
     },
     "metadata": {},
     "output_type": "display_data"
    },
    {
     "data": {
      "application/vnd.jupyter.widget-view+json": {
       "model_id": "",
       "version_major": 2,
       "version_minor": 0
      },
      "text/plain": [
       "  0%|          | 0/10 [00:00<?, ?it/s]"
      ]
     },
     "metadata": {},
     "output_type": "display_data"
    },
    {
     "data": {
      "application/vnd.jupyter.widget-view+json": {
       "model_id": "",
       "version_major": 2,
       "version_minor": 0
      },
      "text/plain": [
       "  0%|          | 0/10 [00:00<?, ?it/s]"
      ]
     },
     "metadata": {},
     "output_type": "display_data"
    },
    {
     "data": {
      "application/vnd.jupyter.widget-view+json": {
       "model_id": "",
       "version_major": 2,
       "version_minor": 0
      },
      "text/plain": [
       "  0%|          | 0/10 [00:00<?, ?it/s]"
      ]
     },
     "metadata": {},
     "output_type": "display_data"
    },
    {
     "data": {
      "application/vnd.jupyter.widget-view+json": {
       "model_id": "",
       "version_major": 2,
       "version_minor": 0
      },
      "text/plain": [
       "Training:   0%|          | 0/10 [00:00<?, ?it/s]"
      ]
     },
     "metadata": {},
     "output_type": "display_data"
    },
    {
     "data": {
      "application/vnd.jupyter.widget-view+json": {
       "model_id": "",
       "version_major": 2,
       "version_minor": 0
      },
      "text/plain": [
       "Testing:   0%|          | 0/20 [00:00<?, ?it/s]"
      ]
     },
     "metadata": {},
     "output_type": "display_data"
    },
    {
     "data": {
      "application/vnd.jupyter.widget-view+json": {
       "model_id": "",
       "version_major": 2,
       "version_minor": 0
      },
      "text/plain": [
       "Training:   0%|          | 0/10 [00:00<?, ?it/s]"
      ]
     },
     "metadata": {},
     "output_type": "display_data"
    },
    {
     "data": {
      "application/vnd.jupyter.widget-view+json": {
       "model_id": "",
       "version_major": 2,
       "version_minor": 0
      },
      "text/plain": [
       "Testing:   0%|          | 0/20 [00:00<?, ?it/s]"
      ]
     },
     "metadata": {},
     "output_type": "display_data"
    },
    {
     "data": {
      "application/vnd.jupyter.widget-view+json": {
       "model_id": "",
       "version_major": 2,
       "version_minor": 0
      },
      "text/plain": [
       "Training:   0%|          | 0/10 [00:00<?, ?it/s]"
      ]
     },
     "metadata": {},
     "output_type": "display_data"
    },
    {
     "data": {
      "application/vnd.jupyter.widget-view+json": {
       "model_id": "",
       "version_major": 2,
       "version_minor": 0
      },
      "text/plain": [
       "Testing:   0%|          | 0/20 [00:00<?, ?it/s]"
      ]
     },
     "metadata": {},
     "output_type": "display_data"
    }
   ],
   "source": [
    "seeds = [0, 1, 2]\n",
    "thresholds = [0, 0.25, 0.5, 0.75, 1.0]\n",
    "r_thresh = [[[] for _ in seeds] for _ in thresholds] # lists of results per seed, per threshold\n",
    "\n",
    "for i, seed in tqdm(enumerate(seeds), total=len(seeds), leave=False, desc='Seed'):\n",
    "    agent = make_model(seed)\n",
    "    library, gradients, losses_init = initialize(agent, list(map(get_task, training_tasks)), n=n_train, seed=seed)\n",
    "    memory = ppo.Memory()\n",
    "    env = get_task(evaluation_task)\n",
    "    agent.experience(memory, k, env, agent.policy)\n",
    "    episodic_rewards = utils.cache_to_episodic_rewards([memory.rewards], [memory.is_terminals])\n",
    "    for r in r_thresh:\n",
    "        # fill same seed for each threshold with initial rewards\n",
    "        r[i].append(np.nanmean(episodic_rewards))\n",
    "    \n",
    "    vidx, vals = rank_library(library, agent, memory)\n",
    "    maxv, minv = max(vals), min(vals)\n",
    "    for r, thresh in zip(r_thresh[i], thresholds):\n",
    "        threshold_val = maxv - thresh * (maxv - minv)\n",
    "        library_ = [param for i, param in enumerate(library) if vals[i] >= threshold_val]\n",
    "        gradients_ = [grads for i, grads in enumerate(gradients) if vals[i] >= threshold_val]\n",
    "        \n",
    "        # Pre-train\n",
    "        ctrain(agent, n_train, memory, library_, gradients_, lr_ini=alpha_ini)  # buffered experiences\n",
    "\n",
    "        test(agent, n_test, env, rewards=r, seed=seed) # fomaml doesn't need to store grads\n",
    "        \n",
    "        "
   ]
  },
  {
   "cell_type": "code",
   "execution_count": 15,
   "metadata": {
    "hidden": true
   },
   "outputs": [
    {
     "data": {
      "text/plain": [
       "<matplotlib.legend.Legend at 0x7fa5f86a7690>"
      ]
     },
     "execution_count": 15,
     "metadata": {},
     "output_type": "execute_result"
    },
    {
     "data": {
      "image/png": "[encoded data removed]",
      "text/plain": [
       "<Figure size 432x288 with 1 Axes>"
      ]
     },
     "metadata": {
      "needs_background": "light"
     },
     "output_type": "display_data"
    }
   ],
   "source": [
    "# Reward perfomance\n",
    "for rewards, thresh in zip(r_thresh, thresholds):\n",
    "    r, r_s = np.mean(rewards, axis=0), np.std(rewards, axis=0) # mean over seeds\n",
    "    l, = plt.plot(r, label= 'Top1' if thresh==0 else '%.2f' % thresh)\n",
    "    plt.fill_between(np.arange(len(r)), r - r_s, r + r_s, alpha=0.3, color=l.get_color())\n",
    "\n",
    "plt.grid(True)\n",
    "plt.xlabel('Epochs')\n",
    "plt.ylabel('Average Episodic Reward')\n",
    "plt.legend()"
   ]
  },
  {
   "cell_type": "markdown",
   "metadata": {
    "heading_collapsed": true
   },
   "source": [
    "#### Library pruning"
   ]
  },
  {
   "cell_type": "code",
   "execution_count": 68,
   "metadata": {
    "hidden": true
   },
   "outputs": [
    {
     "data": {
      "application/vnd.jupyter.widget-view+json": {
       "model_id": "",
       "version_major": 2,
       "version_minor": 0
      },
      "text/plain": [
       "Seed:   0%|          | 0/3 [00:00<?, ?it/s]"
      ]
     },
     "metadata": {},
     "output_type": "display_data"
    },
    {
     "data": {
      "application/vnd.jupyter.widget-view+json": {
       "model_id": "",
       "version_major": 2,
       "version_minor": 0
      },
      "text/plain": [
       "Initialization:   0%|          | 0/8 [00:00<?, ?it/s]"
      ]
     },
     "metadata": {},
     "output_type": "display_data"
    },
    {
     "data": {
      "application/vnd.jupyter.widget-view+json": {
       "model_id": "",
       "version_major": 2,
       "version_minor": 0
      },
      "text/plain": [
       "  0%|          | 0/20 [00:00<?, ?it/s]"
      ]
     },
     "metadata": {},
     "output_type": "display_data"
    },
    {
     "data": {
      "application/vnd.jupyter.widget-view+json": {
       "model_id": "",
       "version_major": 2,
       "version_minor": 0
      },
      "text/plain": [
       "  0%|          | 0/20 [00:00<?, ?it/s]"
      ]
     },
     "metadata": {},
     "output_type": "display_data"
    },
    {
     "data": {
      "application/vnd.jupyter.widget-view+json": {
       "model_id": "",
       "version_major": 2,
       "version_minor": 0
      },
      "text/plain": [
       "  0%|          | 0/20 [00:00<?, ?it/s]"
      ]
     },
     "metadata": {},
     "output_type": "display_data"
    },
    {
     "data": {
      "application/vnd.jupyter.widget-view+json": {
       "model_id": "",
       "version_major": 2,
       "version_minor": 0
      },
      "text/plain": [
       "  0%|          | 0/20 [00:00<?, ?it/s]"
      ]
     },
     "metadata": {},
     "output_type": "display_data"
    },
    {
     "data": {
      "application/vnd.jupyter.widget-view+json": {
       "model_id": "",
       "version_major": 2,
       "version_minor": 0
      },
      "text/plain": [
       "  0%|          | 0/20 [00:00<?, ?it/s]"
      ]
     },
     "metadata": {},
     "output_type": "display_data"
    },
    {
     "data": {
      "application/vnd.jupyter.widget-view+json": {
       "model_id": "",
       "version_major": 2,
       "version_minor": 0
      },
      "text/plain": [
       "  0%|          | 0/20 [00:00<?, ?it/s]"
      ]
     },
     "metadata": {},
     "output_type": "display_data"
    },
    {
     "data": {
      "application/vnd.jupyter.widget-view+json": {
       "model_id": "",
       "version_major": 2,
       "version_minor": 0
      },
      "text/plain": [
       "  0%|          | 0/20 [00:00<?, ?it/s]"
      ]
     },
     "metadata": {},
     "output_type": "display_data"
    },
    {
     "data": {
      "application/vnd.jupyter.widget-view+json": {
       "model_id": "",
       "version_major": 2,
       "version_minor": 0
      },
      "text/plain": [
       "  0%|          | 0/20 [00:00<?, ?it/s]"
      ]
     },
     "metadata": {},
     "output_type": "display_data"
    },
    {
     "data": {
      "application/vnd.jupyter.widget-view+json": {
       "model_id": "",
       "version_major": 2,
       "version_minor": 0
      },
      "text/plain": [
       "Lib Size:   0%|          | 0/3 [00:00<?, ?it/s]"
      ]
     },
     "metadata": {},
     "output_type": "display_data"
    },
    {
     "data": {
      "application/vnd.jupyter.widget-view+json": {
       "model_id": "",
       "version_major": 2,
       "version_minor": 0
      },
      "text/plain": [
       "Training:   0%|          | 0/20 [00:00<?, ?it/s]"
      ]
     },
     "metadata": {},
     "output_type": "display_data"
    },
    {
     "data": {
      "application/vnd.jupyter.widget-view+json": {
       "model_id": "",
       "version_major": 2,
       "version_minor": 0
      },
      "text/plain": [
       "Testing:   0%|          | 0/50 [00:00<?, ?it/s]"
      ]
     },
     "metadata": {},
     "output_type": "display_data"
    },
    {
     "data": {
      "application/vnd.jupyter.widget-view+json": {
       "model_id": "",
       "version_major": 2,
       "version_minor": 0
      },
      "text/plain": [
       "Training:   0%|          | 0/20 [00:00<?, ?it/s]"
      ]
     },
     "metadata": {},
     "output_type": "display_data"
    },
    {
     "data": {
      "application/vnd.jupyter.widget-view+json": {
       "model_id": "",
       "version_major": 2,
       "version_minor": 0
      },
      "text/plain": [
       "Testing:   0%|          | 0/50 [00:00<?, ?it/s]"
      ]
     },
     "metadata": {},
     "output_type": "display_data"
    },
    {
     "data": {
      "application/vnd.jupyter.widget-view+json": {
       "model_id": "",
       "version_major": 2,
       "version_minor": 0
      },
      "text/plain": [
       "Training:   0%|          | 0/20 [00:00<?, ?it/s]"
      ]
     },
     "metadata": {},
     "output_type": "display_data"
    },
    {
     "data": {
      "application/vnd.jupyter.widget-view+json": {
       "model_id": "",
       "version_major": 2,
       "version_minor": 0
      },
      "text/plain": [
       "Testing:   0%|          | 0/50 [00:00<?, ?it/s]"
      ]
     },
     "metadata": {},
     "output_type": "display_data"
    },
    {
     "data": {
      "application/vnd.jupyter.widget-view+json": {
       "model_id": "",
       "version_major": 2,
       "version_minor": 0
      },
      "text/plain": [
       "Initialization:   0%|          | 0/8 [00:00<?, ?it/s]"
      ]
     },
     "metadata": {},
     "output_type": "display_data"
    },
    {
     "data": {
      "application/vnd.jupyter.widget-view+json": {
       "model_id": "",
       "version_major": 2,
       "version_minor": 0
      },
      "text/plain": [
       "  0%|          | 0/20 [00:00<?, ?it/s]"
      ]
     },
     "metadata": {},
     "output_type": "display_data"
    },
    {
     "data": {
      "application/vnd.jupyter.widget-view+json": {
       "model_id": "",
       "version_major": 2,
       "version_minor": 0
      },
      "text/plain": [
       "  0%|          | 0/20 [00:00<?, ?it/s]"
      ]
     },
     "metadata": {},
     "output_type": "display_data"
    },
    {
     "data": {
      "application/vnd.jupyter.widget-view+json": {
       "model_id": "",
       "version_major": 2,
       "version_minor": 0
      },
      "text/plain": [
       "  0%|          | 0/20 [00:00<?, ?it/s]"
      ]
     },
     "metadata": {},
     "output_type": "display_data"
    },
    {
     "data": {
      "application/vnd.jupyter.widget-view+json": {
       "model_id": "",
       "version_major": 2,
       "version_minor": 0
      },
      "text/plain": [
       "  0%|          | 0/20 [00:00<?, ?it/s]"
      ]
     },
     "metadata": {},
     "output_type": "display_data"
    },
    {
     "data": {
      "application/vnd.jupyter.widget-view+json": {
       "model_id": "",
       "version_major": 2,
       "version_minor": 0
      },
      "text/plain": [
       "  0%|          | 0/20 [00:00<?, ?it/s]"
      ]
     },
     "metadata": {},
     "output_type": "display_data"
    },
    {
     "data": {
      "application/vnd.jupyter.widget-view+json": {
       "model_id": "",
       "version_major": 2,
       "version_minor": 0
      },
      "text/plain": [
       "  0%|          | 0/20 [00:00<?, ?it/s]"
      ]
     },
     "metadata": {},
     "output_type": "display_data"
    },
    {
     "data": {
      "application/vnd.jupyter.widget-view+json": {
       "model_id": "",
       "version_major": 2,
       "version_minor": 0
      },
      "text/plain": [
       "  0%|          | 0/20 [00:00<?, ?it/s]"
      ]
     },
     "metadata": {},
     "output_type": "display_data"
    },
    {
     "data": {
      "application/vnd.jupyter.widget-view+json": {
       "model_id": "",
       "version_major": 2,
       "version_minor": 0
      },
      "text/plain": [
       "  0%|          | 0/20 [00:00<?, ?it/s]"
      ]
     },
     "metadata": {},
     "output_type": "display_data"
    },
    {
     "data": {
      "application/vnd.jupyter.widget-view+json": {
       "model_id": "",
       "version_major": 2,
       "version_minor": 0
      },
      "text/plain": [
       "Lib Size:   0%|          | 0/3 [00:00<?, ?it/s]"
      ]
     },
     "metadata": {},
     "output_type": "display_data"
    },
    {
     "data": {
      "application/vnd.jupyter.widget-view+json": {
       "model_id": "",
       "version_major": 2,
       "version_minor": 0
      },
      "text/plain": [
       "Training:   0%|          | 0/20 [00:00<?, ?it/s]"
      ]
     },
     "metadata": {},
     "output_type": "display_data"
    },
    {
     "data": {
      "application/vnd.jupyter.widget-view+json": {
       "model_id": "",
       "version_major": 2,
       "version_minor": 0
      },
      "text/plain": [
       "Testing:   0%|          | 0/50 [00:00<?, ?it/s]"
      ]
     },
     "metadata": {},
     "output_type": "display_data"
    },
    {
     "data": {
      "application/vnd.jupyter.widget-view+json": {
       "model_id": "",
       "version_major": 2,
       "version_minor": 0
      },
      "text/plain": [
       "Training:   0%|          | 0/20 [00:00<?, ?it/s]"
      ]
     },
     "metadata": {},
     "output_type": "display_data"
    },
    {
     "data": {
      "application/vnd.jupyter.widget-view+json": {
       "model_id": "",
       "version_major": 2,
       "version_minor": 0
      },
      "text/plain": [
       "Testing:   0%|          | 0/50 [00:00<?, ?it/s]"
      ]
     },
     "metadata": {},
     "output_type": "display_data"
    },
    {
     "data": {
      "application/vnd.jupyter.widget-view+json": {
       "model_id": "",
       "version_major": 2,
       "version_minor": 0
      },
      "text/plain": [
       "Training:   0%|          | 0/20 [00:00<?, ?it/s]"
      ]
     },
     "metadata": {},
     "output_type": "display_data"
    },
    {
     "data": {
      "application/vnd.jupyter.widget-view+json": {
       "model_id": "",
       "version_major": 2,
       "version_minor": 0
      },
      "text/plain": [
       "Testing:   0%|          | 0/50 [00:00<?, ?it/s]"
      ]
     },
     "metadata": {},
     "output_type": "display_data"
    },
    {
     "data": {
      "application/vnd.jupyter.widget-view+json": {
       "model_id": "",
       "version_major": 2,
       "version_minor": 0
      },
      "text/plain": [
       "Initialization:   0%|          | 0/8 [00:00<?, ?it/s]"
      ]
     },
     "metadata": {},
     "output_type": "display_data"
    },
    {
     "data": {
      "application/vnd.jupyter.widget-view+json": {
       "model_id": "",
       "version_major": 2,
       "version_minor": 0
      },
      "text/plain": [
       "  0%|          | 0/20 [00:00<?, ?it/s]"
      ]
     },
     "metadata": {},
     "output_type": "display_data"
    },
    {
     "data": {
      "application/vnd.jupyter.widget-view+json": {
       "model_id": "",
       "version_major": 2,
       "version_minor": 0
      },
      "text/plain": [
       "  0%|          | 0/20 [00:00<?, ?it/s]"
      ]
     },
     "metadata": {},
     "output_type": "display_data"
    },
    {
     "data": {
      "application/vnd.jupyter.widget-view+json": {
       "model_id": "",
       "version_major": 2,
       "version_minor": 0
      },
      "text/plain": [
       "  0%|          | 0/20 [00:00<?, ?it/s]"
      ]
     },
     "metadata": {},
     "output_type": "display_data"
    },
    {
     "data": {
      "application/vnd.jupyter.widget-view+json": {
       "model_id": "",
       "version_major": 2,
       "version_minor": 0
      },
      "text/plain": [
       "  0%|          | 0/20 [00:00<?, ?it/s]"
      ]
     },
     "metadata": {},
     "output_type": "display_data"
    },
    {
     "data": {
      "application/vnd.jupyter.widget-view+json": {
       "model_id": "",
       "version_major": 2,
       "version_minor": 0
      },
      "text/plain": [
       "  0%|          | 0/20 [00:00<?, ?it/s]"
      ]
     },
     "metadata": {},
     "output_type": "display_data"
    },
    {
     "data": {
      "application/vnd.jupyter.widget-view+json": {
       "model_id": "",
       "version_major": 2,
       "version_minor": 0
      },
      "text/plain": [
       "  0%|          | 0/20 [00:00<?, ?it/s]"
      ]
     },
     "metadata": {},
     "output_type": "display_data"
    },
    {
     "data": {
      "application/vnd.jupyter.widget-view+json": {
       "model_id": "",
       "version_major": 2,
       "version_minor": 0
      },
      "text/plain": [
       "  0%|          | 0/20 [00:00<?, ?it/s]"
      ]
     },
     "metadata": {},
     "output_type": "display_data"
    },
    {
     "data": {
      "application/vnd.jupyter.widget-view+json": {
       "model_id": "",
       "version_major": 2,
       "version_minor": 0
      },
      "text/plain": [
       "  0%|          | 0/20 [00:00<?, ?it/s]"
      ]
     },
     "metadata": {},
     "output_type": "display_data"
    },
    {
     "data": {
      "application/vnd.jupyter.widget-view+json": {
       "model_id": "",
       "version_major": 2,
       "version_minor": 0
      },
      "text/plain": [
       "Lib Size:   0%|          | 0/3 [00:00<?, ?it/s]"
      ]
     },
     "metadata": {},
     "output_type": "display_data"
    },
    {
     "data": {
      "application/vnd.jupyter.widget-view+json": {
       "model_id": "",
       "version_major": 2,
       "version_minor": 0
      },
      "text/plain": [
       "Training:   0%|          | 0/20 [00:00<?, ?it/s]"
      ]
     },
     "metadata": {},
     "output_type": "display_data"
    },
    {
     "data": {
      "application/vnd.jupyter.widget-view+json": {
       "model_id": "",
       "version_major": 2,
       "version_minor": 0
      },
      "text/plain": [
       "Testing:   0%|          | 0/50 [00:00<?, ?it/s]"
      ]
     },
     "metadata": {},
     "output_type": "display_data"
    },
    {
     "data": {
      "application/vnd.jupyter.widget-view+json": {
       "model_id": "",
       "version_major": 2,
       "version_minor": 0
      },
      "text/plain": [
       "Training:   0%|          | 0/20 [00:00<?, ?it/s]"
      ]
     },
     "metadata": {},
     "output_type": "display_data"
    },
    {
     "data": {
      "application/vnd.jupyter.widget-view+json": {
       "model_id": "",
       "version_major": 2,
       "version_minor": 0
      },
      "text/plain": [
       "Testing:   0%|          | 0/50 [00:00<?, ?it/s]"
      ]
     },
     "metadata": {},
     "output_type": "display_data"
    },
    {
     "data": {
      "application/vnd.jupyter.widget-view+json": {
       "model_id": "",
       "version_major": 2,
       "version_minor": 0
      },
      "text/plain": [
       "Training:   0%|          | 0/20 [00:00<?, ?it/s]"
      ]
     },
     "metadata": {},
     "output_type": "display_data"
    },
    {
     "data": {
      "application/vnd.jupyter.widget-view+json": {
       "model_id": "",
       "version_major": 2,
       "version_minor": 0
      },
      "text/plain": [
       "Testing:   0%|          | 0/50 [00:00<?, ?it/s]"
      ]
     },
     "metadata": {},
     "output_type": "display_data"
    }
   ],
   "source": [
    "seeds = [0, 1, 2]\n",
    "library_sizes = [2, 4, 8]\n",
    "r_lib = [[[] for _ in seeds] for _ in library_sizes]\n",
    "divmats = [[] for _ in library_sizes]\n",
    "threshold = 0.25\n",
    "task_params = [0,1,2,3,4,5,7,8]\n",
    "\n",
    "for i, seed in tqdm(enumerate(seeds), total=len(seeds), leave=False, desc='Seed'):\n",
    "    np_random = np.random.RandomState(seed)\n",
    "    agent = make_model(seed)\n",
    "    library, gradients, _ = initialize(agent, list(map(get_task, task_params)), n=n_train, seed=seed)\n",
    "    \n",
    "    env = get_task(evaluation_task)\n",
    "    memory = ppo.Memory()\n",
    "    agent.experience(memory, k, env, agent.policy)\n",
    "    episodic_rewards = utils.cache_to_episodic_rewards([memory.rewards], [memory.is_terminals])\n",
    "    for r in r_lib:\n",
    "        # fill same seed for each libsize with initial rewards\n",
    "        r[i].append(np.nanmean(episodic_rewards))\n",
    "    \n",
    "    for j, libsize in enumerate(tqdm(library_sizes, leave=False, desc='Lib Size')):\n",
    "        # Pruning\n",
    "        library_, divmat, pidx = prune_library(library, agent, memory, max_library_size=libsize)\n",
    "        gradients_ = [gradients[k] for k in pidx]\n",
    "        divmats[j].append(divmat)\n",
    "        # Rank thresholding\n",
    "        vidx, vals = rank_library(library_, agent, memory)\n",
    "        maxv, minv = max(vals), min(vals)\n",
    "        threshold_val = maxv - threshold * (maxv - minv)\n",
    "        library_ = [param for i, param in enumerate(library_) if vals[i] >= threshold_val]\n",
    "        gradients_ = [grads for i, grads in enumerate(gradients_) if vals[i] >= threshold_val]\n",
    "        # Testing\n",
    "        ctrain(agent, n_train, memory, library_, gradients_, lr_ini=alpha_ini)  # buffered experiences\n",
    "        test(agent, n_test, env, rewards=r_lib[j][i], seed=seed) # fomaml doesn't need to store grads"
   ]
  },
  {
   "cell_type": "code",
   "execution_count": 69,
   "metadata": {
    "hidden": true
   },
   "outputs": [
    {
     "data": {
      "application/javascript": [
       "/* Put everything inside the global mpl namespace */\n",
       "/* global mpl */\n",
       "window.mpl = {};\n",
       "\n",
       "mpl.get_websocket_type = function () {\n",
       "    if (typeof WebSocket !== 'undefined') {\n",
       "        return WebSocket;\n",
       "    } else if (typeof MozWebSocket !== 'undefined') {\n",
       "        return MozWebSocket;\n",
       "    } else {\n",
       "        alert(\n",
       "            'Your browser does not have WebSocket support. ' +\n",
       "                'Please try Chrome, Safari or Firefox ≥ 6. ' +\n",
       "                'Firefox 4 and 5 are also supported but you ' +\n",
       "                'have to enable WebSockets in about:config.'\n",
       "        );\n",
       "    }\n",
       "};\n",
       "\n",
       "mpl.figure = function (figure_id, websocket, ondownload, parent_element) {\n",
       "    this.id = figure_id;\n",
       "\n",
       "    this.ws = websocket;\n",
       "\n",
       "    this.supports_binary = this.ws.binaryType !== undefined;\n",
       "\n",
       "    if (!this.supports_binary) {\n",
       "        var warnings = document.getElementById('mpl-warnings');\n",
       "        if (warnings) {\n",
       "            warnings.style.display = 'block';\n",
       "            warnings.textContent =\n",
       "                'This browser does not support binary websocket messages. ' +\n",
       "                'Performance may be slow.';\n",
       "        }\n",
       "    }\n",
       "\n",
       "    this.imageObj = new Image();\n",
       "\n",
       "    this.context = undefined;\n",
       "    this.message = undefined;\n",
       "    this.canvas = undefined;\n",
       "    this.rubberband_canvas = undefined;\n",
       "    this.rubberband_context = undefined;\n",
       "    this.format_dropdown = undefined;\n",
       "\n",
       "    this.image_mode = 'full';\n",
       "\n",
       "    this.root = document.createElement('div');\n",
       "    this.root.setAttribute('style', 'display: inline-block');\n",
       "    this._root_extra_style(this.root);\n",
       "\n",
       "    parent_element.appendChild(this.root);\n",
       "\n",
       "    this._init_header(this);\n",
       "    this._init_canvas(this);\n",
       "    this._init_toolbar(this);\n",
       "\n",
       "    var fig = this;\n",
       "\n",
       "    this.waiting = false;\n",
       "\n",
       "    this.ws.onopen = function () {\n",
       "        fig.send_message('supports_binary', { value: fig.supports_binary });\n",
       "        fig.send_message('send_image_mode', {});\n",
       "        if (fig.ratio !== 1) {\n",
       "            fig.send_message('set_dpi_ratio', { dpi_ratio: fig.ratio });\n",
       "        }\n",
       "        fig.send_message('refresh', {});\n",
       "    };\n",
       "\n",
       "    this.imageObj.onload = function () {\n",
       "        if (fig.image_mode === 'full') {\n",
       "            // Full images could contain transparency (where diff images\n",
       "            // almost always do), so we need to clear the canvas so that\n",
       "            // there is no ghosting.\n",
       "            fig.context.clearRect(0, 0, fig.canvas.width, fig.canvas.height);\n",
       "        }\n",
       "        fig.context.drawImage(fig.imageObj, 0, 0);\n",
       "    };\n",
       "\n",
       "    this.imageObj.onunload = function () {\n",
       "        fig.ws.close();\n",
       "    };\n",
       "\n",
       "    this.ws.onmessage = this._make_on_message_function(this);\n",
       "\n",
       "    this.ondownload = ondownload;\n",
       "};\n",
       "\n",
       "mpl.figure.prototype._init_header = function () {\n",
       "    var titlebar = document.createElement('div');\n",
       "    titlebar.classList =\n",
       "        'ui-dialog-titlebar ui-widget-header ui-corner-all ui-helper-clearfix';\n",
       "    var titletext = document.createElement('div');\n",
       "    titletext.classList = 'ui-dialog-title';\n",
       "    titletext.setAttribute(\n",
       "        'style',\n",
       "        'width: 100%; text-align: center; padding: 3px;'\n",
       "    );\n",
       "    titlebar.appendChild(titletext);\n",
       "    this.root.appendChild(titlebar);\n",
       "    this.header = titletext;\n",
       "};\n",
       "\n",
       "mpl.figure.prototype._canvas_extra_style = function (_canvas_div) {};\n",
       "\n",
       "mpl.figure.prototype._root_extra_style = function (_canvas_div) {};\n",
       "\n",
       "mpl.figure.prototype._init_canvas = function () {\n",
       "    var fig = this;\n",
       "\n",
       "    var canvas_div = (this.canvas_div = document.createElement('div'));\n",
       "    canvas_div.setAttribute(\n",
       "        'style',\n",
       "        'border: 1px solid #ddd;' +\n",
       "            'box-sizing: content-box;' +\n",
       "            'clear: both;' +\n",
       "            'min-height: 1px;' +\n",
       "            'min-width: 1px;' +\n",
       "            'outline: 0;' +\n",
       "            'overflow: hidden;' +\n",
       "            'position: relative;' +\n",
       "            'resize: both;'\n",
       "    );\n",
       "\n",
       "    function on_keyboard_event_closure(name) {\n",
       "        return function (event) {\n",
       "            return fig.key_event(event, name);\n",
       "        };\n",
       "    }\n",
       "\n",
       "    canvas_div.addEventListener(\n",
       "        'keydown',\n",
       "        on_keyboard_event_closure('key_press')\n",
       "    );\n",
       "    canvas_div.addEventListener(\n",
       "        'keyup',\n",
       "        on_keyboard_event_closure('key_release')\n",
       "    );\n",
       "\n",
       "    this._canvas_extra_style(canvas_div);\n",
       "    this.root.appendChild(canvas_div);\n",
       "\n",
       "    var canvas = (this.canvas = document.createElement('canvas'));\n",
       "    canvas.classList.add('mpl-canvas');\n",
       "    canvas.setAttribute('style', 'box-sizing: content-box;');\n",
       "\n",
       "    this.context = canvas.getContext('2d');\n",
       "\n",
       "    var backingStore =\n",
       "        this.context.backingStorePixelRatio ||\n",
       "        this.context.webkitBackingStorePixelRatio ||\n",
       "        this.context.mozBackingStorePixelRatio ||\n",
       "        this.context.msBackingStorePixelRatio ||\n",
       "        this.context.oBackingStorePixelRatio ||\n",
       "        this.context.backingStorePixelRatio ||\n",
       "        1;\n",
       "\n",
       "    this.ratio = (window.devicePixelRatio || 1) / backingStore;\n",
       "    if (this.ratio !== 1) {\n",
       "        fig.send_message('set_dpi_ratio', { dpi_ratio: this.ratio });\n",
       "    }\n",
       "\n",
       "    var rubberband_canvas = (this.rubberband_canvas = document.createElement(\n",
       "        'canvas'\n",
       "    ));\n",
       "    rubberband_canvas.setAttribute(\n",
       "        'style',\n",
       "        'box-sizing: content-box; position: absolute; left: 0; top: 0; z-index: 1;'\n",
       "    );\n",
       "\n",
       "    var resizeObserver = new ResizeObserver(function (entries) {\n",
       "        var nentries = entries.length;\n",
       "        for (var i = 0; i < nentries; i++) {\n",
       "            var entry = entries[i];\n",
       "            var width, height;\n",
       "            if (entry.contentBoxSize) {\n",
       "                if (entry.contentBoxSize instanceof Array) {\n",
       "                    // Chrome 84 implements new version of spec.\n",
       "                    width = entry.contentBoxSize[0].inlineSize;\n",
       "                    height = entry.contentBoxSize[0].blockSize;\n",
       "                } else {\n",
       "                    // Firefox implements old version of spec.\n",
       "                    width = entry.contentBoxSize.inlineSize;\n",
       "                    height = entry.contentBoxSize.blockSize;\n",
       "                }\n",
       "            } else {\n",
       "                // Chrome <84 implements even older version of spec.\n",
       "                width = entry.contentRect.width;\n",
       "                height = entry.contentRect.height;\n",
       "            }\n",
       "\n",
       "            // Keep the size of the canvas and rubber band canvas in sync with\n",
       "            // the canvas container.\n",
       "            if (entry.devicePixelContentBoxSize) {\n",
       "                // Chrome 84 implements new version of spec.\n",
       "                canvas.setAttribute(\n",
       "                    'width',\n",
       "                    entry.devicePixelContentBoxSize[0].inlineSize\n",
       "                );\n",
       "                canvas.setAttribute(\n",
       "                    'height',\n",
       "                    entry.devicePixelContentBoxSize[0].blockSize\n",
       "                );\n",
       "            } else {\n",
       "                canvas.setAttribute('width', width * fig.ratio);\n",
       "                canvas.setAttribute('height', height * fig.ratio);\n",
       "            }\n",
       "            canvas.setAttribute(\n",
       "                'style',\n",
       "                'width: ' + width + 'px; height: ' + height + 'px;'\n",
       "            );\n",
       "\n",
       "            rubberband_canvas.setAttribute('width', width);\n",
       "            rubberband_canvas.setAttribute('height', height);\n",
       "\n",
       "            // And update the size in Python. We ignore the initial 0/0 size\n",
       "            // that occurs as the element is placed into the DOM, which should\n",
       "            // otherwise not happen due to the minimum size styling.\n",
       "            if (width != 0 && height != 0) {\n",
       "                fig.request_resize(width, height);\n",
       "            }\n",
       "        }\n",
       "    });\n",
       "    resizeObserver.observe(canvas_div);\n",
       "\n",
       "    function on_mouse_event_closure(name) {\n",
       "        return function (event) {\n",
       "            return fig.mouse_event(event, name);\n",
       "        };\n",
       "    }\n",
       "\n",
       "    rubberband_canvas.addEventListener(\n",
       "        'mousedown',\n",
       "        on_mouse_event_closure('button_press')\n",
       "    );\n",
       "    rubberband_canvas.addEventListener(\n",
       "        'mouseup',\n",
       "        on_mouse_event_closure('button_release')\n",
       "    );\n",
       "    // Throttle sequential mouse events to 1 every 20ms.\n",
       "    rubberband_canvas.addEventListener(\n",
       "        'mousemove',\n",
       "        on_mouse_event_closure('motion_notify')\n",
       "    );\n",
       "\n",
       "    rubberband_canvas.addEventListener(\n",
       "        'mouseenter',\n",
       "        on_mouse_event_closure('figure_enter')\n",
       "    );\n",
       "    rubberband_canvas.addEventListener(\n",
       "        'mouseleave',\n",
       "        on_mouse_event_closure('figure_leave')\n",
       "    );\n",
       "\n",
       "    canvas_div.addEventListener('wheel', function (event) {\n",
       "        if (event.deltaY < 0) {\n",
       "            event.step = 1;\n",
       "        } else {\n",
       "            event.step = -1;\n",
       "        }\n",
       "        on_mouse_event_closure('scroll')(event);\n",
       "    });\n",
       "\n",
       "    canvas_div.appendChild(canvas);\n",
       "    canvas_div.appendChild(rubberband_canvas);\n",
       "\n",
       "    this.rubberband_context = rubberband_canvas.getContext('2d');\n",
       "    this.rubberband_context.strokeStyle = '#000000';\n",
       "\n",
       "    this._resize_canvas = function (width, height, forward) {\n",
       "        if (forward) {\n",
       "            canvas_div.style.width = width + 'px';\n",
       "            canvas_div.style.height = height + 'px';\n",
       "        }\n",
       "    };\n",
       "\n",
       "    // Disable right mouse context menu.\n",
       "    this.rubberband_canvas.addEventListener('contextmenu', function (_e) {\n",
       "        event.preventDefault();\n",
       "        return false;\n",
       "    });\n",
       "\n",
       "    function set_focus() {\n",
       "        canvas.focus();\n",
       "        canvas_div.focus();\n",
       "    }\n",
       "\n",
       "    window.setTimeout(set_focus, 100);\n",
       "};\n",
       "\n",
       "mpl.figure.prototype._init_toolbar = function () {\n",
       "    var fig = this;\n",
       "\n",
       "    var toolbar = document.createElement('div');\n",
       "    toolbar.classList = 'mpl-toolbar';\n",
       "    this.root.appendChild(toolbar);\n",
       "\n",
       "    function on_click_closure(name) {\n",
       "        return function (_event) {\n",
       "            return fig.toolbar_button_onclick(name);\n",
       "        };\n",
       "    }\n",
       "\n",
       "    function on_mouseover_closure(tooltip) {\n",
       "        return function (event) {\n",
       "            if (!event.currentTarget.disabled) {\n",
       "                return fig.toolbar_button_onmouseover(tooltip);\n",
       "            }\n",
       "        };\n",
       "    }\n",
       "\n",
       "    fig.buttons = {};\n",
       "    var buttonGroup = document.createElement('div');\n",
       "    buttonGroup.classList = 'mpl-button-group';\n",
       "    for (var toolbar_ind in mpl.toolbar_items) {\n",
       "        var name = mpl.toolbar_items[toolbar_ind][0];\n",
       "        var tooltip = mpl.toolbar_items[toolbar_ind][1];\n",
       "        var image = mpl.toolbar_items[toolbar_ind][2];\n",
       "        var method_name = mpl.toolbar_items[toolbar_ind][3];\n",
       "\n",
       "        if (!name) {\n",
       "            /* Instead of a spacer, we start a new button group. */\n",
       "            if (buttonGroup.hasChildNodes()) {\n",
       "                toolbar.appendChild(buttonGroup);\n",
       "            }\n",
       "            buttonGroup = document.createElement('div');\n",
       "            buttonGroup.classList = 'mpl-button-group';\n",
       "            continue;\n",
       "        }\n",
       "\n",
       "        var button = (fig.buttons[name] = document.createElement('button'));\n",
       "        button.classList = 'mpl-widget';\n",
       "        button.setAttribute('role', 'button');\n",
       "        button.setAttribute('aria-disabled', 'false');\n",
       "        button.addEventListener('click', on_click_closure(method_name));\n",
       "        button.addEventListener('mouseover', on_mouseover_closure(tooltip));\n",
       "\n",
       "        var icon_img = document.createElement('img');\n",
       "        icon_img.src = '_images/' + image + '.png';\n",
       "        icon_img.srcset = '_images/' + image + '_large.png 2x';\n",
       "        icon_img.alt = tooltip;\n",
       "        button.appendChild(icon_img);\n",
       "\n",
       "        buttonGroup.appendChild(button);\n",
       "    }\n",
       "\n",
       "    if (buttonGroup.hasChildNodes()) {\n",
       "        toolbar.appendChild(buttonGroup);\n",
       "    }\n",
       "\n",
       "    var fmt_picker = document.createElement('select');\n",
       "    fmt_picker.classList = 'mpl-widget';\n",
       "    toolbar.appendChild(fmt_picker);\n",
       "    this.format_dropdown = fmt_picker;\n",
       "\n",
       "    for (var ind in mpl.extensions) {\n",
       "        var fmt = mpl.extensions[ind];\n",
       "        var option = document.createElement('option');\n",
       "        option.selected = fmt === mpl.default_extension;\n",
       "        option.innerHTML = fmt;\n",
       "        fmt_picker.appendChild(option);\n",
       "    }\n",
       "\n",
       "    var status_bar = document.createElement('span');\n",
       "    status_bar.classList = 'mpl-message';\n",
       "    toolbar.appendChild(status_bar);\n",
       "    this.message = status_bar;\n",
       "};\n",
       "\n",
       "mpl.figure.prototype.request_resize = function (x_pixels, y_pixels) {\n",
       "    // Request matplotlib to resize the figure. Matplotlib will then trigger a resize in the client,\n",
       "    // which will in turn request a refresh of the image.\n",
       "    this.send_message('resize', { width: x_pixels, height: y_pixels });\n",
       "};\n",
       "\n",
       "mpl.figure.prototype.send_message = function (type, properties) {\n",
       "    properties['type'] = type;\n",
       "    properties['figure_id'] = this.id;\n",
       "    this.ws.send(JSON.stringify(properties));\n",
       "};\n",
       "\n",
       "mpl.figure.prototype.send_draw_message = function () {\n",
       "    if (!this.waiting) {\n",
       "        this.waiting = true;\n",
       "        this.ws.send(JSON.stringify({ type: 'draw', figure_id: this.id }));\n",
       "    }\n",
       "};\n",
       "\n",
       "mpl.figure.prototype.handle_save = function (fig, _msg) {\n",
       "    var format_dropdown = fig.format_dropdown;\n",
       "    var format = format_dropdown.options[format_dropdown.selectedIndex].value;\n",
       "    fig.ondownload(fig, format);\n",
       "};\n",
       "\n",
       "mpl.figure.prototype.handle_resize = function (fig, msg) {\n",
       "    var size = msg['size'];\n",
       "    if (size[0] !== fig.canvas.width || size[1] !== fig.canvas.height) {\n",
       "        fig._resize_canvas(size[0], size[1], msg['forward']);\n",
       "        fig.send_message('refresh', {});\n",
       "    }\n",
       "};\n",
       "\n",
       "mpl.figure.prototype.handle_rubberband = function (fig, msg) {\n",
       "    var x0 = msg['x0'] / fig.ratio;\n",
       "    var y0 = (fig.canvas.height - msg['y0']) / fig.ratio;\n",
       "    var x1 = msg['x1'] / fig.ratio;\n",
       "    var y1 = (fig.canvas.height - msg['y1']) / fig.ratio;\n",
       "    x0 = Math.floor(x0) + 0.5;\n",
       "    y0 = Math.floor(y0) + 0.5;\n",
       "    x1 = Math.floor(x1) + 0.5;\n",
       "    y1 = Math.floor(y1) + 0.5;\n",
       "    var min_x = Math.min(x0, x1);\n",
       "    var min_y = Math.min(y0, y1);\n",
       "    var width = Math.abs(x1 - x0);\n",
       "    var height = Math.abs(y1 - y0);\n",
       "\n",
       "    fig.rubberband_context.clearRect(\n",
       "        0,\n",
       "        0,\n",
       "        fig.canvas.width / fig.ratio,\n",
       "        fig.canvas.height / fig.ratio\n",
       "    );\n",
       "\n",
       "    fig.rubberband_context.strokeRect(min_x, min_y, width, height);\n",
       "};\n",
       "\n",
       "mpl.figure.prototype.handle_figure_label = function (fig, msg) {\n",
       "    // Updates the figure title.\n",
       "    fig.header.textContent = msg['label'];\n",
       "};\n",
       "\n",
       "mpl.figure.prototype.handle_cursor = function (fig, msg) {\n",
       "    var cursor = msg['cursor'];\n",
       "    switch (cursor) {\n",
       "        case 0:\n",
       "            cursor = 'pointer';\n",
       "            break;\n",
       "        case 1:\n",
       "            cursor = 'default';\n",
       "            break;\n",
       "        case 2:\n",
       "            cursor = 'crosshair';\n",
       "            break;\n",
       "        case 3:\n",
       "            cursor = 'move';\n",
       "            break;\n",
       "    }\n",
       "    fig.rubberband_canvas.style.cursor = cursor;\n",
       "};\n",
       "\n",
       "mpl.figure.prototype.handle_message = function (fig, msg) {\n",
       "    fig.message.textContent = msg['message'];\n",
       "};\n",
       "\n",
       "mpl.figure.prototype.handle_draw = function (fig, _msg) {\n",
       "    // Request the server to send over a new figure.\n",
       "    fig.send_draw_message();\n",
       "};\n",
       "\n",
       "mpl.figure.prototype.handle_image_mode = function (fig, msg) {\n",
       "    fig.image_mode = msg['mode'];\n",
       "};\n",
       "\n",
       "mpl.figure.prototype.handle_history_buttons = function (fig, msg) {\n",
       "    for (var key in msg) {\n",
       "        if (!(key in fig.buttons)) {\n",
       "            continue;\n",
       "        }\n",
       "        fig.buttons[key].disabled = !msg[key];\n",
       "        fig.buttons[key].setAttribute('aria-disabled', !msg[key]);\n",
       "    }\n",
       "};\n",
       "\n",
       "mpl.figure.prototype.handle_navigate_mode = function (fig, msg) {\n",
       "    if (msg['mode'] === 'PAN') {\n",
       "        fig.buttons['Pan'].classList.add('active');\n",
       "        fig.buttons['Zoom'].classList.remove('active');\n",
       "    } else if (msg['mode'] === 'ZOOM') {\n",
       "        fig.buttons['Pan'].classList.remove('active');\n",
       "        fig.buttons['Zoom'].classList.add('active');\n",
       "    } else {\n",
       "        fig.buttons['Pan'].classList.remove('active');\n",
       "        fig.buttons['Zoom'].classList.remove('active');\n",
       "    }\n",
       "};\n",
       "\n",
       "mpl.figure.prototype.updated_canvas_event = function () {\n",
       "    // Called whenever the canvas gets updated.\n",
       "    this.send_message('ack', {});\n",
       "};\n",
       "\n",
       "// A function to construct a web socket function for onmessage handling.\n",
       "// Called in the figure constructor.\n",
       "mpl.figure.prototype._make_on_message_function = function (fig) {\n",
       "    return function socket_on_message(evt) {\n",
       "        if (evt.data instanceof Blob) {\n",
       "            /* FIXME: We get \"Resource interpreted as Image but\n",
       "             * transferred with MIME type text/plain:\" errors on\n",
       "             * Chrome.  But how to set the MIME type?  It doesn't seem\n",
       "             * to be part of the websocket stream */\n",
       "            evt.data.type = 'image/png';\n",
       "\n",
       "            /* Free the memory for the previous frames */\n",
       "            if (fig.imageObj.src) {\n",
       "                (window.URL || window.webkitURL).revokeObjectURL(\n",
       "                    fig.imageObj.src\n",
       "                );\n",
       "            }\n",
       "\n",
       "            fig.imageObj.src = (window.URL || window.webkitURL).createObjectURL(\n",
       "                evt.data\n",
       "            );\n",
       "            fig.updated_canvas_event();\n",
       "            fig.waiting = false;\n",
       "            return;\n",
       "        } else if (\n",
       "            typeof evt.data === 'string' &&\n",
       "            evt.data.slice(0, 21) === 'data:image/png;base64'\n",
       "        ) {\n",
       "            fig.imageObj.src = evt.data;\n",
       "            fig.updated_canvas_event();\n",
       "            fig.waiting = false;\n",
       "            return;\n",
       "        }\n",
       "\n",
       "        var msg = JSON.parse(evt.data);\n",
       "        var msg_type = msg['type'];\n",
       "\n",
       "        // Call the  \"handle_{type}\" callback, which takes\n",
       "        // the figure and JSON message as its only arguments.\n",
       "        try {\n",
       "            var callback = fig['handle_' + msg_type];\n",
       "        } catch (e) {\n",
       "            console.log(\n",
       "                \"No handler for the '\" + msg_type + \"' message type: \",\n",
       "                msg\n",
       "            );\n",
       "            return;\n",
       "        }\n",
       "\n",
       "        if (callback) {\n",
       "            try {\n",
       "                // console.log(\"Handling '\" + msg_type + \"' message: \", msg);\n",
       "                callback(fig, msg);\n",
       "            } catch (e) {\n",
       "                console.log(\n",
       "                    \"Exception inside the 'handler_\" + msg_type + \"' callback:\",\n",
       "                    e,\n",
       "                    e.stack,\n",
       "                    msg\n",
       "                );\n",
       "            }\n",
       "        }\n",
       "    };\n",
       "};\n",
       "\n",
       "// from http://stackoverflow.com/questions/1114465/getting-mouse-location-in-canvas\n",
       "mpl.findpos = function (e) {\n",
       "    //this section is from http://www.quirksmode.org/js/events_properties.html\n",
       "    var targ;\n",
       "    if (!e) {\n",
       "        e = window.event;\n",
       "    }\n",
       "    if (e.target) {\n",
       "        targ = e.target;\n",
       "    } else if (e.srcElement) {\n",
       "        targ = e.srcElement;\n",
       "    }\n",
       "    if (targ.nodeType === 3) {\n",
       "        // defeat Safari bug\n",
       "        targ = targ.parentNode;\n",
       "    }\n",
       "\n",
       "    // pageX,Y are the mouse positions relative to the document\n",
       "    var boundingRect = targ.getBoundingClientRect();\n",
       "    var x = e.pageX - (boundingRect.left + document.body.scrollLeft);\n",
       "    var y = e.pageY - (boundingRect.top + document.body.scrollTop);\n",
       "\n",
       "    return { x: x, y: y };\n",
       "};\n",
       "\n",
       "/*\n",
       " * return a copy of an object with only non-object keys\n",
       " * we need this to avoid circular references\n",
       " * http://stackoverflow.com/a/24161582/3208463\n",
       " */\n",
       "function simpleKeys(original) {\n",
       "    return Object.keys(original).reduce(function (obj, key) {\n",
       "        if (typeof original[key] !== 'object') {\n",
       "            obj[key] = original[key];\n",
       "        }\n",
       "        return obj;\n",
       "    }, {});\n",
       "}\n",
       "\n",
       "mpl.figure.prototype.mouse_event = function (event, name) {\n",
       "    var canvas_pos = mpl.findpos(event);\n",
       "\n",
       "    if (name === 'button_press') {\n",
       "        this.canvas.focus();\n",
       "        this.canvas_div.focus();\n",
       "    }\n",
       "\n",
       "    var x = canvas_pos.x * this.ratio;\n",
       "    var y = canvas_pos.y * this.ratio;\n",
       "\n",
       "    this.send_message(name, {\n",
       "        x: x,\n",
       "        y: y,\n",
       "        button: event.button,\n",
       "        step: event.step,\n",
       "        guiEvent: simpleKeys(event),\n",
       "    });\n",
       "\n",
       "    /* This prevents the web browser from automatically changing to\n",
       "     * the text insertion cursor when the button is pressed.  We want\n",
       "     * to control all of the cursor setting manually through the\n",
       "     * 'cursor' event from matplotlib */\n",
       "    event.preventDefault();\n",
       "    return false;\n",
       "};\n",
       "\n",
       "mpl.figure.prototype._key_event_extra = function (_event, _name) {\n",
       "    // Handle any extra behaviour associated with a key event\n",
       "};\n",
       "\n",
       "mpl.figure.prototype.key_event = function (event, name) {\n",
       "    // Prevent repeat events\n",
       "    if (name === 'key_press') {\n",
       "        if (event.which === this._key) {\n",
       "            return;\n",
       "        } else {\n",
       "            this._key = event.which;\n",
       "        }\n",
       "    }\n",
       "    if (name === 'key_release') {\n",
       "        this._key = null;\n",
       "    }\n",
       "\n",
       "    var value = '';\n",
       "    if (event.ctrlKey && event.which !== 17) {\n",
       "        value += 'ctrl+';\n",
       "    }\n",
       "    if (event.altKey && event.which !== 18) {\n",
       "        value += 'alt+';\n",
       "    }\n",
       "    if (event.shiftKey && event.which !== 16) {\n",
       "        value += 'shift+';\n",
       "    }\n",
       "\n",
       "    value += 'k';\n",
       "    value += event.which.toString();\n",
       "\n",
       "    this._key_event_extra(event, name);\n",
       "\n",
       "    this.send_message(name, { key: value, guiEvent: simpleKeys(event) });\n",
       "    return false;\n",
       "};\n",
       "\n",
       "mpl.figure.prototype.toolbar_button_onclick = function (name) {\n",
       "    if (name === 'download') {\n",
       "        this.handle_save(this, null);\n",
       "    } else {\n",
       "        this.send_message('toolbar_button', { name: name });\n",
       "    }\n",
       "};\n",
       "\n",
       "mpl.figure.prototype.toolbar_button_onmouseover = function (tooltip) {\n",
       "    this.message.textContent = tooltip;\n",
       "};\n",
       "mpl.toolbar_items = [[\"Home\", \"Reset original view\", \"fa fa-home icon-home\", \"home\"], [\"Back\", \"Back to previous view\", \"fa fa-arrow-left icon-arrow-left\", \"back\"], [\"Forward\", \"Forward to next view\", \"fa fa-arrow-right icon-arrow-right\", \"forward\"], [\"\", \"\", \"\", \"\"], [\"Pan\", \"Left button pans, Right button zooms\\nx/y fixes axis, CTRL fixes aspect\", \"fa fa-arrows icon-move\", \"pan\"], [\"Zoom\", \"Zoom to rectangle\\nx/y fixes axis, CTRL fixes aspect\", \"fa fa-square-o icon-check-empty\", \"zoom\"], [\"\", \"\", \"\", \"\"], [\"Download\", \"Download plot\", \"fa fa-floppy-o icon-save\", \"download\"]];\n",
       "\n",
       "mpl.extensions = [\"eps\", \"jpeg\", \"pdf\", \"png\", \"ps\", \"raw\", \"svg\", \"tif\"];\n",
       "\n",
       "mpl.default_extension = \"png\";/* global mpl */\n",
       "\n",
       "var comm_websocket_adapter = function (comm) {\n",
       "    // Create a \"websocket\"-like object which calls the given IPython comm\n",
       "    // object with the appropriate methods. Currently this is a non binary\n",
       "    // socket, so there is still some room for performance tuning.\n",
       "    var ws = {};\n",
       "\n",
       "    ws.close = function () {\n",
       "        comm.close();\n",
       "    };\n",
       "    ws.send = function (m) {\n",
       "        //console.log('sending', m);\n",
       "        comm.send(m);\n",
       "    };\n",
       "    // Register the callback with on_msg.\n",
       "    comm.on_msg(function (msg) {\n",
       "        //console.log('receiving', msg['content']['data'], msg);\n",
       "        // Pass the mpl event to the overridden (by mpl) onmessage function.\n",
       "        ws.onmessage(msg['content']['data']);\n",
       "    });\n",
       "    return ws;\n",
       "};\n",
       "\n",
       "mpl.mpl_figure_comm = function (comm, msg) {\n",
       "    // This is the function which gets called when the mpl process\n",
       "    // starts-up an IPython Comm through the \"matplotlib\" channel.\n",
       "\n",
       "    var id = msg.content.data.id;\n",
       "    // Get hold of the div created by the display call when the Comm\n",
       "    // socket was opened in Python.\n",
       "    var element = document.getElementById(id);\n",
       "    var ws_proxy = comm_websocket_adapter(comm);\n",
       "\n",
       "    function ondownload(figure, _format) {\n",
       "        window.open(figure.canvas.toDataURL());\n",
       "    }\n",
       "\n",
       "    var fig = new mpl.figure(id, ws_proxy, ondownload, element);\n",
       "\n",
       "    // Call onopen now - mpl needs it, as it is assuming we've passed it a real\n",
       "    // web socket which is closed, not our websocket->open comm proxy.\n",
       "    ws_proxy.onopen();\n",
       "\n",
       "    fig.parent_element = element;\n",
       "    fig.cell_info = mpl.find_output_cell(\"<div id='\" + id + \"'></div>\");\n",
       "    if (!fig.cell_info) {\n",
       "        console.error('Failed to find cell for figure', id, fig);\n",
       "        return;\n",
       "    }\n",
       "    fig.cell_info[0].output_area.element.one(\n",
       "        'cleared',\n",
       "        { fig: fig },\n",
       "        fig._remove_fig_handler\n",
       "    );\n",
       "};\n",
       "\n",
       "mpl.figure.prototype.handle_close = function (fig, msg) {\n",
       "    var width = fig.canvas.width / fig.ratio;\n",
       "    fig.cell_info[0].output_area.element.off(\n",
       "        'cleared',\n",
       "        fig._remove_fig_handler\n",
       "    );\n",
       "\n",
       "    // Update the output cell to use the data from the current canvas.\n",
       "    fig.push_to_output();\n",
       "    var dataURL = fig.canvas.toDataURL();\n",
       "    // Re-enable the keyboard manager in IPython - without this line, in FF,\n",
       "    // the notebook keyboard shortcuts fail.\n",
       "    IPython.keyboard_manager.enable();\n",
       "    fig.parent_element.innerHTML =\n",
       "        '<img src=\"' + dataURL + '\" width=\"' + width + '\">';\n",
       "    fig.close_ws(fig, msg);\n",
       "};\n",
       "\n",
       "mpl.figure.prototype.close_ws = function (fig, msg) {\n",
       "    fig.send_message('closing', msg);\n",
       "    // fig.ws.close()\n",
       "};\n",
       "\n",
       "mpl.figure.prototype.push_to_output = function (_remove_interactive) {\n",
       "    // Turn the data on the canvas into data in the output cell.\n",
       "    var width = this.canvas.width / this.ratio;\n",
       "    var dataURL = this.canvas.toDataURL();\n",
       "    this.cell_info[1]['text/html'] =\n",
       "        '<img src=\"' + dataURL + '\" width=\"' + width + '\">';\n",
       "};\n",
       "\n",
       "mpl.figure.prototype.updated_canvas_event = function () {\n",
       "    // Tell IPython that the notebook contents must change.\n",
       "    IPython.notebook.set_dirty(true);\n",
       "    this.send_message('ack', {});\n",
       "    var fig = this;\n",
       "    // Wait a second, then push the new image to the DOM so\n",
       "    // that it is saved nicely (might be nice to debounce this).\n",
       "    setTimeout(function () {\n",
       "        fig.push_to_output();\n",
       "    }, 1000);\n",
       "};\n",
       "\n",
       "mpl.figure.prototype._init_toolbar = function () {\n",
       "    var fig = this;\n",
       "\n",
       "    var toolbar = document.createElement('div');\n",
       "    toolbar.classList = 'btn-toolbar';\n",
       "    this.root.appendChild(toolbar);\n",
       "\n",
       "    function on_click_closure(name) {\n",
       "        return function (_event) {\n",
       "            return fig.toolbar_button_onclick(name);\n",
       "        };\n",
       "    }\n",
       "\n",
       "    function on_mouseover_closure(tooltip) {\n",
       "        return function (event) {\n",
       "            if (!event.currentTarget.disabled) {\n",
       "                return fig.toolbar_button_onmouseover(tooltip);\n",
       "            }\n",
       "        };\n",
       "    }\n",
       "\n",
       "    fig.buttons = {};\n",
       "    var buttonGroup = document.createElement('div');\n",
       "    buttonGroup.classList = 'btn-group';\n",
       "    var button;\n",
       "    for (var toolbar_ind in mpl.toolbar_items) {\n",
       "        var name = mpl.toolbar_items[toolbar_ind][0];\n",
       "        var tooltip = mpl.toolbar_items[toolbar_ind][1];\n",
       "        var image = mpl.toolbar_items[toolbar_ind][2];\n",
       "        var method_name = mpl.toolbar_items[toolbar_ind][3];\n",
       "\n",
       "        if (!name) {\n",
       "            /* Instead of a spacer, we start a new button group. */\n",
       "            if (buttonGroup.hasChildNodes()) {\n",
       "                toolbar.appendChild(buttonGroup);\n",
       "            }\n",
       "            buttonGroup = document.createElement('div');\n",
       "            buttonGroup.classList = 'btn-group';\n",
       "            continue;\n",
       "        }\n",
       "\n",
       "        button = fig.buttons[name] = document.createElement('button');\n",
       "        button.classList = 'btn btn-default';\n",
       "        button.href = '#';\n",
       "        button.title = name;\n",
       "        button.innerHTML = '<i class=\"fa ' + image + ' fa-lg\"></i>';\n",
       "        button.addEventListener('click', on_click_closure(method_name));\n",
       "        button.addEventListener('mouseover', on_mouseover_closure(tooltip));\n",
       "        buttonGroup.appendChild(button);\n",
       "    }\n",
       "\n",
       "    if (buttonGroup.hasChildNodes()) {\n",
       "        toolbar.appendChild(buttonGroup);\n",
       "    }\n",
       "\n",
       "    // Add the status bar.\n",
       "    var status_bar = document.createElement('span');\n",
       "    status_bar.classList = 'mpl-message pull-right';\n",
       "    toolbar.appendChild(status_bar);\n",
       "    this.message = status_bar;\n",
       "\n",
       "    // Add the close button to the window.\n",
       "    var buttongrp = document.createElement('div');\n",
       "    buttongrp.classList = 'btn-group inline pull-right';\n",
       "    button = document.createElement('button');\n",
       "    button.classList = 'btn btn-mini btn-primary';\n",
       "    button.href = '#';\n",
       "    button.title = 'Stop Interaction';\n",
       "    button.innerHTML = '<i class=\"fa fa-power-off icon-remove icon-large\"></i>';\n",
       "    button.addEventListener('click', function (_evt) {\n",
       "        fig.handle_close(fig, {});\n",
       "    });\n",
       "    button.addEventListener(\n",
       "        'mouseover',\n",
       "        on_mouseover_closure('Stop Interaction')\n",
       "    );\n",
       "    buttongrp.appendChild(button);\n",
       "    var titlebar = this.root.querySelector('.ui-dialog-titlebar');\n",
       "    titlebar.insertBefore(buttongrp, titlebar.firstChild);\n",
       "};\n",
       "\n",
       "mpl.figure.prototype._remove_fig_handler = function (event) {\n",
       "    var fig = event.data.fig;\n",
       "    fig.close_ws(fig, {});\n",
       "};\n",
       "\n",
       "mpl.figure.prototype._root_extra_style = function (el) {\n",
       "    el.style.boxSizing = 'content-box'; // override notebook setting of border-box.\n",
       "};\n",
       "\n",
       "mpl.figure.prototype._canvas_extra_style = function (el) {\n",
       "    // this is important to make the div 'focusable\n",
       "    el.setAttribute('tabindex', 0);\n",
       "    // reach out to IPython and tell the keyboard manager to turn it's self\n",
       "    // off when our div gets focus\n",
       "\n",
       "    // location in version 3\n",
       "    if (IPython.notebook.keyboard_manager) {\n",
       "        IPython.notebook.keyboard_manager.register_events(el);\n",
       "    } else {\n",
       "        // location in version 2\n",
       "        IPython.keyboard_manager.register_events(el);\n",
       "    }\n",
       "};\n",
       "\n",
       "mpl.figure.prototype._key_event_extra = function (event, _name) {\n",
       "    var manager = IPython.notebook.keyboard_manager;\n",
       "    if (!manager) {\n",
       "        manager = IPython.keyboard_manager;\n",
       "    }\n",
       "\n",
       "    // Check for shift+enter\n",
       "    if (event.shiftKey && event.which === 13) {\n",
       "        this.canvas_div.blur();\n",
       "        // select the cell after this one\n",
       "        var index = IPython.notebook.find_cell_index(this.cell_info[0]);\n",
       "        IPython.notebook.select(index + 1);\n",
       "    }\n",
       "};\n",
       "\n",
       "mpl.figure.prototype.handle_save = function (fig, _msg) {\n",
       "    fig.ondownload(fig, null);\n",
       "};\n",
       "\n",
       "mpl.find_output_cell = function (html_output) {\n",
       "    // Return the cell and output element which can be found *uniquely* in the notebook.\n",
       "    // Note - this is a bit hacky, but it is done because the \"notebook_saving.Notebook\"\n",
       "    // IPython event is triggered only after the cells have been serialised, which for\n",
       "    // our purposes (turning an active figure into a static one), is too late.\n",
       "    var cells = IPython.notebook.get_cells();\n",
       "    var ncells = cells.length;\n",
       "    for (var i = 0; i < ncells; i++) {\n",
       "        var cell = cells[i];\n",
       "        if (cell.cell_type === 'code') {\n",
       "            for (var j = 0; j < cell.output_area.outputs.length; j++) {\n",
       "                var data = cell.output_area.outputs[j];\n",
       "                if (data.data) {\n",
       "                    // IPython >= 3 moved mimebundle to data attribute of output\n",
       "                    data = data.data;\n",
       "                }\n",
       "                if (data['text/html'] === html_output) {\n",
       "                    return [cell, data, j];\n",
       "                }\n",
       "            }\n",
       "        }\n",
       "    }\n",
       "};\n",
       "\n",
       "// Register the function which deals with the matplotlib target/channel.\n",
       "// The kernel may be null if the page has been refreshed.\n",
       "if (IPython.notebook.kernel !== null) {\n",
       "    IPython.notebook.kernel.comm_manager.register_target(\n",
       "        'matplotlib',\n",
       "        mpl.mpl_figure_comm\n",
       "    );\n",
       "}\n"
      ],
      "text/plain": [
       "<IPython.core.display.Javascript object>"
      ]
     },
     "metadata": {},
     "output_type": "display_data"
    },
    {
     "data": {
      "text/html": [
       "<img src=\"data:image/png;base64,iVBORw0KGgoAAAANSUhEUgAAAoAAAAHgCAYAAAA10dzkAAAgAElEQVR4nOydeXxU5b3/n5kkBJMKpLhU7a3Fq63VXl5awWpV0C4iXPuittX+rL9bl98VBRfEva3WutSr1l4VFEXAJCxhCQSCIWyBELIBSQghC1mA7Ovs+8yZ5fP74yRDhpkz+3nImO/79Xpevjhz5jzP+STK22dlIAiCIAiCIMYV7Hw3gCAIgiAIguALCSBBEARBEMQ4gwSQIAiCIAhinEECSBAEQRAEMc4gASQIgiAIghhnkAASBEEQBEGMM0gACYIgCIIgxhkkgARBEARBEOMMEkCCIAiCIIhxBgkgQRAEQRDEOIMEkCAIgiAIYpxBAkgQBEEQBDHOIAEkCIIgCIIYZ5AAEgRBEARBjDNIAAmCIAiCIMYZJIAEQRAEQRDjDBJAgiAIgiCIcQYJIEEQBEEQxDiDBJAgCIIgCGKcQQJIEARBEAQxziABJAiCIAiCGGeQABIEQRAEQYwzSAAJgiAIgiDGGSSABEEQBEEQ4wwSQIIgCIIgiHEGCSBBEARBEMQ4gwSQIAiCIAhinEECSBAEQRAEMc4gASQIgiAIghhnkAASBEEQBEGMM0gACYIgCIIgxhkkgARBEARBEOMMEkCCIAiCIIhxBgkgQRAEQRDEOIMEkCAIgiAIYpxBAkgQBEEQBDHOIAEkCIIgCIIYZ5AAEgRBEARBjDNIAAmCIAiCIMYZJIAEQRAEQRDjDBJAgiAIgiCIcQYJIEEQBEEQxDiDBJAgCIIgCGKcQQJIEARBEAQxziABJAiCIAiCGGeQABIEQRAEQYwzSAAJgiAIgiDGGSSABEEQBEEQ4wwSQIIgCIIgiHEGCSBBEARBEMQ4gwSQIAiCIAhinDFmBLCyshK//e1vcemllyI5ORkZGRn4+c9/jtzcXMnvZGdnY+bMmUhPT0dGRgbmzp2L8vLyoPWUl5dj7ty5yMjIQHp6OmbOnImsrKx4vw5BEARBEMSYZUwI4ObNm6FUKsEYw4wZM/CHP/wBd9xxh/faK6+84vedJUuWgDGGCy64APPnz8ecOXOQnJyMpKQk5OXlBawnLy8PSUlJUCgUmD17Nn73u99hypQpYIxhyZIlcr8mQRAEQRDEmOC8C6DT6cTFF18Mxhg2btzo81lFRQUmTpwIhUKBU6dOea/v378fjDFMnToVra2tPvdPmDABkydPhlar9XmWVqvF5MmTwRjD1q1bvdcHBgZw9dVXgzGGAwcOyPSWBEEQBEEQY4fzLoD19fVgjOHaa68N+Pn8+fPBGMOmTZu81+bNmwfGGD766CO/+5999lkwxvDhhx/6XP/ggw/AGMP8+fP9vpOXlwfGGO69994Y34YgCIIgCGLsc94FsLW1NSwB3LdvHwDAZrMhNTUVjDF0d3f73X/o0CEwxjB79myf67NmzQJjDGvXrvX7jsPhwMSJEzFx4kTYbLbYX4ogCIIgCGIMc94F0OVy4aqrrvLr5QPODgFPmzYNDocDAFBbWwvGGC6++OKAzzObzWCMISMjw+f6yFy/xsbGgN+bMWMGGGM4fvx42G13u93o7u6GXq+HwWCgQoUKFSpUqCRA0ev16O7uhtvtDvvv/G8a510AAbHXbmR+3sgikFmzZkGpVOKWW25BW1ub9978/HwwxnDjjTdKPm9E9oxGIwDAYDCAMQbGGAwGQ8Dv/OY3vwFjDDt27Ai73d3d3d7nUqFChQoVKlQSqwQaSRwvjAkBBIDjx49j2rRpPj+YCy+8EK+99hosFov3vvXr14Mxhttuu03yWVdccQUYY+jr6wMA9Pb2ep/pdDoDfuehhx4CYww5OTmSz7Xb7T7/B9HV1QXGGNrb26FWq+Na+vv7kZOTg/7+/rg/mwrlTDl/MwvlTDl/k4qcObe3t4MxBr1eH6W1JD5jQgBzcnKQmpqK2bNn48iRIzCbzWhtbcWCBQvAGMOtt94KQRAAAOvWrQNjDLfffrvk8y6//HIfAezp6QkpgH/84x9DCuAbb7wR8P8gcnJysH37dipUqFChQoVKApScnBwwJj0qOB447wLY2tqKlJQUfPe734XZbPb7/Ne//jUYY1ixYgWA8zsEfG4P4MgQsFqthiAIcS0WiwXbt2+HxWKJ+7OpUM6U8zezUM6U8zepyJmzWq0mATzfDXjrrbfAGMN///d/B/x87dq1YIzhwQcfBBD+IpApU6b4XB+ZYxjPRSAjYinHL5AgCNi+fTsEQYj7s4mzUM58oJz5QDnzgXLmg5w5y/n3d6Jw3gVwZJj3+eefD/j5SI/fnDlzAABWqzWsbWBmzZrlcz3YNjCCIGDixIlITU2NaBsYEsDEh3LmA+XMB8qZD5QzH0gA5eW8C+Df/va3gMI2wmuvvQbGGJ544gnvtblz54Kx4BtBf/DBBz7X33//fTAWfCPoefPmRdR2EsDEh3LmA+XMB8qZD5QzH0gA5eW8C2BNTY13ft7y5ct9PqusrER6ejoYO7sRNADs27cPjAU+Ci41NRWTJk2CRqPxeZZGo8GkSZPAmO9RcIODg96j4IqKiiJqOwlg4kM584Fy5gPlzAfKmQ8kgPJy3gUQAF588UWvBF5//fW4//77cdttt0GpVIIxhgULFvh9Z/HixWCMIS0tDfPnz8fcuXORnJwMpVKJLVu2BKxny5YtUCqVUCgUuPPOO/H73//eu2Dk2WefjbjdJICJD+XMB8qZD5QzHyhnPpAAysuYEEBAHIa9++67MXXqVCQnJyMjIwN33XUX1q9fL/mdzMxM3HTTTUhLS8PkyZMxZ84clJaWBq2nrKwM99xzD6ZMmYK0tDTcdNNN+Oqrr6JqMwlg4kM584Fy5gPlzId45ezxeOBwOGCz2agEKEajEQUFBTAajUHvczgc8Hg8EWVPAjiGBDARIQFMfChnPlDOfKCc+RBrzg6HA93d3WhpaUFTUxMVidLY2Ijq6mo0NjaGvLelpQXd3d3eY2NDQQJIAhgTJICJD+XMB8qZD5QzH2LJ2WKxoLm5GW1tbRgaGoLJZILVaj3vvW1jsVgsFgwODsJisUjeY7VaYTKZMDQ0hLa2NrS0tPicHiYFCSAJYEyQACY+lDMfKGc+UM58iCXnzs5OnD59Gi6XS4aWfbNwu93Q6XRwu91h3e9yuXD69Gl0dnaGvJcEkAQwJkgAEx/KmQ+UMx8oZz5Em7PT6URTUxN0Op1MLftmEakAAoBOp0NTU5Pksa8jkACSAMYECWDiQznzgXLmA+XMh2hzttlsaGpqgtVqlall3yyiEUCr1YqmpibYbMEPdSABJAGMCRLAxIdy5gPlzAfKmQ+xCmAoOSFEohHAcDMmASQBjAkSwMSHcuYD5cwHypkP32gBdNoA19j4/SEBlBcSwBggAUx8KGc+UM58oJz58I0WQJsBEMbGEDUJoLyQAMYACWDiQznzgXLmA+XMh7ByFqzAqQOAvsd7KTEEUA84Qm+jEk8sFgu2bduGxx57DP/xH/+BCy+8EGlpaZg+fTr+/Oc/R/R3LAlg+JAAxgAJYOJDOfOBcuYD5cyHkDk7HUDrPqB8KTDU4r2cEAJo1QEOM9cqV65c6Xcc7Jw5c3DhhReCMYZrr70Wg4ODYT2LBDB8SABjgAQw8aGc+UA584Fy5kPQnF1O4EwJUPoxUPq/wGCT96OEEECLBrCbuFaZnZ2NhQsXorW11ed6T08Ppk+fDsYYHnzwwbCeRQIYPiSAMUACmPhQznygnPlAOfNBMme3G+ioAMo+AU5sEXsA+094P45aAN0uwBP+PLiYsKgBu5FPXSFwu93Ys2cPGGNITU0N65g3EsDwIQGMARLAxIdy5gPlzAfKmQ8Bc/Z4gK4qoGwpULcJaC4EypcBvbXeW6IWQLsREDj0Gno8ogDaxoYUud1u9Pb2eoeH+/r6Qn6HBDB8SABjgAQw8aGc+UA584Fy5kPAnPvqgIpPgdocUf5GBLC72ntL1AJo1fNZmetxA2a1uBBkDOB2u1FeXg7GGFJSUmC320N+hwQwfEgAY4AEMPGhnPlAOfOBcuaDX86DJ4HKz4Fja8/KX3OhKIQdFd7vRS+AWj4rc91uwKwSF4LwwCUAbukj29xuN/70pz+BMYZf//rXYT2SBDB8SABjgAQw8aGc+UA584Fy5oNPzupTwJGVQHWWr/w1F4pSeLrE+71QcmKwCTjarvEtZ9Q4erIdR1t7/T+LdzmtwtGmMzja3BH2dwy2GH7X7KagYvv1119DoVAgJSUFx48fD+uRJIDhQwIYAySAiQ/lzAfKmQ+UMx+8OavOAFWZwNFV/vLXXAgcXiFuBzNMKDk52q7Bla8UJFQ52q6JOkePTQ+PxJYzTU1NyMjIAGMMH330UdjPJAEMHxLAGCABTHwoZz5QznygnPngzblqjSh5geSvuVDsGWwu9H6PBNAXi3kINqvW73p3dze+973vgTGGp556ik4CkQkSwBggAUx8KGc+UM58oJz54M259FPg5E5pAaxaDTTme79HAuiLydQPq0Xtc02lUuHaa68FYwyPPPIItFotCaBMkADGAAlg4kM584Fy5gPlzAdvzkcDzPsbXaozgRO53u9FNQfQOy+vU/45gKcGcbTxlFjfGZXkfSWtPSht64t5DqDR2AeLeWjUn42YMWMGGGP47W9/C0EQ6CxgGSEBjAESwMSHcuYD5cwHypkPPkPAwQSwJhs4nuP9XlSrgF1OwDzEZ2WuywGYBsWVwG6X5G1GhxHWOGxLYzD2wmwWj3iz2+246667wBjDnDlz4HA44Ha7SQBlhAQwBkgAEx/KmQ+UMx8oZz4IdruYc/Xa4AJ4bJ1YhmUqOgEUANOQuBWM3DjDE0CD3QCLEOO2NB4P9IYemEz9cLlcuO+++8AYwx133AGLRXw2CaC8kADGAAlg4kM584Fy5gPlzAfBZhFzrlkfXABrc4CaNaJYIRYBHBTP6JUbpx0wDYg9jkH259Pb9TBLrN4NG48bOkM3jMY+fPzxx97TPu677z48/PDDePjhh/GnP/0JDz74IP70pz/h4YcfhkqlCvlYEsDwIQGMARLAxIdy5gPlzAfKmQ+CxTQsgDnBBfD4RnEe4PBed1EJ4EivnEUtHtUmJ047YBwWQJe0AOpsOhgdsZ0X7HG7oDV0wWDsxRtvvOEVwGClvb095HNJAMOHBDAGSAATH8qZD5QzHyhnPghmvZhz7cbgAnhis7gS2C7KUnQCONIrpxaPapMTwQYY+0XhdAX+HfJ4PHERQLfLCa2+C3pDj6TY0hCwvJAAxgAJYOJDOfOBcuYD5cwHwawVcz6+ObgA1m8R9wIcnr8XtQAaB4bn5fEQwIFhAXQEvMXtcUNr00Jvj+28YLdLgEbfCZ2hGx4JsSUBlBcSwBggAUx8KGc+UM58oJz5IBhVYs51W4ILYEMecGSF2HuHKAVwpFcuxMKMuCBYxd5G06B33uK5jAigzh7bqmSX0wGNvhNaQxc8Eu9FAigvJIAxQAKY+FDOfKCc+UA580EwDA4LYF5wAWzMByqXi0KFaAXQOiyAwRdmxAXBMiyAA2LPYwDcHjc0Ng10Nh08McxJdDpt0Og7oNV3wS3xXiSA8sIAoKSkJC5lvEECmPhQznygnPlAOfNB0PeLOZ/YHlwAm74GKj4FDL0A4iCAQRZmxAVHaAF0uV3Q2DTQ2rRwxzAn0SlYodZ3QKPvhEtiviEJoLwwAFAoFFAqlTGVpKSk8/0u3CEBTHwoZz5QznygnPkgaHuGBTA/uACe3AmULwV0XQCiFECHZdS8PJl/rg7zWQEUArfR5XZBY41dAAXBArWuXRRAqeFmEkBZYQBw5ZVX4vvf/37AkpKSAoVCAYVCgZSUFHznO9/xuTZhwgTvveMNEsDEh3LmA+XMB8qZD4KmS8y5fkdwAWwuBMqWAtp2ANEKoPnsvDyJhRlxw24W6wkigE63E2qrGhqbBq4Y5iQKDjNUunao9R1wSg03kwDKStA5gC+++CKSk5OxYMECNDU1eX8IbrcbTU1NWLBgAZKTk/HSSy9xaexYgwQw8aGc+UA584Fy5oOg7hBzbigILYDlSwH1KQCxCOCwlEn0lMUNu2mUAAY+6s0rgNbYBNDhMJ0VQIm6SADlRVIA16xZA6VSiRUrVgR9wIoVK6BUKrF27dq4N26sQwKY+FDOfKCc+UA580EYOi3m3LgzPAEcagEQpQDajaMEMHBPWdwYXZfEUW+CS4DaqobaqoYzhkUpDrtRFEBdOwSJukgA5UVSAG+55RZcdtllYT3ksssuwy233BK3RiUKJICJD+XMB8qZD5QzH4TB1sgEcLAJQJQCaDOMEsAIvhcNNoO42MQ04D295FwElwCVVRWzANrtBqh07VDp2iFIHCtHAigvkgI4adIk3HzzzWE95Oabb8akSZPi1qhEgQQw8aGc+UA584Fy5oMw0BKZAPafABCtAOrPSpnEvLy4MbouCSlzuBxeARRiWJRis+m9AuhwmALeQwIoL0EF8KKLLgoZvNvtxkUXXUQCGGfoP+R8oJz5QDnzgXLmg9DXFJkA9tYCiFIArbpRAhh4rlzcsOrEDadNg+J8wACMCKDKqoIjhkUpNpvOK4B2e+Bj5UgA5UVSAGfPng2lUom333476AP+8Y9/QKFQYPbs2fFu25iHBDDxoZz5QDnzgXLmg9BbH4EALgN6qgFEK4DaYSmTnpcXN7x1DXrPLz4Xu8seFwG0WrWjBDDw36EkgPIiKYD5+fne/QHvvfde7Nu3D/39/XC73ejv70dRURF+/etfe/cBzM/P59nuMQEJYOJDOfOBcuYD5cwHoedE+AJY8SnQUQkgSgG0aM4KoMS8vLjhrWtInA8YALvzrADaXdEvSrFaNV4BtNkCnytMAigvQbeBefPNN4NuEj2yF+Df//53Xu0dU5AAJj6UMx8oZz5QznwQumvDF8DK5cBp8aSsiAXQ4wEsavEsYdOg5Ly8uDBSl0UtDjlLSJnNaTsrgDGsSjZbVFDpOoYFMPC5wiSA8hLyLOADBw7gF7/4hc/mzwqFAsnJyfjFL36B/fv382jnmIQEMPGhnPlAOfOBcuaD0FUdvgAeXgG0FQGIRgDdovxZ1EHn5cWF0XWZh8T5gAEYLYC2GFYlm8xDUOtFAbTatD6faTQaXHzxxWCM4ZprriEBlImQAjiC1WpFXV0dysrKUFdXB6tV5smoCQAJYOJDOfOBcuYD5cwHofNo+AJ4ZKX4T0QhgG63OCRr0YgCKDEsGxe8danFf1q1AW+zOq1eAbQ6o/cAo3kAan0nVLp2WKwan88efvhhKBQKEkCZkRTAG2+8ET/72c9gt8u88WQCQwKY+FDOfKCc+UA580E4UxG+AB5dBTSKc+QjF0DXWQEMMiwbF3zqGv5nAOIlgAZTPzT6Tqh17TBbVN7rRUVFYIxhwYIFJIAyIymAqampuOmmm3i2JeEgAUx8KGc+UM58oJz5IJwqCV8AqzOB+q0AohFApyh+Fm3QYdm44COAw0PBHo/fbRbB4hVASwyrkvXGXlEA9R0wWYYAiCONV199Na677jq0traSAMqMpABeddVVmD59Os+2JBwkgIkP5cwHypkPlDMfhNbi8AWwJhs4ngMgCgF0DQvgyPYsEsOyccE9qq6RhScef/EyC2bvUXBmIfpFKTpjDzSGLqj1HTCaBwEAr7zyChQKBUpKStDe3k4CKDOSAvjUU08hJSUF/f39PNuTUJAAJj6UMx8oZz5QznwQTu4NXwCPrQWOrQPcrigEUBDn/o1s0CwxLBsXRsvmyDBwAPEyO84KoEniBI9QeDwe6Azd0Bq6oNF3wmDqR11dHZKTk/HYY48BAAkgByQFcGBgAJdccgnuvvtuGI2BN4Qc75AAJj6UMx8oZz5QznwQGneGL4C1OUDNGsDpCC0nNj3QUXG2nCkBTu4EWvcCzbuAll1AR7nvPfEqZw6dratlt1hfe5nffZZT+6Fv3QV96y5YThVFNS/R7XFDa+iGztANjb4TWn0Pbr75Zlx00UVQq9UASAB5ICmA2dnZeP3115GcnIxLL70UTz31FJYvX47s7GzJMt4gAUx8KGc+UM58oJz5INTnhy+AxzeK8wAFa2g56agA3piUWKWjIuL83G4XtIYuby/g/7z3dzDGkJmZ6b2HBFB+JAVwZAPokX3/pDaDHl3GGySAiQ/lzAfKmQ+UMx+EurzwBbBuM1C1GrAbSQCHcbkEaPRd0Bl6cKLxML71rXS/42RJAOUn6FnAd955Z0RlvEECmPhQznygnPlAOfNBqN0cvgDWbxG3grHqSACHcbkc0Og7oTf2YM49v8SECRPQ0Njgcw8JoPyEvRE04Q8JYOJDOfOBcuYD5cwH4VhO+ALYkAccWQGY1ZHPATx9EDhZIM7La90jPq+9VJ45gD517RXnA5455HefsW0vDK27YWjdA0PrHnii2JrG6bRDre+E3tgLxhgmT56E2bNnYfbs2d7y05/+FIwxXHDBBd5rJlPoRSckgOFDAhgDJICJD+XMB8qZD5QzB9wuCNXrwhfAxu1A5eeAaTDyVcCCFTANiGJo1YqrdF1Oed7LaRs+bUQvrjo2DQIuh88tHo8HOpsOWpvW+093gK1iQiE4bVDrO2AYFsBwi04XWjZJAMOHBDAGSAATH8qZD5QzHyhnDrgECFVrwhfApq+Bis8AQ1+MAjgiZTL9bIXRAqgX63X6C6DWpvUKoMamiU4ABasogKY+6I090Og74TxHNmkIWH5IAGOABDDxoZz5QDnzgXLmgGCDUJUdvgCe3AmULwV0XZELoMMSQAAdob8X1XuNkk3biAD6HgXr9ri98qe366GxaeByuyKuyiFYoNK1DwtgL9T6TjjPqYsEUH5CCuDWrVtx77334rLLLsOECRMkVwAnJSXxaO+YggQw8aGc+UA584Fy5oDDDOFIZvgC2FwIlC0FtO1RCKB5lAAG7pWLGwEF0Ledbo8bGpvmrABaNXC6Ix+SdjjMUOnaYTT1w2DshVrfAeGcukgA5SeoAD722GM+W8GEKuMNEsDEh3LmA+XMB8qZAzYDhCNfRSaA5UsB9anIBdBuOjssK9ErFzccFv+6BN92utwuUQDtogCqreqoBNDuMI0SwD6o9B0QBKvPPSSA8iMpgBs2bIBCocAPfvAD7Nu3DzNnzoRSqcSZM2dQVVWFTz75BNdccw3S0tKQmZmJjo4Onu0eE5AAJj6UMx8oZz5Qzhyw6iBUropcAIdaohBAYwABDPO7kTK6t9ErgL5S5nK7oLFqoLfrYbAboLaqIbgj/12z241eATSa+qDSt8MhWPzuc7vd0Ol0JIAyISmAv/rVr6BUKnH06FEAwO233+632bPNZsPdd9+NtLQ0NDY2ytvSMQgJYOJDOfOBcuYD5cwBiwZC5crIBXCwKXIBtBkA01DQXrm44TAH6AH0FUCn2+kjgCqrCkIUi1JsdsMoAeyHStcOu8Psdx8JoLxICuBFF12EK664wvvnQAIIAH19fUhJScFDDz0kTwvHMCSAiQ/lzAfKmQ+UMwfMKggVKyIXwP76KARQL279EkTK4obfcPOgOCw8CqfbCbVVDb1dD6PDCJVVBUcUi1KsNn0AAfTf448EUF4kBXDChAmYOXOm988///nPoVQqYTQa/e694YYbfGRxvEACmPhQznygnPlAOXPAOACh/PPIBbC3NnIBtOoCCKD/UGlcCDTcfE6vnOAWoLaqYbAbYhRAnZ8A2uz+bkECKC+SAnj55Zfj+uuv9/75/vvvh1KpxPHjx/3uve6665CamipPC8cwJICJD+XMB8qZD5QzBwy9EMo+i3wVcE91FAKoBcyqc6RMJgH0G24e9BdAl78A2qNYlGKxagIIoP/foySA8iIpgD/96U8xdepU75/feecdKJVKvP766z73NTc3Izk5GZdddpl8rRyjkAAmPpQzHyhnPlDOHNB1QShdFpkAVnwKdB6OXAAt6nME0F/K4obfcPOgOCw8CsElQGVV+QigLYpFKWaLGupzBNBq0/vdRwIoL5IC+PLLL3tX/QJAS0sLkpKSkJSUhBdffBFff/01vvzyS3z/+9+HUqnEo48+yq3RYwUSwMSHcuYD5cwHypkD2g4IhyIUwMrlwJlDkQmgxyMKoEUdVMriht9w8yBg8x2WdbgcUFlVMDqMMQmgyaKCWtfhI4AWm/8xbySA8iIpgGVlZbjooouwevVq77XXX38dCoXCZwNohUKBK664Aj09PVwaPJYgAUx8KGc+UM58oJw5oDkduQAe/gJoK4pQAN2AOYAA2vznysWFc4ebR2RwFIEE0OqMfFGK0TwItf6sAKp17TBbtX73kQDKS8RHwW3evBnz5s3DD3/4Q9x4441YsmQJ+vv75WjbmIcEMPGhnPlAOfOBcuaA+lTkQ8BHVgLNuyITQLdLFDKLJqiUxQ2Lxl8Arb69cnan3V8Ao1iVbDANQHOOAJqsar/7SADlhc4CjgESwMSHcuYD5cwHypkDQy0QSj+NTACPrgIa8+MjgFb/odKYGRluNo/qbTSrxF7BUZwrgGqrGmYh8jmJelMfNPrOUQLYAaNF5XcfCaC8jCkB7O/vx3PPPYdrrrkGEydOREZGBn7yk5/gpZdeCnh/dnY2Zs6cifT0dGRkZGDu3LkoLy8PWkd5eTnmzp2LjIwMpKenY+bMmcjKyoqqvSSAiQ/lzAfKmQ+UMwcGmyLvAaz6CqjfGqEAOoeFTxtUyuJCoPmGI/I5CpvT5ieApgD794VCZ+yFdpQAavQdMJiH/O4jAZQXSQGcP38+li1bxu2Ej4qKCkyZMgWMMVx33XV44IEHMHfuXFx55ZVISkryu3/JkiVgjOGCCy7A/PnzMWfOHCQnJyMpKQl5eXkB68jLy0NSUhIUCgVmz56N3/3ud946lyxZEnGbSQATH8qZD5QzHyhnDvTXRy6ANdnA8Y2RCaBLQgDPkbK4EGi+4cifRxFIAI2OyOYkejweaI090Bq6fARQbx7wu5cEUF4kBS/HPTAAACAASURBVHD0Yo/LLrsMf/zjH7F69WpZzvzt7e3FlClTcMEFFwSUtyNHjvj8ef/+/WCMYerUqWhtbfVer6iowIQJEzB58mRotb7/l6TVajF58mQwxrB161bv9YGBAVx99dVgjOHAgQMRtZsEMPGhnPlAOfOBcuZAXx2EQxEOAR9bCxxbB5vFEoEACuKiD6vOX8o8nvi+U6DhZot/XVan1UcANVYNDAH27wtalccNraEbOkO3VwC1+k7oTP5rCUgA5UVSAD/55BP85je/QUZGBhQKhY8Q/vu//zsef/xxbNy4EUND/t22kfJf//VfYIxh2bJlYd0/b948MMbw0Ucf+X327LPPgjGGDz/80Of6Bx98AMYY5s+f7/edvLw8MMZw7733RtRuEsDEh3LmA+XMB8qZA73HIl8FXLseqFkDm8kQgQA6/AVwZJ6eJ3whCgspATynLqtwjgDaxHOBI6rK7YImoAD2wXOO2JIAykvIOYAejwdVVVV477338Ktf/QppaWl+Qjh9+vSohlABsWcuNTUVkydPDutfCpvNhtTUVDDG0N3d7ff5oUOHwBjD7Nmzfa7PmjULjDGsXbvW7zsOhwMTJ07ExIkTw9+gEySA3wQoZz5QznygnDnQXR35EPDxjUB1FmxGXfgC6HSIJ39Y9aOkbHilbgRCFBaB5hsGqMsiWPwEUGePbFGKy+2ExtAF/SgB1Bm6sKdoB+777X249NJLkZycjIyMDPz85z9HVlYWCaBMRLwIxOFw4ODBg3j99ddx2223efcCVCqVUTXg66+/BmMM//mf/wmXy4Xc3FwsXrwYixYtwtKlSzEw4DsvoLa2FowxXHzxxQGfZzabwRhDRkaGz/WRuX5ScxpnzJgBxljAo+6kIAFMfChnPlDOfKCcOdB5OPKj4Oo2A1WrYTOoIxBAuyiAtkAC6IrvOwWabxigLrNg9s77MzqM0Nq00Nl0fj13QV/LJUCj74Le0OMVwMys5VAqlWCMYcaMGfjDH/6AO+64w3vt5ZdfDvv5JIDhE7EA9vX1Ye3atXjkkUfwb//2bz69gdHw3nvvgTGGxx57DLfeeisYYz4lPT0dmzdv9t6fn58PxhhuvPFGyWeOyJ7RKE5OHflBB/th/+Y3vwFjDDt27Ai77SSAiQ/lzAfKmQ+UMwfaSyGULY9MAE9sAY6ugk03GIEA2gIIoFYUNbczvu/kEsRzgH2Gm/3rMjlMPgKos+mgtWnhjmBI2ulyQK3vhN4oCqBW142LLpoKxhhycnJ87i0rK8PEiROhUChw6tSpsJ5PAhg+IQVQr9dj27ZtePrpp/GjH/3I5wSQb33rW5g7dy4+/PBD1NbWRtWAV155BYwxJCcnIz09HatXr4ZKpUJ7ezuef/55MMYwYcIE1NXVAQDWr18Pxhhuu+02yWdeccUVYIyhr68PgLjIZEQAnc7A/+I89NBDAX8BR2O322EwGLylu7sbjDGo1WoIghDXYrFYsH37dlgslrg/mwrlTDl/MwvlzKG07IeldIWY84kCCI07Q5cTeRAqV8Ko6kFjYyMsFgvcbnfw4rDCbRyE26o/WyxauE1DcLuE0N+PpDgdcJsG4bbqgtZltIsrfw12Awx2gyiAVi1cblfYdQmCDWp9JwzGXhhM/ag8UgzGGK75wdVwupw+97pcLu+c/w0bNoT1fIvFgsbGRhiNxqA/R7VaTQIo9cGrr76KmTNnIjk52St8EyZMwKxZs/D3v/8dpaWlkjIVCS+++KJXzlasWOH3+e9//3swxvDQQw8BANatWwfGGG6//XbJZ15++eU+AtjT0xNSAP/4xz+GFMA33njDr4dy5Dvbt2+nQoUKFSpUJEtBQQGqq6sxODgInU5HRadDdXU1GGP4wQ9+EPDzEQHctm1bWM8bHBxEdXU1CgoKgv4scnJySAClPhgZ1v3e976Hl19+Gbt374bFYol7A958800wxqBUKmG32/0+LywsBGMMV1xxBYDzOwRMPYDfvEI5U87fpEI5cyiNO2EpXy3mHG4PYH0+hLLlMPa3R9ADaPHvAbTqxJ46pyO+PYCCPay69Ha9d+sXg90AvU3887k9d8GKw2GBSt8Jg7EfBlM/tPoefP/7V4IxhvU5633uLS0txcSJEzFt2jTYbDbqAYwzQQVwRAJ/+MMfYtGiRcjLy/PbXy9WsrOzwRjD5ZdfHvDzpqYmMMaQkpICIPxFIFOmTPG5PrIHIC0CIUZDOfOBcuYD5cyBxnwIh0UBDHsO4MmdQPky2Ibaw58D6LD4zwG06sVrTkd83ynQghOrTtyGZlRderseGpvGOwdQb9dDbVXDGcGcRIdggUrXAaOpz7sIZNfuPEyaNMlnEcisWbOgVCoxc+ZMtLS0hP18mgMYPpICWFFRgXfeeQd33XWXdxKmUqlEUlKS93i2ePQKnjhxwnuiR6CVRKWlpT6req1Wa1jbwMyaNcvnerBtYARBwMSJE5GamkrbwIwzKGc+UM58oJw5UJ8H4chXkQlgcyFQthS2gVNB5cToMKJmoEYsPWWoad+Hmq4S39K+DzW9h8/eF4/SWxlWXSVdJTjYdRClPaUo7SnFoe5D6NB3QHCH//tmd5ig0rV75c9o6ofR2Ivi0kJ8f9r3faZXXXjhhXjxxRdhMoV/3BwJYPiEtQrYZrOhqKgIf/7zn3HzzTcjOTnZK4SpqamYNWsW3nzzzagbMW3aNDDGUFlZ6ffZ22+/DcYYfvGLX3ivzZ07N+RG0B988IHP9ffffz/kRtDz5s2LqN0kgIkP5cwHypkPlDMH6jZDOJoVuQCWL4WtryWonNQM1ODHWT9OqHKg8wAEV/i/bza7vwCuXv0ZUlMnYNasO3DkyBGYzWa0trbi8ccfB2MMt956a9i/0ySA4RPxNjCAGFx+fj4eeOCBmPcBBIAvvvgCjDHMnDkTKpXKe726uto7ny83N9d7fd++fZJHwaWmpmLSpEnQaHzPS9RoNN4u5tFHwQ0ODnqPgisqKoqo3SSAiQ/lzAfKmQ+Us8x4PEBtDoSqNVEK4MlvpAA6XOEPSdvsBh8BPFZbjpSUFFx+xWXQ6HxPFnO73bjnnnskF4kGfD4JYNhEJIBGoxE7duzA4sWL8eMf/9hnS5hYBNDtduP+++8HYwzf/va3ce+99+LOO+/EhAkTwBjD448/7vedxYsXgzGGtLQ0zJ8/H3PnzvWuWN6yZUvAerZs2eJt75133onf//73XsF89tlnI243CWDiQznzgXLmA+UsM24XcGwdhOp10QlgT8O4F0CrXe8jgH997SUwxvB///R/YHOYfeN2u70dRA8++GBYzycBDJ+gAuhwOHDgwAH89a9/xS233IKUlBSvQCkUCqSkpOBnP/sZXnvtNRQXF8fUELfbjc8++ww33ngj0tLSkJ6ejp/97GdYs2aN5HcyMzNx0003IS0tDZMnT8acOXNQWloatJ6ysjLcc889mDJlCtLS0nDTTTfhq6++iqrNJICJD+XMB8qZD5SzzDgdQM0aCDXroxPArrrw5wB2lqCmY3/geXk95fGdA9hTjpr2Iom6KlAzUIOq/ioUdxWjpKvEOwewtKcU7fp22F3+O3hIYbX5CuCjj/5fMMaw8Kn/B5vDd66f2+327v07Z86csJ5PAhg+kgL4y1/+EmlpaX69fDfccAOef/557Ny5M6KJmd9ESAATH8qZD5QzHyhnmRFsQHUWhGMbolgEsgy2ztrwVwFbteJRbKNX5tqGVwE74rwlW6AVxyN1CWJdLrcLGpsGerveuwrY6DBCZVXB7gxfAM1WrY8AvvKqeODDrT+7GVa70edet9vt3Sv4iSeeCOv5JIDhE3IbmB/84Ad48sknkZubC7VazbNtYx4SwMSHcuYD5cwHyllmHGagKhNC7aboVgF3VIcvgCNn8fpJ2aDYjni/l2kwqGy63C5orIEF0OYMf/cMs1UD9SgBPFS6x7vq9+Ol//K5t7y8HOnp6WCMYd++fWE9nwQwfCQFMDs7Gz09PTzbknCQACY+lDMfKGc+UM4yYzMAVashHN8cxRDwMthOHw5PAD0ewKIGzOrAAmiP8+ib3SQhgGdl0+l2Qm1VBxRAq9MadlVGiwpqXYfPKuBnn13olcDrr78e999/P2677TYolUrJdQBSkACGT1SrgAkREsDEh3LmA+XMB8pZZqxa4MhKCHVbIhfAyuWwnSqLTAAtUgJoDP79SLEbpQVwWDZHBNBgN/gLoBC+ABosQ9DofQXQaOpH9tov8Itf3oWpU6ciOTkZGRkZuOuuu/Dll1/C7XaH/XwSwPAJWwAHBgZQVVWFkpISOduTUJAAJj6UMx8oZz5QzjJj0QBHvoRwIi9yATz8BWzNxWEKoFvs/QskgOYh8Z/xxGYATENBZVNwCZICaBHCn5OoNw8GFEC1rgMmq+/2bW63GzqdjgRQJkIK4Lp163D99dd7F4MkJSX5fP7SSy/hrrvuQm9vr2yNHKuQACY+lDMfKGc+UM4yYxoCDn8B4cT2yAXwyJewNe0NTwDdLnH+n0UTWACtuvi+12ix9BHAIVEOIQqgyqryE0C1VQ2zEP6cRJ2pHxp9p58AavQdMFhUPveSAMpLUAFcvHixdwXwhAkTkJqa6rffX3Z2NpRKJT7//HNZGzoWIQFMfChnPlDOfKCcZcY4AFQsh3AiP3IBPLoKtobCOAigShyKjidWXWABHNXb6HA5oLKqfORvRABNjvDmJHo8HuhMfdBKCKDe4r8RNAmgfEgKYH5+PhQKBS655BJs3boVTqcTt99+u58AarVaKJVK3HvvvbI3dqxBApj4UM58oJz5QDnLjKEXqPgUQv3XkQtg1Vew1eWHJ4Au53BPnzawAFo0wb8fKVJbzozqbZQSQI1VA6MjvDmJbo8bWmMvdPquwAJoHvS9nwRQViQF8J577oFSqcTu3bu91wIJICCe5XvttdfK08IxDAlg4kM584Fy5gPlLDO6LqB8KYSGgsgFsDoLttqtYQqgIA6/WnUBpGx4bqDHE7/3ktpyZlRvo91lDyyANg0M9vD+DhQFsAc6g78AavUd0JkH4Bn1XiSA8iIpgFOnTsV3vvMdn2tSAvjTn/4UkyZNin/rxjgkgIkP5cwHypkPlLPMaNuBsqUQGndGLoDH1sJ2LBdNjY1hCuBgYAEc2R7GE74UBSXYljOjehvtTmkB1NvDW5TicrugMfRAZ+j2E0CdvhNaUz8JIEckBXDChAm46aabfK5JCeBPfvITpKWlxb91YxwSwMSHcuYD5cwHyllmNKfFHsBoBLB2PWzVG8MTQKcjiAAO99ZFIEVBCbblzKjeRpvTFlAAtTYtdDadj7hJIQpgN/SSAtgH9yixJQGUF0kBvPzyyzF16lSfa4EEUBAEpKen4+qrr5anhWMYEsDEh3LmA+XMB8pZZlRt0Qvg8Q2wVeeEKYD2wEez+QigKz7vFGzLGW9vY3AB1Nq0YQmg0+2E2tAFvaEngAB2QWPshWvUe5EAyoukAN53331QKpUoLCz0XgskgKtWrYJCocAjjzwiXyvHKCSAiQ/lzAfKmQ+Us8wMtUQvgHWbYataj6bGBlitITZODiqAWnFxhtsZn3dyu6VXHFvU4mceN6xOa0AB1Nl00Nq0Pj13kq/lEqDWd8IQQAD1hi5ojD0xC6DVaiUBDBNJAdy1axcUCgW+973v4dixYwD8BXDHjh248MILoVQqcfjwYflbO8YgAUx8KGc+UM58oJxlZrApegE8sQWOo1loamyAyRRi2xTBJi2A1mEBdMVLAINsOTOqtzGYAGpsGh9xk3wtp0MUQGNvAAHshtrQDecosY1GAE0mE5qamuBwOILeRwIYYh/ARx55BAqFAikpKbj11ltx6aWXQqlU4umnn8YNN9zg3SPwmWee4dXeMQUJYOJDOfOBcuYD5Swz/fXRC2B9HjxHvkRbcxP6+/uD1xNUAHXi/EBXnH7G7uEtZywBtpwZJYAWwRJQAPV2PTTW8ATQ4bRBJSGABkM31IaumAWwr68PbW1tIYekSQBDCKDb7caf//xnpKamQqFQeMuI+KWkpODVV18Na+z/mwgJYOJDOfOBcuYD5SwzfceBsmXRCWDjduDwFxjoOoXm5ubgw8CCNQwBDN7DFTbB9hy0nh1uNgtmqK1qSQF0hjEk7RCsUOk7YDT2BRDAHqgNXRBGiW2kAmi1WtHc3IyBgYGQ95IAhnkWcG9vLz777DMsWLAA999/Px599FF89NFH6OjokLt9YxoSwMSHcuYD5cwHyllmeo9F3wPYtAOo+AwufS/a29vR3NyMvr4+mEwmWK1W2Gy2s8WghU3dA5t+yL/ohmBTd8NmMvh+J9piNsKm7oVNNxigrgHYNL2wmU3QGDTo0/VBbVD7lCHDEPp0fTBZTCHrMhi16Bs6BbW6E2p1l09RqTvQN3QaBvPZ97JYLBgcHITFYpF8ptVqhclkQl9fH5qbm9He3g6XK3RvJAlgmAIYDiqVKvRN3zBIABMfypkPlDMfKGeZ6a6OXgBPFgDlywB9N1wuFwYGBtDW1oampib/cuI4mmoPo6muJnCpPYymhhOBvxtpaahHU+0RNNVVB6irWvysoR61J2pRVVeFYyeO+ZWjdUdR31Afsq4T9cdxtKYUx2orcaz2sG85VoGjNWU4Meq9GhsbUV1djcbGxpDPbmtrw8DAQFjyB5AAAnEQQK1Wi1dffZU2go4z9B9yPlDOfKCc+UA5y0znYfEouGgEsLlQFEDt2ZEzj8cDh8Ph37N15ihsFStha9oTuFSshK2vJT49gKpO2CpWwdawy7+ehkLxM1UnDp05hNzGXJScKfEpxaeLseHEBnRpukLWdbK9Ejm7XkJJxTKUVC73LYf+hZy9f8Gpvibv/UajEQUFBTAajUGf63A4Ip6KRgIYgwDq9Xq8/vrrmDx5MpRKZcANor/pkAAmPpQzHyhnPlDOMtNeClQuj0EAlwLqU2HUUw5UfBb8OUMt8Xmn4ePtcDLAu5zcKX6m70ZRRxE2ntyI4q5iv5LZkIkeU0/Iqpq7DiGr4HEUl3+A4soPfcuht5G1axFOD9V775fz95kE8BwBtNvtePvtt/HjH/8YaWlpuOSSSzBv3jxUVlZ673G73fjXv/6Fb3/7297FIJdccgk+/PBD7o0/35AAJj6UMx8oZz5QzjJz6gBQ+XlsAqhqDbueoM8ZbIrPOw0fbydZV9lSQNuB3e27sbl5c0ABzGrIQqehM2RVDe37kfX1f6O44p8BBPAfyCxciNb+Y977SQDlxSuAbrcbd955p1fqRpfU1FQUFRVBr9d79wIcEb9//vOfoTe1/IZCApj4UM58oJz5QDnLTMse4MiK6AWw7BNg8GTY9QQVwP4T8Xkn9SnxeSF6LQtOFyC3JVeyB/C0/nTIqo63FYoCeK78VX6I4tJ3kVX4BE72nt1TmARQXrwCuHr1aq/w3XLLLXjuueewYMECXHXVVVAoFJg+fTrmzZsHhUKBKVOm4P3334fFYjmfbT/vkAAmPpQzHyhnPlDOMtNcCBxdGVsPYH996HqavgaOrgreK9dbG593UrWGFEDPUAvyT+Vja+tWyR7ANm1byKqqWrZjTcHjgQWw7D1k7XwCDV1l3vtJAOXFK4B33303lEol/vKXv/jcYLPZ8Mtf/tK7/9/NN98cehPLcQIJYOJDOfOBcuYD5SwzjfnA0VUx9AAuE/cSDEV9HlD1VXCR7K6OzzsNngwpgK6BBmxr3YZtbdsCC2B9Fpo1zSGrqmjcjHUFCwILYPn7yC5YgNr2/d77SQDlxSuA3/nOdzBp0qSAx6ccOXIECoUCycnJOHPmDNcGjmVIABMfypkPlDMfKGeZqd8KVH0VWw9gT03oeuo2A9VZ0s+p+AzoqIjPOw00hBDATyD0HcfWlq3Ib8uXHAJuVDeGrKqkfh1yCp4ILIAVH2DNzgU42lbovZ8EUF68AjhhwgTceOONAW8ym81QKBS49tpruTUsESABTHwoZz5QznygnGVmWMxi2gam83DwOtxuoHY9ULNG+jmVnwOnD8bnnfrqggtg2TLYuquwpWULdpzaITkEXDdUF7KqouOrsXHnk4EFsPJDrC9YgLKWbd77SQDlxSuACoUCd9xxh+SNoT4fj5AAJj6UMx8oZz5QzjLi8QC1OUDNmugFsOIzcSuZYLgEoGYtcGyd9HOOrABa98bnvXqPBV8FXL4Uls4K5DbnouB0QUABXNO4BlX9VSGr2lX9OTbvXCgpgBsKnkBJ0ybv/SSA8kICGAMkgIkP5cwHypkPlLOMuF2ilB1bF70AHv5C3OIlGIJNHP49vkH6OUdXiieLxIOe6hBDwMtgbC/BppObUHimMKAArm1ci8q+ypBV7ahaiq07F0kK4KadT2Jv/dqzUZAAyoqPAE6fPh0lJSUBS6jPS0pKzud7nBdIABMfypkPlDMfKGcZcTrEYdnanOgF8MiXQMvu4PXYTeICkLpN0s+p+gpoyIvPe3VWAhWfBu211LfuxYaTG7D7zO6AApjTlIOS7uAO4Pa4se3wv5C362lJAczduRCFx1d5v0MCKC8+Ajhyokc0JSkp6Xy+x3mBBDDxoZz5QDnzgXKWEcHq7ZmLWgCPrgKadgSvx6YHjq4GTmyRfk51ljgfMR6cOQRULg8631Bz8musb1qPPe17AgrgxpMbsb9jf9BqBJeAreX/g/zdiyUFcGvhIuTXLPce60YCKC8+AhhLoaPg4gv9h5wPlDMfKGc+UM4y4jB7e+aiFsCqr8QtXoJh0Yg9hfV50s8Z7olEhOffBqRtvzg0LTlsvQKqhq1Y17gOezv2BhTAzc2bsbs9eM+m1WlFbunb2LH7OUkB3Fb4FLZVLYPL7QJAAig3XgHs6OiIuYw3SAATH8qZD5QzHyhnGbEZgKrVwInc6AWwOksc2g2GaUgUssbt0s85tk5cKOKKw8+5ZY8onEHmGw6e2IA1jWtQ1FEUUABHVggHwyyYseng37Bz7/OSAphf+DS2HvkIDpe4HR0JoLyw0LcQUpAAJj6UMx8oZz5QzjJi1QJHVgL1W6IXwJo14hYvbrd0PcZ+cbVw0w7p5xzfANRkiwtGYuVkQfBTR6pWo/9YNrIasnCg80BAAcxrzcP2tu1we6TfS2/XY0PxX7Br38uSAvj1rmeQe/hDWATxlDESQHkhAYwBEsDEh3LmA+XMB8pZRiwacfuVhrzoBbB2feieO323uF/gyQLp59RtEoeTHebY36shxKkj1ZnoqV6FzIbMgPJX3FWM7W3bkdeaByHIe2lsGqzf/zL2FL0iKYA7dy/GpvL/gclhAkACKDckgDFAApj4UM58oJz5QDnLyKih2agF8PgGcRg4WM+dtiP4vnzNheICkaOrxQUjsXIiN/ipIzXZ6DqyHFkNWZICuOPUDuS25MLmlH4vlVWFtXuXYN/+v0oK4O49z2ND6dvQ28X3IgGUFxLAGCABTHwoZz5QznygnGXE2A9ULAcad0QvgCM9d3aTdD2a08H35WsuFBeIHPlS7JWMleM5wU8dObYW7ZVLkVUv3QNYcLoAm5s3wyxI90gOmPqQvWcx9h94XVIA9+x9CetK/gaNTXwvEkB5IQGMARLAxIdy5gPlzAfKWUYMveJ+eU0F0QtgOD13qtbQAti4XTwOzjQU2zuN2tw62LD16fKPkHVitaQAFp4pxIaTG7w9d4Ho1Xcgc/czKD74d0kBLNr3CtYU/wVDFvG9SADlhQQwBkgAEx/KmQ+UMx8oZxnRdYlidnJn9AIYTs/d4Emg7JPgz2naIS4UMfbH9k6jNrcONmzdWvZPZNWtkhTAPe17kNOUA61NK1lVl6YNWbufQnHJm5ICuL/oz8je/zL6zeJ7kQDKCwlgDJAAJj6UMx8oZz5QzjKibffOzYtaABu2i/MIg/Xc9deH7gE8WSDeo++O7Z0E6/Dm1huDDls3l76PrNoVkgK4t2Mv1jWug8qqkqyqfagRWbsWofjQ25ICWHzgr8jc9wJ6TD1i80gAZYUEMAZIABMfypkPlDMfKGcZGTU3L2oBbNohziMM1nPXdxwoWxb6WWVLRSmNhXCOnTuxBY0l7yKz9nNJAdzfuR/ZjdkYMA9IVnVqoBaZhQtRfOgfQQTwdWTteQ6dhk4AJIByQwIYAySAiQ/lzAfKmQ+Us4yo2sTtWWIRwJMF4jP0PdL19FSHXgXcXCjKqPpUbO9kMwwfO5cbdNi6/uDbyDr2maQAFncVI7M+E72mXsmqmnuPInPnkygufVdaAA++gcw9z+K0VnwvEkB5IQGMARLAxIdy5gPlzAfKWUaGmmPvARwRN22Qk7M6D3tFM+RzhlpieyeLZnhz661Bh61rD7yB7BACmNWQhS5jl2RVTd0VyNz5BIrL3gsigH9H1u5n0KY+CYAEUG4kBbCpqQlLlizBli1bgj4gNzcXS5YsQUtLjL+ICQgJYOJDOfOBcuYD5Swjg01xEsBl4nCyFO2lQOXy8ARwsCm2dzKrxDmJDduk62ncgaqiv2JNKAGsz0K7vl2yqvqOg8gqWIDi8velBbDkTWTtfgrNg3UASADlRlIAX3jhBSiVSuzatSvoA3bt2gWFQoFXX3017o0b65AAJj6UMx8oZz5QzjIyanFGzD2AqlbpetqKRCkL5zn9J2J7J+OAKJuN+UHmLRagct+rWFcTWgBP6aSHpI+d3oPsgsdRXPGBtAAeehuZuxahsb8aAAmg3EgK4A033ID09PSQD/B4PEhLS8NPfvKTuDYsESABTHwoZz5QznygnGVk1OKMmAVw8KR0Pc27xK1iwulJ7K2N7Z0MfcN7G34dtK5De15ETggBzGzIRItWeiTwSOsOrC14XFr+Kj9E8aF3kFW4EHXdFQBIAOVGUgCnTp2K6667LqyHXHfddbj44ovj1qhEgQQw8aGc+UA584FylpGemjj1AH4CDDRI19O4Azi6KjwB7KmO7Z303d69DYPV3KEaIQAAIABJREFUdWDP89hQ/WnIOYBNaukh6bKmLVhfsCC4AJa+izWFC1HVcQAACaDcSArgxIkTMWPGjLAeMmPGDKSmpsatUYkCCWDiQznzgXLmA+UsI93Vsa8Cbi4UexH7jkvXU79V3Jol1HMqPgM6KmJ7p3DOHW4uxN7dz2FTTQgBrM9Cvapesqrihhxs2PlEcAEsew/rChei8vRuACSAciMpgFdeeSUmTZoEp9MZ9AFOpxOTJk3Cd7/73bg3bqxDApj4UM58oJz5QDnLSEeFOFwajyHgnhrpeo5vBGqyQz+n8nPg9MHY3imcc4ebC7Fr92LkhugBzG7IRu2g9JD0nrpMbNr5ZHABLH8fOYULUdKaD4AEUG4kBfDBBx+EUqnEZ599FvQBy5cvh0KhwAMPPBD3xo11SAATH8qZD5QzHyhnGRm1OjfmVcBdRwPX4XYPn827NvRzjqwAWvfF9k6qtrAEcMeuZ7C1allQAVzbuBZH+o5IVrXz2JfI3bkwhAB+gI2FT6Lo5GYAJIByIymApaWlUCgUSE1NxZdffgmPx+PzucfjwcqVKzFx4kQolUocOHBA9saONUgAEx/KmQ+UMx8oZxk5dUDsdYtVACs+E2UyEOGczTtSjq4UN5aOhVF7G0oV98kCbN/1NPKqlgYVwPVN61HWUxawGo/Hg/zqT7G1cFFwAaz8EJt3LsTuhvUASADlJuhG0E8//TQUCgWUSiUuv/xy3HfffXj00Udx33334fLLL4dSqYRCocDChQt5tXdMQQKY+FDOfKCc+UA5y0jLHrHXLVYBrPxclMlACFagOjP42bwjpWq1uH9fLAw0hhRAoelr5BUuwvaqT4IK4IaTG1DcVRywGqfbibyjH2N74VMhBXDrzkXYUbdajIMEUFZCngTy1ltvIS0tDQqFwq+kpaXhrbfe8usdHC+QACY+lDMfKGc+UM4ycrJA7HWLVQCPrBBlMhB2oyh2dZtDP6c6S7wvFvpPhDx1xNG0A1t3LkL+0Y+DCuCm5k3Y0x74vewuO7Ye/hfyC58OKYB5hU9hW+2XcHvcJIAyE9ZRcCqVCllZWXjhhRfw+OOP44UXXkB2djbUarXc7RvTkAAmPpQzHyhnPlDOMtKYL8pZrAJ4dJW4714grLrho9m2hH7OyFBxLB0wvbUhewCtjduRW7gIXx/5KKgA5rbkYufpnQGrsQgW5Fa8h4Ldz4YUwPzCp5FXsxyCSyABlBk6CzgGSAATH8qZD5QzHyhnGRm1PUtMAlj1FVCfF7gOi0bsIWzIC/2cY+uAmrWAK/hOHUHpqQ65DYy5MQ+bChdh5+H/DSqAW1u3Iv9UfsARQaPDiE2lb6Nwz5KQArij8BnkVi2DzWkjAZQZEsAYIAFMfChnPlDOfKCcZaRuszjsGqsABhu6NQ2KcwQbt4d+zvEN4nYxgi36d+o8HHII2NCwFRsKF6Gw4p9BBXB723Zsa90Gp9tfSPV2PXJK3sDuPS+GFMCdu57FpiP/C7NgJgGUGRLAGCABTHwoZz5QznygnGXC4xGHW2vWxC6AI0O3brd/PWEezYbmQqBuk9ib6DBH/17tpeKq5CD16OpzkbNrEXaXvx9UAPNP5WNry1bYXXa/atRWNdYV/wV7970cUgB37VqMDYf/Cb1dTwIoMwwApk2bhmnTpuFXv/qV94ORa+GWq6666ry9xPmCBDDxoZz5QDnzgXKWCZdzeH++dbELoHfoNsDPSNcV1tFsaC4ETmwBjq4GbPro32vU1jZSRV2/Get2PYW9Zf8TVAALThcgtzkXFsHiV82gZRBr9r+MoqJXQwrgnt3PYX3le9DatCSAMsMAeFf1/uhHP/J+EGjVb7CiVCrP20ucL0gAEx/KmQ+UMx8oZ5k4Z3++mAQw2NCttj2so9nQXCjOIzzypThvMFpGbW0jVYZObMTaXU+jqPSdoAJYeKYQm05ugtFh9Kum39yPrH0v4MD+v4YUwH27l2Bd+TtQWVUkgDLDAODgwYM4ePAgjh49uzv5yLVIyniDBDDxoZz5QDnzgXKWCcEqzt0b3p8vJgEMNnSrPhXWyRxoLhTnCR7+AjANRf9eo7a2kSr9dTnI3v009pe8FVQAd5/ZjZyTOdDZdH7VdBu7kbl3MYqLXw8pgPv3voTsQ29gwDxAAigzNAcwBkgAEx/KmQ+UMx8oZ5mwm0Rpq9sUuwCeyJUeuh1qCV8Am3aI8/eM/dG/V8M279Y2UqW3bj0ydz+N4oNvorjzgKQA7m3fi3WN66C2+m8P16E7jaw9z6D44BshBbB43yvILHkNvaZeEkCZIQGMARLAxIdy5gPlzAfKWSZsBlHaTuTGLoD1eeJef4GGbgebwhfAkwXiCl59d/TvdSJXPHkkSD1dx9cic/ezorx1FEkKYFFHEdY0rsGgZdCvmtPq5mGJ/HtoASx6FdkHXkWXoYsEUGZIAGOABDDxoZz5QDnzgXKWCat2eIPmrbELYMPw0K1Z5V9P/4nwBbC5UJwvqO2I/r2O54jzEYPU0VGbjaw9i1Fc/DcUt++VFMADnQeQ1ZCFPlOfXzVtQ/XI2vUUikveCi2A+/+CrP0voV3fTgIoMwwAsrOz41LGGySAiQ/lzAfKmQ+Us0yY1T4bNMckgI07gIrlgYduwziZw6eULxXnDUaD2z28snlt0DpO12Yhc+9zKD7wGorP7A46DzCzIRPdRv8eyeb+Y8jatRDFh94OLYAH/oqsfS/glO4UCaDMeFcBK5XKmMt4gwQw8aGc+UA584FylgnTkM8GzTEJ4MkCca8/fY9/PT3VITdm9hNAVWt07+QShlc2rw9ax6ljmcjatwTFB/6C4tOFQQUwqz4LHQb/HsmGnsPILFyI4kP/CEMAX0fm3ufQrGkmAZQZBgCzZ8/GnXfeGbBMmDABCoUCKSkpmDZtGm655RZMmzYNKSkpUCgUSE1N9d473iABTHwoZz5QznygnGXC2C/22jXtiF0AR8RN1+lfT0eFKIeRPGewKbp3Emzi8O/xDaOGp7eJZxWfLPBeazm2GplFz6O46M8oPlUQXAAbsnBaf9qvqrquUmQVPonisndDC2Dx35C5ZzGaVI0kgDIjOQfQ4/Hg/vvvR1paGt59912/kAwGA959912kp6fjgQceiGujNBoNLr74YjDG8MMf/jDovdnZ2Zg5cybS09ORkZGBuXPnory8POh3ysvLMXfuXGRkZCA9PR0zZ85EVlZWxO0kAUx8KGc+UM58oJxlQt8zfEJHQXwEsGwpoPEXJZwuCbkxs58A9tdH904OM1CV6V3ZjPotwD+vAd6YBKz6pbeOkzWrkFX0AoqLXkVx246QAtiq9e+RrDpThDU7n0Rx+XuhBfDgG8ja8yzqB46TAMqMpAB+/PHHUCqV2L59e9AH5OfnQ6lUYunSpXFr1MMPPwyFQhFSAJcsWQLGGC644ALMnz8fc+bMQXJyMpKSkpCXF/iw7by8PCQlJUGhUGD27Nn43e9+hylTpoAxhiVLlkTUThLAxIdy5gPlzAfKWSZ0XT4bNMfeA7gMULX519O6DzgcfGNmPwHsrY3unWwGcQuY4ZXN2Pu6KH8jZfjUk4bqL5FV9CKK972M4pbtIQWwWdPsV1VF206s2/kEisvfD0MA30T27qdxrPcwCaDMSArgDTfcgCuvvDKsh1x55ZW44YYb4tKgoqIiMMawYMGCoAK4f/9+MMYwdepUtLae/T+OiooKTJgwAZMnT4ZWq/X5jlarxeTJk8EYw9atW73XBwYGcPXVV4MxhgMHDoTdVhLAxIdy5gPlzAfKWSbOOaEjLkPAgyf962kuDLkxs59I9lRH907nrGxG/tO+Ajg8F/FE9RfI2v8Sive+hOKWvJAC2KBu8KuqpDkPOQVPoLjig9ACeOgtrN39DI50lpAAyoykAKanp+Pmm28O6yEzZ87Et771rZgbY7VacfXVV+O6665Da2trUAGcN28eGGP46KOP/D579tlnwRjDhx9+6HP9gw8+AGMM8+fP9/tOXl4eGGO49957w24vCWDiQznzgXLmA+UsE+ec0BEXARzwF6VwNmb2KRWfivMGo8G7snmb+KzND/sK4P53gOZC1Bz9DGsOvILiPS+g+GRuSAE8Pnjcr6qixg3YuPPJ0PJX+SGKD72DnN1Po/TMHhJAmZEUwIyMDEyePBl2uz3oA2w2GyZNmoSMjIyYG/PKK69AoVCgpKQE7e3tkgJos9mQmpoKxhi6u/2XnB86dAiMMcyePdvn+qxZs8AYw9q1a/2+43A4MHHiREycOBE2W4AzGgNAApj4UM58oJz5QDnLhKotzgK4DOir868njI2ZfUrl5+K8wWgwDfqsbMba3/kKYOHLQHMhjhxZirXFfxEFsGlTUAFc07gGVf1VflXtPpGNzTsXhieApe9iw66ncaBtBwmgzEgK4Ny5c6FUKrFw4cKgD1i0aBEUCgXmzZsXU0Pq6uqQnJyMxx57DACCCmBtbS0YY7j44osDPstsNoMx5ielI3P9GhsbA35vxowZYIzh+HH//4MJBAlg4kM584Fy5gPlLBNDzZEJ4MmdwKb/Aj6/DSj5Z+AewJ4a3zo8HqA2R9yaJVwBPLxCnDcYDYY+8Si54ZXNWH23rwDmPQk0F6Ls8MdYf/CvogA2bggqgOua1qGi179HckftSmzZuSg8ASz7H2ze/Qz2NG8lAZQZSQEsLS1FUlISlEolpk+fjpUrV6KyshJnzpxBZWUlVq1ahenTp0OpVCIpKQmlpaVRN8LtduPmm2/GRRddBLVaPEcwmADm5+eDMYYbb7xR8pkjsmc0GoH/z955h8dVXG18JQj254DAIXQSCBCHTogDhtADhB4IoYSShBoCAWywcceybMtFxZblKsvSrtqqSytptVq1vWqrVe+r3iWrWJLVqyW93x+jvXdnm1Zt8cJ9n2eeB829d2buucL++cycc8B9bFMf/LXXXoNAIEB0dLRZ6+YB0PrF29ky4u1sGfF2XiJ1qOcGgLKNHEgduJlKq8J6AJtz6DmmJmcSM/ubD4Ca84LzUV8LWYdmbcf/RANg4DtApQypKleIU7YTACwTmwRAcYUYqc20R3JqegqR+ccRIfufeQCo3I/QuC8hVYt5AFximSwFJxKJsHz5cqOJojV5AL28vBa0CDc3NwgEAgiFQrbPFAAGBARAIBDgkUceMTrmDTfcAIFAgLY2UpbmzJkzLACeP3/e4DPvvfceBAIBxGKxwetjY2Po7+9nW0tLCwQCAbq7uzExMbGobXh4GBKJBMPDw4s+Nt94O/N2/nE23s5L1FqKMJF+BBPqWEyoYzFcIiV2LpGyfdpt6hgNUxMFgfQ9GccxUZtOzzEyhIlcX0zkiw2OabBle2OiJHJ+73S2jnqn6UP3UGue8n4JE+pYJKa7ICjFHgr5RiiK/aFoUBhtQWVBSKxLpH8nR4cRkX0Ukti1UChdZ2/pLoiQfQ1JkQhDQ0NL9vvc3d3NA+BsN1RWVuLjjz/G9ddfDxsbG7Zdf/31+Pjjj1FRYSCSaQ5qbm7GpZdeqndezxQA+vv7QyAQ4NFHHzU67vXXX08BYGtr66wA+O6775oEQHt7e3YM7SYWiyGRSPjGN77xjW8/8SYL9cW0/eUUTCUFHf/B1zVbG95zM7XmDpdHf/A1LWUTi8U8AM7l5v7+frS2ti6qwV5++WVccsklKC8vp/ovxC1g3gP442u8nXk7/5gab+clak25ZnsAz0d/S2+l2tvhfIorfZ/qFCbK5fQcgz3Eo1cUQt9bFEbuLzPgbdR4DMfH5/5O7ZW0B3DXVdSap93uw4Q6FjFpexGa4kA8gIVCkx7A8PJwRFVFUfP0DfchONMVUtk35nkAla6Iil2LsHwP9A32LdnvM+8BnCMALskCBAJcccUVeOKJJ6i2Zs0aNsmzpm9wcBCA+UEgV1xxBdWvyQHIB4Hw0oi3s2XE29ky4u28RGrJpWr0mjwDeOIRPQBE0i79s3sVUnoO3bx8lTISFLJ/xjMnfFl/Ls2ZwUnDu1omdbaKO9dYJtFf84GbMV0Ri6i03QhP20nOABZ5mTwDGFEdgciaSExOTbLT9I31ITBzP2Rxa807A6hygTTuK4TmH0P/cP+S/T7zZwDnAICNjY2Qy+UICQmBXC5HU5OBOobzWYCBLVVjrbe3FwDJF2hOGpjHH3+c6jeVBmZiYgLLly/HsmXL+DQwPyHxdraMeDtbRrydl0iNmSRidjYALA4Cdl6hD1OxG+j7cr2BUp1qVUNdQNZJLi9fpQyQansTL+eqdmgDYr4Pqes7V3WWcwBY4Ke/ZocrMVkeg8g0B0SmORAALPA0CYBRNVEIrwrHxCT3+3du9BwCMnYjXv6t2QAoi1uLoFx3nBs6xwPgEmpWAAwLC8Pdd99tMAjknnvuMVpybaEytQUMkDQ1syWCdnJyovoPHDgwayLouaSz4QHQ+sXb2TLi7WwZ8XZeItWlAqrjswNg7AZ9kLK3AyI+o+/LEwHFIfQcAx1kDnUUd1/oR/Q42TpVQoqDST3f8aG5v1N7CQeAqhMG1z1RHITwtJ2ISt8FJmEDmLwTJgEwujYaoVWhGDk/wk7TNdIF/zR7JCZsMBsA5XFrIc4+iK7BLh4Al1AmAXDHjh1stK+NjQ0uvvhiXHvttbj44ovZPltbW9jb2y/6wmYDwMTERKOl4JYtWwY7Ozv09PRQz/T09MDOzk6vFFxnZydbCi4pKcnsNfIAaP3i7WwZ8Xa2jHg7L5Fqkol3bjYAPPGYYQAMfJe+L9+XeO+mp7k5+s+Qyh7lWilj/N+gx9HNKVgSCuR4kbq+c9WZQg4AU5wMrnss5xTCUu0Rnb6H1ALOOWoSAGPrYhFcGYzB8UF2mo6hDvikbENy4iazATBB/g38s5zQPtDOA+ASyigApqSksJD37rvvori4GJOTZF9/cnISJSUleO+991hvYGrqPLORG9FsAAgAa9euhUAgwIoVK/Dqq6/ihRdewMUXXwxbW1uEhYUZfCYsLIyF2ieffBJvvPEGGzDy9ddfz2mNPABav3g7W0a8nS0j3s5LpKp4UjbNFAAWhwA7VxoGQNFfjZzd0/pOvU1UvWGDyZnl2+jrpRHEKzjcY3ztxtSaz82XsMPgukdTnRGaag9phiOYxM1gst1MAmBcfRwCKwLRN9bHTnNm8AyEio1gkreYDYBJ8m/gq9qHM/1neABcQhkFwNdffx22trZ626i6cnZ2ho2NDd54441FXZg5AAgAQqEQq1evxooVK3D55ZfjueeemzUpdUZGBp5//nlcccUVWLFiBVavXg1vb+85r5EHQOsXb2fLiLezZcTbeYlUIeWSLhsDwNjvdM7QacHgqadmP7vXU08lmybJmR+mx5T8j75eJiGeyaGuub9TUzYX2BLzjUEAHInfjuCU7yHL2AsmaQsYlatJAIxviEdAeQB6RjkgbR5ohihpAxjFVrMBUCH/FkLlbrT0tvAAuIQyCoDXXXcdrrrqKkxru6gNaGpqCr/85S9x3XXXLfriLnTxAGj94u1sGfF2tox4Oy+RyiKBXC/TAHhSa/vX8TrguFY08JHVs5/d667VB8CDd9NQFvQefb08Gsg8Dgy0z/2dGjK4wJbwTw0C4HD01whM2Q65ch+Y5K1glAdMAmBiYyL81H7oGuGAtKGvAaKEb8EotpsNgEz8egjTHdBwroEHwCWUUQC85JJLsGbNGrMGWbNmDS655JJFW5S1iAdA6xdvZ8uIt7NlxNt5iVQaDuQJjQNgic72r+ivgPAl7meXVbOf3dOpN4xKGbD/JhrKdFPBVEiJF69PPxvGrKpLIcEflTJA/LZhAAz5NwJStiFeuR+MYhuY9L0mATC5KRk+ah+0D3FAWnuuBqL4r8EwO8wHwITvIErbgbqeOh4Al1BGAfCqq67CDTfcYNYgN9xwg9GcfD9m8QBo/eLtbBnxdraMrNbObUXA2MAPvQrjKgoikbvGAFC79q+9HaBwBMT/oD2C1Nm9cP2zezr1hlERS28j29sBJx7VzwWY4Q6ca5z7O1UncucatWFVewvY72/wZ7YiQXkAjOJ7MKm7TAIg08xAWCpE62ArO01VdwWE8q/ApNhTkFcc/V+0ej2N/Lh1+gCYuBGilO2o7qrmAXAJZRQAn3vuOdja2iIkJMTYLQCAoKAg2NjY4Pnnn1/0xV3o4gHQ+sXb2TLi7WwZWaWdJyfIFmt37Q+9EsOanp45s+drHAA9nuDAac91gDpaZ1v1cqA8xvTZvbZiGgBLQvWh7NDd+gCodJ+f7Spl3LlG7fVrB4Gcfga+zGYkZToRD17KTjCNySYBUFQmQnN/MztNeWcRRPIvwaQ4sICXqdiOqZl8iRN7rkFauiMNgEmbIVRsQfnZch4Al1BGATAsLAw2NjZYsWIF9u7dy5ZU02hwcBCOjo5YsWIFbG1tqbQqPxXxAGj94u1sGfF2toys0s7jwyQitq34h16JYU2e56J2DQFgSSjtqRO9bCCJsx3xImqgTa05u9eBvuEJjJ2fBM4U0ACY660PZXt/ZRgAu6pnfw9dqaO4c43ufzCcBubYgxApNkOR6Uw8eIw9mMZE0wBYKkJ9Xz07TWlbLkRxXxDv4QzgqcP/Tc1TEPsVDYDJWyBK3oiyzjIeAJdQJvMAvvfee2yuv+XLl2PVqlV4/PHHsWrVKixfvpxNp/L+++9bar0XlHgAtH7xdraMeDtbRlZp59E+ch6uwXT2hh9M58e4vH2GADBuMw1OyXvIfYn2xpM4l0tJzr++VigqOlDTOQA051Dl5pDhZgDKdDyJGgDsLJ/7e5WGE8islAHOqwwngna9A0LFTP6+VAcwzPdg6uNn9QDW9nIeycKWDPjEfQEmbTcLeDXiv1PzqMP/TQOgYhtESetR0l7CA+ASyiQATk9Pw9HREStXrmRzAmq3lStXYt++fbNGCv9YxQOg9Yu3s2XE29kysko7a0qgqaN+6JUY1sQICQDR8uBRAOjxpNb277VcJY80Fxqo0lz1zu5Nn2tEZEErSlv7gAYlVW4OybsN5xQsDNAHwPbSub+X9rlGx+sMzjW571cQKTYTKEvbTSJ56+NMnwEsE6Kyp5KdJqdBAT/ZF2C0tnmbhXR+wzr/V3UA8Hv4JH6D/DP5PAAuocyqBTwyMoKEhAS4u7tjz549cHd3R0JCAkZGRmZ/+EcsHgCtX7ydLSPezpaRVdq5v414wwr8yXbrhaaxQeIpKw7RB8DCUMDhF1pRui9xYJbtQQNVkoMeAI6drUVQTjOy6rqBWoaLyjWUV1DTtCFRA4BnCuf2TlNTBCTzfYlHkcpfeCX739M7r4AoeeMMAO4hufxqY2cNAlF3q9mpMmplCIj7AkzGXhbwOk7+iZrzzOmnaABkdsAv/htktah4AFxCmQWAvAyLB0DrF29ny4i3s2VklXY+1whkHAZyTpPt4AtNo/1ki7okVA8Az8t0t39308meta/FbtADt8Ez5fDPakRieYdetRFE/NcwACocdcY5ArTmze2dJieAfD8C3UVB9Pg6uQcD42eidNNnkkHXxsx6BrC0i/NIMlUSBMq+AKPczwLeucP3UnN0H7mfBsAUewQkrENaQwoPgEuoBQFgb2/vYq3DKsUDoPWLt7NlxNvZMrJKO3fXAuluxAvYf+aHXo2+Rs6R83ul4XoAOOXxlNb27zXc9q8mSbM2WEV8pgduvY0lECrrEVnQiumKGKraCALfNQyAso30OJlHgSbV3N5pYpRUIikUkzm1x9cpPxch/Q+Bsox9YBI3gamOMgmAPmU+yO/IZ6dKKA9GsOwLkkR6BvCGnG6h5hhyukUHAB0QmLAOTG0CD4BLKKMAWFtbCw8PD2RmZlL9k5OT2LRpEy677DLY2tpi1apVSEtLW/KFXojiAdD6xdvZMuLtbBlZpZ07y8k2ptId6Kr5oVejr6Fu4pkri6AAUBoeiGmt7VIIX9SP0N1zLXc98B09D+DZ2nx4ptUhKKcZ48VhXFBGpYxEExsCwPD/0OOoTgB1qXN7p/EhUomkOAhIP0SPH/oh9bMs4l8EypT7wSRuBFMVaRIA/dR+yGrLYqeKLfVDaOznYDKdWcCb2H01fdZw15XUdSZtF4Lj1yG+KoYHwCWUUQD87rvvYGtri7CwMKp///79esEgl112GZqampZ8sReaeAC0fvF2tox4O1tGVmlnTf67jCNzP8tmCQ12EshSSygAzPPWSf6ctEsfAJ1/y10XvaIHgGcqsnCCqYGvqgHDuWIq2bSx3HwIeIseJ8uDJHWei8YGSAqYkhCybu3x47dTPyuC35gBQCcwCRvAVIabBMCA8gCkt5KI7unpaUQVeSFc9gULd6kZ+w2+V7pWmhgmbTdCE9ZCWh7OA+ASyigAPvTQQ1i2bBnGxsbYvunpaVx77bWwtbWFm5sbioqK8MYbb8DGxgbr1q2zyIIvJPEAaP3i7WwZ8Xa2jKzSzq155Byb6jgpT3ahaaCdBF6UR1MA2HZQa/t39zUUILLN/X7uHo8n9baAm0ozcFxRA6+0WvSrfKhk09Szulu02uNoto3nopHemW3tMP0qJqoT1M+Z/i8TKMt0BhO/HkxFqEkADKwIRHJTMgDg/NR5RBZ4QCL7Hwt3qmQOMCe05smVr+cAMN0R4fK1kJSIeQBcQhkFwBtvvBE333wz1ZebmwsbGxs8++yzbF9vby+WL1+Ou+66a+lWeYGKB0DrF29ny4i3s2VklXZuSCeAlesFlEb80KvRV18rOWdXIeUAsCgMkzu1tn+9X9CHP10vnvtqPQCszVfgVGotTjEV6E7zopJNw/k2wwB4dA09Tq4XqaQyFw33cNvakZ/T45dFAjsvZ38uFD7NgVn8ejDlwSYBMLgyGPEN8QCAsckxhOcfR5TsS3aMfNlaTNvb4dujv8EfvO/CgcO/BuztUCr5hJsnYy8i49cissSfB8AllFEAXLZsGdasWUP1ubm5wcZH80y6AAAgAElEQVTGBm5ublT/3XffjUsvvXRpVngBiwdA6xdvZ8uIt7NlZJV21tSk1aQlOT/+Q6+IVm8TqberBV3n47bS0JS40zAACrXO8Tmv0gneOIYKVRw8U+vgpVCjnfGgkk1j9zWGAdDld/Q4eUISoTwXDZ7ltrWD3tfyZF5Fxtz7K7avwuMRGgDVYpMAGFoVCmmdFAAwPDGM0Fx3SOM4ACyVfIKcfVfhbtHdbGvZvRLVgW9y8yj3I0q+FuFFQh4Al1BGAfDSSy/FHXfcQfW9/fbbsLW1RW5uLtW/Zs0aLF++fGlWeAGLB0DrF29ny4i3s2VklXZWR5EUMKVhZFty5NwPvSJa5xroEm2VMkydekYLmq4mtX0NAaD4Ha0o4ev0gjeKUiUQZtTDS1GK1sRjQHEwuaaOoqFvpm4uG22sPY6mSslcCjJob2v7vsaNfeAWMubBu9i+xqN/YMFMIf8W6+Sf4NnQZ7E3a69BAIyojkBUbRSmpqcwOD6I4OxDiI37mh2jKvhthLhcRwGgcv/VaBb+RQsAnSCVr0VogRcPgEsoowB4zz334Gc/+xm6ukix6vHxcfziF7/ApZdeisnJSereW265BTfeeOPSrvQCFA+A1i/ezpYRb2fLyCrtXBxCgh/KpeQsYF/LD70iWt21NACWRmB6l9b2r9fzhuGvUkYidrVBTruMW7YHchIC4adqhK+iGHWyw1yuwQJ/+jnXO3W2abWAU1OneC5JtPtaia0rpIDn09y4bveSMY89zPZ1HLqDBTOvmI9YaLvf935I66R6ACipkSCiOgITUxPoG+uDOMsZ8ri17BgNvi/h2KFfUQAY4Xwdzh5fwwFgpjNi475GcL4HD4BLKKMAuGnTJtjY2OCZZ55BdHQ03n//fdja2uKtt96i7uvt7YWtrS0efvjhJV/shSYeAK1fvJ0tI97OlpHV2XlqkgOYmchYnK36oVdFq6uaBsCEHTrbv/bGAVD6LX1vUSB7bTr7FJQxPgjKbkJQShHUEldyBrJSRgJiqMCP5+iftaOFC8Ukp9/5sdnehFNvE/dOR9dw4x5/hPRpzdd34GYWzHZFvEmBm7BUqAeA0bXRCKsKw9jkGLpHuuGv2o8E+Tp2jDbPJ2B/5GZqnJOHbkS/6+1ULkB53FqIc4/xALiEMgqA3d3duPHGG2FjYwNbW1vY2NhgxYoVKC2law76+PjAxsYGGzduXPLFXmjiAdD6xdvZMuLtbBlZnZ0nRgnMaMAowx04U/BDr4rW2UoaALXy5E3vvIIETRgDwMSdNLhln+ICSbI8kR51GmF5LYhIK0RR2H5Ml86MlXKAfi7sE/rnjMPcHMXBJKff+JD579RTz73TwTtp0KyUkVQzM32je65hoey7sFcpcDuUd0gPAKV1UoRWhmJ4Yhhnh8/CV7kHSfJv2DG6j67G58dvpcZxcL8J447XUQCYIF8H/2x3HgCXUCYrgbS1tWHdunV4/vnn8dlnn6G8vFzvnv/85z/4/e9/j9TUOSai/BGIB0DrF29ny4i3s2VkdXYe7efy0WmSGtck/9CrotWhpgHQ/w0OAPf9yjj8VcqANFca3NJc2WsjqtNIDz8GSUErpBkFyAtyxHjJzNaufBv9nG6uPu26wiWhpFTd6Bz+HtLe1t73a25c/zdIX9jH3Dva24HJdAKjcsFnIc9T4GavtNcDQFm9DEEVQegf70f7UDtEafZIjt/Agt2A6+/wd49V1Dj/O34rYG+H1Ix97H1J8m/gqzrIA+ASiq8FvADxAGj94u1sGfF2toyszs7a6UgqZaQSxlwjWpda7SU0AGqVSpt2vdM0AGafMhotPJDphbSQw5AWtSIhMx85YgcMFc0AYNRX9HO53vTPMd9QZxKR7Ulsaa7OVpF3qogFHFZy44Z+aHDrOiPVAYzKBe8G/pkCt3WKdXoAKG+QQ1wuRu9oL1oGWiBM2UYqiMyA3dje6/G41x3UOG96rALs7ZCVuJkKOBEpXXgAXELxALgA8QBo/eLtbBnxdraMrM7OA+1A5nFAHU2fZ5sY/aFXxulMIQ2Ax7kAiamjD5kGwEIxDW7S9ey1c0ohUoIOIaG4BSmqHGT526O3YAYAQz7gnnFYSQJktCOBNaBWKSMBIVkngaEu899JU36vNIxeX9RXBreusxMIwL0S8CgFbh/EfaAHgAkNCfBX+6NrpAtN/U0QMVvAJM2AXaYTxnZeTo1xt+huPO51B2Bvh6KYz6mUM0KlEw+ASygeABcgHgCtX7ydLSPezpaR1dm5t5nzRLHerFNz82Zpqai5F73Di5xHsDWfBsCDd3MA6PmsaQAsj6YBS6uO79kMIZhAFySXNCEjOweZvjtxNnfmDKDf69wz+28ifftv4vr8XqfnyDxOYNpctZeSd8oT0euTbyVjph+k+gulpJLHE34PUOD2N8nf9AAwqTEJvmpfdAx1oK6vDkLFRjDJW8CoXJCRshNndq/UA8C7RXdj3N4OlSHvUgAoytjPA+ASSgAAH374IT788ENs3bqVvaDpM7d99NFHP9hL/FDiAdD6xdvZMuLtbBlZnZ11U6xUzKSC6W2e81ATk1OQFp9BfdccgiHMUXMOWZNmjVogNun7umkArJSR/H8amBK/w/a3p4mQKnZCcnE9lFkqZPraozUrnFw//Sz3zKG7SZ/bfVzfqT/r26yv1fx3aisitZeVR2gAVOwlY+acpvrLIj6EItMZf/C5j4K2p4Kf0gNARZMCojIR2gbbUHOuBqLE9WAU28CoXJAbvwGFe39pEABbd69Eg+9LNACm7+MBcAklAAAbGxvY2NhQiZ+1o3/Naba2tj/YS/xQ4gHQ+sXb2TLi7WwZWZ2ddSNsNalgOivmPFT/6ASCc5tR2T6wuGtszCRJkytlemfmJoM/mB0AnVdxMCV8me1vSvFBmng/FEW1yMzMQKbfTjRkzOQBPKadmuVPpM/jCa7P/Q/6NjvXaP47abyazD4aADWgWxJK9VcHvYU45T49aLvf934omhR6ECgsFaJ5oBmVPZUQJqwDo/gejMoFxdH/RfyBawwCYMHeX6Ld41EaAFP38AC4hBIAwM6dO7Fz504cPXqUvaDpm0v7qYkHQOsXb2fLiLezZWR1dtYNsNDATEvenIfqHBiFSNmAkpa+xV1jXSrJy1cpA0roM3OTkq9mB0D31dwzHk+w/bUKH6QH7ANTUIlMZSqy/OxRwQSR664GUrP4/JXrc7pF32Y9dea/k8arKdcpaZcnZEF3Wgt0G3xfQkjqDoPgFlsXqweAojIRGvsboe4qgzD+azDMDjAqF1SEvg8/1xsMjhPndC163e7hADDhO4hSd/EAuITizwAuQDwAWr94O1tGvJ0tI6uzs+75ukoZkOVB6gPPUU3dwziZWgtVXffirrEmiQRZaKKUtYDpfNzW2QHQ4wmDnruyBB+oxHuRkl+OrAwFcgMckJ8QQK5r1eKF/5ukL/hfWoEhV3LnJjUA2FVt/js1KIlXM/prGgBLw9gxp7TSw7Sefgqnk78zCG4B5QEGAbCutw7F7QUQxX8FJsUejMoFdf6vwtXt1wbH8XG9ASP7f80BYOJGiFLseQBcQvEAuADxAGj94u1sGfF2toyszs7a26ualici5eHmUtsWQFXHANyTqpFU3rG4a6yScwmcMw7TAKjYPzsAil7mnnH+LdufHydCdqAjUvNKkZWeiILAXVDG+mK6PIaO+A37mDyjC2uasnHz2TavSyE5F7WSWmPnSgoqzx/i6gGfPf4gDiV8aRDcjhceN7gFXH2uGrmtmfCVfwUmhaSRafF6BpuO/sbgOE6Hf42pnVewOQeZpM0QKbbzALiE4gFwAeIB0PrF29ky4u1sGVmdnbW9a5pWFEi2IseH5zRUUXMvXBMqEV10ZnHXWCEFcjzJ2pJ3UxA2kXFsdgAMfId7Zs+1QKUM0xWxUEpFKAjajbTcImSnylAUvBupMT4YLwjSyfm3joyjW4JOsyYNALaXzv4uGlUnEk+rVlJr6CS1Hj/2EHut1+0uOMg+Nghue7P26gNgmRAVPRVQNSngL/8KTNouMCoXdB5fgw9P3GZwnA1HfwPY2yFzZruYSd4CXx4Al1SzAmB/fz9cXV3x1FNP4ZprrsGKFStwzTXX4KmnnoKrq+tP2ng8AFq/eDtbRrydLSOrs7M2XGlaWcTc89oBSKs+i4MJVQjNa8bk1Ny8hyZVFkmqlVTKgNjvaADM9ZsdACM+o8GtPBoTainSYnxRFLQL6Tn5yGWiUBq6DwqJEMMZJ+n7E3aQcXSriqQ60wDYVmT+O1XGkeTRXs9z4+kktR7VikQedvoNNsS8ZxDcNqZuNLgFXNZVhtQ6OcTyL8Gk7QajckHfobvw8qnfGRznXydvA+ztkC9bSwBQsRX+SVt4AFxCmQRApVKJG264wWg0sK2tLa6//nqkp6dbar0XlHgAtH7xdraMeDtbRlZn55JQLvCATWsSSwIU5hLVCiC2uA0nmFqIs5owMj65iGsM49YY8V8aADWl20w16Xoa3ArFGC6JBhMlQknIbmRk5yA/ORxlEQcQH+GN/sQDhkEv14vuj9/OzZHhDrTOIXBGHU1SvZx4hBvv6IPUuof8/sa9556r8Z/I1w2C22cJnxkEwMLOQiRVSxAU9xWYdEcwKhcMH7gJD3jfaXCc5zxvB+ztoA7/YAYAt0OcuJkHwCWUUQCsqanBpZdeChsbG6xcuRIbNmyASCSCXC6Hj48PvvvuO/ziF7+AjY0NLr30UlRXz+EA6o9EPABav3g7W0a8nS0jq7Lz1BRQGADk++pDk9KdVKswU+cnpxCa1wwfZQN8MxvQN7yI718URM4lVsqAwHc5KHK4GhPq2NkBUKeqBrI90F8UhaRIIcpC9yAjKwsFiYEoj3JBXLg3+mK20/dneZBxSsPpfsmX3ByZR4GmLPPfqTSCBLRo5xb0fJpad3/IP6n53gl93iC4vR3zth4A+qp9kdOeA3llKELkX4HJ2Acm0xl9u+kcgH/0vZ9LKSO8C9P2dqgLeI0AILMDwYmbeABcQhkFwPfffx82NjZ44YUXMDBgOK/S4OAgXnzxRdjY2OD9999fskVeqOIB0PrF29ky4u1sGVmVnc+PEfgrFBsAwCNAU7bZQw2OnUdAViPC8lrglV6HzoFFKiWnC6miV1ggGnK8zTwA1N26TXNBT74E8eHeqAhzhFKVgcJ4P5RHHYQ83AvnQnWCPTT2qYgFdl3F9Qe9z82hOk7S1Zir4hACtU63cOP5vEqtu0fyObWOl8WPGQTA58Oe1wPAgPIAZLRmIKbMH2FxX4JR7kdauiPq9vyCriQS/Az1c4/DFWg9/WcCgCn2CEnYyAPgEsooAF577bVYvnw5urtNh9R3dXVh2bJluPbaaxd9cRe6eAC0fvF2tox4O8+u85NTCx7Dquw8Nki2NYtD9KEp24OcUzNTXYNjECrrEVvcBo/UWjT3zC2AxKgmzwMF/qTppHQ5d+D35gFgticNdIn26MyNgDzcC5URe5GZmYbiOG+oow9DHu6FHr8P6PvLo7mxnG/j+kVcUmlkeZCAGnM0PT1Tc9kX2H21YaCslKFTtoFaxxN+fzQIgA8FPKQHgOIKMZhmBpElQkTEfQlG6YSspC1Q7buKenZd9D+onyscr0T30T/MAKADwhN4D+BSyigALl++HKtXrzZrkNWrV2P58uWLtihrEQ+A1i/ezpYRb2fTGp2YRKK6A30jC7OPVdl5uIfAUWmEPjTl+5Bo4CnzoLi5ZxgeqbVIKGvHqdRa1J4dXJw16nop3f/AAlG762PmAWCRTlSv9FucyQpnAVCVoUBJrAfUMe5IiBCi21OrDrDjdfRYR/7IXTvxGA2ZlTLz3kkDtblCel2Rn1NztSbbs9em7e1wv+geFtR+r1MSLqExgQLA4MpgxNXHIaLoNCSyL8FkOqMg9ktEOV9HPaebWiZ1/9UYdL6NAGDqLkTGEw/g2PjY4nxPLfEAaAIAb731Vtx5551mDXLnnXfi1ltvXbRFWYt4ALR+8Xa2jHg7m1Zn/yhC85oX7LmyKjsPdpKtS3WUPjQVBxFAGTevrm9N5wBOpdYhUd2BU6m1KG9bpD+Tx4dJAEhRkJ4Hrunwi+YBYHkMDVrhn6JRGToDgI7ITk9AqfQ4yqTHoJCI0H1Uqw6wyyp6LM9nuGuH7uH6c72IHc2RBmozj9Priv2Omqsx3Zm9NrDzcgrUXgz9C/VzaFUoBYChVaGIqY1BaMFJRMu+AqNygTriA3gevJF6LjxtJ/VzsMv1OL/rl2AyncGk7YYk4TtIJBIMjy6SR1dLPACaAMBvv/0Wtra2KC01nVuotLQUNjY2WL9+/aIv7kIXD4DWL97OlhFvZ9OqPTuIU6l1qGhf2J8lVmXnvhZy1q9Cqg9NZRKSqHiw06yhSlr64JFaywJgYdO5xVmj7jb1nmtYKKo+9rZ5AFgpI548DWiJ/4GatGDEh3ujMmIvclJjUSY9itLYE0iL9sG5g1z+PRz5Iz0Olbfv11x/npBEVJsjDdSmutAAmLSLmqs6hwPEep2ze5/J/k39fLrkNAWA4VXhiKqNQkj+MUjjCADWBL4Bx8M3cVvHvquRnOmMe7U8i0cOkQoo6Wm7waQ7InrGAzgwssj1ncEDIGACAPv7+7Fq1SrceuutUCqVBu9RKpW47bbb8Lvf/e4naUQeAK1fvJ0tI97OplXYdA4H4yuQvcAyZlZl5556/TJwmlYRO1Pftt6soZQ1XfBKr0eiugPe6fVQ1swth6BRjfYBOV4kFYw6igKmMo9PzAdAl1Xcs8KXUJociMRIISoj9yMvORzqGHeUyDyglPpi4ABXgQOn/kyPE/Yxd23n5UD5DDxrtqnNqZ4yNkCgNmkXDYDpB6m5KvI8cX6mHnCuztm9PambqJ9dcl0oAIysiURkdSQCcw9DFkfy+jWJnse6Y7ewz/wl8DEwKhc85r+G7fv+yM2AvR1y4jeAydgLaTzxAPYNL3J9Z/AACJgAQAcHB6xbtw6XXHIJbG1t8eCDD+Kjjz7C1q1b8fHHH2PNmjWwtbXFsmXLsG7dOjg4OBhsP2bxAGj94u1sGfF2NqCxQaC3GWgrQmGiGDH+7ojPX1g6Lauy89kq4wBYKSPXOsrMGkpe1g6/zEYkqjvgm9mA+LL2xVkje04xnJyb0wKmAq9vzAfAI6u5Zz2eQF68PxRRIlREOqEwIQDqKDeUyDyRHeePEcebjUbmGsopiEoZF6gyeX72dxrpJTkA4zbrpKehE3KX5Z3C4N7rAXs7yA9cQ9ftzTlI/bw9YzsFgFE1UQivCoc4+yDi5evAqFzQ7vEo3j35W/aZt0KfA6NywStBT3GexeO3AvZ2KIn6FIxyP2Ry4gHsHlrk+s7gARAwAYCaRM+Gkj8b6tNtmv4fs3gAtH7xdraMfvJ2npoif/H21AMteWSLM1cIKI9iMt0NBSH7oPTfhai0PIydn38SY6uyc0fZLAB4BGhSzTrM1NQ0wvKaEZTdhER1B8RZTYgsaF2cNQ51k4jkskiyJa0FTFk+O8wHQI8nuYCKw/dDGeuLtGgfVEhcUCQXojzqIIrjvJAX749Jh19qReb+kx5HpxQdVCdIvyaq97wZwRLDPaS2cZROuhnNOceZVpJ3El0uBMj8Xa+ngC+22Bt/1IoK/ir5KwoAY2pjEFoVCn+VExLk34BRuaDH/T48c/p29plPI/8GRuWC98NeYvteO0U8pdVBb4FRHoBcTjyAnWYeBZiLeAA0AYD//ve/8cEHHyy4/ZjFA6D1i7ezZfSTtvP5MbJVl+NFKjYo3Un5s6IgoDwGg8XRUEiEKAxyQHhiOnqGxuc9lVXZ+UwhsYcxaMr2JOcDZ9Hw+HmIs5oQkd+CRHUHQnObEZzbjIlFSKtDAlVOAGoJkEJX6EgNcDYfALXyB0473Ya0GF8opb4s+FVIXFAsF6JILtKJzP1C3yuqfZ3ZN/egmcGzpNRe6Ec66WZiqLnyc46h9fDdgL0dDrv9iosAFt0DRYkfngnlcvj9U/ZPCgBj62IRXBkMn8y9SJZ/C0blgn7n2/B74V1c7d+Y98CoXPBl1Jts38Ned5IAG+FzYDKdkBC3ARKJBO0Di+TR1RIPgGbUAuZlXDwAWr94O1tGP2k7958hlRqKgw0GPJzNjYR8JilwiCxhQZHAVmXnpizi5TMGTfm+JAnzlGmPaPfgGETKBkiLziBR3YHI/FYEZDViaMyM7dDZ1N8GZB4jufji6QodicEe5gOgVgWR6d3XgIkSQSXzgzr6EEpknqiIdEJRvA/KYo7SUBa3Wd8m2tdlm0h/SSg51zdqxt9FAx0kAjjgbW6cPdfprTk72x21xx8E7O2w48jNLKQ95vdHMCW+eCPqDbbvr5F/pQAwrj4OgRWBECp3QzEDgO17r6W8iLvjPgWjcsG22A+o/pGdl6PzxENgVC5IiiMewJa+loV/S91PywMgD4ALEQ+A1i/ezpbRT9rOHWWA8rBROGjODIN8JiI0TCpbUCSwVdm5LoXbwjTUikMI1IyZjgBt7R3BqdQ6xJe1I1HdAWnRGYiUDTi3AE8qq75WLlI5mt4ylYYFmA+AEZ9RzyaHeyJH7g91zGGUyjxQGbkfhfF+qIzcRwOewpEeRycQBRGfkf7ScOIxHe6Z/Z00/yARvsyN4/xbvTVnZLlBfZpsXf/v+K1cCpiAP4EpFuJj+cds3+NBj1MAGN8QD/9yf4jSHcDEr0eK8gDUjldSoHckkQSHOMd/QfU37v4F+g/eAUblAsXMGcDm3uaFf0tdM/AAyAPgQsQDoPWLt7Nl9JO2c02ySdCpYILYlCCS6IgFRQJblZ0127zGoEkdRfIEDnSYHIak0CEpYBLVHZCXtuN0eh06+hehHFxvE7dNHfoh58XbuRKSyEjzATCWrqrBBLmhID4AZTFHUSo9gaqIvShMCEBtyDYa8Ax5SKmUMm+TvjIJ2dYdMiP6ubeZvJPWuUS43683T6rKFQW+LwD2dnjbgwve+EfgU2CKvLCeWc/23edzH5KbklkATGpMgp/aD8K0HWASvkOm4nuk7L+aAj1fZgsYlQs8kzdQ/dn7rsLY3uspAGzoaVj4t9QRD4BaAOjg4AChUGjwpqamJnR2Gj+EuXXrVrz++uuLvrgLXTwAWr94O1tG1mjn85NTqOoYwOSUGak1jGlygkRnamrJ6rTpilhkx/mDiRKhQuKMxGgxYovb5j2dVdm5NALI9TYNThnuQHet6WFauRyAmuaRWoum7kVIHqydqsbv7xwA7vs1sbO5AJjkQIFdRsAeFCaKUSY9hjLpMVRG7EVhohiNAWtpAMwT6Y/legd33ev5GViOJtu6s8Ay9U7akcknH9ebJ0nphKwg8s5U8Ebwc2AKPbErcxcFbtG10SwAJjclw6fMByJmO5jETciL+wbBLnQgSVT6bjAqF4Sk7qDHcbqWnLHM2M8CYE13zcK/pY54ANQCQBsbGzz22GMGb7KxscHjjz9udJBHH330Rx/xa0g8AFq/eDtbRtZo586BUcQUn1lQUAYGz5IoUkPlziplGCuTIjXaB5mxviiPPgRltBeCcprnHQlsNXbWrkdrEgAPA+0lJofKruvG6bQ6CgBPpdahpnMRkgd313IAePovHAAevGtuAJh+kAK7bJ8tKEwUozT2JMpijqIywhGFiWK0ij6mAdDQ782xh7nrxx4ifRVSsq3bZ0b0s+adXH6nlZvwRb155Mp9SAv/JykDpxW8sT7sVTD5J+Fe4E579NS+1DawsEwIoWIzmKTNKJF8iqOHuECS+0T3IDnTGYzKBfHK/XRS6YM3kCjrpK0sAFZ1VS38W+qIB8A5AKCxawAPgDwAWq94O1tG1mjnms5B+Koa0No7Mv9BZsl111soQWKEEHlyf5TFHEVB1DGIMurnDZ1WY+fz41yQhylwyjwGNBguRKBRgroDPsoGPQAsO7MIyYO7qrnvd4yr0DF17KG5AWCOJwV2hV5foTBRjBLZKaijD6MynHgA2z3f4iDT4UqSEFt3LO/nubFcb+f6le7AuUbz38nxBv2tZK0Wm+GIpJjP0OdAl4HbGfkWmNxj8FX70mf6Co5QACgqE0GU/B2Y5K2oDH5HJ5DkAVLvd6at8VvNXtt7+CZiI+kXLACqO9UL/5Y64gGQB8AFiQdA6xdvZ8vIGu2c19CDY4qahXmSGjNNRrq2Z4cjLtyb8wZFu+O0Qj3vSGCrsfP4EElbUhw8CzidJhG4RjQ9PY3w/BY2B6A2AOY3LkI5uM4KDgAPchU6pk7/ZW4AWBxEAaD61McEAOM8oY46xAJg1/EXuTn232x4LPE/DEfvKo8APXXmvVOGG2B/OTdO2Cd6RxOi0nZDlvAt6nTKwB2M/heY7MOIqo2io3pVu/U8gKKk9WAU29Dg+zL+qxVI8nLQkxQA/iXwMfbaumO3APZ2qAh9jwXAkg7TXuD5iAdAHgAXJB4ArV+8nS0ja7RzbHEbDiZUoaRlnp6kqamZ9BzGz7nVZ4RAPgOAJXGnUR51CMLkIpS3ze/PFKux80jvTIWNMNPgVOBnssLF6MQkArObEJ7XQgGgd0Y90qrPLnydHWoOAPf9igWmSd+/zw0Ay6UUcNWceAeFiWIUx3mjPMqVPQPY6/44e8/5g/cYHiviv/Q2sVrCeQC7zKgk01FG8gdqjxGzjppjskKKyDQHRDHbkaNTBs4z9lMwKlckNyXjPp/7uK3hlPUUAHqXesMn8Rswiu9xxvNJvO6xir33vbCXKAB8K/Q59to7J38L2NuhwfdlHgCXWDwALkA8AFq/eDtbRtZm55FxAhZuiVXIqJknSIz0kjQmxSFGwaAoSYykSCEKE8UoivdBRaQT/JNykTXPSOAL0c7tQ+0YPa8TkatJRqyBF2OtJIQk0B41DOG9w+PwzWxAzEwOQE3zy2yEfDHKwbWXELCqiAV2XsEBYPCHcwPASksrlugAACAASURBVBngeD37fPOxv5JvLhehQuKCqpkzgIOuf2DvGTvyJ8Pj6JZwy/eZAcDZz0sCANqKgXh7eoyE76k5JsqjEZHmgKj0XYhxuZECwGD512CUB8A0M3hMy3P3SfwnFAB6FZ+GX8I6MMwOdB37Ix7zuoO99wvJGxQAfhr5N/ban0/fDtjboe3UY1DEb+YBcAnFA+ACxAOg9Yu3s2VkbXbu6B+FV3odSTBcfGZ+g/TUcznkDPxFPlkuhVLqi7QYXxQmilGY4I+qiL2IUKjmHQl8odl5YmoC0bXRUDQpMDyhta2tyUVXbtg2nOcsmpwD7Ddsj7a+EZxOq0N8aTsFgEHZTQjPb8H09AIiuAFSrUTpTkBUC5gmJV/PHQC1gi46Dj+tBf0HSBqYRDFG969i7xk++RfD4+h67zJmckxmexBQnfWdCvTS0iDlADXHaHkUwlLtEZ2+B97ut1EAKEvaCCZ9L5hmBq9EvML2vxH9Bp0MujYG8cnbwaTYo+vg7dQYW6T/ogDwu5j3uQAR4V2YtLfDucP3QpGwhQfAJRQPgAsQD4DWL97OlpG12bm6YwAeqXUIWUhZsdYCIMP4+b+hmRJwWTI/AoCJYlSGOyKOSZ93JPCFZuehiSGEVIbAo8gDSY1JGBwfJBfONZguA6fdlMZTwdR3DeGUTgRworoDYXktC4qmZtWaT9aZc5oCpvNx2+cOgEf+yD5/7uBDFPRXRu5DYaIY53dzOf76Tr/OPtteLMZg2UxEsE5NYiTtIv1FgeRc5SyJs9GSB0j+R4+hOk6tdVgdidBUe0gzHLH/xJ0snK0W3g1F8nYwaeS83z9l/2SvPRv6LAWATH08GOZ7MCkOqHP6NQWA++X/pQDQMe4/1PXOXSsxcuAmKBK2QSKRILk6d2Hf0YB4AOQBcEHiAdD6xdvZMrI2O2tSi0QVtsJP1YD+0XmsuzzGZKLjrrxIxId7oyAhgAXAqghHpKQxECkb5hUJfKHZ+dzoOYjLxYiti4V3qTfiG+LRP94PdNWYLgOn3TLcgbYig+Orz/Tr5QBMVHdAUtAK/6xGDMznu2mrOYesM/0QDYCKA3MHwFNPsc8POt0zA4ABqApzQGXkARQm+GNa65xgh/B99tkE5X6o809xoKcNb9JvZ7ylUmKr2QJBGjP16wAX+FFrHSyLQHDK95Bl7MUGT+6c37Ned4FhdoBJcQDTpMCXyV+y1x7wf0AHAOPAKLaDSd2FvH10EuiTSd9SAHg0cR11vcTxl5jauZIFwKhS1cK+owHxAKgDgLa2tgtqPzXxAGj94u1sGVmTnaenpxFddAb+qkbElbTBK70OnXOtKjE+TJL4FoqNAkGLKowNANH2AGalJcAjtXZekcAXmp3bh9rho/ZBclMykhqT4F3qjbj6OPS15MxsrYYBnk8Dh+4FUpwM2yrzGFCXanD8vIYeeKbqewClxaQcXPfg2MJeoEFJ5k/aRQHThPL43AFQ9Ff2+dG9v2G/eXWoPSokziiReVBzNPqQMm9j5VEIT9uJZKUTB3pa5xER+pGWt/QI0DQLLNWlAuJ3aAAso89i9pWFITBlO+TKffjQ+36uCsip28Gk2JPWmITtGdspcJM3yDkArI0Fk7wVGUlbIT9wDXVfYMp2CgD9ma3U9aQD15CE2bJveABcQlEAuJDGA+Di6kL7g/zHKt7OlpE12Xlo7DzEWU2IyG9hq0o0dg/NbRDNGTd1tFEgqEwJRrwuAEbuRy4TBY/U2nlFAl9odm7ub4aoTESVCBOWCRGbfxw9qU50RKvL7wzbKtcLKIswOH5yRQdEOjkAE9UdiC9th2daHdr6Rhb2AnWpZMtV58zcRJ7/3AEw8D3uDOGuq9lvXhP6PcqjXFEe5ULNUeH7LabKY9FTGoKAlG0ITbXHsCZoZv9N3L1+3FYx8kRAUbDRqGkAQE0S4PMq9/yuX+qtVTNnvHI/XhVxAPjl8VuJ94/ZAaYhAc45znSASGUwB4A10WCStiAnbh18XW+gzxFm7KUAUJqxh7oe4EICZnIjP+EBcAnFAqBIJFpw+6mJB0DrF29ny8ia7NzWN4LT6XWIK21jAXDOMNZRRqIyTQCBpgScNgCWR7miIFGM02l1UM0jEvhCs3PNuRoIS4XU1mByUzJ8lHsQHfcVRk8/Q3uiigL1bVXgD+T7keTRWpqenkZkQSvEWU16ADhvcNd7gSQSrRzxGQ2AJVFzB0Cd9C1F8ST4pzz6EEpknqgOo8vFFfp/j7EyKZqL/CBUbIKPYjPaimcSZ7vdy93r+TQ3R1kEWe+g8dKtqIyjqprggH6+wa6SYPgzW5GgPIDHRb/nkkC734RUZjvZ2q2Xw7PYkwI3j2IP7ltXR4FJ3ISiqP/A1Y07A7ja5z4oZqqAaJoi0xn3a6WUOeRGUu4Ui9/mAXAJJZj9Fl7GxAOg9Yu3s2VkTXaubB/AKa1zZadS65DX0DO3QWqSiefICAyMz5SAU0p9KQBUxxxGSdxp+Ksa5xUJfKHZWd2t1gNApplBcvYR+MT+B12H7qQBkNmnb6+SMHKWcoRO7Dx2fhJBOc0I08kByH23WlR1LLAcXGUckH0KCNTaMt1zLSbUsXMHwNjvqHctjT1Bffv6QNrLqArch8GiaFTmn4ZQsQlCxSaU58+cKT3J5QvEkdU6ZyYPk3+AGFN5NHDiUe75Q/r5BjtLAuHLbEaC8gDu0wK8o4d+BVX8ejCKrWBqYxFaFUoBoFOOE/edqyLBJG5Eeeh72Hj0N+w9T/s/RMGfpj0Z8DB7z+ajvwHs7VDp/SIBwBLT1WDmIx4AeQBckHgAtH7xdraMLGrn8+Mk15mpbTATUunUlvVRNiCpvMP8ASYnZrxWxuvc9hVGITGSlIDThoAy6TGUSY8hPKcBQTnNGJ2YWxTrhfb7nN+RD58yHz0AZFQHoUjchMF9N9AAGPGZvr3KYwzWue0bnoBvZgOiC88Y9QCWti6wHFx5DIkAFr7MrdH5t/MDQJ1zhBUSZ+rbN/vSHkJFsDt68iXIzTkCX2YLxCnboMh01jtPCKfb6HmyThJwNabSCMCdyzeI4w/rrbW9WAyRYjNi0nfTZ/dcrkee9H9gkraAqY1BQkMCdX1r+lbuG1eGg0nYgFr/1/DhCS6VzOvBTxsEwNeCn2bv+ejEbYC9HRpOPDYDgOkL+44GxAMgD4ALEg+A1i/ezpaRRe080EFKjOkAgzmanp6GpJDeVgzMbkJEwRxyyg11kZxspRFGYaA9JwJx4V4UAGjXho3Lq5lXJPCF9vuc2pIKcblYHwAz9oFJ3oIp7WAGezvAy0juOwNVLjr6R6mtet3mmVaHnLl6bnVVFknOIHo8wa3RfTULgONls+Qx1G46kcQ1ofbUt2/zep+9Nm1/OeRhnujIiYBcuQ/BqTsQlb4LYan2GFFLgOB/0mf4tGsGF4qBPCEpt2dIxSGAy+3c86f1bd5a5A+hYhPEKdsowEs8cA1KIj8Ck7QZTHU0mGYGawLWcAmek77gvnFFCJj49Wj2fhYvef6OveeD8L8aBMB/h3M5BV8+RXImtrv9HhKJBNHFhoOAFiIeAHkAXJB4ALR+8Xa2jCxq53MNxGPUmj/nRwdGJxCQ1YjIglYWJMLzWhCY3WS+N66rmisfZqQ1ZIQaBMBiuTcqJK5g8svnFQm8aHYeHyL209l2navkDXKEVIboA2DqLijl39LwZ28HOK8yDoBnCqixG7qGqK163SbKaEBKpYmzcOaoJJTA1OH7uTV6PInhkhhIJBK0ZUeaD4A6uQTrA9dT3/7sSS4w4/zu6yEP90adMgjhaTshSd+FpEwn+Cg2o71YDER9RdtNu6ReeQygPEr+P9DV9DQBRK2ydvD7u95am4v8IFJsxsmk9RQAFuz9JSpC3gGTuJFs8TYz+EvYX9jr78a+y31jdRCY+PXoOPEQHvDmcgmui/6HQQBcG/UPLqWM952YtrdD34FbCAAWMQv7jgbEAyAPgAsSD4DWL97OlpFF7dxZTlKKlIaTerxzUGsvqSwh16osIS06MzdvXGPmrDnuirVKwFEt3g+VkfuRmlc8r+CTRbHzUBfxfKU6k6CC0fn9+TY5NYnImkhEVEfQ8NeYBCbFHnnRn+kDoC7MaJrqBFCroMavaO+Hh4EUMJpGzlHOs4qLRkVBpNSa023c+kR/RV16KCQSCWrSjJf502vFwdR7Nvt+Rn37nqNPc2li9q+CPNwLBSkiiGfSsTAqFwgVm1CRfxqI307bLOe0zjlAd6ApW/99piZJQI3DL7hnQ/6t/w+UQh+IFJvgHP8FBYDNu3+BOv9XwSRsIFu8zQzeinmLvf5SxEtaACgGE78eLW53U2PYyz4yCID2so+o+/odLsf4rqsIABYmL+w7GhAPgDwALkg8AFq/eDtbRha1c2s+kOpEtmEH51bHt7xNHyriy9pxKrUOrb0jsw8wNUW8RrneRkFgsjyWlICL9tEHwEQxqsIdkZGdM69I4AXbuaeOnF9UHiG54dLdiEfJ2HaiCY2cH0FoVSiia6N1EgTLwSi2ozTsn4YBMM1V32653gTotVTQdM6kBzAouwlhec2YmppnObipKaAwgJzl3H01u75x/3eQEuUDiUSCggTjeR5127Q6hkr03Ob1PvXd+w+tYa8Nuv4BiZFCKBJOQKjYhOSZqFlxyjakqFyANBfTNsv1Jlu9Uzpe6/PjJKBG+1nJl3prrSsUwkexGd/HfkhB2fDOy9Hs/Rcw8evBVISCaWbwafyn7PVHAx/lvnOpP5j49Shz+Q01xsGELw0C4MGEL6n7avZcCdjbQRouRkxB4vy+oQnxAMgD4ILEA6D1i7ezZWRRO9cqiMco4zDQXjqnR9Orz8Irvd5ARGkdajoHZx9gpJecGSs27hkaKomGIoouAUcBYMReKFUZ8Fc1zrkO8cToCLHzmVJgYg7Jq6cmyRZrtgcBBM2ZMnU0kOEGVMrnNh6AvrE+BFYEQlYvowGwVgomeSuqA143DIBRX+nbrVBMQOw8l9g5paoTwgz9bzXvrXtdTU4Qb1mukFpfu+gDyMK9IZFIkBrjiwm1eecAJ9RSTGiVejvr8Rp8g4PxvWcYEmICMex0F3ut1/1xMFEiRMQchEixiYWkqPRdCE/bibGsk7TNEr6n5ysNJ99yqIt+p4kRAovaz8Zt1ltrdYE3RIpNWBdNb8vC3g7tHo8QACwnOf++S/2Oveden3uR1JhEvnOJL5j49Ug/cD0Fdl6KjQYB0FuxkbpPuZ9Ad3LgEcTkx8/vG5oQD4A8AC5IPABav3g7W0YWtbPm4H62B1AhJeeezNDUFMkrF5itn1fO7IjSnnriPaswDgXd+RJSAi4+wKgHUJWhYOvZzgVgJga6iJ1T3UhC4I4y8pe+yYdGgFqGnLMr8Ndfs8YTWJOsl4vPlLpGuuCn9kNiYyINgNXRYBI3ocn7WcMAKHpZfw2l4QRMh7mgjuiiMwjIajQKgFGFrfBVNaBvZJ6/c+fHCHRmHqPTt5z+L1SxJBF0YqQQ/UVRZgHgcEk0hvdyW8mNh57FTZukuGmTFE/ujsK4403sta4TLyEtxhc+EXshTOYAMDHzAHyZzejI85odmjMOk+MQ2hobBJJ20s8qHPWercw/DZFiMz6KeJUFsuc9SWBGj/vvCQCqSXCPY5YjBW6RNeRsIFMsRKrsa0Q5X0ddD0/baRAAI9IcqPsinAksq3zsIc2Tze8bmhAPgDwALkg8AFq/eDtbRhaz8+R5AjEFfuTMVa4X8cqZob6RCfipGiDRCgDRNK/0emTUmLGd3FoAZJg+/9eiCofcQAAIWw0kYi+yU2Xs2cO5lDOb6Gkhdi6ZgeB0N5Jcub2UlKfT1XAPoI4iEaqGzt6xABZBPIH1qWan12kdbIWwVAhFk4IGwMpwMAnfoePEQ4YB8NDd+vNXSAmg9jaT95ycQnBuM0Jzm40CoKykDd4Z9Tg7MM9ycOPDJAAkxYlaX6FoPfITxJBIJJCFe6M9x3i0t3brL4pCr9N9XBoYxz+xAHjTphhM7uTO5bV7voXMWF+4hW6Dv2IbBUpCxSZU5nkCu67k1hX8T/05VSeA6gT6nUb79PIRIkM/Ybk6/xSEik14M4QL8Hj/5G8BezsMuK4iAFgWAKaZwdHCoxS4Cctm8j4WeSFL8gk8D95IRxJnHjAIgEmZTrhH674Th24E7O1Q5PklpLnS+X1DE+IB8AIAwOHhYURGRuKjjz7CPffcg8suuwwrVqzAvffeCwcHBwwOGt928fHxwQMPPICf//znWLlyJV544QUolaYTRiqVSrzwwgtYuXIlfv7zn+OBBx6YdxUTHgCtX7ydLSOL2XlsgNuCrYglf7mdrTLr0eaeYZxKq0N8WbseTJidmLk8hiQONgECVQZKwGm3Cokz8pPCkFDWDo/UWjR1mx8JPNFRReenK48h58Ey3Mg2ansJd57vXCM545bhbrJkHdtKwsi9jZlmBdfU9dUZTAKtSQ/S63aXYQDcuZJAqe78SnegswIA0D9qHNbndXbTkMYGye9Sgj21voqwPRQA1meYFwjSky9Bp+ufuDQwDvexAHjHpjBqjlbRx8iU+cAxeD0Ck+0pUApI2YZUlSvgdCsVmGJ429yHBv/hHiDyc9reBs6rluZ5QKTYhOcDH2eBbO2xWwB7O4ztvYEAYIkfmGYG/uX+FOC55buR71zoiYLQ9+B4+Cb22sM+9xuEP037k98D7L0O7jcB9naoPvYOYnOi5/cNTYgHQDMBsL29HUFBQXB2doaDg8OiLsDT0xMCgQACgQB33XUX3nzzTTz33HO47LLLIBAIcPvtt6OzUz+U/5tvvoFAIMD//d//4dVXX8Vzzz2Hiy++GBdddBEiIiIMzhUREYGLLroINjY2eOKJJ/D3v/8dV1xxBQQCAb755ps5r50HQOsXb2fLyGJ2Huwkng9NcfvMY2Tr0gyVnemDh5GggpDcZoTkNuP8pAnwGR8mf+EWmg4MyJXrl4CjysFFH0JRvC+79aw+Y/6fLxMtxYYTFJdLiTcr3Q0o9Afq08mWqmab3AyAQaWMeFUz3IHm3Fm31it7KiEqFekD4Ex06KhWKpKJ3VfRUJJ51AAAHmEjWzsHRuGdXg9ZieEcgNzWfR3qu+ZZDm60j0TXSukKHerowywAJkUKUZRoXiBIZ24EWty4be/WHbeyAPjIZm9qjsaAtUiLO40d4rUISd5FQZJk5hzglHYy55OP689ZHkNsdq6Re6ehLiD4X7StS0L1ni3MOQ4fZjMFZLtngGxq50ow8m/BZDqDyT8JaR7tAdyZshlMbSyY3OMoE7+OtcduYa+9EPAnkwD4QuAT7L3/O04At+XQs4jNlszvG5oQD4CzAODQ0BA++eQT/OxnP4OtrS3btPXmm2/ioosuQnFx8bwW4OPjg88//xzV1XSSz7a2Ntx///0QCAR45513qGvJyckQCAS48sorqecyMzNxySWX4PLLL8e5c3T+qnPnzuHyyy+HQCBAeDgXTdbR0YHbbrsNAoEACgWdZmA28QBo/eLtbBlZzM7nGomnSBPEUBig7wUxotSqs/A2ElQgKWiFf1YjBkZNrL//DAFOE9608TIpUmP0S8BR1UBijqJUegKJZe1zjgSeqM80XaGiXArkiQgImqhUYrIVigmgtRWZXEvx2WKIygwAYIkfGPk3VBLozhMP01ASu0F/Xo1nFUBT97BRWNcFwMr2eZaDG+4Bsj0xFU6nqymO82IBMDXGF2lS8wJBzmSFo/7oa1yk746rWQB8ZfNhao7akG1IjDuBLYH/Q1jSHgqSEpQH4MtswaiHVjk4t3sNz6ucgXWNBjoAP63gm51X0EmkNf9IyT4KkWIz7hXdwwLZ8ZktWdjbIS15K5jEzWASNkAh/xb3i+5l7/sm7FUwyVvBKLaj2ucFvHvyt+y1t4OfNQmA74S9wN77pscqcubQ6Q+QZUXO7xuaEA+AJgBwfHwcjzzyCGxtbfHzn/8cTz75JK6++mo9AIyLi4ONjQ1279696IvLzMyEQCDAsmXLMD7OHT5+8cUXIRAIcOjQIb1nvv76awgEAri4uFD9Tk5OEAgEePXVV/WeiYiIgEAgwMsvvzyn9fEAaP3i7WwZWczOnRV0EmaNF6Sn3uRjk1PTCMtvQZCBABD2PFl6PToHTETCdpQBSv3zVNpNUwIuV6cEnHYrjT0JdcwRJJc0zTkSeKJcPvcSZfNpBf7E06obZKClzDOZ8C/31wfAYiGUMfQ2ZFXwPzChfabNQHJi5PsSoJ+aRFXHgMkUMNr1gItbzDsDqqehLiDrJAZ8/sGua2rnShQmBLAAmCXzR5KZgSCNylBUnniPeu9VmyJw0yYp/r1lN9VfGbkfMbLD2Cz+HKEJjnqgJFRsQq/389wz+28yPG+uN/Hwabbs+88AXs9xz+290eBzquzD8NBJAh3scj37XFbSFqN1fD8MfwVM2h4wKQ5oFD2Pp0/fzl77NOJvJgHwc8kb7L2Pe90B2NthZM9NkKnC5vcNTYgHQBMA6ObmBhsbGzzwwANobiYHbx999FE9ABwfH8cll1yCJ598ctEXNzw8zG4Pt7WR8zejo6NYtmwZBAIBWlpa9J5JS0uDQCDAE088QfU//vjjEAgE8PPz03tmfHwcy5cvx/LlyzE6an6qAx4ArV+8nS0ji9n5TAHZotTdOmwwfTa4d3jcZF1ZzXZsY7eJ7cSaZAJFJiDAWAk4qhxc3GmURx2CorAGYXktCMwxM5XJ9DQmCkMsA4CVMuJJzPUymmsxqTEJQRVB+gBY6Ik8nRyAxdGfofPg77g+99X685WEkPlG+1DU3GsWAHql1c85lyKrwU6MpR9F+1EOtMYdf4XCRDELgHnxAYgL9zIrEKQmLRglnrQ38cFNvrhpkxTfbtlI9ZfFHEWw1AlbAr+AWL5bD5QCUrahwe8V2pNXbsALWRpGtvqHZmzQ2wyceJR7zvV2g2tNVx2EW8JXFAAmHbiGfS5fttZoHd+/hTzD9reeehT3Ce9ir30X855JANws/Rc157g9KYsXlyGe3zc0IR4ATQDggw8+iIsuuojaYjUEgABwxx134JZbbln0xZWWlkIgEOBnP/sZxsZIJFdhYSEEAgGuuuoqg88MDQ1BIBBg5cqVVL/mrJ9arTb43B//+EcIBAIUFZne1tAWD4DWL97OlpHF7FyXAqiO63iOZs7lTRqfW7OlaCgARDsXYEW7kf/XJye4pMGzeIFmA8CieB9URDohJV89t0jgiVFM5PpYDgArZcTb2l2rt5Tp6WlE10YjvCpcHwBzj6M08O8U8OQkbES1p9aW5q6r9IGmPJpsPfefQVr1WXgbyNeo23yUDUgq7zD3t4dWfxsapc5od32EXdfIgTsoAMxPECMu3MusQJDS5EAUitZT7/3c5uO4aZMUu7fSHtEiuQino3fCPmgtRFIHPVCSpO9CgVgnj2JRoOG5Mw6zwTM410DgWvPMkQcMPsOonOEY9x8Kxor2/pJ9rlTyidE6vn/WOudXffT31Bh74j41CYD75f+l7m/dvRKwt0NKovv8vqGpz8sDoHEAtLOzw6233kr1GQPAhx9+GP/3f/+36Iv75JNPIBAI8Morr7B9UVFREAgEuP/++40+p4G9gQFy9kPzoU197Ndeew0CgQDR0eZHG/EAaP3i7WwZWczO6ij9slhqCTmb19dq9LHSVuMBIJrmmVaH/MZzhgcY6iIBFaWmPUGlyWIkGioBp90S/FEVsRdpOQVziwQe7sGE6rSFAfAw0KZ//nt8chzhVeGIqonSB8CsQ6gWvUDBS3raHhQEv0kDTbanYeA8W4XY4jb4q4znANS0gKxGRBfNrxxcZ0stcgIc0OfCBVsMHHxQDwCTzQwEyYv3R17ADuod/7HlAG7aJMXxbdzW8KTDVchL8MdhyWbsDd4AT4m9HiglKA+ACf0HbS9j3mfVcaAmibxUdy3gegf3zKmnDD6ToDyAbbEfUDDWMgNjsLdDZcg7OnV832bv+4PP76GYqVySd2gVNcaRxLUmAfBE0rd6tYdhb/f/7H15XJNX1r8yM93mV9vO9J15ZzpTbW2n7dRWW7X7bl9r25luY/d2ukz3ulStgmwhyL4j+5KFEALZV9YAIYGw74uAsguCIu4IovD9/RF4nlySQGjV6vvmfD7389HkeZ5777mX535zzvmegwqV509aw7nEAQDnAIDXX389HnzwQeIzWwDw/vvvx0033XRRB5aZmYnFixfjN7/5DWGVS0tLw6JFi/Dkk0/avPe2224j3MYDAwMUADx/3noOqw8//BCLFi2CQGDb1Dw+Po6TJ09S7eDBg1i0aBGOHj2KiYmJi9pGR0ehUCgwOjp60Z/taA49/6/U8/gYJmrSMFHFw0RLJtmK92Kit8rmvfnN/eAaOpDX2G+zcYs7UNDcb/0Zg62YKI6y7LclE2PNajRWJaGqLBYcuR+SJHvAU/mBo/QBW+mNZCUTCQoGEhUMiNShyMuKR73EB4bSUuQ19iOxqB2NfSPzz3+kD6OGWJOeGzVWx3LRW0ksJjr0FmM5fuY4hC1CaPZrUNhdSLbiYPQmPkeBifPet6KwJASGzG0EoDmftduyP0MUxrorIa7shrC8e871ymvsh7C8G6KKboyNn1vYfh0bh66sEqV8Js4G0K7pkagXUJMnQFWuCQBW5QqgV/OgV/Mw2qi2qadzzRoUa3ioFAYTc/xutzseZyqR7vYaDTL33AFDDhuh8l0Ik7ghTuqF/OJQFBrJppZ/TuqrwN96/9V809/E6ClMDLZiKmApHdPIfc3qPVmGAGxTfmBRBm7mvs7U14mxeGjIOr6ZBn8UGkOhDb2d+DylwNViHuYtXedBXJ8d9N+mEAHhpov+vjh69KgDANr64q677sL/+3//Dxcu0LEn1gDgsWPH8Otf/xqrVq26aIPat28fbrnlFixatAgRERHEd3w+H4sWLcJToNqXTAAAIABJREFUTz1l8/4///nPBADs7++fFwB+8MEH8wJABoNBPce8CQSml4GjOZqjOZqjzd8OhtPpUE753QOFQgGlXEIkQz4Q8+4vPk6FQoHxPbfRwCfqrZ/1rEwJnwBtbq5bsSNeiTx3GhB3ea+061m5omTiWTWsH+26b4JJx/Ltj3nP5nXfpNPu2NXc1YQeOqI3Etf6iHwI4JYgTYBSLkVGCFkGji/jzzk2oVxIXM8NNfW5L+7Ti76uAoHAAQBtffHll1/CyckJUVFR1GfWAOCPP/4IJycn7Ny586IM6ODBg7j99tuxaNEibN++3eL7X9IF7LAA/u9rDj3/L9LziUFMlCZgolFuadVokGKiLBETxw9Z3Hf4xBmkFHdAVds3pzVJUtmD9LIunB4dI59x7hwm6iWYqGBbtaa0VrPBKXCFsjAI4UIPsBTeYCv32GxJCibiM76Gr8oT7too7MqKQ5BOhJbDLRg8NWh7/gfrMaqPNun5clkAq/mmNkau68ETB5HSmIL8rnzS+teZj0IdE8dD76WtantXURago8F0cuPJmMct+6vkYqQ0FRxDOzR1B+e1AKpq+8Ar6cDwyTN276Px8XOQV/dCoS1Ci8QPUwza8jWQ/KGFBbA6Nw1ZUjYOlsts6ulkvRKFCi6MmhRMmj0vxPVzyGQZaPai3cwVXk9BnRkFf9k2JCmYiBR5IrMo2MJapixkEADwgvRr2+tkiDZZwHtryHsklveMN6uh0PvgQ/GrFBB7Pu1xnDFLPD0U9wQxFla+MwHcYvK2o6TAC1Hhf6U+W8l9APklIXNaAAuNoVjNe4i6JyjydoCxBH3xGy76+8JhAZwDAO7btw+/+c1vcN111yEyMhJnzpwhAODIyAi2b9+OxYsX44YbbkBvb+/PHszw8DDuvfdeLFq0CJ999hmmrCQatZcEcvPNNxOfz+QAdJBAHGIuDj1fHrksej7eO3cd3pJIU0m0WdI9fAYJ+g7kzUEA0bYMQV0/gBRjN46dmVUPd+wEXX3ESr8l5eFI1blCovVDqNAVLBVz3sYXbUJSZgDCSmTw1KZgR04MEhtYkLZLMTI2YjEHAEBPKSZKYkx6vlwxgI1ioNKy3F7vyV7rOQC7cqHTeWDMj7YmHUp8hooBa497hAYovn+yzFHXkIGjRfFgFTTOu17aliFkNx4Cq7hz7vQ9s+Tk2AT45T3I1xfjgNCdAEx9vK8sYgDrtPMTQU7WK5Ev56Ayh4/TXnQ6FY7b26jKFeCw993UZ1L3V5AiD4WfbCtYKi+ECd2g0gVYiQMMwLh5Am3Be7bXqTLZVE+5o4CMG7SSb3FinxoyAxOvmzF7XxO+gOMRD1D3Hdu7khiL1OBFAED/nK9RlbMdHlHLqM+e5a2eM/5vpq0TPEnd82P0HQBjCYYjH7F7/exeZ0cM4NyJoOPj46nkz9dccw2uv/56ODk5YcWKFVRy6F/96lfg8Xg/eyCnTp2iQNhbb71FuJ7N5ezZs3algXnmmWeIz+dKAzMxMYHrrrsO1157rSMNzP8xcej58shl0fORdjIH4Ow2U/Vi1g/L+r5jdiUVzm0aRJKhEwOzS4sd67YJPM/tU0FmYEJuYIKfvQdhQje7ACBPvBUsFRPhRjmC9FJ45Aqhas8Dp4mDzuOd1ufflnX5SSBmzFxz2X9sv3UA2JEJXYELpsziybp5/6AO/3L+P0iAUs0l+2tR4og2HKl55fOul7ZliCLR9I3YX06v//hZJBk6UWIsRpeAZO12pe+wCgDnI4Icq1EgV8pGbW4a+rzomEKt10uo0wowzvxv6rNEt/ewk7MXgbLtYKmYCBW6QVbgZxUsHQ+8nR4f++W5gXpFkqkajLl+tV5W96zU4IUXzYDYR5JXcdisdvPp4LvmrOPrrPkYjcqv8HXscuqz19OetAsA/kv0P9Q9/46/C2AswZnAu+xeP3vFAQDtKAWXnZ2NFStWYPHixRbtnnvuQVZW1s8exPj4OJ5//nksWrQIL730EpH02Zq8/PLL8yaCDgoKIj4PDAycNxH0K6+8sqBxOwDg1S8OPc8tU1NTOHH25+vmsuh5oM4yByBhPRKaLHWzrFX5+4bANXbbBSgS9B3oODKrPvlALVASZbXPocZ08HS7kWcMRJKCgUixh30AULodHIUrwo1yhJfI4JItgKglB7xmHioHKy3nPjUF1Kdf/jQwbVkm0D18gBhO89FmcJqt1AE+oIIxczMBQtpEH9BWLeV/5gUoh7ICkZ5daNd62VyzOWTfoZNI0Hei1KhHL49Mz3JAzLAKAIs1c1cEOVxlyv9YmydAjeca6nlNe55AXW4q0Ueg65d4LSwR4XLnaQDoajUZtK4sBIPhZoze2Mdtr9FMXWxDKKlfQ6jFtWdbFBDrGXgsdTUFxL5VbEQ/ax113znfP1mM5fHUNdT138j/hTbRB3gzkWYB/1v0kl0A8HPZ69Q9LyXdO82M/t28pQcXKg4AaGctYABoaWmBQCBATEwMUlJSUFdXd1EGcOHCBbz55ptYtGgRnn76aYyOzv9LTavV2iwFd+2112LJkiUYGSHdJCMjI1iyZIlFKbjDhw9TpeDy8/MXNHYHALz6xaHnuWXwxBgyGw/hzLh18pS9cln03F1sSvcy3yF4pJ265dz5SQin6/zaCyaa+k+Q/bZq6DJls1pbTTI4hc7QlgQhWuqJWKmnXQAwRboTKdKdiCiWINwoh0u2ALz6TIjbxdB0ajA5Nasm8blRoJqDidqMyw8AS6IsysJVDlaC18KzBIDtclRLPyFASIPqGzq/nc4NU+YARfSpRX9dSn8oNJkLAoD7Dtn/ji45MAxWcRfKjDr0cz4lxtqqCLYKACuz564IMlAuRY6UhQJNOnLcX6BjCn0fQFNmHNHHLtcdWOUlRIzCZC0OE7pBkG2ZDFpXFoK+2LX0vaF/n3udSmOAXDcSAFrZt2daZEjXueMBszJwzuqP0WWWeHrK6yZTLWCzsZjX8X1PvAFdqa/hKdZ9dG1fxUa7AOB2Fc0+fohzP70fTh9e6BthTnEAwAUAwEslERERFEHjzTffxCeffGK1DQ8PE/dt3boVixYtwg033IDXX38dL7/8Mn7961/DyckJEon1sjESiQROTk5YvHgxnnvuOWzcuJEijGzZsmXBY3cAwKtfHHqeW9oGT4FV3InOBVhQrMll0fM+NVBpJXfc7EPwAP1Db/j0OLjGbmjqbVcAmV1ZwnjA7F10bpRONG2lv6KyUKQVuSFTH4AIkTsSFQy7ACBH7gKeZDsiDRkIN8rhmp2BuAolMjszkdGagRPjs0DomaNARQImGmWXHwCWxZoScJuJvk8PQavAEgC2itE0K4FxRd4u6vBXFfvgZOAy+vuE5yz62ycPRJ4q3W4AmKjvQF2vjfyNs2Rycgry2n4IyntRXlKAoSQyN2FTZpxVAFibN3dFkB6jGDlSFljpQgjcXqddqT53oFVBpob5cjcDS501CBH5mMIARO5Wk0HrykLQY2aVg++f516nWj4g/YoEgFb27clmKZLyd85K4PwV2oVk3sFivTcxFvM6vhvSn0FX8vPEM1w1n9gFAJlZXxD3jTCna0YfrP7JrwZr4gCAVwAAtJVaZXbr7u62uJfD4WD16tW44YYbcNNNN+Gll15CcXHxnP2VlJRgw4YNuPnmm3HDDTdg9erVYLPZP2nsDgB49YtDz3NLaccwQnLboGv7eb++L7meJydNh1kNz5SMeZ/K+iFYl2YCbOdMnoauaQKIvWAitawHWU2H6H5Hukzxf1b6O9uigNTgBWWxN+QFMwQQL/sAoMINqeKtiCpKRbhRDoZWiCC9FAW9BeA0cdB3so+c//E+wLgXE83qyw8Aq1hAs4wYTnZXNkRtIksA2JKOA5z1BJAwGHyowz/H6I/uWNpFOrvG7eS+TFRLQmGUx0FrBwlE2zIEdnEXSg5YL1c3W05NE0Dktf2oKM7Dkbh/EmOty021CgDnI4IcMAiRI2XDI0likfT5gJhB9PGWSyiWOmuwNTkKLBUTe8UeSLSSDFpXFoLOtDdIQNcyR03iFhWQOqt6iJV9e7xJjPC8TQQI26vdgiY56Z6v0DoTY/lG8S/q+sdT16Ahbg3xjMCcb+0CgHu1W4j7Wn1/T4/1IooDAM4BAHt7e+1u/f39VMqV/0viAIBXvzj0bFumpkzWkPiiDgjKe3Fq7Kfr6JLr+dwZoIoD5LgBe/4I7PkDUBxueQjuU5sA20gXAKCu9xiS9J12A0BhZR/E1X24MDkdj9RlMJEgrBy4gw0CpBS6IL80CMJcH7sZwCwVEywlA3zRJkQXchBulMO3UAxmgQi5XQXgNHPQeKSRnP/wfhMAbMm8/ACwlm8C3udNsdvnJ89Dvl8O+QG5JQBs4qMvni6tdt77VuLwLygNRlXKSyRIMStxNt6shlESjRpZOAoa7Ivb5JV2I7d50K5t1H/8LJINnchtGkSFPgcjUevMxvrfFNizBgDnIoI0FaRDK+fgozA5fFy/IebXw99C/P95l0QsddbgtVAuWComYqSeiJF6osAYZAGWWsUfkbqapxQhOK/S1/r80eo1R5tE8M4mrXCcQmfUzordrM3cTIzFRfMxcU/h3vuI/8fn77ALAKboXIj7Ivk7kVfEulhvCkocAHAOADjD/l1Iu/XWW7Fx40bo9frLOYdfTBwA8OoXh55ty4w1RFZzEAlFHThw+Ke7gS+5nqddoIgysx5FPmT9EDRGAd1GAEBO8yB4pfYBCW3LEOS1/eCX9+D0+Hlg4qzpwK3lW+2npSYRnEKTe5OrMbnyrIG9KKkP3otMxsZwNqKkPnQqGOF3iM1PNDGBDTQTOL01HXk9eeT8D9UDJVG/DABskpgYpmdNbtbRiVGI28VQd6gtAWADF4f3rqLW6EzQnRYAIEf6IQlqdP5UX6fqVSiUJqBJGoiimha71kxQ3gt5re0ygObSOmgigGhbhlClU+NExBPUOMb875oTAM5FBKnO5aNQwcVT3krscN1JzG8o6R3i/w86Z2CpswYPeMiQrGQiXsZAlNgDucWWALBBRYJJGK2TkajGfY2+Nuguq9ccacyAs5oEc1KDFyq0LkRfzfLPibH453xN3JO4dznx/wy9h10AUFnsTbqOha7ILkm7qK8LwAEAgTkAoDXWr73NyckJXl5el3Mev4g4AODVLw4925YZa0hO0yDYxV0o2PfT3cCXXM/H+0wED5//Jg/E8njLQ246Zm9sbAwZlX0Q20kA0bYMIavxENjFXaa8cpT7V231IC0wBkFQ5I4CYzBiZZ6IllgygMPEfljtJcZSZw2WOmvwPwF8EgBqY82YwOkQteRA1aGCuF2M0Qkzwtw0AeYXAYD71CYr6HSt5RPjJyBoFSCnK8cSANazcCLkLmp9RvausgAAablbyTWUfU1bp2oUyJGw0Cr1RUlFpV1rJq7qg7CqDxMXJm1sHlpKDgyDZeiCtmUI1YVynA55iAarIavmBIC2iCBTrZkwZvKQL0/BHc5qfLbbm5jf8b3PUP+eZNyMZc4qaj8ECQOQqGAgQuSOTL1lLsCq3B9JXRXsmXutEp83+4G0yuo1gw0CfKfYSICwPGMAivV7iL7ahe8SY5ldx3dbDAkAs43+dgHAgtJgPGhGQNmUvskBAC+RzBkDGBsbi2uvvRbvvfceCgsLcfz4cVy4cAHHjx+HTqfD+++/j2uvvRaxsbE4c+YMqqqq8MUXX1AgUKfTXaZp/DLiAIBXvzj0bFvMrSGymoNIK+/5ySlhLrmeh/ebLEXmhyFjCZD2ruUh16IASmMwPNAJdkkXMhsO2Q0AZ1ilvUdH53T/jrbIIdYzoCreg2xDICLF7oiXkwSQwIwAPOAhow77mRYsDKAAYHxupAkAmjGB83vykdKSgsEzZm7NfSqgMumXAYBtWaZUMNPs6sOjh8Fr4SG/J98SAFbHYcz3T9T6HEp61gIApOpcMR5glt+OtZ7q51CFiU3bLvVFmVFHrYm6fgCvRhqwZo8WQdmtpNW2ph9p5T3zMtnNCSDaliHU5EuIOsAnIp+aEwDaIoJMtGhgUPOQmp6Gpc4avOkSRuzRsYC/0f/ecxuxF75NiAFL5YVQG8mgjUVe5H7X7Jh7naLMWMNxT1u95lBDGj6R/pMCYGt5D5n6Kw0m8jd2pf6TGEt6kTsB+P4n+V76GdwH7QJ/M+1x3lo6fYzg3w4AeInEJgDMycmBk5MTfH1953yAv78/nJyckJ2dTX3m5eWFxYsX4+233754I70CxQEAr35x6Nm2zKTD0LaYEurG6zvQPvTTYn0vuZ4P1ZsOv1kAcMr3z9YD442R6GssXhABhGaVdqK97/Cc7t/+ej64hc7ILw2CNN8PoRkkAcRHEIT73OVY6qzBPc5SvLs7CG+4hGOpswbvRiZPA8DvkZAdQgFA1+wMxFYooevTgdPEQdtIm2nuZgSYXxQADtQCAA6eOmg9B2CfDrrycKK0mnkS6Jkm1HtiKMbMlR/8N6qfHqMY2VIW2uQBqNIpqTX5Pq2GAk0PMHKQa0YQ0dQPgGutgsssMSeAaFuGUKtNxznfv1LjOBr78pwA0BYRZLRRBZ2SC1+WEEudNXjWJYnco143U/8+HXA37nGjfxRsCEqlcgFK860kgy4NIvQJyX/mXiezEnxgv2L1mr76VGwUracA2AuCJ6j+xv3oKib9rBeIsWSV+BEA0Lyt561ZEAB8MfUZ6t43+G84AOAlEpsAcN26dbj11lsxOTm32XxychK33nor1q1bR3129uxZXH/99bjtttsu3kivQHEAwKtfHHq2LrOtIdqWIXBKupDXMmi1RON8csn13G0ERJ9ZWgAZS4Bcd8uDroqFzkIuEvX7fwIA7EBz03TSaRvu36aqBHALXaArCwFHw0S4kI7/Y6YE4iM3f0S4fYIKj7U453kLNVZf169xj5sC8XJvpIq3IFntSwFAhlaIQL0Uuj4d0valwXDQYJr7DAGmIeOXA4BlcUBHIQCg80Sn9SogfToYC8nSaq3iDy0Of7mBiX3cDeQaNkmAtiy0FwmRK2WjRRWOhhwOtSaP++UTlrMUs8TeOU2DSC7uxNDJuas8zVQAyWkygce63FRMMn9vFqv39rwA0BoRZKYM3Dd7pSaA6pxhfZ8yluBoyEo8H5hMzeNeNwWSlUyECV3Bt5EL8JyZRfVC6ltzr5PfX8ys4+9YvaanLgWvmOX0e0O4jurrdAhdsu5w7KMWY1mdssoqAHwn7Wm7wV++MQiv8V+iASjvBQcAvERiEwD+7ne/w6OPPmrXQx599FHccsstxGcPPfQQrr322p83uitcHADw6heHnq3LybEJpJZ1QzFtDZkhQKSWdeP46NyWFGtyyfXcqgFSXrd+sMY9aXnQNcnQLAuEtLB8wQCQW9KN2iKFzYD7qdZM5BoDkKE3Be7Hilwh4/0H1QkbcMB/JcY9f28TAOz3uA9LnTXYkhwFnmQb2EpPCgCaM4HlB+SQ75dj4sIEcGbYFOvYLP/lAGAV21RrFkDrSKtNAFij+Z6Yb71ZEuiZllniC4NkFhFkumLFDMhqyoxDszoa+Y19SC3rsXCjeyqaZrntO01u+7m20OBJwiLckJlAjKGf89m8ANAaEWSmDNzL/gosddZgmbMKFxg3W13//ojH8FF8IDEXH0EQosQeiJMxrDKBzUHZuJW8iVRr1QBe81sLu+q4eDbtMQqAfSylrbTH9q6kYxcjHrAYywuCJ6wCwC9EG+wGgLnFQXiPT1cDWZOyxgEAL5HYBIC//e1v8Ze//MWuh9x222347W9/S3y2cuVK3HTTTT9vdFe4OADg1S8OPVuXg8dGkTidDmPmQMxrHkR8UQdaBxe+3y+pnqfLoCHuKauH6hTjJhPxw+yQG2/WoCbdG4Ys4YIBoNDYhhp5JKZqUq0eoKebZRDpPaEp8YFO/j1Gvf9oE/DNbuc9b8bdznI8vkeIFOmP4Ep3IbxEhnCjHMEGKVyz0yFszkZudy74LXwMnx0GjvdO1yLOvKwA8Pw+DXpLJRhrUtM5GM+Po+5wnXUA2FOAZtEHxHxncsll6gOgnQY32tJASHK2kLpRbqbIFHpVChpy2GhVhKKodh92COstAOCHSSSwT9R34sDhucMXSjuGkWygUwLNTtDcw988LwC0RgQ5UiVHloSF+9zU1PhOev3F6vq3RT+D3QJXYi7/iYuniCCaIss4wJEomqgyGvGg7TVrFJH9qbZava6jloO1vIfNKni8TfU1FE+zoq0xuN8yq+NLEEIU79gNALP0gfg87V3ifmUx76K/NhwAcA4AuGbNGjg5OYHP58/5AD6fj8WLF2PNmjXE5zfeeCOWL19+cUZ5hYoDAF79crH0fGHygmV1hqtYWgZOWo2P4xq7kdN0aMFu4Eu6nyfOAtUcTIXQAftj/n8lDzvxZ8QhN1wtR6EwCs3yULvTicy0bL0RtelMnGu0nnS3rz4VnEJnFBiDMBKwfE7AN+J/J/pDHiA+2+ASg6XOGvil7gFPugORBhFlBfTIFcK3UAzNAS04TRx0Hu8EjrSZYvDasi4bAJxqzUSHQYRcKRsdBpHJ+leRBIyOoKS/BGn70iwBYHceDvD+QczVUOyLbEMgYqWeYKuYVKoTbsEuXPCl483A/QfONWugV6XAqOGhLo+Pdpkfiiur8UKIzgIAPu6Xb0HcaR6w/fc5NTUFRR0Z8nBARLqrO4S75wWA1oggA+VS8AUcYnzDPvdY3Q+VcesQItuJBz2l1LUv+KeZ4gAzXCHWWsYBDiY8Td1/OuCvONUstW2lnS80os2UvsgcfLlo/k31dZD9P9T9Ez5/tBiLeR1f88bI+txuAKjSBeD7tE+I+1P0SRf9teEAgHMAwKSkJCxevBjXXHMNPD090d9P5lEaGBiAl5cXrr32Wjg5OSE5OZn6rqamxkEC+ZniAICXRy6WnjuOd0DZocSh04fmv/gqEH37EbCnCSDmTVnXD15pN0bmCaifLZd0P4+OAOXxmGL+jjqcerkbcCboTvqwC7wT2Ee75fYbTLFk7VJfVOnUCwKARq0UlQJvnG6wXm2krioW3EJnNEgtYxIPeNwLnttbCArcglSJM1gqJqRCMsHult0uWOqswRuhLPDE2xBZJKAAYFiJDC7ZAkQY5eA0cVE5WGkiX5RcXgDYXy5FnowDrYwDvSoFow0KEwg93oe8njwI24SWALAzC32JdMqT83v+C7qyEAiy9yAkwxWhGa5IUDCgKQoAp9AZZ6LNGKvhK3C6QYVCBQcV2XzUaQVok/oiq7AIy2aBv5mmrKPDFxL1najpOWZzC50am0BaeQ/kNdP3NB9Cd9oPxLq0y3znBYDWiCA9RjECkvnE2A4HrrYKAAuTXkaUwhWvh3Kpa+/arUSiwhvhIndw1JYl4XrN4iUnmL9DVYWNXIAlkWR/ugCr1+UZQgjw5Zf9FdVXJ58Os5hiLEHRLJf0NtX7VgFgeN4muwGgvNAPOwVkTsHIosiL/tpwAMB50sB8+OGHVEqXmUTPd955J2699Vbqs8WLF+Pjjz8m7gsODsZjjz0GqVR6SQf/S4sDAF79cjH0PDU1hYLeAsTWxUK+X44jo/aVnbpS5cLkFCQ1B5FR0WsVAMUXdaBlYGF7/pLu5xP9gJZJHG6t4o/QMavm7ExC4fP7NDBqTK7Epsw4tKgioatrtwv8FTR0o0kVhaKMcIzUKCwOz8lWDbJL/CAs8sDJINr6N+b5ezzrkoSlzhq8vzcZyUrzsm+euGDGBI1x+whLnTVYvluJRME2ROl4FACccQW7ZAkQVpYCdYcakx2FJhLGZQKAR2sU0Cm5KFKmmCxeEhY6ikVAyV5MHW6FskMJ6X6pJQA8oMJhM3flmeDlyDYEIkrsgVipJ5KVXggTuiFa6ono7B8xxDMrw+Z1C0YqxciVslGbm2YCgDJ/+KVaB39LnTUIz6PXlF3SBX277b/LAbOcl9qWIeQ3HcTBlC+I/dOi3msXAJxNBDlgEGLT3gxibEcjnrEKAJXs15Cg9MQPyVHUtcs8OPic9x2CxTsRLfVAXgkJug6kbySekaX5FkcaMyzXrtCX7K80xuKaiRYNImS7CfAVpd1K9dU2y4V/OO4xGHV0mTpm1n+sAkB24S67AaBE6wdG+lbifu8C/4v+2nAAQDtqASckJGD58uVWEz4vX74ciYmJl2OcV6Q4AODVLxdDzyNjI0hvTUdmZyZ4zTyoOlQ4Nmbb2nCly4nRCfDKugkLinnjlXYjs/EQJiftdwNf0v08fABQbiIOppqsLSgpYmLSDFgheT0FYHJlbFTn8FGXl4Z2yR6UG3LtAoAl5RVok/khR5KIQxWWrrYTzRJkFHmgRvoxMZ5kt3ex1FmDz2PjrVYDGfGnrZX57s9Sh/93UUGILmARAHCGEOKSnYLYah5O1KcBlcmXBQCerlfBmMmDVs6hAI9BzYNenYKxonCM95ZB2i6FskNpCQDb5ThhRlgYiXoIadl7ZqXI8UKkyB2MjC0oSyPLnA1rw5AjZVP97lOG4a0gOc2Ydc8mQNamtBpq3VLLepDdZLscXNvgKSSahTwUNPZiMPk9ov+GbLZdAHA2EaSpIB1vBtIu3Ue9VBiOfcUqAExL2QiWiokIiS+WOmtwhwcb97NXYgV3BR7grsDLvHXw13yH/FIaBNZkkfGSh0Puhr40BJOtsyqSZJOVPKyVjesvl2J32vek+1XnQvU1uxwcGKZyfgfSN6LIGISIvM1WAaDU4GU3ABTm+iAww5m4f0ee20V/bTgAoB0AcEba2tqgVCrB5/OhVCrR1tZ2Kcd1VYgDAF79cjH03DzcDHYTG7o+HQp6C8Bt5iK7Kxsnz12dL5a+kVEk6juIXGrmTVVnyqs2fHrc7mfaq2d7qjVYyGAjzqW9TRxKJXpv6MpCcCT2Efpz5i1AQwY6ikXIkbKoA7tZHY1mTTQK6+evCVxdIEObzB85UhYwzJhmAAAgAElEQVR6jGKLA7SnLgWcgl04FUxa/9Y487ExnG2z9m9nBO3u7Pe8gwILqz0zEJMXbwEAw41yuOdk4MecMLQXRwC1qZccAI43a1Cdy0eOlI3avDQi7i1LwkJfdhhOtaohbBUiqysLuj4dMjszIW4XmwBgqwTjZilL+hKeoax/s/XhJ96BuJSviDU9KtyMbLN1q1TEYrkLTaz4ILEMj5qlg3klwkCtW0ZFL6Q1B23Grs4mgBQ0dONIHG2BnPT6HerM5jwXAJxNBKnJS8NaTyU1rndD5BhKetsqAExK+5jSwRovMf4W+p1VQPV46hr8oHoPQr0ndKXBGI4mXcrlqa+it34WwFOQP5LQLCO+P9esQVlWKjalfkb0JTOYuZ1Lg9HLeQlTVsZ+OvguSJSfWh2vtjTQbgDIz96DMKEb1qTQRJQvM7cs/L0wjzgA4AIAoEMsxQEAr375uXo+P3kemZ2ZRMxTQW8BOM0caHu0ZLmuyyhHT4/D0H4EFxZgpZuR5oET8yZIji/qQFO//aSX+fQ8OTmF5oETUNcP4MToAteipxSnEp8zC07/A3SlwdCVhaBB9TVxSE3Kv0dZViqKlFz60M7jo13qQ1SWsO7+7UKLOgpNmljkSTloLRJagKSayhgUZZAuuWiPjbiDEY+vuM7wlH4LV8lX2Cn+D7aJP8Vm0cf4Rvg+3JKfhDjkT5iYvud+ZxEFGJwzkq0CwLASGb6T+UEtd8OFuoxLCgAv7NOgqUCAbAkL1bl8C9BjUKWgUhKGg+VJ4Lfwkdedh9SWVDw8zSZ9R/0O5DVxRNLihqQNFgmyqfrIit0IkuzABPO/qOtPJL5GWABjU8i4uuCcNnyQWEZYBGd+xEiqDyKjsg/j5y9YbJ+pqSko60zVQmbWurC+A8eiXqD6Pud7OzHfuQCgORFkqjUT+UoeMU6XBAn6OdZzVkYJv6J0sDGCjfsSnreZXNk8T1+o6hOc2nMr/Tfg/XvoCnbj3D6zOFXRJ2Y/hn4PtJJ7pL9cimwpC99lfDgveKvO2YZToZZEliPeN1uM70nuSrvBn64sBBw1ExEidzyX+iSdR1DxseXf/c8UBwB0AMCfJQ4AePXLz9Xz4JlBpLakIrc7l3B35ffkg93IRmFvIcbOz52A9lJI2+AppJX34PA8yW+tSVH7YbBLLAkg5i21rAfq+gG73cBz6Xn8/AWUdx5FkqETMYUHUNoxvLABt2XjVPgKGiiE3WdmsQjCmN9t1HcXQv4OrZSNyhwSxLSoItCUlYCCRutxjzPu33apH+ry+ChUcFGTl0YcoJOtGmiK9+BE0DKqvwL/P2PFtAvPnuYaZbr3TZcwCjCsD0m3CgDDjXIwskKxl/cVegyCSwYAZxi/2VIWRcCwBnoK0iNQlR0IbkMSCnoL8HUeGci/lvcwlMF/oqxH+YlvWbX+sVRMxCk9ECTfjuMhdN650yErkW/mev53OF0x4263LGQ2HIKHvIkAW9wSU0JoRW0/+OU9ODVmuf9Oj58nCSAtQyisO4CTYbT1eDTofmK+fJEQOxOUMGRa6sKcCDLRokFymoAYU3yaCD18S1cqGEsQId1O6eA7DpO0+nGfwkrugzb3ziPcByEJpi2svXsfQFt1Er2WqWYxsQFLrVr/shWJ+CidZvI+wnvYNlgrDUK78D1M7PkD/ffFWIKVnPuJcf2Dt3ZBADBRwcBesQf+kfYi9YwNon8u7J1ghzgAoJ0AcGpqCu3t7SgtLYVer7fZ/q+JAwBe2TJ+/sK8bNWfq+faoVpwmqyXvcrrzgOrkYXi/mKcu7Dw5Mk/Rwz7jyBC247Gg8cXdN+FySmTtcQGAWSmqesHwDF24fAp+wCmLT2fGpuAdp/Joqio7Yes5iBSjN0YPGEncJ2awvm6dJw1K1E1mPAUcaD0pJDxVqU8T8tDOzcV7TJfGMtK5nb/ygOouLcSDQ8X9tFA61iTGCXCd6h+xr2W4PGkh+wGfzPNGPAHRPh+Q5MAnNXYk28dAIbkRiKM/wmy5fE4WqO4JABwYJrxW5rJswp2ZlqJPBGaDFckVEZB16fDP2T/sDq/TTF3Ytj7ZoiTP7Jq/WOpmEhWesFPthW9cTTD9QLzVhQpTACwKldA5NV7I8a0blxjNwG2POSmhNCaBtN+PWolbOHQCRMBJLuJrgmtq23DaDD9o+Jk+KPUPAM4Yur5z/soUZVrmwhytkkNjwSSAJKjSkencLcF+Btn/h57FbspHXyV/hGht9ej/RGjcMUXae/jxbSnrep2Jed+DHnTlWXKxR/QaWGS19P9ha0g1vhgmRQKcRwSFQy8wn+Bet6LgifnBWwlRUwcSqRT0awzqwG8grsCH6U9Yzf4KzAGI1bqiWipJ95Oe42eF/tJVHaP2PdOsFMcAHAeAHj69Gls3rwZN910E8X6tdV+9atfXa4xXzHiAIBXtrQPnYKqfgBnz1m6fWbk5+h5/MI45Pvl1hmP0y2nOwfsJjbKDpXh/OTcxegvlkxcmIS4ug978/dDtQArHQAcHz0HXmk3VHUD1GGY39hnFRAlFHWgwU6AaU3Ph0+OQVnXj/iiDmQ10odvcnEntPuG7HNfT4xhuCSCOEg7+a8Th0pZgRvx/cDeDVYBzD5lCBpyOMhv6oewsg+fsivwKbsCitp+2v2bGYc6rYByI59tokvBddaycTxwKR3PFXr7gsHfCu4KvJx0D3RhLxKg4V220ioAjMmNQkj6xxBJI1GelYrTDar5AWBrJtAoAVpUFm7A2e1ojQJF04zfucBfnVaA2txUiFJ+QGCBPwp6C7A6dbXNOT7Jug9uqW8jWWkdALJUTPjKtqA+5VNi7VrkIajTCsDNEBL6YaqaoW0ZQm7zIEEG+SCxzPR50yCSDJ04dOKsxRaaTQDRtgyhqGYfxv3uoPo9Fr0OdVoB4tNEuMNZTfTtwxbbJIIcq1Xg36E0YLzPTY3aPAHaZb4WAPCY722IV3pQ89/Ap92/f096Eo96Z4ClYiJM6IbUTG/wdLvxjeJfWMsjf2TEhtM5MEd9/ohaY7BpPWMfp/uLeYyw/hWokxEudoWPbDPR7xvCF+0Gb7VZW3A65G58EH83MZ7vRK/Y/Yy8kiBESzwQJ/PE2yk0AL6f8yByWwbsfY3ZJQ4AOAcAHB0dxUMPPQQnJydcc801uO6667B48WLcfvvtuPHGGykm8HXXXYdly5Zh2bJll3PcV4Q4AOCVLYb9RxBdeGDOlCU/R899J/vAaeYgvyffJgDU9emQ1ZUFThMHVYNVuDBpG4xeLBk+PQ6usRuS6oPgGrtx5JT9ZI3eo6NIMCOAGKrqUZebioKGbgsAyC/rgbKu3y6gZq7nqakpdBw5jfSKXrCKyWoj2pYhaOoHkGzoRNfwmfkHPDqCbg2Zr61Zbpl0diTyQdqS5P0HNORwLA7t+twUtMn9wc81YqVXLnVov59YhpLycsr9W6cVoDqHD62cgxN1dDLoA/IvaTc08yasZtGu39XcNfCSfg9f2VYEyrYjTL4LexW7Eat0R6KSgQ/TyQS6frEr8LCXhBrD3xlqhBRbAsCE7DAECT6CQhOGbAkLjQXptgFgqwbI/BEIpF3U8LoJ2PMHU43YoDuB0HuBiJVA1Fqcj30ag9Eb0BH3DnpTv0eHyA2timA0ZicRhAjzJkn7AS5yd/BbhMR83lS8iVXcByzj19JeQpSZ1YsEgFtRIN5FrG1P2lbUaQX4Nop2/97hoibct69EGGjGrVlC6ER9B3qOWu6p8s6jBAFE2zIEfXUTznv/Nx3bFv860sVC3L2bBH9LnTVY4a5CcZZ1IkhPqRjPe9NM5Vf8FVTIwWwA2B94JwWIYxRueMBMX38L/wJLndWIlvogWmIizuRP5+DLNQbg+TS6BNvz3JW4YPbcjvgnTGlhws0Sjif/D7Uv2kr4CEx3wR7pZiQqGXiG9zhtvRP/Y0Hu2yJjEL7gPUas8U61Zb1nWy3bEIhIsTsS5Ay8kUSykRsO9dj9HrNHHABwDgAYEBCAxYsX47XXXsPo6CieeuopODk5Ud83NDTggw8+gJOTE/z9L36OnqtBHADwypUZK1h0wQFIqg9ibMI68Po5ejb2G8Fr5s0J/maaplMDbjMX9UfqMTn1E5iuC5ADh09TJI6EorkrIMyWpn6SAFJRlIl2qS+MZaUWAFDTMAB2cZdd7toZPZ8dG0dd7zGwi7vAL+uxeOZM4xpNaWhsrRslJwfQMivfX2XeTouDpUX6CXFNL3+TVQDD58TgHlfykP+bWxaMeVLK/Wse6H+kSg60ZeF8ixKnzIBVUMQy4vD6XvixTUsXS8VErMIdT7PpA38V5358lOBLjON7scICACZrfBEm/Axc1R5UZPGRLWVbB4BlcUDUGqtxZz+lXWDeijH/u3B873PYpwyj9CISbsHOjJ1w0wUR82c3saHnrsPbCX+zAIFrUx6Gs+RLC534y7ZBoPTBpBed4Ptw4luozRPgYU8VpZd/+kmgbaIt1pvSagi9yafrWSfqO9A+RJaDs0YA0bYMQV9VSzBd2+I/wgp3lQX4m2mbY6RWiSD1+ekEaPwu2nRdY3ayhU73h/ydmvsuMZlP707vUCx11mAXJwJJCgbChe5Qm5WFc88k2be54XcRz67L3IypADPgn/oW0JaF4XoRoqRucBN+j0Qlw8Q+NmPffiX914IAoK4sBN8r3ibG4mOWSHq+pikKQLjQDUkKBtbvdSMB4JEGu99j9ogDAM4BAB955BH8+te/Rl9fHwBYAMAZ2blzJ5ycnKDRaC7dKK9QcQDAK1eOnBoHx9gFVd0A4os6sO+Q9TX6qXo+fe40xO1i6/nObDR+sxTe+ljUDtVdUhBobtGYydlnb+k2XethKnC+oLEXjepotAh3oy4vDVoraWHiizpQ23ts3ufO6FnfegiJ+g5Iqg/OGWOY3XQI8UUdaJ6HaTw61ISmRLIGsL7E39IyUeyHMW+aJXk69GEL8BfEFeMOF0sLz1JnDVjcZMr9ax7o319uiq86lbmDjkH0vgWrzMDcyuSnES11txnvRjFfk18gDryXeM9g+W4FNYanglUWAJCjcEOM6FtEKpxRlZcKvTIFCoUCx2csk01SQPA+YJ4P8SK306EPUTpJFW8BU7QN78u3EHPJ6srCkdhHMcFYgtjwv1gQBVZwV2CziATJIfIfkajyxGgQHYt3KmwtxFIyps43joPCevpHS3heO/F92HRC6AS9JXN9hgAiqyH3Y6lRR8zRn7GVeObbIXKsYdB7ZbmLGpnKDIv9oVakE/cFcafdxXlpmGKQa9IQsZpmAAteod2f7Iex1MVkRXwngkWVhRPl+VL7W13sg1UpNEHkI8GzxLNPBNyOSebv6c+E/8aJZgnScr3gIvgWiQoTGSdRySDWZIv0gwUDQDcNWcYtWvuD3fcqCv0RKjQxwx/1jyCeo+vT2fUOs1ccAHAOAHjTTTcRtXyffvppODk54cIF8hf5+Pg4brzxRqxfv/7SjfIKFQcAvHLlwOFTlCWLX9YDaY11K+BP1fOBYwfAbmKjoLfAbgCYWKXCjqxkhJYnou5w3SVxB09OTkFeS9c0XUjptvPTVtOMil4oGvZDWCQFV/gN4mU7UCcPgL6m2QKoCcp7Ia/tnzN/38mxCbQfOg6FQoEEXTsRXzhXS6/oRUZlH05aYW7OSF9nPjr20q6tMf+/Wj1YsvSBqI98kjgUZyxXtXkC7IyX2rTuLHXW4MtgHuX+nWk50ukKGPs0OBdMW1zcou4gDq5/xm9HoMDVJuN1pmWlfoZvYpcT974QvZ0kNeTS4C+iWIwU6U4kSXYgQL4NupxEVOemQaFQ4GCpBNAyAHOrz0zz/i9A+DEg/xaQ/AfI+BhIexfgvQGwXwGSXsR49JM4EbAC53z/SqRusdWaMuNRpxUgQbIZ4ZLNWC94h5rDMxnPQNenw3GzWs1FEQ8QaT5WcFfg4ZRVSJq2QrFUTEQonBGpcMGR2JcJ971zLBn/V5QeCkNVPbVvlHX9pOV0OiF0kqHTgkhw6MRZJBeTBJAZwo/5/L7Z7UE9b4OfAqXZAuxhKy1A4WwiSASPHKtYSoPECZ+/kJbr6KfAUjGRpGRgdQod17cq7l+0S9tbZNKNyPSDwnyPfyqlSRMPcB9AfdJTNtdrVPoFlHofMESbECFyI3RuviY7xJ8uGAAG55K5C1N1u+2+V5rvh1ChK5KUTNzlKsGdXlFY5p6CjznZ9r4C7RYHAJwDAF533XV49NFHqf+vX78eTk5OGBmxZOKsXbsWt95666UZ4RUsDgB45Yp5YtecpkGbVkB79WxOpJgp/Wa14L2NlttVgD2FYuxQp4FZyENyAxs1QzUXHQTOkDjMq3jEF3WgdXD+PXrw+AjCdAYE6aXw0iXBW74NERmfwUe2BVrRTlRYqZaR1XgIycWdGDhOB9dPTk5h+PQ4WgdPIrdlEPzyHiQWtUOhUCCrfm7Ln3nLazatW3nnUZtjrm3g44hZ2pWRvausHixirS943C+JQ3Ao8V+ozBXgE7N0IjPtq1A+XgqlyQQr3BQWbM98OQdNBQIgx5V65gGf3+MBDn343Re3Abu5/oiWeCBc5D4nABRId+Hgnluwhv13GhRxV2OZKw0i3kigySCRRQLwxNvAUbjCV7YFmqxI1OQJkCdMxOm9T1g//JPWWa0AMbsdMAjpZNl5qWjWxKBd5ouu9B9xMOULHI3dQDy3W7AdVXmp2CvdihjRd3iC/xw1h/fU70HXW4hRHzpFSVvUk1ZjH31lWyl9xCjcEKr4EftTvyX62sb0ofTx3B7lNHubDFF43Cwh9IZwvSmsoKQburbDxP5pH7IkgGhbhtCYzSL6fMclGEudNXjSWwlDlikPoFyuwKsBCmLf8IRCggiyOZomgNzhrEZ5Dr1/zgaSefRKEl4CS8UEU7qJ0MmGuB/M+jDFAcZKPREl9kBuMV0RJKngR+K+XYp3cM4s8TbhEha9hwjNdgSn7yaIOL4ysgTbLuFXVKyh3W7cEl+smSamvCh4EgWl9t8vyvNFqNAVgRkBhF5dFbqf/E60JQ4AOAcAXLZsGe6++27q/5988gmcnJxgMBisXnvttddemhFeweIAgFemWKtla8sKaI+e9w+dQmErzUo1L/1mLwAUNmfDJVtA1XFNqBaB28xF1WDVRWUHdw+fQaK+A3lm7lqusRs5zYNW3cBnz59F78leGAeMiK/h4ytlMDwKYhFYmIwU8TZwZc4Ilu9AsmQr6jXRVvPkJeg7UNU9gkMnzqK+7xhU9aZKIQlFHeAauyGv6UdO40EoFArkNVovL2eryWoOglfabTWf4YXJC1AX++KcmWu3n7XO4lApLA0GS+WFCJE7DgfQFTrO+dyG1/0lFuDPJUGMzIwd+DQpgvg8RsAlAGCRMgXlmVxMhfyNeuZ3sXcRB+g9e8IQkuGGJCVj2rVlGwCylF44u+ePSAr7C/GMh6Lfp+MR3dUI0psAYHQhB6miTWArPeEv+wHpKl/0sz7GBa/fWx76QXcCBXvszvtXkc2HTknOdzZhxtylOBz3KspyuQiTbkOc8Gs8YJavbptuG9QtKiKmrjphA1gqJsLlpMXpa+H7lD4SlJ4IkG9DsTqccJdy3WiLmHOCBG0yX5QXa4l981FSORHDmds0CH5ZDzIbSCbpTP7J2fuuRR5M6O9Fl3g85KlCnjoddVo6EbREmoFlZqzgZ/coUZ1HE0H+6U9blp/0VhI6PB1KVu8oZL0FloqJTzLeInSyPYWMBd3JiQBL6YVQoSsUhf7EPn9RQFtVn0hdi/pZsa8zLU/4LmKkHtgr9iD2oJvkG6Jv94xNyNQHLAgA6spCIDEwEJDzDdTFPgu6T5CzB6FCV2xn7SXmHK0vvmjvyBlxAMA5AOC6detw4403Uv+PiYnB4sWLsXHjRuIgUSqVWLx4MQEW/6+IAwBemTJy5hxSjN1Q19Ouxhkr4GxL2Hx6PnxyDGnlPWCZWbnMS7/Z26LK5HDNMSX0ZWpF8CkUQ9qmBKeZg8rBSkxMXpx1ru05hiQ9eaDJa/uRWtaN46OkG3j47DCUHUpwmjhIbUlFdEU6nLPSEG6UIy4vBnzht2CpGEhQesJftgUGiStKysutumpTjN1ILu5EfFEH+NNJoglrXmP/vAAwp3kAwtoG5DaT7rhEQwcK9h22SGczfHYYkszviYNtf8Y7FofKDLMwXs6AMfkN4vovdzOIOC5/bho4Km/4i79CcNoW4nD/R1g8hJpAlOaaGMRGDQ+tXLq8VrXffxGH573R/8L6QD5ChW7gZXojXOSORAVjThB4KPh+TDCW4I1EkixxJzOSGsf7XCXCSuSIzU8EX/idKTWIfBeMCRssD3uvW0zu3ma53Xn/RhtVKFJyUZaZOmfal1PhdKLkcf/lMOQkI0i2DYECMn+dX3kg+AVxxLgM7LepOT/KpVmnr/LXWaSCyc2OIcCSqVSeaV1ksgy0KoJRky8i9gxD0UwACHZJF4SVfZBU91H7aGpqCqr6AatkJEHETmK8T7ryIZfR7lvzSiD/iSQtyDNxfrV5aVjlTruJPwojXcTH9z5L9JGbYoqBfNqMRfti6jOIk+8hYlNn4gDDhG4QZO8h9joj63NC9xG5myzKxIGxBPmSbxGa4WqRhmebmCST7MnYDlm+34IB4E9tPA0T4UJ3fLA3ibacuqghqS+9KO9Hc3EAwHlYwE5OTqisrAQAHD16FDfffDOcnJzwyCOPYMeOHfjggw9wzTXXwMnJCZ6enpdt0FeKOADglSkdR04jpvAAQnLbiJe7NSvgXHoePXce6voBJBd3IknfidKOYaul3+ZrmR1a7M4S4gOuDD/IFQgrkcE5SwBWtRqZnZlgN7FRfqj8Z4PAqakpZDYcQuqsAy2veRDx+g7sn8WALD9UDnYTm0pjE2GUwyNXiPASGVhKBlLFW6iDwU+2FemirajVZliQQXKbByGu6iNy+Vm4c+0AgGnVVWDqkpFcUURYMNX1A0g2dKF7VlqY9iPNyBSRNVXrVd9YxhVp/ajA8lTZbkx40YlyKz3WYKmzGve5qhGWlohIhTN8ZVsQr3QHX/gtnvVNow6iv7vL4C3djEiFM5RZESjRsDDqZ7IoTjGW4H0zhuv9nAdwh2cSvoyLQbjQHSpdgCnBrcRjTgDYEv0MwFiCWr9biYP4/sTnsNSFdjc+FqCCuyiJAoCxCnccClxO6OJc5CNAReKCEz8fqZIjV8pGba71VC8zbYD9b6I/ozIA/rIf4JL2L5IFqk8AW+RBXJvN/xwsFRM7OZH4WwQNOlZxV1Js1BkAqMqKQD/3c+L+V1yisJahQm2eAC3qvWjMSiT2ZcqshNDu8iZIqw8ivaKX+vs/M34egvJeCwKIi6QBQa5fEP3xMsi5mwPAQk06wRxf6aFCabYAhiyyAohHkoR4xnDcq0QfKsHXCJGTbtyvhO+BpWLiSR+a+PLIdBxglNgD8XIGCoymsocyAxMSvRceSqHTD70tWo/SQg+cN7OSg7EEaYLNiBJb7sWvhe8R/QdnuFiAzEvZklVeiBR7YF0AXebvMS81lE1lP+vdaE0cAHAOALh//35s3LgRKpWK+kyhUOD666/H4sWL4eTkROUCXLduHc6du7yVDq4EcQDAK1MqOo/ihRAdljqbSkQlFHXYtALa0vOFySkU7z+C+KIO5DQNQlJ9EILyXuwf6QOvhWdR+m1O9m9jFh41ixX6XqLAnkIxvLRCqPdrkdWVZUoWPVCGiQs/fb1PjU1YZTRqW4bALulC/r4h6toT4ycgahNRLGZtjylGcU+hGFE6HnjireAoaJdljMINoZJNKJf7oqhm34LcuPYAwJzmAYQUi+CSHwH3glhwq4zE99wSk0XXvJZrUYcGZSnriYOtrMDN4lBhq5hE/F02k7xnp6cbQjNC4S/7ASHyHymrSIr0R3wf5U8c4l78YITKd8JXtgUFLDr9jDbwj6TrN+LfWOqsATPVH9FST2hLgpCa6Y0woducALCE9S/qmYwoMpXM3cHbLNzVr/onIVjoD57UBZNmZI2+yPXoNFjWKran9RjFyDaruWurtcn8CD02pZjiRb/kv2xGRngQjPx0CLnfEddKRFuQrGRitZcYy319yLiz9G1ETJpYE4QWdSRxf4TbJ9g0k1IlKxEtqkgU1tOW79zmQdznQcdwvp9YZiJElXXjxFnT39jgiTELAkhs4QEsc9aA5UZXdDnL/JPF3GfXAnZNJEMJdsRJwROSBBBWupB4xmDSO8ScRKIf8J2QrMMbIDPp4sOoJLNnmeIAE+QMRIrckakPQEFpENiFu5BS6ILPZa+b6X8FxHoG9mfQfZ3z/i9EpO8Cy0oS7o/S36DuXZvyMCLFHkhSMC4L+CssDUac3PQjaYU7bVV9K1jlAICXSOwqBWcufX19CAoKwtdff41t27ZBqVTanWLif5s4AOCVJ5OTU0gydBIv3qcCCpAznWyYX9YDWQ2dX86Wnpv7TyDR0Em5MmcICdJmg83Sb9ZaQU8hmHkkw/RhHzXCSuRwzhIgtkKJwt5CCgSWDpT+5LJxfSOjSDRYJlaeiaVLK++hGLUNRxrAbjLVKtb16aBqz4NHrhBBeinicyKm3b/k4eAj2wKV8AeLeKuLAQDTa2rhlh+N4GIR9hRx4VkYD351BfV9duMhJJgReUYnRiGuT8b+eJrsMMm8BbrSIFMrYkBXGowcQyCixKbKAiwVE6Eifzzpwsa4Jx2/dtznr/CXfIcYxWxw5oXIdHdi7d6LTAZLxQRX6ozTe/4IMJZggrEErybR5a/uZ6/EMrdU/N1djgihO5Kn2ZozDMe50sGoBV9R4zrBvBmPcVfRhzlnFZZ7cixA4B0uKgQHbSWD/Hm7UJ3L/0kAsF4rQJYsESylN7LVLGQp0yGUCJGULkIYTwxmsgQ/xknxTaQEZ73+SLtm9z4FX9kWvJ5KE0CeSnsBrtnp0HM+JMaXIlHAnzIAACAASURBVHfHLo4pxnKZm4AAPStCtyAgIxAsFROBsu3gqLxRpxXgiM/fqfv3eaxAqkhIxSO2ygOhr24i9tSrkXRC6Ed8tchqPAR2cReVGL196BSR81LbMoSXwvUm17I7zTweC7h7XgBYniPAGgadJ/Cu3WpsjiH/7gs06ajNS0NJLhs52dGoTd5IWhnlrkQVjsd5a6kfI268MOJZOzkRpv0sdIVU6wdlsTckegY4hc5IKthJ6HOb6n3oSoPRyX8Dw3tXQcP52Kr1j6Vi4i3BBuq+Z1OfQJzMRDbJK1kYEeSnNK0xCNFST4RkeBNz3RyjdADASyQLBoAOocUBABcuQyfH0DZ4av4Lf6IcHz2HzYIai0PSRdJAWAFnxmBNz/3Hz4JX1g1hJVkCjWvcD88CNkRtYrsBoKI9D+9xLFOMbJYq4K+TwCNXCFmryZqY3ZVN1Q4+dW7hOpqdxHm2mzahqAMHDp/G6MQoZPtlRAm7GZJKuEEMjsIVPMk2i8MhXO6MaPF3qMqMtlke7qcAwNzmQwgvkcG9MJZiuDKLWPAqTEJ6TS0dl1XeC1FVH06NTaDvVB+4FaE4EkGngDkTvNx0mBQxocveCp3O0wJ0fRKTgKXOGsS6kYCkPPFVm6Ds8T20JWcVQ4pkJROtUXSKDWHIn4kD92+h32KpswavBPMQKnRFRq7JhZZlFotoqy+e3JUYV2TSs8SzX0h/Hev3Ki32E9eNthxOet2CUmUSipQpGDMrVWdPO9esgVqaimd9hFjmbDvx8UzLdX+eBko+f4avdDOeSFlDjfc1yfsIN8pRn0i7O8e9/2Dh1rwvgQY+98a8jnvdFPBOC0aYfBdiFK6ozUuD2OcjQjeNyr1m1khfi/jULYJaYqyS6oNI0HeifzqWt2JWBZD4og7qWr07nTLIPM+hLQBYpxVgb6rIpp5WuCshVAchTumOEPkO+Mq2ICb9M5xjmpJc94autKj+8WH669S+MMUB0usxEwcYLnRHioaJVN1uFJWFQGrwgtzAxPp0ulbw46lroC0NhK4sBMJcH4RmuFq1/rFUTLxkxt5+mf8CkpQMhAndoNItnAiy0JZjCMResQdcuCGE7gK4DgB4qcQmALz55puxdOlSjI/bX0bq/5o4AODCpaj9MMTVfYQr72JK1/AZrA8rsngB3+ueTSUfNrcCztbzqbEJyGv7wS7usgAqvMoqfKMKRUaz/exfTq0GT4XILcbzWIAKYSUmYkiEUY6CnkKqdjCniQPFfgU6T3QuKGF0XvMhZOhqYSwrQXWBFLV56QRrl1XcBV3bYbQfa7fIYciuVcMlOx3RhWwTs1RhaSFIUnrBV7IJWvEulFRUXjQAKKptgEdhLIKKM4gkxwxdIryLWBDVNlIgNr6oA5XdI6gdqgW3LABnAm6nDuojsY+YDpMCV+gMe6DL2Qau2lQ1gaViIlnJxCqGCYzf7yzCCOM22i3GvBVpUmerh+LnsfHE2vFYNPFj1OsmPMui07bcz1qDpdNpW75PjEao0A3yQlMQfYExGAkKhgXzcnY77UuP60DkWrySSoLA77MZcFFJ8KwPHSfV4UGnFKn2fAQZ4nTkStk4WqNYEAA8VqvA+yHpNoHM7ObpupkAZVFpJAHkE/VWhBvl6DRLSzMScCcYfPKQfzSWdn3ez16FpS5y3LVbiR3cAIQrdqEoi4c3XEk38EHufyjw1S71RXlJIbGvIrRkQuiQ3DYk6E0lBqempqCeRQD5595i6tpGjwdpC3Hk03YBwNo8Adb7Kazq6QnfFPjKtiJE/iNiFG6UZS9DsgPZ/M/AVnpi56zqHx4S0gr/lJU4wBipJ6IkHkjK34nOOg6M5RHg6XaDmfUF8aywvE2Q5fshUuw+Zxzq02Zl4DYKXqGsjGKt7yUHgJn6AESI3PGf2Fjy702kcADASyQ2AeANN9yAtWvXXs6xXHXiAIALk5PTMWrJBvpX+MWWis6j+JtbltWX8HsJpsLw2U0md2Lb4ClCzxMXJqFrO4x4s1q45i26VIPv1OHYWya3C/xpewrgWyjB3W7Wq0vsUCkQpJfCNTsDwpZs2m3cWwBhmxApzSkw9hvntgaOnwJGujDeVQajPA614kC0S33RJg9Au9QHFfpsavyS6oPgl3dA2qayILGETxNAErKCKWKBtRYk3wGW8BtUaoUXBQDmNQ8i0qiCW0GMRZWLcKMcHoVx8NWnQFpvijuUVh9EkmE/oiuEEBr9MWlW4aKH+7LpMMndAV1FJPIKPZGQvpVKwOyZGkpazUI+JQDFvuinrc9ZSOcku9tZjgFvOulzfDiZsuXuoB+pa/3TTQduliGQOuTSp9NczAUA+0JXmoGl5QgTf4+VZpahh1IehndeJFJEW+HMDsZLjCRiHiGun2OdrxLZUhZ6SsULi/8rFeM+N8u8iLPbchc17nBWY51LPNF3UuJzhD5+yPVDuFGOoWDafdsXuhIvmgX5L3NW49t0su7rDOv5ThcVvmb5IzSVj6XOahzypHM+ngpbQ4GvVnkQqgtkxN5S1Q1gmdmYv+VXI1HfibbBUxg9RxJAWMVdxPyGve6g+jka+7JdALBOK4BQIrSqr3enQwfmav8S0LGTD3FXIkFJJg63FgeYpGDAP2MnWHmu+P/sfXlwE1e6fSV5NVP1e1VJZklm3ryZB0mAhH0PJEBC9oUQkpCdrIQEwg42liXZkhdZtmXL8m7LtnZZu9StxVptyTsYg23A7PsSQnYmCUkmBM7vj7bVupYMZBIymfe4VbcorFb37Vb3vae/7zvnnO234UivGqowB562HEzTsOUDTxsfQqk1XvZlaI8VoH7D9Fw0yqj1ZF51AOiK5KHIzMfCQjUbGRa4QdPXAODVasMCwLvuugtjx479Jcfyb9euAcAf1/af+RLVLYdQ3XIIPcc+/9n3f/HiRZQ0HiAXKm4D8f+K8EGEdp+BbvMxUD2n8NW5b6PXuff455C3HIKnL96pwr3zMDIjCgga1RCEzHAdCF0WANr2BvCuefi00H1SxtorLWBCQasdoWOkq8hgXSB9cEg08Pw/gA93Ans9QLcKaC/F2aYitBol6PHURhejXQ3V2OOUorW7NxpBkzS2QrqlBqFj7PiDR5uQ3WSFOGSAxr4JGnvysAuE3ClAnvV9RBxZiPTs+8kA0NbbD0G4GvmtxoQAsKjdAX5TBXJb9KB3MJZe6i07sdJVgnrrWgJ87LW+xgLAnTrYO6pRrXkXigHplUVSNbGAFltE+DyXXegvCG+C3bwm4XnPzGQEfYt4b7PgLPNmzIwRfZ6kuCdq2TVJYEeZNR2VDkGUpRnZPGh1xY+T34jtOyofih7jh4yboaY4WFH/NAGQ5urvg8K8AgqnEBEFSSZ4NpWpFzOZNOhrNPwoAFhtrSPu0ccKa5Cn0UJlMsNmNyHgMqLTx0S71lfaMYLjxkcCNgpbUU7au2U1KyHroPC1iI1q9sjuJ46xILcOBcGyIYQX1nptJMeNWZnMddXEpLovCm/GTi9zv+92lWCnry6OoX5vbhN7LrIW1LQcwo6TX7AEkAHm+uLKDmJM5zNY1uyZ2hevGAD2hgx4XRYf8V9XV3ZJ4FUzxP3jmfrHhmyTMWwdYLpxDYz+bFzc24Av++2wtAjgbhPhXepZ4ppmmtdfcgxyp4DYfsWAJmO5Lf4+vhqdamLKNe7OYufM+wpd1wDgVWzDAsDU1FTccMMNOHjw4C85nn+rdg0AXnm7cOEivLtOQ91xNGof9sOFn5c8dPab7/G2qouYJHMb9pCpmFyGEDIYBdxz6nPQNI0jZ/4OdcfRYT1qtdu2gNtYgqJ2O1J9Bii2uy8LAOVbXVhQSdb/zZGQdVVcL4XCVmaf+p3eeBJJTDSw84NOJhr40V6gvRTokgN9JmCPByc6bQmZm/uofOzwq9G08zgC/aeR6qtHVnM1cQznAAGkJFDFRP8GZDjkTgEkVBIqnaSDhdixFibTqriU2z8DAMs7G8BrLEsI/lgQaAevsQySVhNcOw5B092JlGAJqBoS+Gz3rkOkIx+hwEY07rWgerMVpYYkaG0bUEVlYxSXrZ17ILceClcmfPq3iX2clE5KuDi+Xl6DB1Pl+E7A1GwdEP0Bz9bcRSyYd+aydmGLpGomctKQRSxywXYJs6BewhauWfUSMSa7aSU05lV4zLSAON5i7XzUOTNwsGQ2W68muBV3cJg0JF9uRqtbi3/0e64I/H3dT+P54iry/jRugsdbkpAF3OY1YDzfDSqN1R/MLmVt8KZopqCo3Y6SNishAq0Tv0IcQ6zJQnGrFffp5ka/O73m8YQvTa9xSebxsfq10Zed3e5SNO0gJZBeryMFoWubD2Pz4U9x4MyXkA/oZeo6jxGRwueKg8QxTqmX/igAGHQbMYpLRv3FRsklwVeGnYyAbrS+xZZe0EJIDDxITUKiDvCFgTpAvmklHB4pLu5tAPZ5EeksRH0zH5pIKpmOH4joDdeHinInWd9m5gFKGBfJvhrdFhJDYuQT5/ic3HkNAF7FNiwA/PLLLzF69GhMmzYNJ06c+CXH9G/TrgHAK28fffkt1B1H4er9AJ6+D6BsP4KPvox3d/gp7fin5zAnj33jv0fciNDuM3i1ZjMxGadYd7BRwG3HGUX/rceg6TiaGLz0fwhpuw3p4WqGoNBoQU7YisCR4X2AA0eYqNqMHHYymy5yg+slowOPlDBRQGHIDHHECv+RxoT7i0YDD9A40qPChc3VxOK9q8mAEKWKX6gDOiYV3OqHpWcHknylSA/VE2M37GzAOk8VuI6VWFm/EM8ZnsB92nuiBemTlJPxtiINVVQ2ExGgeZBZ3kW7pxSNu67M2i0RAHT07YUwXIPcVv0lAaCsg4K03YaUQCk4HhsygnYIGsvRVf0YsVA3RzJQ7n8f0zWTMUM3Ay85ViHPXQi9eSXW1pLOAhsUpQlTrhDeCL/urbjFMceQj670mbggvBFq6X9jqmo8sVjeo56LERwWYK6vKxuonYoX0VW6Br1cEy/ElIkUtw6rX4bevBIFwTLM0s+Ji9J8LfpLdNuIYF50DI+LaQQdSnzec2V1gFs6KjBRwNb/zc4yQ+xYj3q3eFgpmIw6G5J5ydHjv13FOqE8pJ8PWQeFukYyRZ3MY9PkD4g0qPUwaeKXbWwd4CT1RDwnk8cBwFEcGt/FMI+/KL2fYQL71dhLF8RJFGU4+4nv53n3oHHPGXQd+SxKABk6P2i9rQlB5pUCwN6QASsqdNH93cWnUUNnXRJ8vTHE/aOM5kYjf0VmPqopIaRmPlkHmGlBlTMdOdb1cFIVOLfTBezz4kCPEqpwClyRPDygZUH1DM20uLQycY8PsYFjaxAziFrWq9XNARG4KtL1ZLmRvgYAr2IbFgBmZmZizZo1+I//+A/89re/xYIFC5CSkoLMzMxh+/+1dg0AXnnrO/F5VI8vtJuxD9t16uzPeoz2Ax9jZCo7ebyj3hqtG4vVBLszzQtr9wn4dp2OetTWNO9PWPcX2n0G1t5+CMPyaJpS2uZAqs8Aw674iN1gN+7yYr3TiBExThILqygke+pxXyELCkdy3BAGKBS1OcBpMEDV4xleUuZ4E8w7lNB438fm9nx8v4eZ8L/f7UGbR4tWtzbhYrSroQp7nFJUh7XgNpYzEcw+C9aF12ERtQjTtTOIiT9Rn185D6O4Tiws1ICnKUK2bTVcliS0bd32TwPAqs1B8JpKhwV94jCF1XYaz9U6MTvPhdsGoiojU91YVq/FvhLWieKbrFtQ6eRjtnYaMe6ZutnYaF6C+0Vs+ncMj0Y1xS7IdvNaQkPv89zboHSSTN02xWKczvodllaNirs2MzXT8XyliFi4iiwiFJn5cCdgT1qDOQwTc5iFWE2nE+PprXoUevNKVIaqwWsqw6QYod+J6gnYnHtLdFtl7hvEvWUxqXBys/2y4O+zXRbkU6T8xhvlNZBRKSijudgW1Ce8t7YGDHhKqBxIyd6IuYqx0bG9bFwIWQcFsyefAFSvcNmaSmGtAJUhhv293pdBXFeBbSVeK6shxnQbx42PSh5kU+SZt6AvoEFvsB777eI4cpKu8xjx/TWG7XD2nooSQExdx3F7Klsm8khRM7a0hYjxHjLzfhQA3B6sRxWdgScK5ZidZUbKQKr2Uj3W/eMR3X3Rv5dY01BhF8AYEEFq5mHJkOshsnBRQfPgtdXiw60OhsizywpFMBUyGxfLh7iybLK+E3fsSjoNK82v4m71LGLbXDurBBDLZr9aXe/NxruVMuL80rzUNQB4FduwAHCo2PPg/xP1wc/+r7VrAPDK2vc/XIBj+ykYtrCMVG3nUTTsPP2zaUhevHgROR4y3VsU3B89Hs++k/jsxWrGPL6+8zBomkZDX3wkK9B/GvptXchuVoHfVE6AE37ABFmHI8reHdpLN1N4RU2Kwy41WiEMmbHSSqaFF1Q6IeugkN1kRWajBZ6Dl6gv7FPB61sDZTgFW7pKcX6vG1/00ghRKmz1M4t0c4MRKdV2SNRW9AwsUF32DBTa1yMvogHXZ8BD5icuC/qG9qfSBdExj01zYHFhMfR2M+HacaUAkN5xAJkRBXJatChsoyBqosDzUlhmpPFkhQtTshMTZ6JRlTQXTuWzzNcz+XfiZf0zw459bPVDuD2LqaF6TqaKWwT3lM8jFv12BZsuq7clw1H4N8xWjovb79P1j6CU5uK+HDZyNj3DGnX9SKSf5mnOg8ychtpL2MJ9kcuSHY7JpkFvXomqIHMPrvCmEWOYpxiL01mMu0l5bSpxnXhVBuwOGy8J/i7s9aB9iwyvVpE1ZjlGCaqc6ZBQG9Hsr00IAHtDBsi0VhxLH4VPsm4mxrXG+AJk7XY02DjEtZ2fypAZZmWaoLWsQ1mzFrIOCrmt9cT3l5qeh8KVidcqZdEXqXdLHThq2EDs77CZG2UCb+6IxEXvx8W8/D1b0Q5L9wkYuxgCyNvKrcQ5y4L70dNoIfa/z5H7owBgk1+OPGoDqpzDR3lj+1D3j+UD7h+VdgGKLWmgwuKohBBHTRKZltWJYPUUIGBXYH+zeYDJTaHExoPQuBZVzjRMi9GSfEw/nwV11Ca8ZnwGU2M+H+zjVZORps9hgaiF1bO8Wl3pzsRzRSzAvZ3rRlHLNQB4NduwAPDNN9/EW2+99aP6/7V2DQBeWTvx2TnUtR4mrMKcvaeg7TyKz7/+eRxkvvruPF6s7oxOHndwGwgyR2DXh5iXHyYmz/Kmg8PWprl3HkFFpxf8xnJkRupQ1O4gAGB+sx3pATOoffGOIJ6DIQhDZjxUYsJtghrcIcrDnRIOFprfwUqvACkN9Zid5yImOlETBdmARVz1Vldi8HesCZE2MSJNPHjbxVCFOejZWomTm63w2RRRKYonc1kpCpGS8SU1u8SQGJZA7ivCUhf/kkDvXu3dWFI5BdmlI4i/ZxWPwXROPXENR3A8mJ0TxBuKLryl7MLbqq14R70Vy9TdeFfTjfe03Viu3YYVmq14XebCC5XteLK4FbNzvRgnpIZlSF9J/zTjb9FFuqVsFibFMGWH63eVP4sNem7cIlxv5+C7LDaS9k32n6CleKig+VheMyl+gVROw6La1ahzZqCaysLtMXVLz8uUjIOCM7GDQmOH5LK2cEdkM6JjOSv+H+jNK1HtlzH3X7sDr9Q/SYznJflofJH9Z9RRWRgXc00fFBvQ6lbhhz3D1wGe6NNBE+biXhFrXTZJwOgdKlyMALjHWzosANweNMCZsRAdubcSY8o2vYmSFgNa9e8SgOpODvMClCzPg4rmQdZujz5X9+tZyZtH9PdD4cpEMcVBlikDapMJWwMG7PApcCHGzu+TyicH6l3z0B1xxr18PBUj7zI9OwjDluNQtB2Gues4RvHY6N99kjCC/R9il6eSGO9ud/y5XwoAGj15yHGsuyLwp3BlYqX5VeK65Tk2QE4LITXzYPQzUbemjgImDTykDnBBUSVCviq0uDToaNDiix4anQ06KKx5ENkZQtOrxkXE/jda38ai+keHfUbGK6diVB4fi6RqNkpoF0Qdba4WAJTTQswTsfPLTLEbxW3XAODVbNeEoH9C+98IAM//cAHffv8Dvvz2e3z29T/w0d+/xcnPz+HoJ1/j06/+OU3IjkOfoLb1UNybeXXzIew/8/OIQp/47BymZAaik8djshYE+z8kQGes0OsIjgf35DbC23cyDgCaenqR26IHt7F0WHaqrINCqs+Amm4XQsdCyOvKw5qmNXi14VU8ZH4UUzTDp1WfsS7DChMptfFcDRMFFEesEAQTA8vIPjsioRRE2plaHE+7CJpIKjz+IvgHAOBQ+6mpAhdafSoU0Skot61FrWU1Zmrvjo5lqnYqnja9gvX1iyGyLUclnQaTZlU0pfdCjL/tPMVYNKfPwu2ceCHiq9lHctyYKXZhUbUTk7MYcHMXx0Ys0q8rZhLX+HUHH2+61mGqZnrC3+BFw1OQUEkoolJQSCWjgEqCvfZR7M35A/pz/og+8R9RLZ+De9VT4747tvJJjEzT4H6xgSnCH8LOTFaVoMjMh8E/fMpMexlbuO0x9Y0XhTfCaFqO2oY8yDoolLSaobRtwMNash5wg3wylM5svCRlAcJtqS5IDdn4pCdxGvi7PU5428Uo96ZhZEy5wiDBQOHKRK5jPerd8VGw2O6uWgW19L+J8cjN76E8rEZPHWuZ97ngLxjB8WCywA6NaRXkPinxTL1iZ32BJ6onosqZxtgQ0snoDLA1rn+XzYru83vRX9Eb1GOPS4YdflUcAFxnJAWhKyMHIW85jOXabcTf83170bjrJE5oVxD31g5/fG3tcACwM6CCjE5BCZ16xQCQdP+4G7W0EFITDypPJpo6WMA1aCUYWwc4PdOMrUEttvr0CFEqdDZoEbArEPYxUchqZzryHBuuKMI/rvZeRsaIy7BwR3GdqHAwdb+1NKOn6WkeKGloz0Wk4+cjhTR1FKDCJsBdfLZG+oly1zUAeJXbNQD4E9r/FgB48vNz8O06DUfPyWh6RLf5KNQdR1HXdhjylsOQNx8C1XMK5/5x/kft++vvzsPYdRzW7njnCNUQf9qf0vz9p4nJfIOpF9rOo6gIH4zauYV2n8GS2i3kYm3uiQJA764TqNnSBEG4GunhakhjIhOJenbYCn5Qg0etj/3odOrzttWYJmIX3FE8N3IjzH65PgMhDh3tPbWIBDYSEyfVkoVs6zoYHIXoDRmwKD9eiJajqIXIsRZ1zgws05ORo5XBJOTY8gnrt37R9OjiN9Tlwif5M3wFTxMuDj93H8VzY16hCy8pndhA08hvYa/5Ooo5vydSy6Nj7My9hRjjI6YF0YjtKkqPMUXLMF4VH8X7sX2KajyerXgZg2SPkRw3yuwivFwaW5flRrmd0fpzNA1fNG9vFA/UASaWg2nUkK4XHu0SKFwZkHVQKGvWQWddB53+NcyLqbmboJ6A9Za3kKMiAfpL5dmgGnPxze54Mkj/thoom1LA0ZLiu2naouhYigbqALcPUwfYGzLA5xQhLca7eGbdFOQo+KgMyXGw/P7oeexJn4ARHA+WyyuYusbGGuKZ2uAXE+eTZlvBSA9RG9Dsr4ke76TmPeL67LeLsKuhCv2eeJea0iHSUJusfShtOkDohd4jbkRwx3Fsa7Lj03LWK/pC5h+GjXomAoAub3H0WbsS8JfI/aPIzIecFiLQRkbbbCExpGb+ED1AD1oajMxvYFMgYFeiJ1iPbUE9ymkepNQmKFyZeFh337D39diqx3FHjggjOTQezdcT+35fXhFTB8iHPSRGpDWLkVryb/jZQGCwXYLc+iE1qDrnNQB4lds1APgT2r8FAPz6U+D0DuCD3oHeA5zaxvST23D+aCfamjwweUMwbjkGS/cJOLafhLP3FDx9H8C36zSC/R8iMGChtu3oZ8Me6tz35/DpN58SdX0HP/oK8gFhZdu2k+A7dkbZd4P+tF9++9NBLtdB1vjVtR5GdfMhNOz8ANXNh6JewI7tJCFkDN8LtZmGvWcXCtus4DaWQNyiuywrVdZBIb/ViLn64VMpl+sL9VxizK+omCigpMUOnt8IU78vJv0bQqQlE5FwGjFxelvykWPeCLFtA+TmeNbkCI4HUzMsKHRsgpTahMlqFgjN0s1BeacFxYbkqPWbW/cOsbA6Mx7AVDVLOlhaxYggB7Wvo8Cci8UlMszOMGBqhheTMwKYlBHARKEfEwRejE9rwDi+G2N5LtzJdWE83417Mp2YlWvHPKkdT1a48FyNE6+qnXjHQGOVjQbXS0Hadunr/kCRCyu5aYDwRpwX3ohnatgo5UT1BKTHiEo/XsZEw25LV+Kushf/+d+q5k7QVXPjon3La4oxI4tdNKdnGpBv34hcczKckeHdEy5nC2e1kN6+7bVPMenSDgrlYQX05pXolj+BLbm3YFIMI3myehKKreUYzYuRvBGrke9ch6bOAnzV72BdP3ZZYW0RwtGaiScL2HO4k0ejhmbHUuVMg4TaiJZL1AHaPAV4roYFoy9WTsS8LC2q/KX4sJC162tMux9j+RRqrFxobRtR0mKMe6ZiAdGbpsWoc2Ygx7EOAV9l9Hj9nnLi+pypfQE7fErspaVo7tlLlnP0fUCQwxZXdWCpiqz9E9G96AmZsd8uwqcVLAD8h3jEFQPAbUE9qpxpKKCSoHAxoumbrO8g17Eetc7Ev/NQ949NxvdQbktnI20Jakd5GtJFparewpR/BOqJMVo8BchxrIXClYmN1reJ44xXTcSdpS/h9oxyjOC4MZZPga8tQg2dhXFpbBTu7ixLtBSgyMyHwcVlwN+2akQ6JMwLacdPTwt7W/Oxvo48r41O+hoAvMrtsgDw4MGDWLVqFe666y7853/+J2644Qbi87q6OmRmZuKrr766aoP8tbZ/CwB4sAloLQQ6ShntuNh/O8rwSVCKzboM7LbnYktbCKH+03GRusFu23YS2s1H4+RbLly8MDS0FQAAIABJREFUgKNnj8J1yAXDHgPaT7Xjw68/xIULFxDc/SGU7Ufg3Xkas8SNGMFh6vOU7UcYf9qWQzj88U+7d8794zyeLGaN38emN6C0LQCuXw9FrwU5EQPS/GZUbQ5AsbUFq01kLeCTeS68b9VilVOO7CYritovD/4K2sx42PwUMalO1U7F/caH8KDhGUyrfBej8jm4Q5SHSblyJDUosS6UoPaugGWP3pXuhmQg2pUeMCOv2cbKtey1IBJMRqSDXBgcA+KpUioZD0uUw0bVNqlkcXU/y2zJkAZrUaN/n7F+c2bgqHg8y7AU3IT08gy8bFxIfO9o9u/xXdYtsFg3oJzmocT4FsJBLTo7W7GtyY5dnkrspQqijiS7XcXYaxMhaJbDb+FAbF2O8lA1ZDF1ldJ2O1b7M7EhmIeiy0Re03x2FPEZ/T7DkAjlK6ZnWDDRQuEOHhtlvV/qRKZ9NR6Osbu6XJ+oGo/ckhH4JOev0FBpqKEzcSefjbLOEumI1OlrpSrIrFzkW5OgC/OgCnOgDqdCF+FBF+FCE0mFOsyBqomDTNsapJlWIcexFjmOdchyrEYlzRAHlE4hzmf8Pvpb9JfNg8a+CcVtNlSGGL3GDwonMMzfIjL1OkczB48XsvZ1d3CdKLYKoGhMQaAjD2f7bbiw14OOLcVQhTnwtxUSGokLCjSodTJpyEG9QpFjLRouUQeodWVjWowodm7JCIznWJCsqcLZrL9Gz0PPfxZvlNdAZ10XjWjGAfz6B6P7eUjHuLPkONbBPUSP8JxkQnS/3+aNQW9QjwP2bGwLU3FyMHNj5KHm5jURxJAZ2QFs8+mx35aNPr8aX5SwhKBzkglXDABDvirkOtZD7hQgw76KeNmaqp6MJ/QPYKnpBfBtK1BOMyxw0v1jCgpNXNgbE0eOQx0SlNsFKLFkEHWAq8rtCcc4OJ4apxB1zgy8XP8sptTOxxjpcoxM00a/f2+2CUVWcRSUvlJKioFn1RcwdYCmJKiMK9HUU8PUIx/yINKag0ggGZHOnyYS7WnOwyslFcRxcyPUNQB4ldslAaDZbMb/+3//j2ADD2X7SiQSXH/99bBarVd1oL/G9qsHgN+eBbqVQF9iFuAPexqwLcDUjuxqqMI+Khddrf5LgsCa1kNo3HMmKuL85T++xOYPNkOzWwPjXiM8hz3Q9Gug36NHw8EmlLd0wbH9BDZZ+4iHe0ntFoR2n0Fd22G0H/jkR5/aDxd+wIdff4iDnx+EZ387RvHYCfE+mQlrG2Tghqpg3WNGXV89NnrLsd5bAl5jGVJDZZiaQzJxY/ttqW6ME7gxI8eN+wpdeLzMheVmOrpAFbZZ8ZiFZJzO0s9G/R4DxBEr+D4LbktlQcHTVU6k+gyw7PYjtZUUZ52onoTbs1hm35t654DUjB0crwHq3gFZmO5K5s17yMRp8DHpxgJzLgFEHhXThBjtrAIytfakdg4KDRzIKDGU9SugcGUioHuTiKrY055EhUMUpw8mLWacHz7NuwNqOg251vfgMq/FPpsI+6h89HvKmbqpYD0Om1LwjYSxAbsg/B3CdYtQYn4XOssa1HglKGk1Q9ZBYbGDrf162vYKCtusCcFBTtiKJJcWbaL7cDbzZsyJSYFOV0+GzJsX3XaZkUyHv2+lUd6kgNa8Ctm25UiyLkWK9R1wbO+Ca3sPPNtypNlWQFr/Mrpyb0F37i34JOvmOG3AhYWaYe+dOqMFIYcK20NafLLTjON9WuzeXoMtXSXY2lWG3q2V6N8mx57ttWhsLIPaIoHXW4aArwK1LiHyHRujx/kkn7WcO1U4nomYtZpQHSiB0fgezg8QIS4Kb8SyWrJWcb7qCcRKEK2ukcLTkgtVmIOG9hzs3l4DXYQLb7sYBTYy/btCKcJD2vswRzMLKYYVqLQLIHasg+ESdYBDmayOgv/CW9xs3C00EpI2Uv5SlNlFDKklkFgC6FVqWczzMQGVdBrEjnWwegqIY55WLCHu1z0uGXZ6a7HfnoPdThm6I+6oW80biq5hf7N8pRH77SJGTiZkwFfSqdF9/l02+4oBoN4thtixDhU0H7O1ZE1qoj5Pew+mxETXF2gfQb0vG+FLgKlBDclZMT7Q92U7E45xa1CLEjoVxRQHpbYcTBXa4s59sUwJ+RCNwoIY68MRHA+eLVJBbU+ByrgShbQEDYeCbGZiP41IcwZTm/wTACAdzsUjearoMScIGX3UawDw6rZhAeDOnTvxm9/8BjfccANWr16N5uZmzJgxIw4AHj16FNdddx1ee+21qz7YX1v71QPAM/1AewkwoBA/tH/cTSFgZ+VDdjVUY59DjK3NHjTuOpUQAHr6PkBt62HsP/N3HD57GPQBGspdSniPkJp43iNe5HfK8b5LhrwIhXEC0p93DN8Ld98HsHSfgHnrCXz7/Q8/6tR2fLwDut06qHapsN5NRr6WGWnw3QoYgrlMxOxoCLodDeD6jMhrtkHWQYHjoYkF8kr6eyYa0nYbFlhfICN/mhnIapbDutsPns+I9y2k2PP7FgeEITM8h0IIHw9jTdMaMh2jnDqQivFgQoYbhQMp0KxGC7KarPDsa0AkIkCkmWSVhjsLIKeFKLWm4zkZO3mO5Lig05ZgqWwQqDgxVv4gsajm29dCoX8PMu06qKxJUDgz8KF4NJv6EvwOywsLo4vCgzEuDfMUY/GPwdqr0ntQ7EhBvmM9qpx8GNy5cDXI0GtYi68k44gFmgGBN8GrexMqKhV60wqo6HSk+0Rxi+Mj5oXIazUkJN5IGvX4UHw7xCUkS/ldzWJUNNZGt703n30pGJPmRkErBVm7HQp39iX9jhWuTOwrvTc65oMls4nPUlTFCe+P21Pd6PQZ4LMrcaLTdlntPeb5U0ZTdy5vMXJi6scOxDh8fC36L+is61DWrENtQz5CiueI62qtXYy5GjKyOTqXle15LF8FKixGU2cBtOFUGJvTUd/MR2RzIV4pY6NBt6U6MD9GPPhe7d0oNHEhsSWj/BJ1gEkWMsW4M+ePqOW/hDmpKmKcZfkroKTTobOsRnlYlRAAbgzmE/vi2ZYj37ERGnc2ccy9tITY9ynVW9HPdjVUY79dhN2uEnS1+pFNbU/4m01Nd2KXTYzeoC763W/z2Ofgs/KHrwgAtgcUkNLJKKO5RFTvx/Qk69sIXSadag6IUGji4pmSEuI8BusA4xjJ7jyIHevxQC7J3r+D67qkPd39YpYRPprrhMK4DlW+YnB9Blh3+8na5L1WpjSlifdPA0B7oxhThKwF3ANS5zUA+Au0YQHga6+9huuvvx5FRUXRv82dOzeh3t+f/vQnTJ48+eqM8FfcftUA8MIFoJ8CumoTa3/taUBPqD7OPWKntwb7HTnojriGdXmoadsFSbMTdTtUMO8zo+l4vCNG47Em5DXbwAtosVAeLx0yguNBOr0Lvl2nUdt6GCc+O3fFp/bpN5/Css8C6iCFyIkIXlKSRe9ilxylhg3wuNcN+MJq0XQsjMouJzheA6RtTIrxFbWTiNRdro8TOrHQSko2TNVOR5KvGBkhM0o2MwSOBZXseG7nupHmtyC32RYldYSPh/GOn6z9Ga+YgdsENVGgOSj3keo1QNFcy5zHkMXB35IHhWE9bIqlyOGvgJm/EL3pU3BOyMiZfJN1K17n5mBUHo841qvGp6FwZUJlT4G6/l0onEI0achoipb/HHIMrH3VOssbxD58kj9Ht21TLmYKzh3JMKkX44O82+OAX2z/R+YfGc9dpxA68yo8or03cYTE8BBELZooMMhrtiE9YEZtmxZ7xH/C5Jjat7HyB/B4bg1KmxlXEWGABOFPVzmj+ykPK6GzroOKipeDGexKpxCddc+gs+6ZOFHoaioLd3DjmdCPi2lsD9QjYFfi0+2Xd9/4dpebke/waKMgopBKiqYHu2qeIq6b2bAMeb5aFJl52Ca7h2AJu31pUIZSMUXDph0nKqdhJJ+JFI3h0dB5RdEXB6o1E42dEjR1FmJ8ekzNV/l7cb9DDr0aeaYUiG0b0OqviwMZ3UEd4WQxUTUe5zJuwp70CXg+tZA4B4tyOTT2ZKjtKSiOifKKI9boc5nfZiLqAN8wPgsptQmVTj557GA9vhOzXs5fFU5Bq7+OFa0O1qPfU4H9tmyELFUJn2lxRQ16h4Da89n/Fd3nx/JnrggAOhqkEDnWINm6lLh2c7WzkeZchjcsizBfNyfhfT74UmaNXF5nzxnORa4pBWtUpPB45UAd4NDu91XghXJSXHmywH5Za7qNCtI5Z7lSxcxHPiOblYjtuw2INKYyL6qbCxFql0DjyYQtgRNOoq735ZAs9LprAPCXaMMCwL/+9a+46aabiIL+4QDgjBkzcMstt1ydEf6K278aAP5w4SLO/3BhmMGdBjZXAbscCRefT7ZRCDqU6PLFv9Hv9NVhv12EbU0OglEX6P8Aum1dyI6o8R5dgIou67CCxfa9AfD8RmSF7BjFSwyyHihgRFtrWw6j+xLkkth24eIFtJ5shbpfHbVcm5nLLsbTM22oq18JhXENGjvyEQnzGPLEER8CR5pQ0GoH12eI1p8VNFOoNdLY5KSx0krjLb0TLyqceKrSiQdlrhimrhtjZGSUY7JmKjiNsqh+X2ajBdlNVkzIYM93XoELPJ8xTtuv8VgjnqdfJvY3rm42RqapMU3kjtYhiiNWyKwZaPAw7N/OiAAnlQ/jrGwcvo/RrRuuf5L5e0xRsOnBaeppKKN5cWDns5iF9FvBH7Aou4rYpsqZRpBB3q5i05PnM36HdsVz+EhyZ8IxnM+4OQ4UfpXz3zDYU+IWzKF9ln4OBAMWfDy/EaWbKYS2VOG9yjuI7QbT6BsczO/6ooIEaKkNbApf1u5ArUd82Sjgpfr8/Lq4+3lTtR2dDVo0OzX4dpf7iuzXekMGNMa8hClcmchzMIQcv+4t4pq55M9C4qmEwZWKzyXs9f9SOia6kHLdbxLX5a7y56KR7lS1NC69WONh665uzyjHBFW8luLb9kXQNWSBY3gfTle8L3BnQIWn6h+Obv9ELXsfZPBIWzurZT30ltWo9bCp+vxmO1J9RuLl7CHDI9H9PaCbi1KaCxmdgq1B1u2mJ1iPD6pZkHxReCPKLSugd4vRHRPR6w3WY5erHJP4ZEnARD6NzT6SONEb1OFiTMr6tPK1ywLA7qAO5TQPWfbVmK5hn7WJ6omo8CcT17uhLQflwfXYQL+KZ02PRLffQL96RUDJ35qPLPN6FFnScEfMy+vKYeoA1WY9AaxGcZ3IM+Vf9v6W01kYy2elqmaKXdHa5JJOKvG8v1ODSHATQuEMqDyZkBh4qKaEaLwCkojETBJA3rfS1wDgL9CGBYC/+c1vMH36dOJvwwHAu+++G7/97W9//tH9ytu/GgD2Hv8cjXvO4PtEIPB4F0P2SLDoXNzbgB2NBgQcymFrenb4FNhvF2F7ow1NO4/DvfMwSjtcUWFkUZMFwpAZ1H5Gr666rxpLGpZgeXA5JFslKOjQINVnxDNyciGelOUi/q/uOApj13HYtp9MfB5D2tGzR6Hp18B/hElD1Pf5MTJmInxFWopiQxL0vgENtg4JI1fQU4vIiQjo/UFkNjJjj51giodhnkpaKIwTujCmaDmxKE7STEZysCC6XWbIgiRPPdJ8pL7faxonOD4DDDvjbeO8h/14yEQSLMbVzMNIfj2WGZkJsKTFgHL9GqgdKQi35eGrglHDgr1EXTREzPn+ijVxk32z6iXiOzX8l7E+QXooERnkUsf+IeNm7CmfB6MtGSo6Ax8V3kN8fjx/DGbH6CVOUU9CpvlNzI6xxZqgnoBp2hlICkjB85tg3e2HouFd4vN7yh9hU3oiJtUbC8JjAfVgLwqpUKpdCaU1+UeDv1Kai/fqJHEAUGs2I+JUY6tfj4vDlF0M7cc7bfDZ2efQ4y2JyogYbcnE9WovfxCOjkq0BZIJkHJc9RhLFGgvwOO6x4nrM0osZKKghYo4aZEVtQMWeVw7xtUklgqZppmChrYc5NPrUWHKjHtpbPHX4l4tayO2poIF+zvSSZ9lNc2H3vx+1P5N1kGB7zehqN0RrXuVttmxhF5BjKGISkEBlYSwX46Qrwp2TyHkznSYta8Q+29UPAORYw10bhEBFntDBjxfQEaFuXJb3Ly3q6Ga2N8J7YrLAkC/rwI59rWEnt8E9QS8b33pssCnqbMAjZ1XzqINdxYg07oGWns+Ho8RfE9UB9jSYMR0ATnfrqktv6J7XGvbiCVF5eT1amCkr7LDVoSOJvBBPx5GsLsaBstKyAxJqKaEKDLzQYdzL3tea+rIYwkC1DUA+Au0YQHgH/7wB/z1r38l/jYcALz11lvxl7/85ecf3a+8/SsB4Lff/wBr90lUhA+i5/jnQ778LdCrB7ZrEvt+bmesw7q8emzxG6A2m2G1m7DFPwQE+lXYb8tGT8iEyjYKqY3FkLSZiHqs4g4KdTsUmKyZHLdwzNDei7tKl2BUbhpuE9RhSrYTPC85CS9Td6Nhx2ko2g7jw7PfJjzXwfbN+W/gPuSGca8xOulwXeRbPUcljZ90moVMjcohNyInIjDs9ILnNyE3YrssAJR1UHhMt4o8N9UkrA+I47YranPgdS0JeDkNDqQFTKD3BxO+Nddut2OO/hFi/2PlD+COzDJsoGlUBSuhNa5AkYmHfuVTlwRcHwv+hn3iKeivuB9Himdgv+gPhETIvJrpuD3VDlkM40/pFODvOayjxteCW3BvmiauMHyQiRk7zvTqSQnHcUF4M/aWzYXJljTwXSF01g3w2OrxeYzFWZnsb8T+lplegNaehCrTO5ivI9PCk9STsdqXhcCRIB6J8S6eohqP12VpxDV/UEYueq9pnHG/FT9ggpQuRJ3+PYYBfYXgr86ZAZFjLTR0ARGBGc11Y2vAgIBdgYOt5isCf4xtF42QQ4VtA3W4HQElpPQmJkrrzCDcSY6U3Y1IVwl2mV4krnefawULEDqkqLHXEKng8YrpGMnXYyzfAaqJXIxnZTFkqDHFbxHX+0EDef3z/Ctgak5HlYuHBktdtG6YSTOWEynb4uIRCe+Lb7NuhYrmQWtdF03VS1vtSPUZYOr3wXsohIKB/28MSIjjc6zLIHKshYxOgdixDjmOtSigklFJcYlrdLxoCqqcach2rIHGnY2uGBCYqWBJEGN5brR544HdHieZsj5i3HRJALgtUA+1OwtvGp8jxvuQbh78bfFSLj+1BzryIHMlwWItQXI1SWSLrQPsCcYD3oWF6iu4x4XQWtdBa10HEU36Dj9V6YSklXFAciaYzwJHmlDaYUeeJRta4wqo6DQUmflQezIve17PyxQxUUoXpO3XAOAv0YYFgPPnz8cNN9yAvXv3Rv+WCACGw2Fcd911ePrpp6/eKH+l7V8JAA99/BVqWg7B0n0C6o6jZA3dp4eY6N8eV8Lo364mZqHa7Dfg/awilPDfwKvcXNzGcWNOphOvSClw5TbIDRYEKC02W3iQODYiP6wYEh2zY4OnFrPrE9dwDe1T1DPxhHUxpstyow/7OIEP3p2nUd1yCDtOfnHJa9L3cR+Uu5RszeE+OxYXsRPH7akuyCwZ8ZZFnQWIBDYg0l0ercGTb3Ux0YYW+7AAsKjdgdddQwgbqokYlSMC35cYLN5XyIKP8UI3spou8cY8YBvH9atwb/0DcddrbOXTWKvfCJ11LdS61VHWJ4Q34vvsW7GjeC6y0lfhxdQCTOEYMDHdgZoB4FZHC/GiYhqxv/a8W+FIewJLiqujE36L4lliwSvlv4GXS+WocqajypmGSmca5E5BQjLITM00fCz+nxjgdxP2ld4Ls5VlsirpdOjN70NN8UHTNCjdW/gm+0/4IPt3mB7jrTtbOxPVzvQBUJqOOtNyPKmdN+SaTMTzzueJv+WWjESZLRt38cjI62AfmTpgsxfzGxW22sHzGVHSbkWhOW0gFXxlwr0ldCqK6E1oCyjwQswCu7iAQm+IIYCc7krsupGof7/bgzaPFq1uFqio3VnIHUgDn5bcFb2+XxSORqRDglNVLDnkQsbNaGlj66zCHVLQNA2+hwR0g6ngPLMsuq0xxBAJ7sgmSRfz9LPgasvGTC2bznzO8gi87WLow3x0BOvgtSmioFXhyiC+byidkBAAfpp3B7S2DVDR/Kj9mzBkhjhiiz4fDQMgcJNXg0kxMiqvGZ9BMcVBCZ2KmiE1mQdjyDLnM34PDZWGamc6sh1roHZnoyvIsHu3+A1YUkRhfrYTdcbENXMHbBnEmA/YMi8JAJt9deDblhOSL1PUk6EM/vOEiEt1a4sQ+qAAHlst1CZSjD22DjAW7I7geDBFaEGR/VLexEJo7UnMs+pIRWVIzhCpJOx8NprvRn4LhVSfEYZd3jjwV9JJgeM1oKDZjDq3CPXmFai281BqTYe3dXjB6HBnAebG2BDOFrPyUNcA4NVtwwLA6upqXHfddbj//vvx5ZeMXddQAHjq1CmMHj0a119/PSwWy9Uf7a+s/asA4MWLF6P6eqHdZ6DuOAr79pM4+83AtgdCQGdFwgXnix4aTZQK25wV6BA/QUx2Sv4LGMWJd5IYw3NidqYKq2oqIGtlC7el7TbcP4TxNvEK/FgnqCdgtGRjdP/ihj3QbT4Gd98HuHDhYtz5AsAn33wC814znAedjAZVnwqhRi6mpLPWZ/eLDSgy86H1ZMVPNK1ZiDRyEdnviE5Y0nYH+F5jQgBY2GbFIvuSuHHfMZBOu0/qImrKysNKlHorcEeM9MqCChfSAiaUDlczM9Artzix3iPHbP3chNfqYc18eEom4GLMb9VjXIKlFSQT8N0qtm6PayOL+VdV3hH9bmv6HMitAhTbN+DvIrbg/azgz5jIMSHNxIOESkLBQM92rImCwKFkEL5xCfaUz8OOygdhsW4gFhUVlRp1GCmL1IOmaWhtm9CgfR0bK24n9iNVPhofbbMn4QXt/GHvoXmKsTiSOxIqOg2rKgoSAsD5Ra44kJ4eMEPSYod1tx8CjwJK2yZoreuvKPqX7VgLi0fCRL5cRjyZS+NxMQ03bcJWnx6NlAp/73NeMQDEPi92R0wIxKSBvd4y5DjWopoSoE/GspG/z/ojIm25+DqPBd1fFE8gF9MBANjYXoAFJvLajcoV4KUSRXTbTVolRvKMGFc3i9iutmkTIpsLsZyKIXaoJ8DWIoQqzMGBbUzNom8ABGbaVxPfp2seSQgAjxdNgd68EnJfUfS54XgN0PR54l6KJC123K9nHXbu19077O/SOITA1Kh5DQpXJqqd6RDZ10DlysKWAYmXy/UjxiRiX3uc0ksCQJNLgnlDShaSHW9eFfAX2VwIVZiDjvYyNFEqtHr0CesALTYT8fdRXDfExnxCYojtGdDYN0FvXgGNPRnV/pKoNJOsg8JyM7kevGOgwfUZUNvtIsFfBwP+JK0MsC9pNQ+QvFaj0MSDOSAa9pyC7RKM4bHHebrcdg0A/kJtWAB4/vx5zJgxA9dddx1uu+02cLlcjBkzBtdffz1sNhvWr1+Pm266Cddddx3mz59PkEX+r7R/FQD8+MvvoO44CmfvqQFyBuPSEd77Eb7/6jOgWwH0mRIvNk312CN/E99l/inhJL01fQZmcHQJF9MRHA8WFRui4fkX6WXExPeo9VHY9rqwpqEIsyo34c6yFzGu7u5hF/DRkmSM4HjwcFEIrt4PoO44ik8S+A3/cOEHNJ9oZogfRwKIdFcgEkiGisokxvZ2ZTVjwTWMkGokkITIFhkDIE9E4D4QQk6TNQ4Ailv0eMj0ZNx4Z1WkEsdb72BcGRTubOisayGoERCfb9BUI4uSQddlQORoaFgAaBsgzGSEVVhoeyVhIf4E9QS8Xj0KHbm34pPiiTD5RZgksEaPdSefRhXF+HbKnQKiJmuyeiIOZf+R+J0PZ49FR+U84m/5vGV4RmJDW0CBtoAC7QP/Vjr5KKSYWrmhZJAn9A8kXFS0tg3QWVZD7pOiuNUancjlvhLkGkgm9ZLq0fhBeDMa6t+JB110OpaoE1vtmQv/goOFU6GwJkNp24TpIlfc/brKShPgT9rmQOpATWboWBNywlZIPOXQWVZDRV3av7WY5qCITkF7IHHtbKtbizaPFuf3eH4UAPygyw6fTYGeYH2UVCG1JyPbuBFbFM8Qv9E290oyRal7OiEADHdIYWxOwxQ1mQqemKlAcKAO8KF8M+4qIyOqqxxs3ZoinEJ8lup5A5pwKrZvrcB3/W5sD9bDZ1PgPfPLMffaJDgM7yWcW/aUz4XevBIVTYxUjyhsRWbIgoZD8c+G52AIr1ArieOX0YlZ2xqKj0+y/oCCkv/B+orb4SoeC5/+bahoAeROAUQOpu51c0A9LPDr86txxJiEr6TTiDG3uovQGVBhe7A+IQB83fgsMcan6h9GsP3n88iN7Y2dEmjCqTjRq0NHgxatLk1cHWC7z4C7M8jnIE9ljVrUxV43tYMDvfl9aG0bIfdJUdISL7tU0ErhzjQWTN6d64IwZIak1Y7w8XAU/KV4DShoJQXcK0PV0JtXotTKRzUlHFbiRu8n3XWWaq3XAOAv1C4pBP3RRx9hzpw5UQHoof26667DnDlz8NlnV8bg/N/W/lUAsOfY56huOUTq8+34APKWQ9jf1wm0FSfU/vu6UYKv8u5KODnH9k+Ef8Pi1MJhQeAjRXasaBASE99UzQwodtRD29eAd82xqQk37imqw3IvDwttL8ct4qPyN2EExw11517Imw9hz+n4a3n47GGG+LHfwaZzW7OxQVVNjEuoy0OZNR3+4dINbWJGsHS3KbrQmHZ6QdM08iPMW6cgLMc9ejL1OEk9Ge9705HupwjCycxMKzTmNdCbV0FF8/BiMZuOvo3jQo1+Laq178LdkIRIRIjIZikiO9RxYLDpWBiSFjsEQebNmxeSY3Llaxg/DBB8QjsHz6jewhjpSoyRvY07S1/C7LrH8YBuLu7V3o3Pmji2AAAgAElEQVSp6inE9m+aFsOjewdfCW4d/jcX/BVjOTYojOa4xZFukEUXUYUrngwyCA4Hawr15pXQ2JNRGeP2Ea21bLbgoSFyGLtyGHD6XdYtsFrWEYtUuV2Acns6eM7XiO88Jx+DH4Q3orfyIVTpV0HhysBGJxmtuDOd1VSMJeuII1Z4DwVh3GtERZcNXK8BtQ0S6E0roBjGsoup/VsDyxAx4tgeolTY2Wj4UeAP+7z4qs+FMK3CFi/DXN0eqEexKR25jnXodpMs2jMVM4n/b/euI+7xUHshaJqGfwDk8TxDWcHPooKWwdksw6jcdOKzB3RzEGhn69bCnQV4oJ7VFnzQcC8szQJ42kW4sNeDb3a50eXTY4H2EWIfSqeQqMuLjrXqYWjtSShpNUVriIey42N7SXcVMb4U67KEvw3P9h7mKclnZEPF7Tie8yccKrkbQfUryLO+D4UrgwCBfQEtDptT8Vn5wzifGT/eHzJuRp59LaR0MsppHrRuEegGGQK+CrT4FCixlWBizDFnqKfB0Ci4atE/qjUTjtZMfLfHid1hI4J2VVwd4LMS8hl4tYhCT5Ah6kioJFTSaVBRXOjNK6G1rkdtQ360HnO4PpTIl+S0ITNkgXN/EMXDgD+GwGaE1rYRSlvKJckgYgvpALLJeS0F/Eu1y1rBXbx4EVarFS+88ALGjBmDW265BbfddhsWLVqE+vr6/5ORv8H2rwCAg+QPU9fxOH0+69ajaLZX4/PIkPRvrwFQLUj8Vp4+AY7CFTif9Wfi7xcybkZ75Vt4o6oAT0sVhJTAbQI5JqhiQcZELKWzUdJBoaDVjtn5Q4gQHjYK845nUwIQyMHLSjeU7YcQ2P0hcU+d+/4cXIdcMPVUIdKSPaCHxyxSj0vYSOVYPoUicxqUrssUHIdSmO8fY0BY05Em0DQNboMBSQEJpmqnE2Obrp2JlNBgysqORWVm4tzWyIsR1L6BM5K7QAmfxAwOo7s2V2RClUOAMms6As05DBEllMowkjsLEDngJBY7/Q4vOD4DigYAU75PjanZlXi1dDahd/dj+92a6ah0MrU/WWVp+Fjwt4T3QRZvJWZluOLM7XtDBrT661BIJaGC5kPhyoTYsX4IwHwOCmcGVDQPejMj9FsW0RKLweBEvrKBBB2ra6YQ4/i7+H9Qb+dEF3epiQfDAKO7KLAK87TT8GTtndgv+gMgvBHd+pdRpXkX1QNpxcdK2ejHCwqS/FE0mHLs9cCwxwDHAQdkW+VY56lGUYtpoF5xVeLoH8WBjE5BZ0A1LAD02RU41mn90QDwwp4GbPHqEHGq0RNkdATdnlLUhDahpTkj7rmM1rtl/RHNHeTLjjEiAE3T0A14Rjd1SvDwEHbqwtr12GQowHhljGSJahLkfk7c88Jxv058t7pxI4zN6Tjbzwhdf9xNYZaGdb143vAkFK5MHCuaGnePtdcsgMKVFZV+SQ+YQe0LDAsAg0eDmBJDLhvUrxzsFTQfzxviI/XRe185Dmrpf+O8kJEqOiAdhxblYuw2peCTisfxffafEz4Lg31f2RzUOIUop3koolKQ59gwYNu3FrmODZg3pEY1g15+1cBfZHMhtJFUbN5SAuzz4uRmO/x2BdRmcj6K7XdnuNDuG4hYBnSotSehxPgWdNZ1qPWI457R4Xq6fwiZpNIJns+IglaGtV2YAPwN9jpPDvSW1ZCZ+VANQwZ5v1ZB7D+/JX7euAYAr067LAC81oZv/woAOEj+sHWfRK53DyzdrE5fa3cfNhtE6HLX4dxOF7DHDThXA6L4dO/fBX+GgLcGD2c7sDVgwG5XSdSyK7b3y6ZAQ6WBoy7GHVwXRvDMGFdDTnxvuNZC0sIU1r9jtBIP80PF8TVYb3uS4ibrcdIUVLS3Qr/lGFvLCKDnw+1Qbs5DUxOXAW8DkgmBNglGx9SNLCjQQGriXV54tCNvQBxaxxBCjoZB0zSWujhx9Ytz6u9HRqQOsjY7KhtroHBloLp+I8Zw2eOmpicTVlcfCf4Hi1ML8WaFHCXWdNTSQlJ7bfD4kXRmDAPpaO/hRmQ2WZAdZtIfcl8RbPJXmdqp7N8jvWwkwei90r7JyqZVKx1ZeJAnx5H00cRvfFowEmM4Dgjr4mUx+gIa7KYLobduQKF5GbT2JGjsyXgoRrx5hnoaZNrVqNS+B5k9G4URY9xvXtxGwUyZMVPH1ktNVU9CmSMJpwvI++7j/NHQUjxUOQQosabB28KCnD4nmV7c7F6DOv1ySL3l0ZTVGzon3tI746J/2WErMpssoA80QNOvweGzh9F3ph+cgBwbvMUobqqD1rYRGntSwuifzVM4LPjrGRCA/mQb9aMBIPZ5cajVAr9diaBDhY4GLT7eboO9NQN0Wxa+E/8lcdS2fDpxbwc68qBuYsg22nAa/B1MxKU+wscEZcwLm3Iaptc9SNwny02voqkj3oLM1kpG+ldQi6EOp+JYL6MwcLZbSX5ufoVJt9YtihtvSPksqgLM78T3myDrcCB8PHzJ+thnadZy8V7NrChZh2dbjlkxEkKX6s/Jx6BX/MeE13BoP5/xexwunomQ9nUonImJQbW0EC8aniKO8aJhwRXp3f2zvamzAKowB0cHrvvn22kEHEp0NJB1gIP9jlQ3rHYTdvhV2OOUYr89B25HOrLoJJSHlYQP95X0e/JJMkiyx4CUy4A/Jg3M+FZX29PjnuXBvlDKGgVMEdrj5o1rAPDqtWsA8Ce0XxoADpI/qiIHMVMUYh5GnhdCuh/B/g/R1dyAfXYRfDYFdjbqcLFyTsJJzsJ/CtM59RjDdcNDm4g6mM/K4wu4P8u7HRbLegh0EoyrID1wJ1a9gIwg89AKgmZME7HRv5EcN/g+O6TtNhS2W1HYZkVBmwXSdjvecm+Im6gXGtajqLEbBz/6CgDw8ZenYOwQw+lbg0g4nZg0SimSALFSXooSCx/tng04VP8sPiudjO9Ff8JnpZPR0TxEYb+Jh0hLFiJH/AgdCeFdw7txY3nE/DTyWg0oD6ugcGVCb14NvWUNVHQa3qqQM6kQ3iZcENwUd72+F/wOgfLnITVxo9EroncWMLI0wWREukoQOcww6uRbXYy0TpsVWtsmnBWT0bqF6UKMkS3FeCXD7h2vmI5xNXNxn2YentA/iGfqH8PLxoV407QYy80vI9O+mli4JFQSXiytxDROPfrS2cjbWm4qRnPdaB0qixHQYb89Gzv8ani9pcixrYTCkQq1PQUbjS8R14tvXgJ9SxXymq1IC5iQ6jVAGDQjv9kenchXGsmarhWGZxnmoSMVZ8UjSFBaMB4lxhRoh0QNDhqfJ7ZrCwtgsK1Dhlt+2UWM4zWgbpsbmn4Nmk8048JFRnfSv2c/uH4DuI2lKPTmQm9eCdVAtFPhyoSMSkExzblk9G/zQATv3M545v2V9I+7KfjsCrS4NPh8wEVk85YSaCKp+Kx0SsLn+KDxeeLa6CJcNLYPkkAKoYuwTNQFde8PC5CmyZ+ANZQzLPh4xvwQG1XTToOiaRO2d5UDm6vQHRYQ+0qzMb7SdvOauPFSujdRHlZHpV/M/b5Lgr/IiQg4LRxi/0LzOrxgWBB3DhPVE/CWaTFEjrV4RJuYTCUsG4kvMm+OG9cPGb/DsaKpCKtfgYbiJwR9gz3HsS5O72+25m7YI/HEM3ebCLoIF/bWyzt8XK672kSwtgjxVb8D2OfFP/o9aHEzLjJP5MYT98RyLfY7crCXyscOvxqdnW2gurciPVyJgjbzjwJ/sg4K75mGkEHqmXray32vpMUArW0j1A4OpCYeTAnIINMy2DT2o4Um4vvXAODVbcMCwEmTJqGoqAhnzpz5Jcfzb9V+aQD40ZffQt1xFEtVW+Me+Jer2tDtrES/pxxdPj32Vb0aN9HtF07Es6lswW2+2hq/mAXrcULzLpFqgpCpz1qneZiY+MbJ52ME14bxQjfS/RSWmkjyyAMlRvCbKpDWVIH0cCXSmiqxkcrGeksy8r25eM0SD7xetichtPckzp/7DOHNUmjd7yDSyoCocGcBvC35MAdEWFLKgLB7OGps4iWhv2AmvslOTGw5lz8SneF0hDsL0NCeA0skDSr3UpS3puFF14vxEQP7m5A16yH3FkBrXT8ACFgJhWoqC+np6xOCv9i+VzodzuAlJv+2HCYl3JKNyB4zHHsDSAuYUByswY5ykqBhSFsUc21dGMFhgPZThZrLslcVLka+REJthMVZhdFcN0ZzKKzi8vFCKsOeXVrsGHIf6LHfnoO+gBZNO46gYecxZDerIGpWQ9Zuh6RFj6kaVmbmafvT0XpGal8Aqh4PJC1Mmi/VZ0CypxpTYmoTZ+vnotxfBL15JZTOdFisG3AuxoILwhtxqHAy3E0kMDlV9wALtEV/QqQ5Ey4fF/wGLaSXiEaII1YIQ2YYdlMw7jXio3MfRZ+rY59+jcrmfajd0oLMcA1EVBLUpuVQuIQDzN81cHgSs0EHe7NTjS1e3RULQA/t3/W7sc2vx0fdjujfTvTpoApzcEyZmFW7NZgSvS4N7TnQN/NwspdhWx/t0UETSUVgoFxC6ZVhbGU8cBqvmIEVcsElPWjFflIEPbNhKRp8a3Gh1wDt1mLiM6ljE3PPOTNwbkiKVWtLQnGbDcKQGbnNtmGlkWJ73c46Yv+xciuDfZ72HoLgUOvMwFrLG4QrR3RbxVg4Cv4L/xDehKOSCWhWPg/d/2fvvePaOu/2/+M0q83TjKZ5+nP7bZNm7yZu6jyZ7kjjJG2aum2cjiRu0jiJk9qJ08bYmGGGMcbGgLExUwIhJIRAA8QQIAmE2BtJ7A0GYwwGzBTj+v1xQHDQAAySjXO/X6/71VTSORxdPjrnOvf9GSLLLQHnxnHxf7Et5jWT/T0e+TiOy+bjMBV5x5CgPgS20gGxWc5Q55+AMNsVUcr9SM+9/OSQmKyDUOUdZ5wzZRkxUIjZ+HpRHOBfj9CdT4qyZFAXVyBD14UM/Tmk6c7iSDYX+zP94aw8g0OqMLhnsXE4mwNvdQx8cgTw1cSb/f0cU4vx4IJkkP/zNl3ZmRtHVGJ8IZbgI74Eh5ViRCR6IDpuNwKFzggSMc+1FDUzAeQfITHEANoRiwZwLvHjhhtuwJtvvon4+PjL70t7jWJvA1ja2g+v5GrceyAZ97r54yH/93Hf4cPzMR8uAkTEBaNM4o3pQ/NdGqbd70LUkU/xU4f5afztx+ngYHM3M0VaMKK5f8fwghty5tEfMC98rKfxU+f52I2HnJLw2KH5WJF7D8gQoimHsFyH+HIdRGWViEnkQilwhYj7BU5wd8CH9y6eC/zI5IK6J+4T6PNOgZ30L6Rlu0OY5YpjyXuwJ+49bOe+iTcin8cL4U/hl2GP4bWwh/Bm6EP4U8iDeCfkAfwj+AH888z92HnmPnwadB/eC74fb4Y+hJciHsWTS5SoeSLyCeyQfonD4hOIFO1DjOBTRIocTG4GORF/NrkZRxzcjngn0zjLS0fvRWHGfssX91wfOjYwwwGK0mCcyBaAxd2LqQUGfNTj/8OBUNPOE3c7yODFX7qtU5DECV6iL4wm5pNA05p5woRYxkNAregIqlLDoSqvN4YYBBekwzEz0Hhx/rOIWWtut2I3XHJdcKLkBCK0ERDWxiOhJgWcimT8Lo5ptHenucNfLaTj7uLomUpR7L9Nkge6zzxPz5jO6tUf8KTxvQG/R6FSOCJDfQReKjqj1NJN6UAqH6fzJWBVsVDcXcz4rY1MTIJf1AZhcTsSKqpxIisaXsJPECT4BCfE+xAg2W8xg7QiLRJVKWGQx4ejbgUFoM2NqUXZw2PVUojUbiiJfdvkvJo4vJGhC1vhgPwCf0zoZJBIJBjVJUKe600bh/zjUOYdx6bDIXiMxUwQut/LHfyEr4w9XM2NFI0Xnl4Qi7edvwWxygMYuNgCJ42T8fWfR/4Mp6M/Ny7TNvpvnj+H3f8XYclH6TjMZB44FclLmj9VuwoZrRnYxDE1cnNjR+yfGHUqF46TkgNmZwsfj3wcm6Oexp9iXsNnMe/hpMhy9neAZD/+zv+D2fJWT0Y+id1x70GR64P0XG/ws5zAUjpApHZDRfEZ9GuFQFk0ess5UOT5gKXcB2mOmRJVVkZG3lHws5wQpdqPhjIW4/xo0QiRmhCBRDEPP52N0d7sKoU8OweKymazfdz5pWUILVAgME8G3xwhjmRz4ZHFhpsqHC7KYBxUnIZj5km4Z7FMfkNvBTNjuw+minE8R4z9yWL8kyvFa4GJeMqduRz9qGsSvJNCwBXsQpjEBb4CR4gV82E6C1sR3u0gwxexXGIA7YhFAxgYGIjNmzdjw4YNRjP4ve99D59//jkKCwvteYxXLfY0gGOGKcQVt+N1fzV+6hqMx9jzT8IP+n42Oyskw337xag7zCzEmh74OeNH9pRzIqNqPCOWKZ2ubH9E/CV4CfvQfewRNHl+D5sXFO19PPJxfBH7CTa7WQ5A/ldkkfGik1VWA6WIhc7A32HqyD0YDdiMgrCd4EhcsYvljgeOfWFycd0W80v8JuYFbIp6yuLFfy3HJs4mnMzzhEThhRDOx4gQfIGIRNOMUE3En0xuxmcO/h10v9UkODp+iUnXOxjvT7p/Hzrxh0jPPWr5BpDtBlXaXiSku6PT+0HG9qrIvyIi0Q3/OsPMen7Fm7uk+QuRusAzYTe4SV4onW16nyLlG28YdzvI8MphZhupGrEPtMlByCrVM24ecWVVcFKcxrEc2mg5pAcuS9vnFmSSPh75OF6OeR2HlfQ+TikiEC3cYyzBksj7BAa3OxnfvzPi10azM+71o3lzGPISHU9ZGgxWWRL2p5iWsZhLOHCSx4JVwUdCXQIGJ0x/r+r684jIaUKG/hxStR3gqATwF/wLnnE7IUr2RYWcg6qUUOiTTqJG4oO6hMOzS2w+0Ev9kMtxQU+GH11+aaWzgNUyersStknx9qLCQMikH5qcc+eCnzeeO5Icd8Rlu6BPGweDPpm+buiT0VIeBbbSwTjz9ElIBO4/Mm/YHvJ/H8/7SCAvjYAqcz8dGmHBiPwz4Q8LjM8TOF3sh9bBVvxN9jfj628ItuJUzBdg8z9DhNQV4tjPjA8yFadeQlBGMF36JTMOKWZKv1gaf5H+2eScepHzf/BIMG1raG4cSvgcL3Oes3qOvhL9Mj4WvIMjoi8RLj2EIKkT/hX7Np6KNO1w9Hjk43gzeivCE8IhVh5GtOoAopT7karxQn0ZCyN6egkfNTJAfQLIOw1DdSIqi8+Al+UErspxyfZvmXk+EGQ7g610QKrGC83lkZisYfaXPl8sRkZcEGoTPCCNDcMhnhKiknazxm9uCIraIShqh1zbjQz9OaTrupGq7UBSVTPEFXUQlusQnJ/BeNCbGwdTmckgj7km4d4D5vu8Lxw/95QiLPa/YIv3w282UW8uLtqZx+yp7bHoN0wMoG1ZMgawtrYW+/fvx49//GNGOZhHHnkER48exdmzZ+1xnFcl9jSAjecvYX9CJe7eL8IjIaZdIx7yfx93O0jh7MiMvanxfgQPH2QuEbBjTUt9zI3M1GB4i/ciaHbJM0D8X7zCYi67HAu4BxL+LpwWeeJlD9OagQ8eTEFCSQcydN3Izc9DftwJnPc1jUec8NiIxuDf4TXn03jg+G6rF2hbjl9zfg1OtjtUmfuhTP8aMTJX+MY6InxREHhe+B9NvsPpg+/Omr/57y/gfI4hD9PAfW3YS4hROkCY7WphNtAb1Rxmu7eWY48jTOwym4zghvdOheIehyQ84iTG0Vhvqze+cOkhHBZ9gbBEV2M3hLmxa3YW8B6HJEZXhGrpCegTA+ilo0U3jzTdWRxV83BIFWYM5P9VrPllMUvjicgn4Kk+A2e5gG7Hpk5AWLL3bMFo2nCL2O9j6hDTRLdGvQF1jhfjtSbuH2kDqOVCUpcOZ/l8zOHC4ZgWC19NPFhVLFRfqDb7e2s6fwkh2Y2Q67rnv69SAJFgD6oS3FAr9oY+MQBVKaEoVcSjQKOApqAQ2aU6yEvqEC9Xor9CRtfgzPEHCkOAqnjLpk8bDxSzgNxAumtPMYvO1tecpJO3Zj/XUcFFTOZ/GEXA4XoraoT/MC45spT7UFF8BqhNYRhAQ3USUnOPgJ9FZwSHx9F1M3966DTu9TiOux2S8FncbBFmPY+OS83Yx5hZnBtBqczevHsUe1B2rgz/FzOf1PNJ+icIUUfjBG8fuIJPwZYcBFe0HyL+J+AI9+JkVgz2p/IQYqX0i7nhnue+4PyhZ/18Ys3P2oVLD5n8biMS3XBa5Ix/xmxnzGRaGs9GPYNnojaZfe8Vzi/hKvw3hOlHIJFIwFO5ICvfF+0V0TBUMw0aquKBwjBGV6auyhikaLzAUu5DssY07lKR54O4bBewlA5I0niioYwFg5mOTqhJxmh+OEp4bshN5TNm6i0NaXknwnOaIChqR3BWIzh5LUiu7DL5HK+0FI6ZJ40VCRaO//M2rbW5nPGKdwyi4nYjWOyKAKETkrPp0IQdZ+bvHw85iuGfHUcMoB1ZdhLIzMwMMjIy8O677+KWW24xmsHrr78eW7duBZ/Pt+VxXpXYywDOzMwgVduFZzwz8OCJjy1euJ469QdccJ1fQhtxvQt/8TzJ+CH++7RppqdaEg5VfBDyU6LBnp39i0h0g6/4azzPYRZy/ujMfZh0vRWjHj9AfNweBIvdsOVwCPNvxJRCUdmKYlUiyvhuuHDsGauxcnC9FdlOz+E13z8teXF+LuJR/D34ATgG3oN/B/wM2wJ+he2sX2I7/3X8Pf4N/FX4Gv4S9yq2CV7Bm7G/xnbBK/gq5BF4BdyNIL//B97xHyLp+I8RKXkfHNUBxCfvhlgshjL1v3S3kHy6Mn2w2BV+cfNxf+ayGsvPvIrfejMN8HNuMYhIPIQg7l6c83vSZJsJ77tx7sTD6D61CV2hL6Gd/SqauX9AXew7qE54H4YFGduTbt8DX/AlTggOwi/OCWES2iCdSvBEmHTpmY+joq8QKDmAHHmEyb95iZzuAS0Rzy/96pICUS31haag0OJNJLJYgwOZATg+G8gfVMLBu8nv4tdxv8amaPM3Tcb5k/YRVO0qCKvT4J0VD4cUHo5mRCMqYR848XsRIT0E31hH5PF3YMaVGWPZHfIi01CLPoAq/WuoahOgaFXCN4eOOWTGLtHZ6adLIpHclIzxKdNC4wAwNGYAr6CNfnCZ/a6ZVe3Iy1MjNz8P2SWVUFY0IWOBQTSWXyqmZ1XGJ6eA0YvAOT19wy8MBTT+QFE4bQbKoukOPZoA+r2qOKCtEOhrBsaH6G21CbOGgV4OnqhOhCTHHZe8mQlBebNlXuKyXSDJcceIXmxiAFGbgqbySEQqHZCpcoFC4Yin3JgPK7zKBT1da4RQZblBJf8P5DleYCv3ISnHEyrlQSjSv8YL3Pni4r8V/ha8ah7j39Ytzw2yhgx4pEfjZIIbuILPECnaB47wS7AlTvDOEi5Z+sXcyGzNxNcZn+NDwauIyPwPZFneCBA64YyIufR7WnIQHqLdOCzaAy/RFzgh3oczsyWQfAWO4MjcIVV7wCvtE/wj/nd4xsrS8uLxctQL+C9/J7gp7kjX+ICrdIJEIkFXRazluM/SKKCcD5RGA6Uc4+sjegkKCwPBUR1AbLYzFHnHjLGDLMU+SHLcUVsagfFqCx1ldBJAcxIzJWwos1WIyWta0vylzzYLyKk/j+HxSdSdG0JSxVmEq5sRntMEcVmn8bOSyjq4KkNwVG2azb+Tb5pwYjRwzknY4puIv7Kk+Dxegsdcmefa330DEZFI/755aXRc96+944zvv+QZY5KdTAygbbmsLODh4WGw2Wz88pe/NBaE/ta3vrXWx3bVYy8D2DM0hl3cEtzrfoJxUdrE+QWjX+bjkY/j3eAHMOBG3zidHXczfoBPu/HBkh42ZjOWpHEhF4agnHcIerEPZDEH4BTzGfzjD8BH/JVJmYVXIx5H/4IsukueP0JU3B4cEe7Bx75huP+ADG/4q5FeUIHKtEhoYxzRf/RnTBN06HbA43/NmsAZ11vhd+J+/IL1BH4T/gg+DroPRwLuhuD4D1F05C70ut+OKdfbkOT0Kl7ffwp3O8iw5TDd/i1RZbnxeo7aEwN+zFIjk+7fR1nybijVPnTnBA1zG4nyCPzj6JtMQdgfTI61LHgrIqSHcDT2CCO28v2A04iM+wJ+goNIUnmhNeqNJc2vpdEYsw2ZuT4QKbwQJnWljaDACaES88WK6eGKCIkz/BK+xPH4PchICbKavDA3tMlnUCP2Rl5ejtUbiaSyDoeUYdifFgnvrHhktM4H8ivblEhpTgGvhoczFWfgXeiN/er92JWxC/+Q/QO7+Lsgb5q/+cubFQgpptvlHZH4gRO7C75x/8HpeGeka3xQI3zXqj5FybvpWavZLGpuVQocUniMmQtnuQBeWXywqyLROthq9TenrOkBK8d87JS1EZnbgszqRclyMzPAcC9wtpw2dYWhQBkXaFQB52uB4QvA9LTpQYz0AVVCIPcUvYRYm4LSotNoDZz/HY0evdsYH8ZWOqCuLMJoDhYbQEN1IpLVnoiVfQxVWSg+4cuN5+qLx5JMDVe9FJlqT7ASP0Sq2gOs5I+RrnCASsvFl0pmqMaXSmY9yLDKMKjaVYiqkGG/jIugFF9Ex+0Bj7cTwWl+cEyjMzyXKv1idjTLoco6RCdNKRwRk3gQvvwDxnjDM1IneIr2gJd0BCkpgeAneeOUhL6OucR9DpfY3YhRuBhL48zpF5z5H+yWvoNfW+hn/lzUZnwWswPhUlckZdHXmHi1KwQqV4bOZkf+GaBBAbTm0aZ+wXszNfQSvSTHHSzlPrCU+yBSu0FXEjq/hGxulEXP7isZGO5FUUsfwtRLG8DYwjbwC9twcWTCeKpNTk2jvW8EqtoecPJaEJzdCEFRO1K0nTiczYFHFtvEAPpqxPjd6UQ84pKEzUcS8YdgKaSbB+EAACAASURBVD4RSOAqF+OEZlHcbbIY9zkyTeDnwf44Fe+MoASX2VJe89fOv/ib/j1iAG3LqsrAFBUV4c033zTOBn7TsJcBzKrtwUMu8Xg0jHmR+kjmgE8le/D0IhP4x9AHkXboGdyzwJjcdyARbvzD8BTtxmmJIxITA5EiDENNvCcGy8SYPN+AZMVh+Aveg0fMR3gmkjmbsyX6eZwW/RfnfJidRHq9fow4kSN0iQHQJp5EYU469IkB0Mc4YvDIoq4j7t8HFB70DU72FSZ8zTeNNzcMrneA5/QWXt7PjBl5LzAIQQnWsxhV+cehzvFCf8ATjH1OuX0P5YmfGVtn0WbRA2XJu1HH34760y+i68gDJsdSGvya0XBx4vfisyA/3HcgCT8/nATf5FBE8D5DsOBrZGh8IM/1RkbcdkxZML2WxqXjDzCK/CpyfSBWeiFc6opTMV8iiPMxgjk7ERy1E8FRs//N2Ykgzsc4EfURDnHeBy/6a+ji3Gdj+s6gPD3arPmrSglFrcgLBTkZZme4Fs8k+Gkk+EzqB25VyrJv4HP1FpUtzJu/sk0JoT4NR1UCOMXshnvku/BN2ov02ezVer5pAsTcw0J2hgPd3WXWUKQ0ZsAtMw6HZ2sp+ubQs5S+BaFQtaswNT1l9TfX0DOE4KxGpC+hweIRkt0IbeeA5R1PT9GGb9L87KMJw71ABZ+eLaxJxtnKGKSI/4lJ9zsxc+g26EX/NGaGpuYeYSwRLjaAqE1Bg/ooWPI9yGySIa1JifciU/HqySSwSkxn4pRtSnAqQpGq8UKfyhMZKhdEFvtD2aY0mfF7Jpr5gChropeTM1oUOKam4y6DMoLBFjsiICNi2aVfLI7aBKjKwqDK8UKafD8iuJ8ggvspwoV7cDj+U0QneqJ4wTlems5FVmoYIuN8IJIfhTTHAzFZB8FW7oNYbVqUOC7bBful/8Qb0b/BlqgX8CH3rwiMP4j4DC8oZq8vMs1hRCn3o6aEtbQB1AQAXZXAQAeQd4qeuVv0mQFdPAoKA1BZfAbDepHlfekT6fOhOIJ+qJgyzJ6zlxCc1Wj1/Eyt6kJwViN0Fs7RmZkZXLg0jrLWfuPysFt6AhwzTq+4XMzi8Xm8hBEi81OHRDhG+cJXcBDBUma3qV0R4cQA2pkVG8DOzk54e3vj0UcfZbSEu+eee2xxfFc19jCAl0bG8LewPDx0ktk/9c34d3AyNxFRKX5w5ryBFyKYSRqbwp/FPc5s44/r05Cg2RIJrnAV7IYLfw/k4n0YLuECoxfRdakLXC0bITmu+MWi8glbol6A/2ymXLToAPq872XcjAd9HkNlSgRqRV6oSzgMXawLRg7/lHnTPrwRyPGjL4Q5fkAZFxPaJFTFeeLsyVdhOGS+UOuI6104c/DvZvsT/8wlAR5cV3BTzNTaMzOyNUdwIZDZoWD60B1oOvVn9Ab+HGNH/t+Sxqwk5HWj+aM7X3yOoIwg+Gpmn4A1IhxP8AJXsAsKzRGwFQ5Q5R2HoZgFCN4DIl4FzryAaf+fYdT7box73GUS32Xw+F8Up/2HefxqT6gy9kGR9hUSUx3BTfcBVxUInjoI/NxQCPJZEBZxEFschYBcX2RWy5GvrUGsLB1F6QLokwJRK/JCrcgL+qQAVKbRs8CVqRGoS/BEUZbMWC5iqXFKnYe9qf5IbVp+IL8lAzg34mslOJJ5DJK4A0jLdAZL6WC8SbcsiouE660Y9f4JvfxbfJqxn6ACKRzT6KWrQxkCuGRGgaPj4tzw0uWsBkYMiM5vgbi0c9nmT67rRmh2I9r7Rtb2AjB0DijnAvlnYNBLIc3xgES5HznZ9LmelnsEUcoDaKvgMIyCiQHUSTCe44fEsmDE1cYt+e/Er+FDVC9C72AH0FmKCxfqEV8XD2GdEKp2FV5PeN3sTNkLvBcY+xHq03AwLRaeSj4c00/gi5QAuCmiGTPGlz3alFA1ysDVRMAjzgOewk8QI9wLXYI7akVeqJYehz4pANrkM8hJCEJ+YjjGtYmYrElCb5UA2uIQcFWOFmNxk7O9ESahrysL20qm53qDpdiH4qJTGNclWTeANTI6vrO/FZiaBCoEdJzn5WSI1yTToQR6KTDUzThNei/RfeFlFWctnqNsTTOSq7roEIUlGJmYRG33EELy1diV6AvHtFh4Z5kvDbPc8Y8oZvbwg44SOEd54j8sZi1Xl/hQYgDtzLIM4OjoKLhcLn7729/i+uuvN5q+W265Be+99x4UCsU3siWcPQygvOos7vfyYFxs/4/7EtxU4Ugq1aJI4oum44+jyfN7+G34w8yYQPYzeM7HFx8EhSBc6oZQiSt8BY4ISnABN/ELRKR8BmVtAi6MXoCqXYXD+Yfx82hmK7TXuS/itOQA/OKc4CtwpLO4eHsxeJhploZObEZFGhu6OA+Me/yIecP2vocOis8/Qwe6t+bTwdF5p3E2T4C0hAgUSsPg6bwbNc6PAa634oLLj3DM8V94wiHWxPhtOhSPz0JP44yIju2x1GPS3MjK9cb5oM1LGj1zozj0DcZSK1ewC2EyL/hpmIkHB5I5EMg9wJd9Aona3dg2a/EY1CUgWXMY0cr9yFF7Il9xEMXy/0KdMxscnnuUXuJM2wtV5gE6OF8XA1Vzmtkbo6JNAbaWjaz2LBimDBgzTCFd342Q7EZkVjQhp7AYhVnJ0KaEoEZ8DHUJnqiLd0eJIgGZ2uWZnnRdN04q9ThZyIWoXrQmBjC9NR0sLQul3aUYbcqDQX0CuqIgxGY508WNc4+ig/UK49+i7+RTUMm/gqqKY2I8DqTycVydgH3JMTiiCUJh9/KqFszMzECu70ZkbsuyDSCvoA38ojYMjdmgRNbgWTp2rCAE5cVB9MPE7HkcpdyPrLzjmK6RWTeAeaeB6iTU9urB0rKgaLNswET1IvBqeGgfbGccRkN/A6J0UUhpToFrrqtZA/h24tsmM4kn8+LxsfQY/DQSOKTwcSKfDbaWDWGdEJmtmas2gsmNcnyV6geX9FjISyqhKShAYVYyyjL4qEoJQ6U0ENk8b3Sn+wO5JxeMQDTmHAU/478QqJzMXicWd0WZ68ShzDuOiepEszOtzAQQIR37OdpPi9hZRs8IXo4BLOPSGeJjpjN4hqlpCEvoGFSzIRtlnWDlNK/4AaVtsBP+RWHw08zX8jysFK64g4hfLv1g/MbpxEUP7/H4/bH5MmL3OCQhQE4MoL2xagCzsrLwwQcf4NZbbzWavuuuuw5btmwBm83G8PCwvY7zqsTWBlAsluC3ASI8FjG/1PJE5JP4d+oh8AtzkaVMQ1PwfMHnbvc78Ptw5kzg05FP4SvhB/AW/gfHYw+AleiGtAxnqDIckK7lgK1jI6EuAW55bnh6UVD0toTfIU3lDEXqXsjSXSCQe4Ijc0Ow2BVnonfikjuz8HL/8WdgcFu01Hn8YToYujAMKImkb2oAMNAJaBMwme2H0sQzUIjZ+PxUAu52SMJmBw7uczANNn75MB8Okf4In02ACEpwwakEOl5sJbW1snJ9cC74+aWXnT1/gH7/J1By+lmEhL8Nr/gvESql4+84wi8RKdqHgGzeooudCPtTeYgsigRX/iXaNcetXtzPV8UiQX0IsdmznU7yjtFdStK/pjuFZLtBVR4OVZ3EuNRpaXB0HCQ3JePSxCXjeTQwaoC4rBMszXxsW6a2E9klWuTnqlCUJUNmlfXSEYsTHngFbchuKwBbx161AVS2KRGpi4SiTYGJqQnAMAboREBeEM5V8ZGWewQRin1IUnugK/Rl479NtfA9OgO4RsjYX0aLAl4qIfbJeHCQhyNGH4eBcSvLs4uo7R5CcLb1JbW5IS7rRLi6GfXnhtb65z/PxTagmI3u3BPgqA4gPdcbSTme4GU5oaeKb3I+MYxJpQAoCAYGOjA6OQpJg8Q4k7d4yJpkiNJFoeZCjckhTM9MI78rHywtC5J6CZ6MMi3GvEexx8TUB5WFwU0Rh0ClHryCVrRd7IH2vBaJjYmI1EUiWh+NpMaky4oJzGzNBFvLRnRlEk6p9EipMp29jlTXQV5aj4mBc8DFdqC3HuiuAtoKAJ0YbZoTEKZ8hhjZTijT99H9ujXmY4m5Kkck5ngaH+aWNIClUfQy/lzYwaUe+iFYayUz3OJSsj/QZtkAZdWZj11N13UjOLsRmvreFU/QXJq4hLjaOCQ1JkFcK0dwUSLcMuLgkMKDW0bcsrqALBzHc8R4wcdyBvEzrrE4pYoiBtDOWDSA99xzj9H0bdiwAffeey8OHTqElpYWOx7e1Y2tDaAHW4yHT/+BcaH9S/y7YMuDUCgORBH7axgWFGuecr0NwZH/xK8XNSk3xuxEbcK22F/jC+HvcUz1NWJrYpHZmgmPfA/8bFF5hO1J2yFvkUPVnApVyRl6Bir9a6hyjyIz1wehmV+jLNUR0xa6b8D1ViDgaaBytr5ZUTid7cj4kqNAax7OZwZAE+OJeGGMyYXhpw5JeMUnHE7cwyYJD36Cg4iy0GB8yZHnY5xVmna9A5eO3Y9zwc+jMWYbKhM/Qa7KBRm53mAr9yE1xxupqafgHesAj4TdCBR9Ba7g3wjKCDa5YB3JiodTegzOlIWhol6GmdzTtAZWLvCt5VHgZR2EWHmAntVSOkJV6A+VPhaqluUtswpqBRDWCXF+5LzJudQ1MIqYglbwCtpWnOBgLt6tsOkCuoe7wdFz6HNkFQYwrjYOCXUJ6Bvrmz/ggQ46aaKch7FqKUqLToOrcgRP5YiS5N0oSdtLd4dROkLVaFpQmFWWhK+SuPBQn4a+V7+i313f8AQ4eS2QllufEU2ZjasqbLpg+9WPviYYCkORlPH1bImQfSgsDDR7LhmNiU5GG4fmbDohBYDewiygvEUOlpYukD3XHm8xI4YRpDanIlofzaj9Nze8C70Z5mzu75S00yaksPmCcV8TUxNoH2xHTmcOBDUCsLQsxNXGLftcmpvplrfI0T86iBRtF9gapgFKqjiLiJxmtF2wMPM1MwOMX8LZs8UQFQcgOusgFEoXugyO/Cv6WjdrBhPUhxCb5YyuyhirsZZmE0DmmJ6ml3ALQ1dm/ipj6WvncK/F06O6axAh2aaJIPzCNsQWtWNgZOWz0zMzM0huSmaEDcgaM8Auk+GwUoj9qTy4pAtWZASPqMR46pDYrAH8/dFwk4dpv1wxjmcnEANoQywawA0bNuDWW2/Fhx9+CLVabc9jWjfY8gQaHh3HU777GBfZF6NeRnDcv1HId0Y2/xiGgpgtoirCfoPQVEdEpbjizZhXzJrAxWNT9CaTJ/p/JP8D6a3pzAtvTTxUGi+o0vZCqKDjs4b1IkDtC7jfaWr+zrwAaEV01lpBMJ35aI6ZGUz2NqFMFoIirgs+8qPLAjzimIQvghKQnsiDQHYUnqLdzIr/Ulf4xh5AQqbX5RnAubjAbC8kioTGJJCFGYIs5T5k5B7FJZ0II1WJ0KREIjTWAwG893FY/F8cN9NT0zU9Fv+V+0PRqoBhcoLOAMyZjd+xdJHXSVCtPISo5E8hyz8GVcPK6qRJG6Xg6rloHmg2rzHoBIeInGaISjsu2/yJyzrByWvB+aFxTE1PIaU5BYJawWUbwOSmZETpotB0scn0gNsKaQNTnYiZmmS0V0QjSeMJlmIfUjReUCic6BZ6ZmLKpHXpOJgZjLhqqcWyL5aYmZlBclUXOHmWl4HlOnpZPV3fvay4qjWhtx6VKnecSfkYwmxXi2EFRmNSHEXPQs0tQYI2caJ6ERLqEphmrYqF7I5sGKasG4Xu4W7E1sTCM9/T5DrC0XMY5i+jNQPDhmFMTE4jv/EC+oYnzO5zYHwA+l49ZE0ycPVcsLVsCGoFSGk2n2CkaFMgUheJlKYU48xue98IwnOakFg+HwcXqm6EqrYH09NLm/PzI+fpWcmqcChqE6CqioYq1xuqjP1I1hxGlGo/aksjzOtsyQDmBtCzjQs5p6PP6ZUUCs8NBBqVVo+/a2AU4TlNSNV2MR5QQrIboT97+fem4u5iROmiTP4N5M0K8KpSjGWc3DLjlr007JYcg4cdTU3gvwID4ZeTwHiQdkzlwyk1FhKJBNlNpZf9PSxBDKAVAxgdHY3R0dEldzA2NgYOh4MtW7as5XHZjLGxMbi4uOCBBx7ATTfdhI0bN+KDDz5AR0fHivdlyxPoUEo6HmPNz8o9wX4Kbrx3kJLghYy4MzgXt5dpuHwfRX1xCNhKB8hzvZGZ54PPJW+b7Z1pbfwz9Z+W43Oa05BZdBIs2UeoVnvNX8gUHnR5l7ljidhKZ61V8Omkj67KJb9vW1cPZBIedPFeyBIGojCVi3J5NCpTI1CWFIio+L04GrsD0bG76N68vE8Rxv0U8pS99FJghgNUSmd6+VTjbbaYrbmhzPVlZAEvNn8LM/MGK6QoFfpAKvDGiaxoHMgMoHvjLrjA/TspEH75MfPLjpPjdGFfzUnTC3+1jH66zw3EtF6K4oYUsKpYy54JUbWrkNqcCraOjcrzlVZnomZmZlDa2o+Q7EarAePWRnhOE7Lqeox/p6avBiwt67IM4JxRKOgqMD/rZBily6fknzHqNawXIb/AH9wsR0Qlf4zIbCewtWxE6iIRqY2k/1cXCbaWjfCqSKuG2Bq6swNWMysjc1sQX9LBKKlhD861aSBM2wNdphOQH0QbvKp4xnllNCbqADpbdPF369WBpWVB2aaEsk2JKF0UUptTMWxYXjiPvlePsKow/IL7iwVhKU9A3iI3LsvKW+QYmljZsvjk9CR6Rnqg69UhrSUNvBoe2Fo2eNU8yJpkxuPl6DlIbExE/9i8sZ2enoGqtgdhs7NgotIOcPJa0DM4tuy/3zfWh5SmFLC1bPr6V8FGetqXiFDQs61LxlouHAsTQBYy2k9n8S6xImAc2nj64XnQerOFkYlJ8AvbEL+ghiVrNvFjYtL8jO5yaLzYaDXMQ96sQFS5DO4KIRxSeMbse6tDI4IT5zh+up+5HHwg0hcnNCJ4KOl9uaQLcDJfDGFVKiQSCarOVS19wCuEGMBVlIEpLi7Gp59+ittvv92YDXy1MzY2hueffx4URWHjxo3Yvn07Nm/eDIqicNddd6GxsXFF+7PVCXR2YAiPhfyWYcw8gjej5cRmDHvdb1IgF663AZoATNYkQZl3HJHK+d6z8lxvsBX74C7ajp0Jb+H1+K14ykJ7tZ3ynVaDxFXtKgiq+UgqD8NYcQRtauZqVmUdBcJ+A4g/oy+AVXF0wHV7sXEJyhpT0zNI056FME0JnSwIdQmeqBV7o1p6AjrZKWiST8NfehCHk1zhLfWHm/Q0grNYUGm5dIxcod/ssqATbQbl/6GXcuT/odtcKQ/SMT5qD6g0R6CabcW02ACm5x4FS7EPijwf07IMVUL0Z/pBkpkFbkEjWIVquKnC4Kg4hWM5cfDKjsauRH+om6uZX274Ah3MXxQ+e4NIpmdGc2Zbh52vBaYmYZgyQN2hRnhVOAS1AqRZSPZYvNSW25mLyenJJTU2TE1DVduD4KxGxmzBcga9pNaEzovzD4UXxy4itibWWP5jJQYwWh+N1OZUjE5aeci82E7HTVXMx7pN18jQWyVAd9ZhnG1WoGOoA22DbWgZaEHTQBMa+htQ11+HpoGmJcu+WOL8EJ1ZmWTGKMcVtyMqt2Xts36XwdT0FGrb1RjrLKXrCZbz6dja3JP0b7EwFIYSLm1MKhPoeMpFXJq4hIS6BGPCh7hejAujF0z/mAUmpyeh7lDj3eR3jdeNNxLeoJdldWykNqeuKObSHNMz0+gb60Ndfx0UbQoIaull4oiqCEgaJOgdNV0O7RkaAyevBQklHQjOakRB0/K/0xyDE4NIb6ETkuR6PtiynVBovM0WZLZqAKuEQFEEXdh7MXVy2rwvxwDmnQZqU5d1/UzVzs9ai8s6wc5tZvxWL4fzI+cRrY82XQ1aNJIbMxBanAiXDAH2p/KXzBo+Iz+FL0/P97B/4IAEXoIjcEimZxNDixMhqUunTf/sdYMYQNuwIgPY19cHf39/PPHEE4wSMDfffDPeeecdWx3jmuHs7AyKovDcc8/h0qX5QHlfX19QFIWXX355RfuzyQl0tgz/DfkNw5j9+/S9JqVCGIP3V+NFo7dKgLhsF4gW1rnK3E+bn3opVO10g/VofTS8CrzwWeZn2J60Hc4a5yWDsdNb0xGpi0TjxUba1MyVJyjnLXpyFdHLni2a+SDoZTC3lJNaVEO32SqphKq8HplV7Uit6oKfSoNdiX5wV3LA06aYlpRoU9IZsnUSOn6uMhKq0mCo8k/Q9eKyXGkjaDSI/4Ey7WvamCickZ59CCzF11DkHTN2VmDM1s3GVNV1DyIipxkJJR1IqKiGn0aEA5kn8bXcD16ZKTg/ZGbmobeevvCXRM62/mIDHSXABNNIjBhGoOvVIbkpGdxqLlhaFvg1fJMlsbnkifSWdOsmahEjE5NIrupCqHpl9e5Ymmak6boZS2ozMzPI6shCtD56RQZQVC+CoEawrNIsaMunjfLCNluWZljWiOnpGSRWnAU3v9XEBIdkN6Gqw8yN/UowPUUXju5rorNMa5JhKObQxuRcncXNKs5XIKQyBPwaPtqH2i1+zhJDE0OIq43Dn6V/xpviNxFRFYFIHd1pZbXmbzEzMzMYnBhE00AT8rvyrZ4zBU0XcDKzHvyiNgyMXl5W9rBhGMo2JULKTkGauQ8DxeHWl9rNGcCSyNkEEDOzb70NjE4vlsNCxPTqSX/Lso67vI2e3U/XdSMkqxG5jStP/FjM2OQYEuoSIG2QLmuWX1KXjpP5dIvIg/JYHFfPL+me0Ijgo07Akax4eMvZCOH9G58H+eC1oyzsP3MAATI/RFXITHpEEwNoW5ZlAOVyObZv346bb76ZkRiyadMmBAYGor+/f+mdXGEMBgNuv/12UBSFsrIyk/effPJJUBSFkpKSZe/TFidQcuYxPMF+zGj+Xo54BL0Lum+YjFO/oLMmF1w8dCWhYCn3IT3n8HyT9+rlxWpZGzHVMUhtTp2PFZqcANqL6GWKghD6xqyT0OavQWEsVrpcpqdnoKjuQXjOfEBzqrYL0XmtCMluhKSsA9IaDcIqI5Z8KjU7WjPprhH1Ujp7VM+DsjySLrej8gArZReUaV9hJMcXKAqjL+JzRXYLQ+nZuvEhzMzMoGx2OTWx/CzStJ1gF2lwRClFbFETDFNmLvwzM3Q8YGEYHdMz0mf6mQVMTU+hd7QXNX01SGtJA7+GD5aWZVwS41XzIKmXMJbClsuFS+PGmazlmL+Uqi6EZjeiudd0mbBloMWYxbscA5jamAq2lm2xJ68JZpaCjT1Wl9BwNVR2XGRkA6dqu3AmqxHq+vOYWkZc2ZXCMDpMG5MJy8vTA+MDkDXJUNtnIS53GbQPtoOr50LaKAVHz0FSYxIzkecKMDBqgKi0A9rO1Rn0sckxFHcXo6uSR1/XVmoA88/QM7TmmBiml+7LuNYNYEEIHTe8zAfo1gvDCMluQkxBKwRF7ZdtgBeT0ZoBfg1/2ddYZZsSwuq02SLsfOxP5WF/Kh8HUvlwlgtwKEMAD0UcQkRO4MZ/AW6qB6SJXyCjyvxDJDGAtsWiAWxtbYWLiwt+8pOfMGb77rzzTmzYsAEbN26053GuGqVSCYqicN9995l9393dHRRFwdXVddn7tMUJ9GfOJ4zZP8XR+SzbGZ/76WVW4QdAugu9pGgmoHiiPAbpaXsRLfuYnvnS8Sz+YFOaU8Cv4SNKF4VofTR4NTwIagWIr4uHuEEMaaMUsiaZsUyE2XZa/S20OdL406M21ezy03I4e3EULA2drBCdP2v8yjtRf24IE5PTmJiaMAaCX1ZLKQsXGFZ5BJQNSRjpqQY6S2njV8Kmn8I1AUBeED3TMsvk1DQ09b0Izmo0lqBgaZqRVddj+ctNGegCvyt8MmcsibUqIKgRQFgrRMfQyuNW52i7MIKo3BYIitqXnAmMzmuFtLzTrLEdmxyDqF60ZE3AOZ3ZlWxoOjXLWrI20t9KP2RUzMZOlXKA8pgVzS6vlHODY2DlNENWedYY/yirOIuRiRUc9xVgYQcha4wYRlY1QzQzM4PynnKEVoZC2iA1uyx7Jbg4MoFJcw9gl0N3lcXafVYNoLkEkIU0q+lWf5bMnz6RXtbvrV/2oQ6MGMDJb8GZrEbUdK/d/ajqfNWKyj3NjcxWBfjaFHAqkhGrS0VCjRyJdelIacqkV24q2XSITq6P2XJOxADaB4YBnJiYAJ/PxyuvvIJvfetbRtN3ww034Pe//z3i4+MxMTGxLg2gn58fKIrC22+/bfZ9mUwGiqLwxz/+cdn7tMUJNDk5Cb7/Q3iG9Tj+eep5ZAb/EV0pXpipWqJ+VHXS7PJiAFAUjm6tEPzSU5DWi01+VMlNycYZJX4NH+mt6SjrKUNBVwGy27OR3pJO13+qFyOhLgFxtXHg1/ChaFNYjqsaGwTqM2jjNHH59SFnZuiA7jOqBojLOlF3bsgk07J/rB8JdQngVfOQ1mI9Ts7aULQpkFiXCIlEAkWzAiOGRXFdE8N0SZLuKjqRZdENc8wwhQw93WRdru1GSHbTqrLulqvPwPgAekasGM1louscACevBaHqJoRmNyEkuxGh2Y1g5TSDk9cCXkEbhMV0a6jabstB/SXnSsDSspDWkgZ5ixzpLenIaM1AZmsmFG0KRiyPtE7KqFO4LOZmT+eWgguCgbr0VX5760xOTUNc1gleQRu4+a3gF7ahx9zS/lXGcg3gWjAxNYHSc6VmSw9dEwx00nF4ZjL4LRrA6tnwhIttlvfb30p/Rp9o/lpeFE7HUE8uP8loenoG4rJOpGq7zK9AXCatg61g69hr8rDNGPXS+dCkzAMWKx8QA2hbjAZw9+7d+N73vsdY4n3iiSdw/PhxnDvHjLtYjwZw7969oCgKe/fuNft+RUUFKIrCpk2blr1Pm51AMzMITz+FMIEA1anH6cyxJ9YLMgAAHVtJREFUUg4da1cVRy/5zsVEaUX0DVFzkp4V6Sih4/MAlPeUI0IbgczWTCQ3JYNXw2OYvtq+WvSN9Vms/TU1PYXxqXGMGEYwMD6AscklboDT0yte9jXHxZEJNPQMYcxgeYandbAVkgYJuNV06YgoXRSEdUKkNKdYvFhltGZA2iClMwx19DZx+jhIJBIMjV5eMd+hMQOk5Z0IVTciXN2Es6sMvLYnMzMz6L00js6Lo2g6fwnVXYOoaL+I3IZeyHXdEJd1QlDUjsSKsxidsPxvcW74nNGQx1THgKvnIlofDY6egyh9FJ2ZW8mGRCJB6+XG7U2M0MH1BcGAJtBshutaU9baj0BlPSJymtHQs0LTeoWwpwG85jGM0dddM8u1Fg1gVRydAGKma4eRyQn6Wl4SaeZBfjbW+JxuxYfb3DuM80MrK3u0FP1j/fSD9hIJaSserQq6rFjqF1CpnKFqNl/5ILM5ExKJBLWWyoitAmIAFxjAuS4ft99+O3bv3m01Fm49GsCdO3eCoigcPHjQ7PsNDQ2gKAoPPvigxX2Mj49jcHDQODo6OkBRFC5cuACDwbCmQ1tbDIlEghFdGgxVYhhKeTAUc2AoZMGQHwqD5jQM6kAYcoNh0Eph6KqGYWSIsY9Lo5eQXJ+M8PJw8HV8yJvk0Pfo0XOpBxMTE2t+zPYeI+Mj6B7qRn1vPfI78iGtk4Kv44NdyUZUFW3uRDUicLVcsCpZ4FRxkFCdgMzmTFSdq0LbxTb0DvTSOo+MXPZxdPUPI66wBfz8ZgwOj15xXdZyDI+OY3h0zOpnJiYm0Dfch95Lvei51IPuoW50D3Xj7OBZdA50omOgAy29LavW2XC+kT7f1Sdh6Km3+Xdv7x1CTF4TChvXz+9lZGRk9TqTMT+q02DIC4FBn8wYI1UyWucqGfO9okgYygQwjI9b329LAX39XrRfQ1EkDKVcGIYHr/x3N9DXWHGtGKIaEZQtyrUdZWwoZV9AmX0YymaF2c9I9BJIJBL0DvSu+Xe7cOECMYBz/zFnAK+//nps3boVsbGxGB83/zSxHg3gRx99BIqi4OTkZPb9+vr6JQ2gq6srKIoyGTweDxKJhAwyyCCDDDLIWAeDx+MRAzj3H76+vnj88ceNy7/XXXcd7rjjDuzatQsFBQWMjdajAVyLJWB7zgCSJ/nVj4mJCYyMW9eP6GyfsWY6Dw/A0F4Kw7j1Wclv6iDn8xqPvnYYNEEwVEmWNwOoPglDR+XS+x0fg6EyAYaCiPltS7gwFLFhuLT295PVDF2PDuxK9opm99Ia0xBdFQ12JRsZTRnmP9eUCWW2N5Ql4Zb3URFts/OZzACayQIuLCzEzp07ceuttxqN4HXXXYdHHnkEPj4+6OrqWpcGcL0kgcxhMJBYHntAdLYPRGf7QHReYyzEAZqNATQmgCyztmJXJTPLWONPJztdZXRe6kSkdulSTwsHv4aP1OZUJDYmMvoJm4waIVR1pomKc/tIaUix2flMYgCtlIEZHR0Fm83GSy+9xJgVvP7667FhwwbcddddmLBSa+pqY7llYFxcXJa9T2IA1z9EZ/tAdLYPRGcbUJfOrENpyQBWxtEJe9YSQBYyfIGuZ1kVR7eHKwoHhq+OcjoLGZoYgqBWsKyOP6p2uhYgS8tCbV8tavtqwdKyVmQe5yo0sLVsVJ+vJgbQhlg0gAupr6+Hg4MDfvjDH5osEX/22WcoLi629XGumomJCdx2221LFoIuKipa9j6JAVz/EJ3tA9HZPhCdbUC31qQeoFkDWBIJVAjMdwAxx8wMXce1IJieOWxU2vZ7XCbTM9OQNckgrDNfq2/xmJv1G5wYxLBh2Nh6cCUGUNoghbBOiIvDF4kBtCHLMoBzTE1NITExEW+99RZuuOEGxhLxk08+aatjXDMOHjwIiqLw/PPPY3h4vlbdXCu4F198cUX7IwZw/UN0tg9EZ/tAdLYBg110Ifi5vueWDGDeaaApa2X7Pl9L17csCAYGz9rm+NeAou4icPScZZm3KF0UcjtzjduW95SDrWWvyABG6iJR0FVg0/OZGMAVGsCF9PT04OjRo3j44YeNRvBqZ2xsDM8++ywoisLGjRuxfft24/+/88470dDQsKL9EQO4/iE62weis30gOtuAyXGTOECzBlATQM8WroSxQbrjUG3q8mcOrwAN/Q3LMnEZrRmI0kUxekz3j/VDUCNAYqP5Ys+Lh7xFDo6eg65LXcQA2pjLNoALycnJwQcffLAWu7I5o6OjcHZ2xn333Ycbb7wRP/jBD7Bjxw60t6+8KToxgOsforN9IDrbB6KzjahnxgGaGMDqJLq923ITQBZytuyqnv0D6GLvHD0HGa0ZVs2bsE6IxMbE+X7xs+SfzUekLnJZBjC2JhapzamYnJ4kBtDGrIkB/KZCDOD6h+hsH4jO9oHobCPO6RhxgCYG0JgAcm2aidHJUcTXxUPaKLVq3lhaFnS9pl1Muoe7wdVzkdqcuuwEEsC25zMxgMQArgpiANc/RGf7QHS2D0RnGzHYBeTPxwGaGMASNm0Cr+Jl3NWS3pqO2JpYi+Ztrsd831ifybbTM9NQtikRrY9eVvLH0ATdmpMYQNtCDOAqIAZw/UN0tg9EZ/tAdLYRk+NAabQxDtDEAF5OAsg6o+J8hdVl3DlzNzMzY3b7tsE2ROmikN6abjWBpKBrvvEEMYC2hRjAVUAM4PqH6GwfiM72gehsQxoyjXGAJgYwN4BeJr6GaRlosZgIktmaiUhdJJoHmi1ub5g2IKUpBfwa/pLJH8ZtiAG0KcQArgJiANc/RGf7QHS2D0RnG7IgDpBhAKuT6Dp+Ax1X+ghtSt9YH2KqY5DWkmZi3kT1IojqRRidHLW6j/r+eouFoRcmf8xBDKBtIQZwFRADuP4hOtsHorN9IDrbkKFuOg5QJ2EawErBNZ0AModh2gBxvdhsUWe2lo2yc6YNFhYzOjkKSb0E8XXxJskfEdoIY/KH8W8SA2hTiAFcBcQArn+IzvaB6GwfiM42ZHKCjgEsi2YawLkEEAuxb9cS2e3ZiKmOYZi3tOY0cPVcnBs+t6x9aM9rwdKyoGxTzid/NEohrJ1P/piDGEDbQgzgKiAGcP1DdLYPRGf7QHS2MQ0KIP8M0wDmnQaa1Vf6yOxC9YVqkzhAXg0P8hY5pmeWlwE9MD4AYa0Q0ob5kjIcPQf5Z/NNPksMoG0hBnAVEAO4/iE62weis30gOtuYc3pAE8A0gLkB9OvfADqGOhCpizTG8CnaFGBpWajvr1/Rfoq6i4xGMr0lHVH6KJy9ZFoMmxhA20IM4CogBnD9Q3S2D0Rn+0B0tjFD5+gZwCoJrbM2Ecg7dc0ngMwxODGI2JpYJDclM+r2XZq4tKL9nB85D141D8lNyRDUCpDclMxI/piDGEDbQgzgKiAGcP1DdLYPRGf7QHS2MbNxgIZiDq1z+WwCyPjQ0tteA0zPTCOpMQnCOqHZun3LZWZmBuoONTg6DqPzx2KIAbQtxACuAmIA1z9EZ/tAdLYPRGc70KiEIfcMrXMhC6gSfiMSQOYo6CoAR8+xunS7HDqGOhClj0JcbRwGJ8zfQ4kBtC3EAK4CYgDXP0Rn+0B0tg9EZzvQUw2D+iStsyYIaMm50kdkV+r768HWshFXG4fkpmQYpi/vXJuankJ6SzryzuZZ/AwxgLaFGMBVQAzg+ofobB+IzvaB6GwHhs7BkBtM66w++Y1JAJmje7gbHD0H4VXhqL5Qvap99Y/1m5R+WQgxgLaFGMBVQAzg+ofobB+IzvaB6GwHpgwwlHBnZwBPAwOdV/qI7MqIYQTCOiEENQJcHLto079FDKBtIQZwFRADuP4hOtsHorN9IDrbB0Odcj4G8BuSALIQeYsc6g7b1z4kBtC2EAO4CogBXP8Qne0D0dk+EJ3tg+Gslta54puVADJH+2A7zo+ct/nfIQbQthADuAqIAVz/EJ3tA9HZPhCd7YPh4lla58ZvRgeQKwUxgLaFGMBVQAzg+ofobB+IzvaB6GwfDGMjtM5ntVf6UK5piAG0LcQArgJiANc/RGf7QHS2D0Rn+2DUeXjgSh/KNQ0xgLaFGMBVQAzg+ofobB+IzvaB6GwfiM72gRhA20IM4CogBnD9Q3S2D0Rn+0B0tg9EZ/tADKBtIQZwFRADuP4hOtsHorN9IDrbB6KzfSAG0LYQA7gKiAFc/xCd7QPR2T4Qne0D0dk+EANoW4gBXAXEAK5/iM72gehsH4jO9oHobB+IAbQtxACuAmIA1z9EZ/tAdLYPRGf7QHS2D8QA2hZiAFcBMYDrH6KzfSA62weis30gOtsHYgBtCzGAq4AYwPUP0dk+EJ3tA9HZPhCd7QMxgLaFGMBVQAzg+ofobB+IzvaB6GwfiM72gRhA20IM4CogBnD9Q3S2D0Rn+0B0tg9EZ/tADKBtIQZwFRADuP4hOtsHorN9IDrbB6KzfSAG0LYQA7gKiAFc/xCd7QPR2T4Qne0D0dk+EANoW4gBXAXEAK5/iM72gehsH4jO9oHobB+IAbQtxACuAmIA1z9EZ/tAdLYPRGf7QHS2D8QA2hZiAFfBwMAAKIpCR0cHBgcH13RcuHABPB4PFy5cWPN9k0F0Jjpfm4PoTHS+loYtde7o6ABFURgYGLjSVuKKQQzgKpg7gcgggwwyyCCDjPU3Ojo6rrSVuGIQA7gKpqen0dHRgYGBAZs9ndhidpEMojPR+docRGei87U0bKnzwMAAOjo6MD09faWtxBWDGMCrlMFBEp9gD4jO9oHobB+IzvaB6GwfiM62hRjAqxRy4tsHorN9IDrbB6KzfSA62weis20hBvAqhZz49oHobB+IzvaB6GwfiM72gehsW4gBvEoZHx+Hq6srxsfHr/ShXNMQne0D0dk+EJ3tA9HZPhCdbQsxgAQCgUAgEAjfMIgBJBAIBAKBQPiGQQwggUAgEAgEwjcMYgAJBAKBQCAQvmEQA3gVMTY2BhcXFzzwwAO46aabsHHjRnzwwQff6Erll0tJSQmOHDmCbdu24Yc//CEoisJNN9205HZRUVH4xS9+gVtuuQV33HEHXn/9deTm5trhiNcfIyMjEIvF+PDDD/HEE0/gu9/9Lr7zne/gySefhJubGy5dumRxW6LzyvD19cW2bdtw//3349Zbb8WNN96In/zkJ3j//feh0+ksbkd0Xh19fX246667QFEUHnroIaufJVqvjC1btljt0JGammp2O6Lz2kEM4FXC2NgYnn/+eVAUhY0bN2L79u3YvHkzKIrCXXfdhcbGxit9iOuKt956y+SCspQB3Lt3LyiKwre//W289dZb2Lp1K66//np861vfgkgkstORrx/CwsKM2j722GN4++23sXXrVnz3u98FRVF4+OGH0dPTY7Id0Xnl3Hnnnbj55puxefNmbNu2Ddu2bcODDz4IiqJw4403IiUlxWQbovPq2bFjBzZs2LCkASRar5w5A/jnP/8ZO3bsMBlVVVUm2xCd1xZiAK8SnJ2dQVEUnnvuOcbMia+vLyiKwssvv3wFj2794e3tDRcXFyQlJeHcuXNLGkCFQgGKonDnnXeivr7e+HpeXh5uvPFG3Hbbbejv77fHoa8boqKisGvXLoZeANDV1YWnn34aFEXhb3/7G+M9ovPlodFoMDY2ZvJ6UFAQKIrCD3/4Q0xNTRlfJzqvnszMTFAUhY8//tiqASRaXx5zBrClpWVZnyc6rz3EAF4FGAwG3H777aAoCmVlZSbvP/nkk6AoCiUlJVfg6K4NljKAb7zxBiiKgp+fn8l7e/bsAUVROH78uC0P8ZoiLy/PqPnExITxdaLz2nP//feDoijo9Xrja0Tn1TE6Oor7778fjz76KOrr660aQKL15bFSA0h0XnuIAbwKUCqVoCgK9913n9n33d3dQVEUXF1d7Xtg1xDWDODY2BhuuukmY9PxxajValAUhS1bttj4KK8dRkZGjMvDXV1dAIjOtuKhhx4CRVFoaGgAQHReCxwcHLBhwwZkZ2ejpaXFogEkWl8+KzGARGfbQAzgVYCfnx8oisLbb79t9n2ZTAaKovDHP/7Rzkd27WDNAJaXlxtjLc0xPDwMiqJwxx132PIQrym0Wi0oisINN9xgrOJPdF57oqKiQFEUHnzwQUxPTwMgOq+WyspKXH/99fjwww8BwKoBJFpfPnMG0MnJCbt27cLnn3+OgIAAtLW1mXyW6GwbiAG8CpgLbN27d6/Z9ysqKkBRFDZt2mTnI7t2sGYApVIpKIrC008/bXH7uSX6oaEhWx3iNcVHH30EiqLw5ptvGl8jOq8eHx8f7NixA3/5y1/w2GOPGeP/FoaHEJ0vn+npaWzevBnf//73ceHCBQDWDSDR+vKxlAV8ww03wN3dnfFZorNtIAbwKmDnzp2gKAoHDx40+35DQ4PxKZ9weVgzgDExMaAoCi+88ILF7X/0ox8xljMJlklOTsaGDRtwww03oKKiwvg60Xn1/OY3v2HcLH/84x8jKyuL8Rmi8+Xj7+8PiqLAZrONr1kzgETry8fZ2RnR0dFoamrC6Ogo6urqcPjwYXz7298GRVHw9/c3fpbobBuIAbwKmJstcXJyMvv+XBAyMYCXjzUDyOVyQVEUXnzxRYvbz9USJBcX61RXV+OOO+4wuYADROe15OLFi1Cr1XjllVdAURQ8PT2N7xGdL4/29nb8z//8j0kcmTUDSLRee+RyOSiKwm233YbR0VEARGdbQQzgVQBZArY9ZAnY9nR0dOAnP/kJKIrCV199ZfI+0XntMRgM+PnPf44NGzagqKgIANH5cvn973+PG2+8EdXV1YzXyRKw/XnmmWdAURSUSiUAorOtIAbwKoAkgdietUgCuf322215iOua3t5ePPzww6AoCh988AFmZmZMPkN0tg0+Pj6gKArOzs4AiM6Xy5wmW7ZsYYxnn30WFEUXH557ba5WK9HaNvztb38DRVGIiYkBQHS2FcQAXgUstwyMi4uLnY/s2sGaARwdHV1WiQFSjNs8Q0NDxif2P/3pT4yCxAshOtsGFosFiqLw6aefAiA6Xy7mEhIsjYsXLwIgWtuK1157DRRFQSqVAiA62wpiAK8CJiYmcNttt4GirBeCnlviIawcawYQAF5//XVQlPUioz4+PrY8xHXJ+Pg4fvWrX4GiKGzdupVR9NkcROe1Z8eOHaAoCseOHTO+RnReO6wtAQNE67Xm/PnzuOWWW0zMHtF57SEG8Crh4MGDoCgKzz//PIaHh42vz7WCsxb8SliapQxgRkYGKMp8m6GbbroJt956K/r6+uxxqOuGqakpbNu2DRRF4aWXXsLIyMiS2xCdV45arUZsbCwmJycZrxsMBpw8eRLXXXcdvv3tb6O9vd34HtF57VjKABKtV05+fj6USqVJqEhLSwteeOEFUBSFP/zhD4z3iM5rDzGAVwljY2PGWJONGzdi+/btxv9/5513Gqv8E5aHTCbDs88+axwURWHDhg2M12QyGWObL774AhRF4Tvf+Q7eeustvP7667j++utx3XXXIT4+/gp9k6uXuZIZFEVh27ZtZhu679ixA729vYztiM4rg81mg6IofP/738fWrVvx97//Ha+++io2btwIiqJw8803QyAQmGxHdF4bljKAANF6pcyd0xs3bsSWLVvwzjvv4IUXXsDNN98MiqLw2GOPoaenx2Q7ovPaQgzgVcTo6CicnZ1x33334cYbb8QPfvAD7Nixg/FkT1gecxcYa2Nhra+F2/385z/Hd77zHdx2223YunUrcnL+//buJLSprg8D+L81SZvOg2IraJuoTaOWmKQOGKRCUas4gsEWEStqaRVdSFW0StwKxurWjUMURXDTbkSkpRZdqDVFtM6tCmKdaFWIUDDPu8oleZO0N+b1u37k+UE259xzz7ln9eQO5/T+7y/g/4DH41H1vlSsrZ44z+oNDg7iyJEjcLlcKC0thV6vR3Z2NubOnYu9e/eO++eQ85w8NQEQ4FwnYmBgAC0tLXA4HJgyZQp0Oh3y8/OxePFieL1eZfmXWDjP/x0GQCIiIqIUwwBIRERElGIYAImIiIhSDAMgERERUYphACQiIiJKMQyARERERCmGAZCIiIgoxTAAEhEREaUYBkAiIiKiFMMASET0h2zbtg0iAo/Ho/VQiIgiMAASkWZCAUnNr7u7W+vhJowBkIj+VgyARKSZUEDKy8uDy+Ua9/fw4UOth5swBkAi+lsxABKRZkIBqaamRuuh/BEMgET0t2IAJCLNMAASEWmDAZCINPO7AbCsrEx5L3BgYAANDQ0oKSmBwWCA2WzGwYMHMTo6Grf9z58/4fV6sXDhQuTl5SEjIwNmsxlNTU149erVuH2/fv0a+/btw5w5c5CdnY3s7GxUVFRg69atuHnzZszr83g8CAQCOH78OCorK5GZmYmioiKsW7cOfr8/Zj/BYBA+nw+1tbUoLi6GTqdDcXExrFYrtmzZguvXryc0Z0RE4RgAiUgzyQbAEydOICsrCwaDAXa7HZWVlcpHIxaLBR8+fIhqOzw8DJvNphxXUVEBh8OBzMxMiAiMRiM6Oztj9uvz+ZCRkQERgU6nw7x58zB//nwUFBRARGCz2WJe3/79+2G325GWlgaLxYKqqirlPFlZWXjw4EFUX9u3b1fGWFpaiurqalitVuTl5UFEsGjRooTmjIgoHAMgEWkm2QCo1+tRV1eHT58+KXX9/f0wmUwQEaxatSqq7fLlyyEiKC8vj/iwZGRkBG63GyKCnJwcDA4ORrTr7u7GpEmTICLYtWsXvnz5ElHv9/tx6tSpmNen1+ths9nw7Nkzpe7jx49YsmQJRATLli2LaNff3w8RQW5uLm7duhV1Dffv38fZs2dVzBQRUWwMgESkGbXLwJSVlUW0CwXAgoICfPv2Leq8PT09Stt79+4p5Xfu3FHKb9++HdVubGxMOXdLS0tEXXV1NUQEmzdvTvj6DAYDXrx4EVXf19cHEUFaWlrEI+srV65ARLBhwwbVfRERJYIBkIg0o3YZmE2bNkW0C4W01tbWuOd2Op1RH2AcPnx4wsenp0+fhohgxowZStmbN2+U4Pj48eOEr2/t2rUx64PBoPIouK+vTym/e/cuRAQlJSV4+fKl6v6IiNRiACQizST7CPj8+fMTntvtditlGzduhIhg586dcdt1dXUpYS8QCAAAOjo6ICLIz89PaJyhMYwXVKdPnw4RQU9Pj1IWDAZRU1MDEUF6ejqWLl2KtrY2dHZ2jvtxCxGRWgyARKSZZAPgjRs34h5z6NAhiAjq6uqUstraWogIjh49Grfd06dPlQA4PDwMALh06VLMR9ETUbMMTPgXzeF+/PiBY8eOKfWhn16vh9vtxtDQUEJjISIKxwBIRJpJNgBeuHAh7jGNjY1/zR3A3wmA4YaGhnD58mXs2LFD+QrYbDbj+/fvCY2HiCiEAZCINJNsADxw4EDcY0IfbST6DuCZM2ei7vYl+w5gsgEw3Nu3b5UQePXqVdVjISIKxwBIRJpJNgAWFhbGvAvW29s74VfAvb29Ue3GxsZQXl4OEcHu3bsj6kKBsqGhQfU4/0QABKCsY+j1elW3ISIKxwBIRJr5L9YBXL16NT5//qzUPXr0CDNnzoSIYOXKlVFtV6xYARGByWSKWAdwdHQU9fX1cdcB7OrqQnp6OkQEzc3N+Pr1a0S93+9He3t7zOtLNAD6fD60tbXhyZMnEcf++vULFy9eVNYjjLWUDRGRGgyARKQZtcvAuFwuXLt2TWkXaycQh8MBq9Wq3OGbNWsW3r9/H9Xnv3cCsVgscDqdMBqNyk4gHR0dMcd77tw5GAwGZSeQqqoq2O12FBYWjrsTSKIBsL29XRlfUVER7HY7nE4nJk+erJTv2bMnsckmIgrDAEhEmlG7ELSIRNxd+/dewPX19Zg6dSoMBgNMJhNaW1sxMjISt99AIICTJ09iwYIFyM3NVdo1NTVNuO7e8+fP0dzcjNmzZ8NoNCI3NxcWiwWNjY1Ru3b8bgB89+4dvF4v1qxZA7PZjJycHOh0OkybNg3r16+Pu1UdEZFa/wCDY/iZW2nHwwAAAABJRU5ErkJggg==\" width=\"640\">"
      ],
      "text/plain": [
       "<IPython.core.display.HTML object>"
      ]
     },
     "metadata": {},
     "output_type": "display_data"
    },
    {
     "data": {
      "text/plain": [
       "<matplotlib.legend.Legend at 0x7fd733c3ab10>"
      ]
     },
     "execution_count": 69,
     "metadata": {},
     "output_type": "execute_result"
    }
   ],
   "source": [
    "# Reward perfomance\n",
    "for rewards, divmat, libsize in zip(r_lib, divmats, library_sizes):\n",
    "    r, r_s = np.mean(rewards, axis=0), np.std(rewards, axis=0) # mean over seeds\n",
    "    l, = plt.plot(r, label='%d' % libsize)\n",
    "    plt.fill_between(np.arange(len(r)), r - r_s, r + r_s, alpha=0.3, color=l.get_color())\n",
    "\n",
    "plt.grid(True)\n",
    "plt.xlabel('Epochs')\n",
    "plt.ylabel('Average Episodic Reward')\n",
    "plt.legend()"
   ]
  },
  {
   "cell_type": "code",
   "execution_count": 70,
   "metadata": {
    "hidden": true
   },
   "outputs": [
    {
     "data": {
      "application/javascript": [
       "/* Put everything inside the global mpl namespace */\n",
       "/* global mpl */\n",
       "window.mpl = {};\n",
       "\n",
       "mpl.get_websocket_type = function () {\n",
       "    if (typeof WebSocket !== 'undefined') {\n",
       "        return WebSocket;\n",
       "    } else if (typeof MozWebSocket !== 'undefined') {\n",
       "        return MozWebSocket;\n",
       "    } else {\n",
       "        alert(\n",
       "            'Your browser does not have WebSocket support. ' +\n",
       "                'Please try Chrome, Safari or Firefox ≥ 6. ' +\n",
       "                'Firefox 4 and 5 are also supported but you ' +\n",
       "                'have to enable WebSockets in about:config.'\n",
       "        );\n",
       "    }\n",
       "};\n",
       "\n",
       "mpl.figure = function (figure_id, websocket, ondownload, parent_element) {\n",
       "    this.id = figure_id;\n",
       "\n",
       "    this.ws = websocket;\n",
       "\n",
       "    this.supports_binary = this.ws.binaryType !== undefined;\n",
       "\n",
       "    if (!this.supports_binary) {\n",
       "        var warnings = document.getElementById('mpl-warnings');\n",
       "        if (warnings) {\n",
       "            warnings.style.display = 'block';\n",
       "            warnings.textContent =\n",
       "                'This browser does not support binary websocket messages. ' +\n",
       "                'Performance may be slow.';\n",
       "        }\n",
       "    }\n",
       "\n",
       "    this.imageObj = new Image();\n",
       "\n",
       "    this.context = undefined;\n",
       "    this.message = undefined;\n",
       "    this.canvas = undefined;\n",
       "    this.rubberband_canvas = undefined;\n",
       "    this.rubberband_context = undefined;\n",
       "    this.format_dropdown = undefined;\n",
       "\n",
       "    this.image_mode = 'full';\n",
       "\n",
       "    this.root = document.createElement('div');\n",
       "    this.root.setAttribute('style', 'display: inline-block');\n",
       "    this._root_extra_style(this.root);\n",
       "\n",
       "    parent_element.appendChild(this.root);\n",
       "\n",
       "    this._init_header(this);\n",
       "    this._init_canvas(this);\n",
       "    this._init_toolbar(this);\n",
       "\n",
       "    var fig = this;\n",
       "\n",
       "    this.waiting = false;\n",
       "\n",
       "    this.ws.onopen = function () {\n",
       "        fig.send_message('supports_binary', { value: fig.supports_binary });\n",
       "        fig.send_message('send_image_mode', {});\n",
       "        if (fig.ratio !== 1) {\n",
       "            fig.send_message('set_dpi_ratio', { dpi_ratio: fig.ratio });\n",
       "        }\n",
       "        fig.send_message('refresh', {});\n",
       "    };\n",
       "\n",
       "    this.imageObj.onload = function () {\n",
       "        if (fig.image_mode === 'full') {\n",
       "            // Full images could contain transparency (where diff images\n",
       "            // almost always do), so we need to clear the canvas so that\n",
       "            // there is no ghosting.\n",
       "            fig.context.clearRect(0, 0, fig.canvas.width, fig.canvas.height);\n",
       "        }\n",
       "        fig.context.drawImage(fig.imageObj, 0, 0);\n",
       "    };\n",
       "\n",
       "    this.imageObj.onunload = function () {\n",
       "        fig.ws.close();\n",
       "    };\n",
       "\n",
       "    this.ws.onmessage = this._make_on_message_function(this);\n",
       "\n",
       "    this.ondownload = ondownload;\n",
       "};\n",
       "\n",
       "mpl.figure.prototype._init_header = function () {\n",
       "    var titlebar = document.createElement('div');\n",
       "    titlebar.classList =\n",
       "        'ui-dialog-titlebar ui-widget-header ui-corner-all ui-helper-clearfix';\n",
       "    var titletext = document.createElement('div');\n",
       "    titletext.classList = 'ui-dialog-title';\n",
       "    titletext.setAttribute(\n",
       "        'style',\n",
       "        'width: 100%; text-align: center; padding: 3px;'\n",
       "    );\n",
       "    titlebar.appendChild(titletext);\n",
       "    this.root.appendChild(titlebar);\n",
       "    this.header = titletext;\n",
       "};\n",
       "\n",
       "mpl.figure.prototype._canvas_extra_style = function (_canvas_div) {};\n",
       "\n",
       "mpl.figure.prototype._root_extra_style = function (_canvas_div) {};\n",
       "\n",
       "mpl.figure.prototype._init_canvas = function () {\n",
       "    var fig = this;\n",
       "\n",
       "    var canvas_div = (this.canvas_div = document.createElement('div'));\n",
       "    canvas_div.setAttribute(\n",
       "        'style',\n",
       "        'border: 1px solid #ddd;' +\n",
       "            'box-sizing: content-box;' +\n",
       "            'clear: both;' +\n",
       "            'min-height: 1px;' +\n",
       "            'min-width: 1px;' +\n",
       "            'outline: 0;' +\n",
       "            'overflow: hidden;' +\n",
       "            'position: relative;' +\n",
       "            'resize: both;'\n",
       "    );\n",
       "\n",
       "    function on_keyboard_event_closure(name) {\n",
       "        return function (event) {\n",
       "            return fig.key_event(event, name);\n",
       "        };\n",
       "    }\n",
       "\n",
       "    canvas_div.addEventListener(\n",
       "        'keydown',\n",
       "        on_keyboard_event_closure('key_press')\n",
       "    );\n",
       "    canvas_div.addEventListener(\n",
       "        'keyup',\n",
       "        on_keyboard_event_closure('key_release')\n",
       "    );\n",
       "\n",
       "    this._canvas_extra_style(canvas_div);\n",
       "    this.root.appendChild(canvas_div);\n",
       "\n",
       "    var canvas = (this.canvas = document.createElement('canvas'));\n",
       "    canvas.classList.add('mpl-canvas');\n",
       "    canvas.setAttribute('style', 'box-sizing: content-box;');\n",
       "\n",
       "    this.context = canvas.getContext('2d');\n",
       "\n",
       "    var backingStore =\n",
       "        this.context.backingStorePixelRatio ||\n",
       "        this.context.webkitBackingStorePixelRatio ||\n",
       "        this.context.mozBackingStorePixelRatio ||\n",
       "        this.context.msBackingStorePixelRatio ||\n",
       "        this.context.oBackingStorePixelRatio ||\n",
       "        this.context.backingStorePixelRatio ||\n",
       "        1;\n",
       "\n",
       "    this.ratio = (window.devicePixelRatio || 1) / backingStore;\n",
       "    if (this.ratio !== 1) {\n",
       "        fig.send_message('set_dpi_ratio', { dpi_ratio: this.ratio });\n",
       "    }\n",
       "\n",
       "    var rubberband_canvas = (this.rubberband_canvas = document.createElement(\n",
       "        'canvas'\n",
       "    ));\n",
       "    rubberband_canvas.setAttribute(\n",
       "        'style',\n",
       "        'box-sizing: content-box; position: absolute; left: 0; top: 0; z-index: 1;'\n",
       "    );\n",
       "\n",
       "    var resizeObserver = new ResizeObserver(function (entries) {\n",
       "        var nentries = entries.length;\n",
       "        for (var i = 0; i < nentries; i++) {\n",
       "            var entry = entries[i];\n",
       "            var width, height;\n",
       "            if (entry.contentBoxSize) {\n",
       "                if (entry.contentBoxSize instanceof Array) {\n",
       "                    // Chrome 84 implements new version of spec.\n",
       "                    width = entry.contentBoxSize[0].inlineSize;\n",
       "                    height = entry.contentBoxSize[0].blockSize;\n",
       "                } else {\n",
       "                    // Firefox implements old version of spec.\n",
       "                    width = entry.contentBoxSize.inlineSize;\n",
       "                    height = entry.contentBoxSize.blockSize;\n",
       "                }\n",
       "            } else {\n",
       "                // Chrome <84 implements even older version of spec.\n",
       "                width = entry.contentRect.width;\n",
       "                height = entry.contentRect.height;\n",
       "            }\n",
       "\n",
       "            // Keep the size of the canvas and rubber band canvas in sync with\n",
       "            // the canvas container.\n",
       "            if (entry.devicePixelContentBoxSize) {\n",
       "                // Chrome 84 implements new version of spec.\n",
       "                canvas.setAttribute(\n",
       "                    'width',\n",
       "                    entry.devicePixelContentBoxSize[0].inlineSize\n",
       "                );\n",
       "                canvas.setAttribute(\n",
       "                    'height',\n",
       "                    entry.devicePixelContentBoxSize[0].blockSize\n",
       "                );\n",
       "            } else {\n",
       "                canvas.setAttribute('width', width * fig.ratio);\n",
       "                canvas.setAttribute('height', height * fig.ratio);\n",
       "            }\n",
       "            canvas.setAttribute(\n",
       "                'style',\n",
       "                'width: ' + width + 'px; height: ' + height + 'px;'\n",
       "            );\n",
       "\n",
       "            rubberband_canvas.setAttribute('width', width);\n",
       "            rubberband_canvas.setAttribute('height', height);\n",
       "\n",
       "            // And update the size in Python. We ignore the initial 0/0 size\n",
       "            // that occurs as the element is placed into the DOM, which should\n",
       "            // otherwise not happen due to the minimum size styling.\n",
       "            if (width != 0 && height != 0) {\n",
       "                fig.request_resize(width, height);\n",
       "            }\n",
       "        }\n",
       "    });\n",
       "    resizeObserver.observe(canvas_div);\n",
       "\n",
       "    function on_mouse_event_closure(name) {\n",
       "        return function (event) {\n",
       "            return fig.mouse_event(event, name);\n",
       "        };\n",
       "    }\n",
       "\n",
       "    rubberband_canvas.addEventListener(\n",
       "        'mousedown',\n",
       "        on_mouse_event_closure('button_press')\n",
       "    );\n",
       "    rubberband_canvas.addEventListener(\n",
       "        'mouseup',\n",
       "        on_mouse_event_closure('button_release')\n",
       "    );\n",
       "    // Throttle sequential mouse events to 1 every 20ms.\n",
       "    rubberband_canvas.addEventListener(\n",
       "        'mousemove',\n",
       "        on_mouse_event_closure('motion_notify')\n",
       "    );\n",
       "\n",
       "    rubberband_canvas.addEventListener(\n",
       "        'mouseenter',\n",
       "        on_mouse_event_closure('figure_enter')\n",
       "    );\n",
       "    rubberband_canvas.addEventListener(\n",
       "        'mouseleave',\n",
       "        on_mouse_event_closure('figure_leave')\n",
       "    );\n",
       "\n",
       "    canvas_div.addEventListener('wheel', function (event) {\n",
       "        if (event.deltaY < 0) {\n",
       "            event.step = 1;\n",
       "        } else {\n",
       "            event.step = -1;\n",
       "        }\n",
       "        on_mouse_event_closure('scroll')(event);\n",
       "    });\n",
       "\n",
       "    canvas_div.appendChild(canvas);\n",
       "    canvas_div.appendChild(rubberband_canvas);\n",
       "\n",
       "    this.rubberband_context = rubberband_canvas.getContext('2d');\n",
       "    this.rubberband_context.strokeStyle = '#000000';\n",
       "\n",
       "    this._resize_canvas = function (width, height, forward) {\n",
       "        if (forward) {\n",
       "            canvas_div.style.width = width + 'px';\n",
       "            canvas_div.style.height = height + 'px';\n",
       "        }\n",
       "    };\n",
       "\n",
       "    // Disable right mouse context menu.\n",
       "    this.rubberband_canvas.addEventListener('contextmenu', function (_e) {\n",
       "        event.preventDefault();\n",
       "        return false;\n",
       "    });\n",
       "\n",
       "    function set_focus() {\n",
       "        canvas.focus();\n",
       "        canvas_div.focus();\n",
       "    }\n",
       "\n",
       "    window.setTimeout(set_focus, 100);\n",
       "};\n",
       "\n",
       "mpl.figure.prototype._init_toolbar = function () {\n",
       "    var fig = this;\n",
       "\n",
       "    var toolbar = document.createElement('div');\n",
       "    toolbar.classList = 'mpl-toolbar';\n",
       "    this.root.appendChild(toolbar);\n",
       "\n",
       "    function on_click_closure(name) {\n",
       "        return function (_event) {\n",
       "            return fig.toolbar_button_onclick(name);\n",
       "        };\n",
       "    }\n",
       "\n",
       "    function on_mouseover_closure(tooltip) {\n",
       "        return function (event) {\n",
       "            if (!event.currentTarget.disabled) {\n",
       "                return fig.toolbar_button_onmouseover(tooltip);\n",
       "            }\n",
       "        };\n",
       "    }\n",
       "\n",
       "    fig.buttons = {};\n",
       "    var buttonGroup = document.createElement('div');\n",
       "    buttonGroup.classList = 'mpl-button-group';\n",
       "    for (var toolbar_ind in mpl.toolbar_items) {\n",
       "        var name = mpl.toolbar_items[toolbar_ind][0];\n",
       "        var tooltip = mpl.toolbar_items[toolbar_ind][1];\n",
       "        var image = mpl.toolbar_items[toolbar_ind][2];\n",
       "        var method_name = mpl.toolbar_items[toolbar_ind][3];\n",
       "\n",
       "        if (!name) {\n",
       "            /* Instead of a spacer, we start a new button group. */\n",
       "            if (buttonGroup.hasChildNodes()) {\n",
       "                toolbar.appendChild(buttonGroup);\n",
       "            }\n",
       "            buttonGroup = document.createElement('div');\n",
       "            buttonGroup.classList = 'mpl-button-group';\n",
       "            continue;\n",
       "        }\n",
       "\n",
       "        var button = (fig.buttons[name] = document.createElement('button'));\n",
       "        button.classList = 'mpl-widget';\n",
       "        button.setAttribute('role', 'button');\n",
       "        button.setAttribute('aria-disabled', 'false');\n",
       "        button.addEventListener('click', on_click_closure(method_name));\n",
       "        button.addEventListener('mouseover', on_mouseover_closure(tooltip));\n",
       "\n",
       "        var icon_img = document.createElement('img');\n",
       "        icon_img.src = '_images/' + image + '.png';\n",
       "        icon_img.srcset = '_images/' + image + '_large.png 2x';\n",
       "        icon_img.alt = tooltip;\n",
       "        button.appendChild(icon_img);\n",
       "\n",
       "        buttonGroup.appendChild(button);\n",
       "    }\n",
       "\n",
       "    if (buttonGroup.hasChildNodes()) {\n",
       "        toolbar.appendChild(buttonGroup);\n",
       "    }\n",
       "\n",
       "    var fmt_picker = document.createElement('select');\n",
       "    fmt_picker.classList = 'mpl-widget';\n",
       "    toolbar.appendChild(fmt_picker);\n",
       "    this.format_dropdown = fmt_picker;\n",
       "\n",
       "    for (var ind in mpl.extensions) {\n",
       "        var fmt = mpl.extensions[ind];\n",
       "        var option = document.createElement('option');\n",
       "        option.selected = fmt === mpl.default_extension;\n",
       "        option.innerHTML = fmt;\n",
       "        fmt_picker.appendChild(option);\n",
       "    }\n",
       "\n",
       "    var status_bar = document.createElement('span');\n",
       "    status_bar.classList = 'mpl-message';\n",
       "    toolbar.appendChild(status_bar);\n",
       "    this.message = status_bar;\n",
       "};\n",
       "\n",
       "mpl.figure.prototype.request_resize = function (x_pixels, y_pixels) {\n",
       "    // Request matplotlib to resize the figure. Matplotlib will then trigger a resize in the client,\n",
       "    // which will in turn request a refresh of the image.\n",
       "    this.send_message('resize', { width: x_pixels, height: y_pixels });\n",
       "};\n",
       "\n",
       "mpl.figure.prototype.send_message = function (type, properties) {\n",
       "    properties['type'] = type;\n",
       "    properties['figure_id'] = this.id;\n",
       "    this.ws.send(JSON.stringify(properties));\n",
       "};\n",
       "\n",
       "mpl.figure.prototype.send_draw_message = function () {\n",
       "    if (!this.waiting) {\n",
       "        this.waiting = true;\n",
       "        this.ws.send(JSON.stringify({ type: 'draw', figure_id: this.id }));\n",
       "    }\n",
       "};\n",
       "\n",
       "mpl.figure.prototype.handle_save = function (fig, _msg) {\n",
       "    var format_dropdown = fig.format_dropdown;\n",
       "    var format = format_dropdown.options[format_dropdown.selectedIndex].value;\n",
       "    fig.ondownload(fig, format);\n",
       "};\n",
       "\n",
       "mpl.figure.prototype.handle_resize = function (fig, msg) {\n",
       "    var size = msg['size'];\n",
       "    if (size[0] !== fig.canvas.width || size[1] !== fig.canvas.height) {\n",
       "        fig._resize_canvas(size[0], size[1], msg['forward']);\n",
       "        fig.send_message('refresh', {});\n",
       "    }\n",
       "};\n",
       "\n",
       "mpl.figure.prototype.handle_rubberband = function (fig, msg) {\n",
       "    var x0 = msg['x0'] / fig.ratio;\n",
       "    var y0 = (fig.canvas.height - msg['y0']) / fig.ratio;\n",
       "    var x1 = msg['x1'] / fig.ratio;\n",
       "    var y1 = (fig.canvas.height - msg['y1']) / fig.ratio;\n",
       "    x0 = Math.floor(x0) + 0.5;\n",
       "    y0 = Math.floor(y0) + 0.5;\n",
       "    x1 = Math.floor(x1) + 0.5;\n",
       "    y1 = Math.floor(y1) + 0.5;\n",
       "    var min_x = Math.min(x0, x1);\n",
       "    var min_y = Math.min(y0, y1);\n",
       "    var width = Math.abs(x1 - x0);\n",
       "    var height = Math.abs(y1 - y0);\n",
       "\n",
       "    fig.rubberband_context.clearRect(\n",
       "        0,\n",
       "        0,\n",
       "        fig.canvas.width / fig.ratio,\n",
       "        fig.canvas.height / fig.ratio\n",
       "    );\n",
       "\n",
       "    fig.rubberband_context.strokeRect(min_x, min_y, width, height);\n",
       "};\n",
       "\n",
       "mpl.figure.prototype.handle_figure_label = function (fig, msg) {\n",
       "    // Updates the figure title.\n",
       "    fig.header.textContent = msg['label'];\n",
       "};\n",
       "\n",
       "mpl.figure.prototype.handle_cursor = function (fig, msg) {\n",
       "    var cursor = msg['cursor'];\n",
       "    switch (cursor) {\n",
       "        case 0:\n",
       "            cursor = 'pointer';\n",
       "            break;\n",
       "        case 1:\n",
       "            cursor = 'default';\n",
       "            break;\n",
       "        case 2:\n",
       "            cursor = 'crosshair';\n",
       "            break;\n",
       "        case 3:\n",
       "            cursor = 'move';\n",
       "            break;\n",
       "    }\n",
       "    fig.rubberband_canvas.style.cursor = cursor;\n",
       "};\n",
       "\n",
       "mpl.figure.prototype.handle_message = function (fig, msg) {\n",
       "    fig.message.textContent = msg['message'];\n",
       "};\n",
       "\n",
       "mpl.figure.prototype.handle_draw = function (fig, _msg) {\n",
       "    // Request the server to send over a new figure.\n",
       "    fig.send_draw_message();\n",
       "};\n",
       "\n",
       "mpl.figure.prototype.handle_image_mode = function (fig, msg) {\n",
       "    fig.image_mode = msg['mode'];\n",
       "};\n",
       "\n",
       "mpl.figure.prototype.handle_history_buttons = function (fig, msg) {\n",
       "    for (var key in msg) {\n",
       "        if (!(key in fig.buttons)) {\n",
       "            continue;\n",
       "        }\n",
       "        fig.buttons[key].disabled = !msg[key];\n",
       "        fig.buttons[key].setAttribute('aria-disabled', !msg[key]);\n",
       "    }\n",
       "};\n",
       "\n",
       "mpl.figure.prototype.handle_navigate_mode = function (fig, msg) {\n",
       "    if (msg['mode'] === 'PAN') {\n",
       "        fig.buttons['Pan'].classList.add('active');\n",
       "        fig.buttons['Zoom'].classList.remove('active');\n",
       "    } else if (msg['mode'] === 'ZOOM') {\n",
       "        fig.buttons['Pan'].classList.remove('active');\n",
       "        fig.buttons['Zoom'].classList.add('active');\n",
       "    } else {\n",
       "        fig.buttons['Pan'].classList.remove('active');\n",
       "        fig.buttons['Zoom'].classList.remove('active');\n",
       "    }\n",
       "};\n",
       "\n",
       "mpl.figure.prototype.updated_canvas_event = function () {\n",
       "    // Called whenever the canvas gets updated.\n",
       "    this.send_message('ack', {});\n",
       "};\n",
       "\n",
       "// A function to construct a web socket function for onmessage handling.\n",
       "// Called in the figure constructor.\n",
       "mpl.figure.prototype._make_on_message_function = function (fig) {\n",
       "    return function socket_on_message(evt) {\n",
       "        if (evt.data instanceof Blob) {\n",
       "            /* FIXME: We get \"Resource interpreted as Image but\n",
       "             * transferred with MIME type text/plain:\" errors on\n",
       "             * Chrome.  But how to set the MIME type?  It doesn't seem\n",
       "             * to be part of the websocket stream */\n",
       "            evt.data.type = 'image/png';\n",
       "\n",
       "            /* Free the memory for the previous frames */\n",
       "            if (fig.imageObj.src) {\n",
       "                (window.URL || window.webkitURL).revokeObjectURL(\n",
       "                    fig.imageObj.src\n",
       "                );\n",
       "            }\n",
       "\n",
       "            fig.imageObj.src = (window.URL || window.webkitURL).createObjectURL(\n",
       "                evt.data\n",
       "            );\n",
       "            fig.updated_canvas_event();\n",
       "            fig.waiting = false;\n",
       "            return;\n",
       "        } else if (\n",
       "            typeof evt.data === 'string' &&\n",
       "            evt.data.slice(0, 21) === 'data:image/png;base64'\n",
       "        ) {\n",
       "            fig.imageObj.src = evt.data;\n",
       "            fig.updated_canvas_event();\n",
       "            fig.waiting = false;\n",
       "            return;\n",
       "        }\n",
       "\n",
       "        var msg = JSON.parse(evt.data);\n",
       "        var msg_type = msg['type'];\n",
       "\n",
       "        // Call the  \"handle_{type}\" callback, which takes\n",
       "        // the figure and JSON message as its only arguments.\n",
       "        try {\n",
       "            var callback = fig['handle_' + msg_type];\n",
       "        } catch (e) {\n",
       "            console.log(\n",
       "                \"No handler for the '\" + msg_type + \"' message type: \",\n",
       "                msg\n",
       "            );\n",
       "            return;\n",
       "        }\n",
       "\n",
       "        if (callback) {\n",
       "            try {\n",
       "                // console.log(\"Handling '\" + msg_type + \"' message: \", msg);\n",
       "                callback(fig, msg);\n",
       "            } catch (e) {\n",
       "                console.log(\n",
       "                    \"Exception inside the 'handler_\" + msg_type + \"' callback:\",\n",
       "                    e,\n",
       "                    e.stack,\n",
       "                    msg\n",
       "                );\n",
       "            }\n",
       "        }\n",
       "    };\n",
       "};\n",
       "\n",
       "// from http://stackoverflow.com/questions/1114465/getting-mouse-location-in-canvas\n",
       "mpl.findpos = function (e) {\n",
       "    //this section is from http://www.quirksmode.org/js/events_properties.html\n",
       "    var targ;\n",
       "    if (!e) {\n",
       "        e = window.event;\n",
       "    }\n",
       "    if (e.target) {\n",
       "        targ = e.target;\n",
       "    } else if (e.srcElement) {\n",
       "        targ = e.srcElement;\n",
       "    }\n",
       "    if (targ.nodeType === 3) {\n",
       "        // defeat Safari bug\n",
       "        targ = targ.parentNode;\n",
       "    }\n",
       "\n",
       "    // pageX,Y are the mouse positions relative to the document\n",
       "    var boundingRect = targ.getBoundingClientRect();\n",
       "    var x = e.pageX - (boundingRect.left + document.body.scrollLeft);\n",
       "    var y = e.pageY - (boundingRect.top + document.body.scrollTop);\n",
       "\n",
       "    return { x: x, y: y };\n",
       "};\n",
       "\n",
       "/*\n",
       " * return a copy of an object with only non-object keys\n",
       " * we need this to avoid circular references\n",
       " * http://stackoverflow.com/a/24161582/3208463\n",
       " */\n",
       "function simpleKeys(original) {\n",
       "    return Object.keys(original).reduce(function (obj, key) {\n",
       "        if (typeof original[key] !== 'object') {\n",
       "            obj[key] = original[key];\n",
       "        }\n",
       "        return obj;\n",
       "    }, {});\n",
       "}\n",
       "\n",
       "mpl.figure.prototype.mouse_event = function (event, name) {\n",
       "    var canvas_pos = mpl.findpos(event);\n",
       "\n",
       "    if (name === 'button_press') {\n",
       "        this.canvas.focus();\n",
       "        this.canvas_div.focus();\n",
       "    }\n",
       "\n",
       "    var x = canvas_pos.x * this.ratio;\n",
       "    var y = canvas_pos.y * this.ratio;\n",
       "\n",
       "    this.send_message(name, {\n",
       "        x: x,\n",
       "        y: y,\n",
       "        button: event.button,\n",
       "        step: event.step,\n",
       "        guiEvent: simpleKeys(event),\n",
       "    });\n",
       "\n",
       "    /* This prevents the web browser from automatically changing to\n",
       "     * the text insertion cursor when the button is pressed.  We want\n",
       "     * to control all of the cursor setting manually through the\n",
       "     * 'cursor' event from matplotlib */\n",
       "    event.preventDefault();\n",
       "    return false;\n",
       "};\n",
       "\n",
       "mpl.figure.prototype._key_event_extra = function (_event, _name) {\n",
       "    // Handle any extra behaviour associated with a key event\n",
       "};\n",
       "\n",
       "mpl.figure.prototype.key_event = function (event, name) {\n",
       "    // Prevent repeat events\n",
       "    if (name === 'key_press') {\n",
       "        if (event.which === this._key) {\n",
       "            return;\n",
       "        } else {\n",
       "            this._key = event.which;\n",
       "        }\n",
       "    }\n",
       "    if (name === 'key_release') {\n",
       "        this._key = null;\n",
       "    }\n",
       "\n",
       "    var value = '';\n",
       "    if (event.ctrlKey && event.which !== 17) {\n",
       "        value += 'ctrl+';\n",
       "    }\n",
       "    if (event.altKey && event.which !== 18) {\n",
       "        value += 'alt+';\n",
       "    }\n",
       "    if (event.shiftKey && event.which !== 16) {\n",
       "        value += 'shift+';\n",
       "    }\n",
       "\n",
       "    value += 'k';\n",
       "    value += event.which.toString();\n",
       "\n",
       "    this._key_event_extra(event, name);\n",
       "\n",
       "    this.send_message(name, { key: value, guiEvent: simpleKeys(event) });\n",
       "    return false;\n",
       "};\n",
       "\n",
       "mpl.figure.prototype.toolbar_button_onclick = function (name) {\n",
       "    if (name === 'download') {\n",
       "        this.handle_save(this, null);\n",
       "    } else {\n",
       "        this.send_message('toolbar_button', { name: name });\n",
       "    }\n",
       "};\n",
       "\n",
       "mpl.figure.prototype.toolbar_button_onmouseover = function (tooltip) {\n",
       "    this.message.textContent = tooltip;\n",
       "};\n",
       "mpl.toolbar_items = [[\"Home\", \"Reset original view\", \"fa fa-home icon-home\", \"home\"], [\"Back\", \"Back to previous view\", \"fa fa-arrow-left icon-arrow-left\", \"back\"], [\"Forward\", \"Forward to next view\", \"fa fa-arrow-right icon-arrow-right\", \"forward\"], [\"\", \"\", \"\", \"\"], [\"Pan\", \"Left button pans, Right button zooms\\nx/y fixes axis, CTRL fixes aspect\", \"fa fa-arrows icon-move\", \"pan\"], [\"Zoom\", \"Zoom to rectangle\\nx/y fixes axis, CTRL fixes aspect\", \"fa fa-square-o icon-check-empty\", \"zoom\"], [\"\", \"\", \"\", \"\"], [\"Download\", \"Download plot\", \"fa fa-floppy-o icon-save\", \"download\"]];\n",
       "\n",
       "mpl.extensions = [\"eps\", \"jpeg\", \"pdf\", \"png\", \"ps\", \"raw\", \"svg\", \"tif\"];\n",
       "\n",
       "mpl.default_extension = \"png\";/* global mpl */\n",
       "\n",
       "var comm_websocket_adapter = function (comm) {\n",
       "    // Create a \"websocket\"-like object which calls the given IPython comm\n",
       "    // object with the appropriate methods. Currently this is a non binary\n",
       "    // socket, so there is still some room for performance tuning.\n",
       "    var ws = {};\n",
       "\n",
       "    ws.close = function () {\n",
       "        comm.close();\n",
       "    };\n",
       "    ws.send = function (m) {\n",
       "        //console.log('sending', m);\n",
       "        comm.send(m);\n",
       "    };\n",
       "    // Register the callback with on_msg.\n",
       "    comm.on_msg(function (msg) {\n",
       "        //console.log('receiving', msg['content']['data'], msg);\n",
       "        // Pass the mpl event to the overridden (by mpl) onmessage function.\n",
       "        ws.onmessage(msg['content']['data']);\n",
       "    });\n",
       "    return ws;\n",
       "};\n",
       "\n",
       "mpl.mpl_figure_comm = function (comm, msg) {\n",
       "    // This is the function which gets called when the mpl process\n",
       "    // starts-up an IPython Comm through the \"matplotlib\" channel.\n",
       "\n",
       "    var id = msg.content.data.id;\n",
       "    // Get hold of the div created by the display call when the Comm\n",
       "    // socket was opened in Python.\n",
       "    var element = document.getElementById(id);\n",
       "    var ws_proxy = comm_websocket_adapter(comm);\n",
       "\n",
       "    function ondownload(figure, _format) {\n",
       "        window.open(figure.canvas.toDataURL());\n",
       "    }\n",
       "\n",
       "    var fig = new mpl.figure(id, ws_proxy, ondownload, element);\n",
       "\n",
       "    // Call onopen now - mpl needs it, as it is assuming we've passed it a real\n",
       "    // web socket which is closed, not our websocket->open comm proxy.\n",
       "    ws_proxy.onopen();\n",
       "\n",
       "    fig.parent_element = element;\n",
       "    fig.cell_info = mpl.find_output_cell(\"<div id='\" + id + \"'></div>\");\n",
       "    if (!fig.cell_info) {\n",
       "        console.error('Failed to find cell for figure', id, fig);\n",
       "        return;\n",
       "    }\n",
       "    fig.cell_info[0].output_area.element.one(\n",
       "        'cleared',\n",
       "        { fig: fig },\n",
       "        fig._remove_fig_handler\n",
       "    );\n",
       "};\n",
       "\n",
       "mpl.figure.prototype.handle_close = function (fig, msg) {\n",
       "    var width = fig.canvas.width / fig.ratio;\n",
       "    fig.cell_info[0].output_area.element.off(\n",
       "        'cleared',\n",
       "        fig._remove_fig_handler\n",
       "    );\n",
       "\n",
       "    // Update the output cell to use the data from the current canvas.\n",
       "    fig.push_to_output();\n",
       "    var dataURL = fig.canvas.toDataURL();\n",
       "    // Re-enable the keyboard manager in IPython - without this line, in FF,\n",
       "    // the notebook keyboard shortcuts fail.\n",
       "    IPython.keyboard_manager.enable();\n",
       "    fig.parent_element.innerHTML =\n",
       "        '<img src=\"' + dataURL + '\" width=\"' + width + '\">';\n",
       "    fig.close_ws(fig, msg);\n",
       "};\n",
       "\n",
       "mpl.figure.prototype.close_ws = function (fig, msg) {\n",
       "    fig.send_message('closing', msg);\n",
       "    // fig.ws.close()\n",
       "};\n",
       "\n",
       "mpl.figure.prototype.push_to_output = function (_remove_interactive) {\n",
       "    // Turn the data on the canvas into data in the output cell.\n",
       "    var width = this.canvas.width / this.ratio;\n",
       "    var dataURL = this.canvas.toDataURL();\n",
       "    this.cell_info[1]['text/html'] =\n",
       "        '<img src=\"' + dataURL + '\" width=\"' + width + '\">';\n",
       "};\n",
       "\n",
       "mpl.figure.prototype.updated_canvas_event = function () {\n",
       "    // Tell IPython that the notebook contents must change.\n",
       "    IPython.notebook.set_dirty(true);\n",
       "    this.send_message('ack', {});\n",
       "    var fig = this;\n",
       "    // Wait a second, then push the new image to the DOM so\n",
       "    // that it is saved nicely (might be nice to debounce this).\n",
       "    setTimeout(function () {\n",
       "        fig.push_to_output();\n",
       "    }, 1000);\n",
       "};\n",
       "\n",
       "mpl.figure.prototype._init_toolbar = function () {\n",
       "    var fig = this;\n",
       "\n",
       "    var toolbar = document.createElement('div');\n",
       "    toolbar.classList = 'btn-toolbar';\n",
       "    this.root.appendChild(toolbar);\n",
       "\n",
       "    function on_click_closure(name) {\n",
       "        return function (_event) {\n",
       "            return fig.toolbar_button_onclick(name);\n",
       "        };\n",
       "    }\n",
       "\n",
       "    function on_mouseover_closure(tooltip) {\n",
       "        return function (event) {\n",
       "            if (!event.currentTarget.disabled) {\n",
       "                return fig.toolbar_button_onmouseover(tooltip);\n",
       "            }\n",
       "        };\n",
       "    }\n",
       "\n",
       "    fig.buttons = {};\n",
       "    var buttonGroup = document.createElement('div');\n",
       "    buttonGroup.classList = 'btn-group';\n",
       "    var button;\n",
       "    for (var toolbar_ind in mpl.toolbar_items) {\n",
       "        var name = mpl.toolbar_items[toolbar_ind][0];\n",
       "        var tooltip = mpl.toolbar_items[toolbar_ind][1];\n",
       "        var image = mpl.toolbar_items[toolbar_ind][2];\n",
       "        var method_name = mpl.toolbar_items[toolbar_ind][3];\n",
       "\n",
       "        if (!name) {\n",
       "            /* Instead of a spacer, we start a new button group. */\n",
       "            if (buttonGroup.hasChildNodes()) {\n",
       "                toolbar.appendChild(buttonGroup);\n",
       "            }\n",
       "            buttonGroup = document.createElement('div');\n",
       "            buttonGroup.classList = 'btn-group';\n",
       "            continue;\n",
       "        }\n",
       "\n",
       "        button = fig.buttons[name] = document.createElement('button');\n",
       "        button.classList = 'btn btn-default';\n",
       "        button.href = '#';\n",
       "        button.title = name;\n",
       "        button.innerHTML = '<i class=\"fa ' + image + ' fa-lg\"></i>';\n",
       "        button.addEventListener('click', on_click_closure(method_name));\n",
       "        button.addEventListener('mouseover', on_mouseover_closure(tooltip));\n",
       "        buttonGroup.appendChild(button);\n",
       "    }\n",
       "\n",
       "    if (buttonGroup.hasChildNodes()) {\n",
       "        toolbar.appendChild(buttonGroup);\n",
       "    }\n",
       "\n",
       "    // Add the status bar.\n",
       "    var status_bar = document.createElement('span');\n",
       "    status_bar.classList = 'mpl-message pull-right';\n",
       "    toolbar.appendChild(status_bar);\n",
       "    this.message = status_bar;\n",
       "\n",
       "    // Add the close button to the window.\n",
       "    var buttongrp = document.createElement('div');\n",
       "    buttongrp.classList = 'btn-group inline pull-right';\n",
       "    button = document.createElement('button');\n",
       "    button.classList = 'btn btn-mini btn-primary';\n",
       "    button.href = '#';\n",
       "    button.title = 'Stop Interaction';\n",
       "    button.innerHTML = '<i class=\"fa fa-power-off icon-remove icon-large\"></i>';\n",
       "    button.addEventListener('click', function (_evt) {\n",
       "        fig.handle_close(fig, {});\n",
       "    });\n",
       "    button.addEventListener(\n",
       "        'mouseover',\n",
       "        on_mouseover_closure('Stop Interaction')\n",
       "    );\n",
       "    buttongrp.appendChild(button);\n",
       "    var titlebar = this.root.querySelector('.ui-dialog-titlebar');\n",
       "    titlebar.insertBefore(buttongrp, titlebar.firstChild);\n",
       "};\n",
       "\n",
       "mpl.figure.prototype._remove_fig_handler = function (event) {\n",
       "    var fig = event.data.fig;\n",
       "    fig.close_ws(fig, {});\n",
       "};\n",
       "\n",
       "mpl.figure.prototype._root_extra_style = function (el) {\n",
       "    el.style.boxSizing = 'content-box'; // override notebook setting of border-box.\n",
       "};\n",
       "\n",
       "mpl.figure.prototype._canvas_extra_style = function (el) {\n",
       "    // this is important to make the div 'focusable\n",
       "    el.setAttribute('tabindex', 0);\n",
       "    // reach out to IPython and tell the keyboard manager to turn it's self\n",
       "    // off when our div gets focus\n",
       "\n",
       "    // location in version 3\n",
       "    if (IPython.notebook.keyboard_manager) {\n",
       "        IPython.notebook.keyboard_manager.register_events(el);\n",
       "    } else {\n",
       "        // location in version 2\n",
       "        IPython.keyboard_manager.register_events(el);\n",
       "    }\n",
       "};\n",
       "\n",
       "mpl.figure.prototype._key_event_extra = function (event, _name) {\n",
       "    var manager = IPython.notebook.keyboard_manager;\n",
       "    if (!manager) {\n",
       "        manager = IPython.keyboard_manager;\n",
       "    }\n",
       "\n",
       "    // Check for shift+enter\n",
       "    if (event.shiftKey && event.which === 13) {\n",
       "        this.canvas_div.blur();\n",
       "        // select the cell after this one\n",
       "        var index = IPython.notebook.find_cell_index(this.cell_info[0]);\n",
       "        IPython.notebook.select(index + 1);\n",
       "    }\n",
       "};\n",
       "\n",
       "mpl.figure.prototype.handle_save = function (fig, _msg) {\n",
       "    fig.ondownload(fig, null);\n",
       "};\n",
       "\n",
       "mpl.find_output_cell = function (html_output) {\n",
       "    // Return the cell and output element which can be found *uniquely* in the notebook.\n",
       "    // Note - this is a bit hacky, but it is done because the \"notebook_saving.Notebook\"\n",
       "    // IPython event is triggered only after the cells have been serialised, which for\n",
       "    // our purposes (turning an active figure into a static one), is too late.\n",
       "    var cells = IPython.notebook.get_cells();\n",
       "    var ncells = cells.length;\n",
       "    for (var i = 0; i < ncells; i++) {\n",
       "        var cell = cells[i];\n",
       "        if (cell.cell_type === 'code') {\n",
       "            for (var j = 0; j < cell.output_area.outputs.length; j++) {\n",
       "                var data = cell.output_area.outputs[j];\n",
       "                if (data.data) {\n",
       "                    // IPython >= 3 moved mimebundle to data attribute of output\n",
       "                    data = data.data;\n",
       "                }\n",
       "                if (data['text/html'] === html_output) {\n",
       "                    return [cell, data, j];\n",
       "                }\n",
       "            }\n",
       "        }\n",
       "    }\n",
       "};\n",
       "\n",
       "// Register the function which deals with the matplotlib target/channel.\n",
       "// The kernel may be null if the page has been refreshed.\n",
       "if (IPython.notebook.kernel !== null) {\n",
       "    IPython.notebook.kernel.comm_manager.register_target(\n",
       "        'matplotlib',\n",
       "        mpl.mpl_figure_comm\n",
       "    );\n",
       "}\n"
      ],
      "text/plain": [
       "<IPython.core.display.Javascript object>"
      ]
     },
     "metadata": {},
     "output_type": "display_data"
    },
    {
     "data": {
      "text/html": [
       "<div id='54f25e93-5d7b-4949-a16f-b32aecd29640'></div>"
      ],
      "text/plain": [
       "<IPython.core.display.HTML object>"
      ]
     },
     "metadata": {},
     "output_type": "display_data"
    },
    {
     "data": {
      "text/plain": [
       "<matplotlib.colorbar.Colorbar at 0x7fd7339cc610>"
      ]
     },
     "execution_count": 70,
     "metadata": {},
     "output_type": "execute_result"
    }
   ],
   "source": [
    "dmin, dmax = np.min([np.min(d) for d in divmats]), np.max([np.max(d) for d in divmats])\n",
    "for rewards, divmat, libsize, ax in zip(r_lib, divmats, library_sizes, plt.subplots(1, len(divmats), figsize=(9, 3))[1]):\n",
    "    m, s = np.mean(divmat, axis=0), np.std(divmat, axis=0) # mean over seeds\n",
    "    im = ax.matshow(m, vmin=dmin, vmax=dmax)\n",
    "    ax.grid()\n",
    "    ax.axis('off')\n",
    "\n",
    "plt.gcf().subplots_adjust(right=0.9)\n",
    "cbar_ax = plt.gcf().add_axes([0.92, 0.15, 0.02, 0.7])\n",
    "plt.gcf().colorbar(im, cax=cbar_ax)"
   ]
  },
  {
   "cell_type": "code",
   "execution_count": null,
   "metadata": {
    "hidden": true
   },
   "outputs": [],
   "source": [
    "# TODO:\n",
    "# How better than MAML?\n",
    "# [x] Compare threshold vs. only selecting best policy\n",
    "# [x] Compare vs vanilla RL (no initialization)"
   ]
  },
  {
   "cell_type": "markdown",
   "metadata": {
    "heading_collapsed": true
   },
   "source": [
    "#### Understanding pruning"
   ]
  },
  {
   "cell_type": "code",
   "execution_count": 19,
   "metadata": {
    "hidden": true
   },
   "outputs": [
    {
     "data": {
      "application/vnd.jupyter.widget-view+json": {
       "model_id": "",
       "version_major": 2,
       "version_minor": 0
      },
      "text/plain": [
       "  0%|          | 0/20000 [00:00<?, ?it/s]"
      ]
     },
     "metadata": {},
     "output_type": "display_data"
    },
    {
     "data": {
      "application/vnd.jupyter.widget-view+json": {
       "model_id": "",
       "version_major": 2,
       "version_minor": 0
      },
      "text/plain": [
       "  0%|          | 0/20000 [00:00<?, ?it/s]"
      ]
     },
     "metadata": {},
     "output_type": "display_data"
    },
    {
     "data": {
      "application/vnd.jupyter.widget-view+json": {
       "model_id": "",
       "version_major": 2,
       "version_minor": 0
      },
      "text/plain": [
       "  0%|          | 0/20000 [00:00<?, ?it/s]"
      ]
     },
     "metadata": {},
     "output_type": "display_data"
    },
    {
     "name": "stdout",
     "output_type": "stream",
     "text": [
      "env 1 with reversed forces, envs 2 & 3 with normal forces\n",
      "3 v. 1:0.102\n",
      "3 v. 2:0.411\n"
     ]
    }
   ],
   "source": [
    "env = get_task(seed=0, randomize=False)\n",
    "a1 = make_model(seed=0)\n",
    "a1.env = env\n",
    "r1 = a1.learn(20000, 500)\n",
    "\n",
    "env = get_task(seed=0, randomize=False)\n",
    "env.force_mag *= -1\n",
    "a2 = make_model(seed=0)\n",
    "a2.env = env\n",
    "r2 = a2.learn(20000, 500)\n",
    "\n",
    "env = get_task(seed=0, randomize=True)\n",
    "a3 = make_model(seed=0)\n",
    "a3.env = env\n",
    "r3 = a3.learn(20000, 500)\n",
    "m = ppo.Memory()\n",
    "a3.experience(memory, k, env, a3.policy)\n",
    "\n",
    "print('env 1 with reversed forces, envs 2 & 3 with normal forces')\n",
    "\n",
    "print('3 v. 1:%.3f' % distance(memory, a3.policy, a3.policy.state_dict(), a1.policy.state_dict())[0])\n",
    "print('3 v. 2:%.3f' % distance(memory, a3.policy, a3.policy.state_dict(), a2.policy.state_dict())[0])"
   ]
  },
  {
   "cell_type": "markdown",
   "metadata": {
    "heading_collapsed": true
   },
   "source": [
    "#### Consolidation over time"
   ]
  },
  {
   "cell_type": "code",
   "execution_count": null,
   "metadata": {
    "hidden": true
   },
   "outputs": [],
   "source": [
    "# Plotting actual outputs\n",
    "plt.figure(figsize=(12, 6))\n",
    "plt.subplot(1,2,1)\n",
    "plot_cartpole(get_task(evaluation_tasks[-1]), agent, legend=False)\n",
    "plt.subplot(1,2,2)\n",
    "test(agent, evaluation_tasks[-1], losses=None, callback=lambda args: plot_cartpole(args.get('env'), args.get('agent')))\n",
    "plt.tight_layout()"
   ]
  }
 ],
 "metadata": {
  "kernelspec": {
   "display_name": "Python 3.7.6 64-bit",
   "language": "python",
   "name": "python37664bit2b6a5ffea75d4de087eb7d5fb87e4f6e"
  },
  "language_info": {
   "codemirror_mode": {
    "name": "ipython",
    "version": 3
   },
   "file_extension": ".py",
   "mimetype": "text/x-python",
   "name": "python",
   "nbconvert_exporter": "python",
   "pygments_lexer": "ipython3",
   "version": "3.7.6"
  }
 },
 "nbformat": 4,
 "nbformat_minor": 4
}
