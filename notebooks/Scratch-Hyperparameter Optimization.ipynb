{
 "cells": [
  {
   "cell_type": "code",
   "execution_count": null,
   "metadata": {},
   "outputs": [],
   "source": [
    "%reload_ext autoreload\n",
    "%autoreload 2\n",
    "%matplotlib inline\n",
    "\n",
    "import numpy as np\n",
    "import optuna\n",
    "from sklearn.neural_network import MLPRegressor\n",
    "from sklearn.metrics import r2_score\n",
    "\n",
    "import notebook_setup"
   ]
  },
  {
   "cell_type": "code",
   "execution_count": null,
   "metadata": {
    "scrolled": true
   },
   "outputs": [],
   "source": [
    "x = np.random.rand(1000, 2) * 5\n",
    "y = (x**2).sum(axis=1)\n",
    "\n",
    "xt = np.random.rand(50, 2) * 5\n",
    "yt = (xt**2).sum(axis=1)\n",
    "\n",
    "def objective(trial: optuna.Trial):\n",
    "    lr = trial.suggest_loguniform('lr', 1e-5, 1e-1)\n",
    "    width = trial.suggest_int('width', 1, 200, log=True)\n",
    "    depth = trial.suggest_int('depth', 1, 5)\n",
    "    \n",
    "    est = MLPRegressor(\n",
    "        hidden_layer_sizes = [width] * depth,\n",
    "        learning_rate_init = lr\n",
    "    )\n",
    "    \n",
    "    est.fit(x, y)\n",
    "    pred = est.predict(xt)\n",
    "    score = r2_score(yt, pred)\n",
    "    return score\n",
    "\n",
    "study = optuna.create_study(direction='maximize')\n",
    "study.optimize(objective, n_trials=30)"
   ]
  },
  {
   "cell_type": "code",
   "execution_count": null,
   "metadata": {},
   "outputs": [],
   "source": [
    "study.best_params"
   ]
  }
 ],
 "metadata": {
  "kernelspec": {
   "display_name": "Python 3",
   "language": "python",
   "name": "python3"
  },
  "language_info": {
   "codemirror_mode": {
    "name": "ipython",
    "version": 3
   },
   "file_extension": ".py",
   "mimetype": "text/x-python",
   "name": "python",
   "nbconvert_exporter": "python",
   "pygments_lexer": "ipython3",
   "version": "3.7.6"
  }
 },
 "nbformat": 4,
 "nbformat_minor": 4
}
