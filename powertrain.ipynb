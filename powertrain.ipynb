{
 "cells": [
  {
   "cell_type": "markdown",
   "metadata": {},
   "source": [
    "# Powertrain for UAV"
   ]
  },
  {
   "cell_type": "code",
   "execution_count": 77,
   "metadata": {},
   "outputs": [],
   "source": [
    "%matplotlib inline\n",
    "from scipy.integrate import quad, ode, odeint\n",
    "from scipy import random\n",
    "import numpy as np\n",
    "import pandas as pd\n",
    "import matplotlib.pyplot as plt\n",
    "import csv\n",
    "\n",
    "nsteps = lambda x: np.linspace(0, x, 100)\n"
   ]
  },
  {
   "cell_type": "markdown",
   "metadata": {},
   "source": [
    "### Battery profile"
   ]
  },
  {
   "cell_type": "code",
   "execution_count": 276,
   "metadata": {},
   "outputs": [],
   "source": [
    "def get_poly(curve, pwr=5):\n",
    "    \"\"\"\n",
    "        @brief: gets the coefficients for a polynomial approximation of given curve\n",
    "        \n",
    "        @input:\n",
    "            curve: the curve as an np.array\n",
    "            pwr: power of the curve to fit, default=5\n",
    "        \n",
    "        @output:\n",
    "            an np.array of length(pwr) representing the coefficients of the curve\n",
    "    \"\"\" \n",
    "    x_poly = np.arange(0, len(curve))\n",
    "    y_poly = np.polyfit(x_poly, curve, pwr)\n",
    "    return y_poly\n",
    "\n",
    "def get_battery_curves(soc_ocv_file, R0_degradation_file, Q_degradation_file):\n",
    "    \"\"\"\n",
    "        @brief: gets the degradation profile (predefined curves) for the battery\n",
    "        \n",
    "        @input:\n",
    "            soc_ocv_file: a csv file containing the soc_ocv relationship as a column vector\n",
    "            R0_degradation_file: a csv file containing the R0 degradation curve as a column vector\n",
    "            Q_degradation_file: a csv file containing the Q degradation curve as a column vector\n",
    "        \n",
    "        @output:\n",
    "            a dictionary mapping of degradation curve coefficients with [\"z_coef\", \"r0_coef\", \"q_coef\", \"EOL\"] keys\n",
    "    \"\"\"    \n",
    "    soc_ocv = []\n",
    "    R0_degradation = []\n",
    "    Q_degradation = []\n",
    "    \n",
    "    with open(soc_ocv_file, newline='') as f:\n",
    "        soc_ocv = list(csv.reader(f))\n",
    "    soc_ocv = np.asarray(soc_ocv).astype(np.float)\n",
    "    \n",
    "    with open(R0_degradation_file, newline='') as f:\n",
    "        R0_degradation = list(csv.reader(f))\n",
    "    R0_degradation = np.asarray(R0_degradation).astype(np.float)\n",
    "    \n",
    "    with open(Q_degradation_file, newline='') as f:\n",
    "        Q_degradation = list(csv.reader(f))\n",
    "    Q_degradation = np.asarray(Q_degradation).astype(np.float)\n",
    "    \n",
    "    z_coef = get_poly(soc_ocv)\n",
    "    r0_coef = get_poly(R0_degradation)\n",
    "    q_coef = get_poly(Q_degradation)\n",
    "    eol = len(Q_degradation)\n",
    "    \n",
    "    return {\"z_coef\": z_coef, \"r0_coef\": r0_coef, \"q_coef\": q_coef, \"eol\": eol, \"soc_ocv\": soc_ocv}\n",
    "\n"
   ]
  },
  {
   "cell_type": "markdown",
   "metadata": {},
   "source": [
    "### Base Battery Cell"
   ]
  },
  {
   "cell_type": "code",
   "execution_count": 287,
   "metadata": {},
   "outputs": [],
   "source": [
    "class Battery:\n",
    "    def __init__(self, *args, **kwargs):\n",
    "        if(len(kwargs) == 0):\n",
    "            self.z_coef = np.zeros((1,1))\n",
    "            self.r0_coef = np.zeros((1,1))\n",
    "            self.q_coef = np.zeros((1,1))\n",
    "            self.eod = 1\n",
    "            self.eol = 1\n",
    "        else:\n",
    "            self.z_coef = kwargs[\"z_coef\"]\n",
    "            self.r0_coef = kwargs[\"r0_coef\"]\n",
    "            self.q_coef = kwargs[\"q_coef\"]\n",
    "            self.eol = kwargs[\"eol\"]\n",
    "        self.z = 1.0\n",
    "        self.Ir = 0\n",
    "        self.h = 0\n",
    "        self.M0 = .0019\n",
    "        self.M = .0092\n",
    "        self.R0 = .0112\n",
    "        self.R = 2.83e-4\n",
    "        self.Q = 3.8695\n",
    "        self.n = .9987\n",
    "        self.G = 163.4413\n",
    "        self.v0 = 4.2\n",
    "        self.eod = 3.04\n",
    "        self.RC = 3.6572\n",
    "        self.ocv = self.v0\n",
    "        \n",
    "    def get_ocv(self):\n",
    "        raise NotImplementedError\n",
    "    \n",
    "    def step(self, dt, current):\n",
    "        raise NotImplementedError\n",
    "        \n",
    "    def reset(self):\n",
    "        self.z = 1.0\n",
    "        self.ocv = self.v0\n",
    "        self.Ir = 0\n",
    "        self.h = 0\n",
    "        "
   ]
  },
  {
   "cell_type": "markdown",
   "metadata": {},
   "source": [
    "### The Continuous Battery Cell"
   ]
  },
  {
   "cell_type": "code",
   "execution_count": 442,
   "metadata": {},
   "outputs": [],
   "source": [
    "class ContinuousBatteryCell(Battery):\n",
    "    def __init__(self, *args, **kwargs):\n",
    "        super(ContinuousBatteryCell, self).__init__(*args, **kwargs)\n",
    "        print(\"continuous battery cell\")\n",
    "        \n",
    "    def get_ocv(self):\n",
    "        return np.polyval(self.z_coef, self.z*100.0)\n",
    "    \n",
    "    def step(self, dt, current):\n",
    "        pass\n",
    "        \n",
    "############ TODO ############# integrate into continuous battery class\n",
    "np.random.seed(43)\n",
    "\n",
    "def dzdt(soc, t, current):\n",
    "    return -cbcell.n*current/cbcell.Q\n",
    "\n",
    "def didt(Ir, t, current):\n",
    "    return -1.0/cbcell.RC*Ir + 1.0/cbcell.RC*current\n",
    "\n",
    "def dhdt(h, t, current):\n",
    "    return -np.absolute(cbcell.n*current*cbcell.G/cbcell.Q)*h + cbcell.n*current*cbcell.G/cbcell.Q*cbcell.M*np.sign(current)"
   ]
  },
  {
   "cell_type": "code",
   "execution_count": 282,
   "metadata": {},
   "outputs": [],
   "source": [
    "battery_coefficients = get_battery_curves('soc_ocv.csv', 'R0_degradation.csv', 'Q_degradation.csv')"
   ]
  },
  {
   "cell_type": "code",
   "execution_count": 448,
   "metadata": {},
   "outputs": [
    {
     "name": "stdout",
     "output_type": "stream",
     "text": [
      "continuous battery cell\n"
     ]
    }
   ],
   "source": [
    "cbcell = ContinuousBatteryCell(**battery_coefficients)\n",
    "# print(cbcell.get_ocv())\n",
    "# plt.plot(np.arange(0, cbcell.eol), np.polyval(cbcell.q_coef, np.arange(0, cbcell.eol)))\n",
    "# plt.title('q degradation')\n",
    "# plt.show()\n",
    "# plt.plot(np.arange(0, cbcell.eol), np.polyval(cbcell.r0_coef, np.arange(0, cbcell.eol)))\n",
    "# plt.title('R0 degradation')\n",
    "# plt.show()\n",
    "# plt.plot(np.arange(0, 101), np.polyval(cbcell.z_coef, np.arange(0, 101)))\n",
    "# plt.title('soc ocv curve')\n",
    "# plt.show()"
   ]
  },
  {
   "cell_type": "markdown",
   "metadata": {},
   "source": [
    "### The Discrete Battery Cell"
   ]
  },
  {
   "cell_type": "code",
   "execution_count": 359,
   "metadata": {},
   "outputs": [],
   "source": [
    "class DiscreteBatteryCell(Battery):\n",
    "    def __init__(self, *args, **kwargs):\n",
    "        super(DiscreteBatteryCell, self).__init__(*args, **kwargs)\n",
    "        self.soc_ocv = kwargs['soc_ocv']\n",
    "        \n",
    "    def get_ocv(self):\n",
    "        if(self.z < 0.0):\n",
    "            self.z = 0\n",
    "        elif(self.z > 1.0):\n",
    "            self.z = 1.0\n",
    "        idx = int(np.ceil(self.z*100))\n",
    "        if(idx > 101):\n",
    "            idx = 101\n",
    "        elif(idx < 1):\n",
    "            idx = 1\n",
    "        return self.soc_ocv[idx]\n",
    "        \n",
    "    def step(self, dt, current):\n",
    "        RC = np.exp(-dt/abs(self.RC))\n",
    "        H = np.exp(-abs(self.n*current*self.G*dt/(3600*self.Q)))\n",
    "        self.Ir = RC*self.Ir + (1-RC)*current\n",
    "        self.h = H*self.h + (H-1)*np.sign(current)\n",
    "        self.z = self.z - self.n*current/3600/self.Q\n",
    "        self.ocv = self.get_ocv() + self.M*self.h + self.M0*np.sign(current) - self.R*self.Ir - self.R0*current\n",
    "        "
   ]
  },
  {
   "cell_type": "code",
   "execution_count": 441,
   "metadata": {},
   "outputs": [],
   "source": [
    "dbcell = DiscreteBatteryCell(**battery_coefficients)"
   ]
  },
  {
   "cell_type": "markdown",
   "metadata": {},
   "source": [
    "#### simulate the cell\n",
    "- dt = 1 second, current = 3.8695\n",
    "- the cell capacity is 3.8695 mAh, so, i should be ~3600 \n",
    "- the cell asymptotically approaches the eod, so have to stop slightly above"
   ]
  },
  {
   "cell_type": "code",
   "execution_count": 445,
   "metadata": {},
   "outputs": [
    {
     "name": "stdout",
     "output_type": "stream",
     "text": [
      "simulating 3.8695 amp draw for 1 hr (3600 seconds)...\n",
      "discrete soc: 0.0019\n",
      "discrete seconds elapsed: 3598\n",
      "continuous soc: 0.0019\n",
      "continuous seconds elapsed: 3598\n"
     ]
    },
    {
     "data": {
      "image/png": "[encoded data removed]",
      "text/plain": [
       "<Figure size 432x288 with 1 Axes>"
      ]
     },
     "metadata": {
      "needs_background": "light"
     },
     "output_type": "display_data"
    }
   ],
   "source": [
    "def continuous_test2():\n",
    "    \"\"\" simulate continuous cell for 1 hr\"\"\"\n",
    "    cbcell.reset()\n",
    "    dt = 1/3600 # 1 second\n",
    "    t1 = nsteps(dt)\n",
    "    ocvs = []\n",
    "    i = 0\n",
    "    while(cbcell.z > .002):\n",
    "        c = 3.8695\n",
    "        ocvs.append(cbcell.get_ocv() - cbcell.R*cbcell.Ir - cbcell.R0*current + cbcell.h + cbcell.M0*np.sign(current))\n",
    "        dz = (1 - odeint(dzdt, 1.0, t1, args=(c,))[-1][0])\n",
    "        di = odeint(didt, cbcell.Ir, t1, args=(c,))[-1][0]\n",
    "        dh = odeint(dhdt, cbcell.h, t1, args=(c,))[-1][0]\n",
    "        cbcell.Ir = di\n",
    "        cbcell.z = cbcell.z - dz   \n",
    "        cbcell.h = dh\n",
    "        i += 1\n",
    "    print(\"continuous soc: {:.4f}\".format(cbcell.z))\n",
    "    print(\"continuous seconds elapsed: \" + str(i))\n",
    "    return ocvs\n",
    "\n",
    "def discrete_test2():\n",
    "    \"\"\"simulate discrete cell for 1 hr\"\"\"\n",
    "    dbcell.reset()\n",
    "    dt = 1.0\n",
    "    ocvs = []\n",
    "    i = 0\n",
    "    while(dbcell.z > .002):\n",
    "        c = 3.8695\n",
    "        ocvs.append(dbcell.ocv)\n",
    "        dbcell.step(1, c)\n",
    "        i += 1\n",
    "    print(\"discrete soc: {:.4f}\".format(dbcell.z))\n",
    "    print(\"discrete seconds elapsed: \" + str(i))\n",
    "    return ocvs\n",
    "\n",
    "print(\"simulating 3.8695 amp draw for 1 hr (3600 seconds)...\")\n",
    "\n",
    "docvs = discrete_test2()\n",
    "cocvs = continuous_test2()\n",
    "plt.plot(docvs, label='discrete voltage')\n",
    "plt.plot(cocvs, label='continuous voltage')\n",
    "plt.legend()\n",
    "plt.show()"
   ]
  },
  {
   "cell_type": "markdown",
   "metadata": {},
   "source": [
    "### Simulate continuous cell under varying load until eod"
   ]
  },
  {
   "cell_type": "code",
   "execution_count": 511,
   "metadata": {},
   "outputs": [
    {
     "name": "stdout",
     "output_type": "stream",
     "text": [
      "elapsed seconds: 1734.00\n",
      "ending soc: 0.0094\n"
     ]
    },
    {
     "data": {
      "image/png": "[encoded data removed]",
      "text/plain": [
       "<Figure size 432x288 with 1 Axes>"
      ]
     },
     "metadata": {
      "needs_background": "light"
     },
     "output_type": "display_data"
    },
    {
     "data": {
      "image/png": "[encoded data removed]",
      "text/plain": [
       "<Figure size 432x288 with 1 Axes>"
      ]
     },
     "metadata": {
      "needs_background": "light"
     },
     "output_type": "display_data"
    }
   ],
   "source": [
    "def continuous_test(c, dt):\n",
    "    dz = (1 - odeint(dzdt, 1.0, t1, args=(c,))[-1][0])\n",
    "    di = odeint(didt, cbcell.Ir, t1, args=(c,))[-1][0]\n",
    "    dh = odeint(dhdt, cbcell.h, t1, args=(c,))[-1][0]\n",
    "    cbcell.Ir = di\n",
    "    cbcell.z = cbcell.z - dz   \n",
    "    cbcell.h = dh\n",
    "    cbcell.ocv = cbcell.get_ocv() - cbcell.R*cbcell.Ir - cbcell.R0*current + cbcell.h + cbcell.M0*np.sign(current)\n",
    "\n",
    "cbcell.reset()\n",
    "cs = []\n",
    "cz = []\n",
    "cv = []\n",
    "ct = 1/3600/20\n",
    "#ct = 1/3600/20 # 1/20th of a second, i.e. .05 seconds\n",
    "t1 = nsteps(ct)\n",
    "i = 0\n",
    "\n",
    "x = np.linspace(0, 2*np.pi, int(cbcell.z*100)+1)\n",
    "y = np.sin(2*-x**1.1)/4+8\n",
    "\n",
    "while(cbcell.ocv > cbcell.eod):\n",
    "    c = np.random.normal(y[int(cbcell.z*100)], .1)\n",
    "    continuous_test(c, ct)\n",
    "    cs.append(c)\n",
    "    cz.append(cbcell.z)\n",
    "    cv.append(cbcell.ocv)\n",
    "    i += 1\n",
    "t = int(i*.05)\n",
    "print(\"elapsed seconds: {:.2f}\".format(t))\n",
    "print(\"ending soc: {:.4f}\".format(cbcell.z))\n",
    "plt.plot(np.arange(0, i)/60/20, cs, label='current profile')\n",
    "plt.ylabel('current (A)')\n",
    "plt.xlabel('time (minutes)')\n",
    "plt.legend()\n",
    "plt.show()\n",
    "plt.plot(np.arange(0, i)/60/20, cv, label='continuous voltage')\n",
    "plt.ylabel('ocv (V)')\n",
    "plt.xlabel('time (minutes)')\n",
    "plt.legend()\n",
    "plt.show()"
   ]
  }
 ],
 "metadata": {
  "kernelspec": {
   "display_name": "Python 3",
   "language": "python",
   "name": "python3"
  },
  "language_info": {
   "codemirror_mode": {
    "name": "ipython",
    "version": 3
   },
   "file_extension": ".py",
   "mimetype": "text/x-python",
   "name": "python",
   "nbconvert_exporter": "python",
   "pygments_lexer": "ipython3",
   "version": "3.7.8"
  }
 },
 "nbformat": 4,
 "nbformat_minor": 4
}
