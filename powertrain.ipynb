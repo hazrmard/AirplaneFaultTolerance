{
 "cells": [
  {
   "cell_type": "markdown",
   "metadata": {},
   "source": [
    "# Powertrain for UAV"
   ]
  },
  {
   "cell_type": "code",
   "execution_count": 72,
   "metadata": {},
   "outputs": [],
   "source": [
    "import numpy as np\n",
    "import pandas as pd\n",
    "import matplotlib.pyplot as plt\n",
    "import csv\n",
    "from scipy.interpolate import interp1d\n",
    "\n",
    "nsteps = lambda x: np.linspace(0, x, 500)"
   ]
  },
  {
   "cell_type": "markdown",
   "metadata": {},
   "source": [
    "### Battery profile"
   ]
  },
  {
   "cell_type": "code",
   "execution_count": 60,
   "metadata": {},
   "outputs": [],
   "source": [
    "def get_battery_curves(soc_ocv_file, R0_degradation_file, Q_degradation_file):\n",
    "    \"\"\"\n",
    "        @brief: gets the degradation profile (predefined curves) for the battery\n",
    "        \n",
    "        @input:\n",
    "            soc_ocv_file: a csv file containing the soc_ocv relationship as a column vector\n",
    "            R0_degradation_file: a csv file containing the R0 degradation curve as a column vector\n",
    "            Q_degradation_file: a csv file containing the Q degradation curve as a column vector\n",
    "        \n",
    "        @output:\n",
    "            a dictionary mapping of degradation curves with [\"soc_ocv\", \"R0_degradation\", \"Q_degradation\"] keys\n",
    "    \"\"\"    \n",
    "    soc_ocv = []\n",
    "    R0_degradation = []\n",
    "    Q_degradation = []\n",
    "    \n",
    "    with open(soc_ocv_file, newline='') as f:\n",
    "        soc_ocv = list(csv.reader(f))\n",
    "    soc_ocv = np.asarray(soc_ocv).astype(np.float)\n",
    "    \n",
    "    with open(R0_degradation_file, newline='') as f:\n",
    "        R0_degradation = list(csv.reader(f))\n",
    "    R0_degradation = np.asarray(R0_degradation).astype(np.float)\n",
    "    \n",
    "    with open(Q_degradation_file, newline='') as f:\n",
    "        Q_degradation = list(csv.reader(f))\n",
    "    Q_degradation = np.asarray(Q_degradation).astype(np.float)\n",
    "    \n",
    "    return {\"soc_ocv\": soc_ocv, \"R0_degradation\": R0_degradation, \"Q_degradation\": Q_degradation}"
   ]
  },
  {
   "cell_type": "code",
   "execution_count": 61,
   "metadata": {},
   "outputs": [],
   "source": [
    "battery_curves = get_battery_curves('soc_ocv.csv', 'R0_degradation.csv', 'Q_degradation.csv')"
   ]
  },
  {
   "cell_type": "markdown",
   "metadata": {},
   "source": [
    "### Base Battery Cell"
   ]
  },
  {
   "cell_type": "code",
   "execution_count": 64,
   "metadata": {},
   "outputs": [],
   "source": [
    "class Battery:\n",
    "    def __init__(self, *args, **kwargs):\n",
    "        if(len(kwargs) == 0):\n",
    "            self.soc_ocv = np.zeros((1,1))\n",
    "            self.R0_degradation = np.zeros((1,1))\n",
    "            self.Q_degradation = np.zeros((1,1))\n",
    "        else:\n",
    "            self.soc_ocv = kwargs[\"soc_ocv\"]\n",
    "            self.R0_degradation = kwargs[\"R0_degradation\"]\n",
    "            self.Q_degradation = kwargs[\"Q_degradation\"]\n",
    "        self.soc = 1.0\n",
    "        self.Ir = 0\n",
    "        self.h = 0\n",
    "        self.M0 = .0019\n",
    "        self.M = .0092\n",
    "        self.R0 = .0112\n",
    "        self.R = 2.83e-4\n",
    "        self.Q = 3.8695\n",
    "        self.n = .9987\n",
    "        self.G = 163.4413\n",
    "        self.v0 = 4.2\n",
    "        self.eod = 3.04\n",
    "        self.RC = 3.6572\n",
    "        self.ocv = self.v0\n",
    "    \n",
    "    def step(self, dt, current):\n",
    "        raise NotImplementedError\n",
    "        \n",
    "    def add_profile(self, **profile):\n",
    "        self.soc_ocv = profile[\"soc_ocv\"]\n",
    "        self.R0_degradation = profile[\"R0_degradation\"]\n",
    "        self.Q_degradation = profile[\"Q_degradation\"]"
   ]
  },
  {
   "cell_type": "markdown",
   "metadata": {},
   "source": [
    "### The Continuous Battery Cell"
   ]
  },
  {
   "cell_type": "code",
   "execution_count": 65,
   "metadata": {},
   "outputs": [],
   "source": [
    "class ContinuousBatteryCell(Battery):\n",
    "    def __init__(self, *args, **kwargs):\n",
    "        super(ContinuousBatteryCell, self).__init__(*args, **kwargs)\n",
    "        print(\"continuous battery cell\")"
   ]
  },
  {
   "cell_type": "code",
   "execution_count": 191,
   "metadata": {},
   "outputs": [],
   "source": [
    "cbcell = ContinuousBatteryCell(**battery_curves)\n",
    "plt.plot(cbcell.soc_ocv)\n",
    "plt.show()"
   ]
  },
  {
   "cell_type": "code",
   "execution_count": 203,
   "metadata": {},
   "outputs": [],
   "source": [
    "def get_poly(curve, pwr):\n",
    "    x_poly = np.arange(0, len(curve))\n",
    "    y_poly = np.polyfit(x_poly, curve, pwr)\n",
    "    return y_poly\n",
    "\n"
   ]
  },
  {
   "cell_type": "code",
   "execution_count": 204,
   "metadata": {},
   "outputs": [
    {
     "name": "stdout",
     "output_type": "stream",
     "text": [
      "[[ 1.43512460e-09]\n",
      " [-4.33488147e-07]\n",
      " [ 5.21563505e-05]\n",
      " [-3.10719077e-03]\n",
      " [ 9.14558429e-02]\n",
      " [ 2.98893868e+00]]\n"
     ]
    }
   ],
   "source": [
    "z_coeff = get_poly(cbcell.soc_ocv, 5)\n",
    "print(z_coeff)"
   ]
  },
  {
   "cell_type": "code",
   "execution_count": 200,
   "metadata": {},
   "outputs": [
    {
     "data": {
      "image/png": "[encoded data removed]",
      "text/plain": [
       "<Figure size 432x288 with 1 Axes>"
      ]
     },
     "metadata": {
      "needs_background": "light"
     },
     "output_type": "display_data"
    },
    {
     "name": "stdout",
     "output_type": "stream",
     "text": [
      "[4.0511068]\n"
     ]
    }
   ],
   "source": [
    "z_poly = np.polyval(soc_ocv_poly, xz_poly)\n",
    "plt.plot(z_poly)\n",
    "plt.show()\n",
    "z = np.polyval(soc_ocv_poly, 40.345345435)\n",
    "print(z)"
   ]
  },
  {
   "cell_type": "code",
   "execution_count": 201,
   "metadata": {},
   "outputs": [
    {
     "data": {
      "image/png": "[encoded data removed]",
      "text/plain": [
       "<Figure size 432x288 with 1 Axes>"
      ]
     },
     "metadata": {
      "needs_background": "light"
     },
     "output_type": "display_data"
    },
    {
     "name": "stdout",
     "output_type": "stream",
     "text": [
      "[0.00261442]\n"
     ]
    }
   ],
   "source": [
    "xr_poly = np.arange(0, len(cbcell.R0_degradation))\n",
    "R0_degradation_poly = np.polyfit(xr_poly, cbcell.R0_degradation, 5)\n",
    "r_poly = np.polyval(R0_degradation_poly, xr_poly)\n",
    "plt.plot(r_poly)\n",
    "plt.show()\n",
    "r = np.polyval(R0_degradation_poly, 40.345345435)\n",
    "print(r)"
   ]
  },
  {
   "cell_type": "markdown",
   "metadata": {},
   "source": [
    "### The Discrete Battery Cell"
   ]
  },
  {
   "cell_type": "code",
   "execution_count": 17,
   "metadata": {},
   "outputs": [],
   "source": [
    "class DiscreteBatteryCell(Battery):\n",
    "    def __init__(self, *args, **kwargs):\n",
    "        super(DiscreteBatteryCell, self).__init__(*args, **kwargs)\n",
    "        \n",
    "    def get_ocv(self):\n",
    "        if(self.soc < 0.0):\n",
    "            self.soc = 0\n",
    "        elif(self.soc > 1.0):\n",
    "            self.soc = 1.0\n",
    "        idx = int(np.ceil(self.soc*100))\n",
    "        if(idx > 101):\n",
    "            idx = 101\n",
    "        elif(idx < 1):\n",
    "            idx = 1\n",
    "        return self.soc_ocv[idx]\n",
    "        \n",
    "    def step(self, dt, current):\n",
    "        RC = np.exp(-dt/abs(self.RC))\n",
    "        H = np.exp(-abs(self.n*current*self.G*dt/(3600*self.Q)))\n",
    "        self.Ir = RC*self.Ir + (1-RC)*current\n",
    "        self.h = H*self.h + (H-1)*np.sign(current)\n",
    "        self.soc = self.soc - self.n*current/3600/self.Q\n",
    "        self.ocv = self.get_ocv() + self.M*self.h + self.M0*np.sign(current) - self.R*self.Ir - self.R0*current"
   ]
  },
  {
   "cell_type": "markdown",
   "metadata": {},
   "source": [
    "### The battery\n",
    "- Something is off with the battery, need to double check the series / parallel configuration"
   ]
  },
  {
   "cell_type": "code",
   "execution_count": 17,
   "metadata": {},
   "outputs": [],
   "source": [
    "class DiscreteBattery:\n",
    "    def __init__(self, cells: DiscreteBatteryCell, wiring):\n",
    "        self.cells = cells\n",
    "        self.wiring = wiring\n",
    "        self.v0 = self.cells[0].v0 if wiring == \"parallel\" else sum(cell.v0 for cell in self.cells)\n",
    "        self.v0 = round(self.v0, 3)\n",
    "        self.soc = 1.0\n",
    "        self.ocv = self.v0\n",
    "        self.eod = self.cells[0].eod if wiring == \"parallel\" else sum(cell.eod for cell in celf.cells)\n",
    "        \n",
    "    def step(self, dt, current):\n",
    "        if(self.wiring == \"parallel\"):\n",
    "            for cell in self.cells:\n",
    "                cell.step(dt, current)\n",
    "            self.soc = sum(cell.soc for cell in self.cells) / 3\n",
    "            self.ocv = sum(cell.ocv for cell in self.cells) / 3\n",
    "            "
   ]
  },
  {
   "cell_type": "markdown",
   "metadata": {},
   "source": [
    "### test the cells and battery"
   ]
  },
  {
   "cell_type": "code",
   "execution_count": 18,
   "metadata": {},
   "outputs": [],
   "source": [
    "cells = []\n",
    "for i in range(0,3):\n",
    "    cells.append(DiscreteBatteryCell(**battery_curves))\n",
    "battery = DiscreteBattery(cells, \"parallel\")\n",
    "cell = DiscreteBatteryCell(**battery_curves)"
   ]
  },
  {
   "cell_type": "markdown",
   "metadata": {},
   "source": [
    "#### simulate the cell\n",
    "- dt = 1 second, current = 3.8695\n",
    "- the cell capacity is 3.8695 mAh, so, i should be ~3600 \n",
    "- the cell asymptotically approaches the eod, so have to stop slightly above"
   ]
  },
  {
   "cell_type": "code",
   "execution_count": 19,
   "metadata": {},
   "outputs": [
    {
     "name": "stdout",
     "output_type": "stream",
     "text": [
      "[3.04926653]\n",
      "3569\n"
     ]
    }
   ],
   "source": [
    "i = 0\n",
    "while(cell.ocv > (cell.eod * 1.005)):\n",
    "    cell.step(1, 3.8695)\n",
    "    i += 1\n",
    "print(cell.ocv)\n",
    "print(i)"
   ]
  },
  {
   "cell_type": "markdown",
   "metadata": {},
   "source": [
    "#### simulate the battery\n",
    "- same as above, since the battery is configured as parallel cells"
   ]
  },
  {
   "cell_type": "code",
   "execution_count": 5308,
   "metadata": {},
   "outputs": [],
   "source": [
    "i = 0\n",
    "while(battery.ocv > (battery.eod * 1.005)):\n",
    "    battery.step(1, 3.8695)\n",
    "    i += 1\n",
    "print(battery.ocv)\n",
    "print(i)"
   ]
  },
  {
   "cell_type": "markdown",
   "metadata": {},
   "source": [
    "### integration learning\n",
    "quad(f, a, b)\n",
    "- computes integral of f from a to b\n",
    "- returns value, error estimate  \n",
    "\n",
    "dblquad(f, a, b, gx, hx)\n",
    "- computes integral of f from a to b on gy to hy\n",
    "- returns value, error estimate\n"
   ]
  },
  {
   "cell_type": "code",
   "execution_count": 153,
   "metadata": {},
   "outputs": [],
   "source": [
    "%matplotlib inline\n",
    "from scipy.integrate import quad, ode, odeint\n",
    "from scipy import random\n",
    "#quad??"
   ]
  },
  {
   "cell_type": "markdown",
   "metadata": {},
   "source": [
    "example: integrate 3x^2 + 1 dx from 0 to 1"
   ]
  },
  {
   "cell_type": "code",
   "execution_count": 149,
   "metadata": {},
   "outputs": [
    {
     "name": "stdout",
     "output_type": "stream",
     "text": [
      "2.0\n"
     ]
    }
   ],
   "source": [
    "def f(x):\n",
    "    return 3.0*x**2 + 1\n",
    "\n",
    "I = quad(f, 0, 1)[0]\n",
    "print(I)\n",
    "\n",
    "def dxdt(t, x):\n",
    "    return  -x / 10\n",
    "\n",
    "integrator = ode(dxdt).set_integrator('vode', nsteps=500, method='bdf')"
   ]
  },
  {
   "cell_type": "code",
   "execution_count": 152,
   "metadata": {},
   "outputs": [
    {
     "data": {
      "text/plain": [
       "array([99.92933929])"
      ]
     },
     "execution_count": 152,
     "metadata": {},
     "output_type": "execute_result"
    }
   ],
   "source": [
    "integrator.set_initial_value(y=100, t=0)\n",
    "integrator.integrate(2, .1)"
   ]
  },
  {
   "cell_type": "code",
   "execution_count": 36,
   "metadata": {},
   "outputs": [],
   "source": [
    "def f(x, a, b):\n",
    "    return np.sin(x**a) + b\n",
    "    \n",
    "x0 = 0\n",
    "x1 = 5\n",
    "a = 2\n",
    "b = 3\n",
    "\n",
    "I = quad(f, x0, x1, args=(a, b, ))[0]\n",
    "print(I)"
   ]
  },
  {
   "cell_type": "code",
   "execution_count": 185,
   "metadata": {},
   "outputs": [
    {
     "name": "stdout",
     "output_type": "stream",
     "text": [
      "[0.00673795]\n"
     ]
    },
    {
     "data": {
      "text/plain": [
       "[<matplotlib.lines.Line2D at 0x18bcc96dc08>]"
      ]
     },
     "execution_count": 185,
     "metadata": {},
     "output_type": "execute_result"
    },
    {
     "data": {
      "image/png": "[encoded data removed]",
      "text/plain": [
       "<Figure size 432x288 with 1 Axes>"
      ]
     },
     "metadata": {
      "needs_background": "light"
     },
     "output_type": "display_data"
    }
   ],
   "source": [
    "def dCdt(C, t, tau):\n",
    "    return -C/tau\n",
    "\n",
    "C0 = 1.0 \n",
    "\n",
    "times = lambda x: np.linspace(0, x, 500)\n",
    "\n",
    "tau0 = 1.0\n",
    "x = times(5)\n",
    "C = odeint(dCdt, C0, x, args=(tau0,))\n",
    "print(C[-1])\n",
    "plt.plot(x, C)\n"
   ]
  },
  {
   "cell_type": "code",
   "execution_count": 189,
   "metadata": {},
   "outputs": [
    {
     "name": "stdout",
     "output_type": "stream",
     "text": [
      "[3.13206926]\n"
     ]
    },
    {
     "data": {
      "text/plain": [
       "[<matplotlib.lines.Line2D at 0x18bcca43f48>]"
      ]
     },
     "execution_count": 189,
     "metadata": {},
     "output_type": "execute_result"
    },
    {
     "data": {
      "image/png": "[encoded data removed]",
      "text/plain": [
       "<Figure size 432x288 with 1 Axes>"
      ]
     },
     "metadata": {
      "needs_background": "light"
     },
     "output_type": "display_data"
    }
   ],
   "source": [
    "times = lambda x: np.linspace(0, x, 500)\n",
    "\n",
    "def dvdt(v, t, g, c):\n",
    "    return g - c*v**2\n",
    "\n",
    "v0 = 0.0\n",
    "g = 9.81\n",
    "c = 1.0\n",
    "t1 = times(2)\n",
    "v = odeint(dvdt, v0, t1, args=(g,c,))\n",
    "print(v[-1])\n",
    "plt.plot(t1,v)\n"
   ]
  },
  {
   "cell_type": "code",
   "execution_count": 36,
   "metadata": {},
   "outputs": [
    {
     "name": "stdout",
     "output_type": "stream",
     "text": [
      "15.52791728116532\n"
     ]
    }
   ],
   "source": []
  },
  {
   "cell_type": "markdown",
   "metadata": {},
   "source": [
    "### integration thru monte carlo simulation"
   ]
  },
  {
   "cell_type": "code",
   "execution_count": 70,
   "metadata": {},
   "outputs": [
    {
     "name": "stdout",
     "output_type": "stream",
     "text": [
      "2.0238647968398333\n",
      "2.0\n"
     ]
    }
   ],
   "source": [
    "a = 0\n",
    "b = np.pi\n",
    "N = 1000\n",
    "xrand = random.uniform(a, b, N)\n",
    "\n",
    "def func(x):\n",
    "    return np.sin(x)\n",
    "\n",
    "I = 0.0\n",
    "\n",
    "for i in range(N):\n",
    "    I += func(xrand[i])\n",
    "I = (b-a)/float(N)*I\n",
    "print(I)\n",
    "\n",
    "Iq = quad(func, a,b)[0]\n",
    "print(Iq)"
   ]
  },
  {
   "cell_type": "code",
   "execution_count": null,
   "metadata": {},
   "outputs": [],
   "source": []
  }
 ],
 "metadata": {
  "kernelspec": {
   "display_name": "Python 3",
   "language": "python",
   "name": "python3"
  },
  "language_info": {
   "codemirror_mode": {
    "name": "ipython",
    "version": 3
   },
   "file_extension": ".py",
   "mimetype": "text/x-python",
   "name": "python",
   "nbconvert_exporter": "python",
   "pygments_lexer": "ipython3",
   "version": "3.7.8"
  }
 },
 "nbformat": 4,
 "nbformat_minor": 4
}
