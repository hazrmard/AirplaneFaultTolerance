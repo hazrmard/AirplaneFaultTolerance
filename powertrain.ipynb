{
 "cells": [
  {
   "cell_type": "markdown",
   "metadata": {},
   "source": [
    "# Powertrain for UAV"
   ]
  },
  {
   "cell_type": "code",
   "execution_count": 343,
   "metadata": {},
   "outputs": [],
   "source": [
    "import numpy as np\n",
    "import pandas as pd\n",
    "import matplotlib.pyplot as plt\n",
    "import csv"
   ]
  },
  {
   "cell_type": "markdown",
   "metadata": {},
   "source": [
    "### The battery\n",
    "- Something is off with the battery, need to double check the series / parallel configuration"
   ]
  },
  {
   "cell_type": "code",
   "execution_count": 5283,
   "metadata": {},
   "outputs": [],
   "source": [
    "class DiscreteBattery:\n",
    "    def __init__(self, cells: DiscreteBatteryCell, wiring):\n",
    "        self.cells = cells\n",
    "        self.wiring = wiring\n",
    "        self.v0 = self.cells[0].v0 if wiring == \"parallel\" else sum(cell.v0 for cell in self.cells)\n",
    "        self.v0 = round(self.v0, 3)\n",
    "        self.soc = 1.0\n",
    "        self.ocv = self.v0\n",
    "        self.eod = self.cells[0].eod if wiring == \"parallel\" else sum(cell.eod for cell in celf.cells)\n",
    "        \n",
    "    def step(self, dt, current):\n",
    "        if(self.wiring == \"parallel\"):\n",
    "            for cell in self.cells:\n",
    "                cell.step(dt, current)\n",
    "            self.soc = sum(cell.soc for cell in self.cells) / 3\n",
    "            self.ocv = sum(cell.ocv for cell in self.cells) / 3\n",
    "\n",
    "class DiscreteBatteryCell:\n",
    "    def __init__(self, **kwargs):\n",
    "        if(len(kwargs) == 0):\n",
    "            self.soc_ocv = np.zeros((1,1))\n",
    "            self.R0_degradation = np.zeros((1,1))\n",
    "            self.Q_degradation = np.zeros((1,1))\n",
    "        else:\n",
    "            self.soc_ocv = kwargs[\"soc_ocv\"]\n",
    "            self.R0_degradation = kwargs[\"R0_degradation\"]\n",
    "            self.Q_degradation = kwargs[\"Q_degradation\"]\n",
    "        self.soc = 1.0\n",
    "        self.Ir = 0\n",
    "        self.h = 0\n",
    "        self.M0 = .0019\n",
    "        self.M = .0092\n",
    "        self.R0 = .0112\n",
    "        self.R = 2.83e-4\n",
    "        self.Q = 3.8695\n",
    "        self.n = .9987\n",
    "        self.G = 163.4413\n",
    "        self.v0 = 4.2\n",
    "        self.eod = 3.04\n",
    "        self.RC = 3.6572\n",
    "        self.ocv = self.v0\n",
    "        \n",
    "    def get_ocv(self):\n",
    "        if(self.soc < 0.0):\n",
    "            self.soc = 0\n",
    "        elif(self.soc > 1.0):\n",
    "            self.soc = 1.0\n",
    "        idx = int(np.ceil(self.soc*100))\n",
    "        if(idx > 101):\n",
    "            idx = 101\n",
    "        elif(idx < 1):\n",
    "            idx = 1\n",
    "        return self.soc_ocv[idx]\n",
    "        \n",
    "    def step(self, dt, current):\n",
    "        RC = np.exp(-dt/abs(self.RC))\n",
    "        H = np.exp(-abs(self.n*current*self.G*dt/(3600*self.Q)))\n",
    "        self.Ir = RC*self.Ir + (1-RC)*current\n",
    "        self.h = H*self.h + (H-1)*np.sign(current)\n",
    "        self.soc = self.soc - self.n*current/3600/self.Q\n",
    "        self.ocv = self.get_ocv() + self.M*self.h + self.M0*np.sign(current) - self.R*self.Ir - self.R0*current\n",
    "        \n",
    "    def add_profile(self,**profile):\n",
    "        self.soc_ocv = profile[\"soc_ocv\"]\n",
    "        self.R0_degradation = profile[\"R0_degradation\"]\n",
    "        self.Q_degradation = profile[\"Q_degradation\"]\n",
    "        \n",
    "        \n",
    "def get_battery_curves(soc_ocv_file, R0_degradation_file, Q_degradation_file):\n",
    "    \"\"\"\n",
    "        @brief: gets the degradation profile (predefined curves) for the battery\n",
    "        \n",
    "        @input:\n",
    "            soc_ocv_file: a csv file containing the soc_ocv relationship as a column vector\n",
    "            R0_degradation_file: a csv file containing the R0 degradation curve as a column vector\n",
    "            Q_degradation_file: a csv file containing the Q degradation curve as a column vector\n",
    "        \n",
    "        @output:\n",
    "            a dictionary mapping of degradation curves with [\"soc_ocv\", \"R0_degradation\", \"Q_degradation\"] keys\n",
    "    \"\"\"    \n",
    "    soc_ocv = []\n",
    "    R0_degradation = []\n",
    "    Q_degradation = []\n",
    "    \n",
    "    with open(soc_ocv_file, newline='') as f:\n",
    "        soc_ocv = list(csv.reader(f))\n",
    "    soc_ocv = np.asarray(soc_ocv).astype(np.float)\n",
    "    \n",
    "    with open(R0_degradation_file, newline='') as f:\n",
    "        R0_degradation = list(csv.reader(f))\n",
    "    R0_degradation = np.asarray(R0_degradation).astype(np.float)\n",
    "    \n",
    "    with open(Q_degradation_file, newline='') as f:\n",
    "        Q_degradation = list(csv.reader(f))\n",
    "    Q_degradation = np.asarray(Q_degradation).astype(np.float)\n",
    "    \n",
    "    return {\"soc_ocv\": soc_ocv, \"R0_degradation\": R0_degradation, \"Q_degradation\": Q_degradation}\n",
    "\n",
    "battery_curves = get_battery_curves('soc_ocv.csv', 'R0_degradation.csv', 'Q_degradation.csv')"
   ]
  },
  {
   "cell_type": "markdown",
   "metadata": {},
   "source": [
    "### test the cells and battery"
   ]
  },
  {
   "cell_type": "code",
   "execution_count": 5306,
   "metadata": {},
   "outputs": [],
   "source": [
    "cells = []\n",
    "for i in range(0,3):\n",
    "    cells.append(DiscreteBatteryCell(**battery_curves))\n",
    "battery = DiscreteBattery(cells, \"parallel\")\n",
    "cell = DiscreteBatteryCell(**battery_curves)"
   ]
  },
  {
   "cell_type": "markdown",
   "metadata": {},
   "source": [
    "#### simulate the cell\n",
    "- dt = 1 second, current = 3.8695\n",
    "- the cell capacity is 3.8695 mAh, so, i should be ~3600 \n",
    "- the cell asymptotically approaches the eod, so have to stop slightly above"
   ]
  },
  {
   "cell_type": "code",
   "execution_count": 5307,
   "metadata": {},
   "outputs": [
    {
     "name": "stdout",
     "output_type": "stream",
     "text": [
      "[3.04926653]\n",
      "3569\n"
     ]
    }
   ],
   "source": [
    "i = 0\n",
    "while(cell.ocv > (cell.eod * 1.005)):\n",
    "    cell.step(1, 3.8695)\n",
    "    i += 1\n",
    "print(cell.ocv)\n",
    "print(i)"
   ]
  },
  {
   "cell_type": "markdown",
   "metadata": {},
   "source": [
    "#### simulate the battery\n",
    "- same as above, since the battery is configured as parallel cells"
   ]
  },
  {
   "cell_type": "code",
   "execution_count": 5308,
   "metadata": {},
   "outputs": [
    {
     "name": "stdout",
     "output_type": "stream",
     "text": [
      "[3.04926653]\n",
      "3569\n"
     ]
    }
   ],
   "source": [
    "i = 0\n",
    "while(battery.ocv > (battery.eod * 1.005)):\n",
    "    battery.step(1, 3.8695)\n",
    "    i += 1\n",
    "print(battery.ocv)\n",
    "print(i)"
   ]
  }
 ],
 "metadata": {
  "kernelspec": {
   "display_name": "Python 3",
   "language": "python",
   "name": "python3"
  },
  "language_info": {
   "codemirror_mode": {
    "name": "ipython",
    "version": 3
   },
   "file_extension": ".py",
   "mimetype": "text/x-python",
   "name": "python",
   "nbconvert_exporter": "python",
   "pygments_lexer": "ipython3",
   "version": "3.7.8"
  }
 },
 "nbformat": 4,
 "nbformat_minor": 4
}
