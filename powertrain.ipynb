{
 "cells": [
  {
   "cell_type": "markdown",
   "metadata": {},
   "source": [
    "# Powertrain for UAV"
   ]
  },
  {
   "cell_type": "code",
   "execution_count": 77,
   "metadata": {},
   "outputs": [],
   "source": [
    "%matplotlib inline\n",
    "from scipy.integrate import quad, ode, odeint\n",
    "from scipy import random\n",
    "import numpy as np\n",
    "import pandas as pd\n",
    "import matplotlib.pyplot as plt\n",
    "import csv\n",
    "\n",
    "nsteps = lambda x: np.linspace(0, x, 100)\n"
   ]
  },
  {
   "cell_type": "markdown",
   "metadata": {},
   "source": [
    "### Battery profile"
   ]
  },
  {
   "cell_type": "code",
   "execution_count": 276,
   "metadata": {},
   "outputs": [],
   "source": [
    "def get_poly(curve, pwr=5):\n",
    "    \"\"\"\n",
    "        @brief: gets the coefficients for a polynomial approximation of given curve\n",
    "        \n",
    "        @input:\n",
    "            curve: the curve as an np.array\n",
    "            pwr: power of the curve to fit, default=5\n",
    "        \n",
    "        @output:\n",
    "            an np.array of length(pwr) representing the coefficients of the curve\n",
    "    \"\"\" \n",
    "    x_poly = np.arange(0, len(curve))\n",
    "    y_poly = np.polyfit(x_poly, curve, pwr)\n",
    "    return y_poly\n",
    "\n",
    "def get_battery_curves(soc_ocv_file, R0_degradation_file, Q_degradation_file):\n",
    "    \"\"\"\n",
    "        @brief: gets the degradation profile (predefined curves) for the battery\n",
    "        \n",
    "        @input:\n",
    "            soc_ocv_file: a csv file containing the soc_ocv relationship as a column vector\n",
    "            R0_degradation_file: a csv file containing the R0 degradation curve as a column vector\n",
    "            Q_degradation_file: a csv file containing the Q degradation curve as a column vector\n",
    "        \n",
    "        @output:\n",
    "            a dictionary mapping of degradation curve coefficients with [\"z_coef\", \"r0_coef\", \"q_coef\", \"EOL\"] keys\n",
    "    \"\"\"    \n",
    "    soc_ocv = []\n",
    "    R0_degradation = []\n",
    "    Q_degradation = []\n",
    "    \n",
    "    with open(soc_ocv_file, newline='') as f:\n",
    "        soc_ocv = list(csv.reader(f))\n",
    "    soc_ocv = np.asarray(soc_ocv).astype(np.float)\n",
    "    \n",
    "    with open(R0_degradation_file, newline='') as f:\n",
    "        R0_degradation = list(csv.reader(f))\n",
    "    R0_degradation = np.asarray(R0_degradation).astype(np.float)\n",
    "    \n",
    "    with open(Q_degradation_file, newline='') as f:\n",
    "        Q_degradation = list(csv.reader(f))\n",
    "    Q_degradation = np.asarray(Q_degradation).astype(np.float)\n",
    "    \n",
    "    z_coef = get_poly(soc_ocv)\n",
    "    r0_coef = get_poly(R0_degradation)\n",
    "    q_coef = get_poly(Q_degradation)\n",
    "    eol = len(Q_degradation)\n",
    "    \n",
    "    return {\"z_coef\": z_coef, \"r0_coef\": r0_coef, \"q_coef\": q_coef, \"eol\": eol, \"soc_ocv\": soc_ocv}\n",
    "\n"
   ]
  },
  {
   "cell_type": "markdown",
   "metadata": {},
   "source": [
    "### Base Battery Cell"
   ]
  },
  {
   "cell_type": "code",
   "execution_count": 287,
   "metadata": {},
   "outputs": [],
   "source": [
    "class Battery:\n",
    "    def __init__(self, *args, **kwargs):\n",
    "        if(len(kwargs) == 0):\n",
    "            self.z_coef = np.zeros((1,1))\n",
    "            self.r0_coef = np.zeros((1,1))\n",
    "            self.q_coef = np.zeros((1,1))\n",
    "            self.eod = 1\n",
    "            self.eol = 1\n",
    "        else:\n",
    "            self.z_coef = kwargs[\"z_coef\"]\n",
    "            self.r0_coef = kwargs[\"r0_coef\"]\n",
    "            self.q_coef = kwargs[\"q_coef\"]\n",
    "            self.eol = kwargs[\"eol\"]\n",
    "        self.z = 1.0\n",
    "        self.Ir = 0\n",
    "        self.h = 0\n",
    "        self.M0 = .0019\n",
    "        self.M = .0092\n",
    "        self.R0 = .0112\n",
    "        self.R = 2.83e-4\n",
    "        self.Q = 3.8695\n",
    "        self.n = .9987\n",
    "        self.G = 163.4413\n",
    "        self.v0 = 4.2\n",
    "        self.eod = 3.04\n",
    "        self.RC = 3.6572\n",
    "        self.ocv = self.v0\n",
    "        \n",
    "    def get_ocv(self):\n",
    "        raise NotImplementedError\n",
    "    \n",
    "    def step(self, dt, current):\n",
    "        raise NotImplementedError\n",
    "        \n",
    "    def reset(self):\n",
    "        self.z = 1.0\n",
    "        self.ocv = self.v0\n",
    "        self.Ir = 0\n",
    "        self.h = 0\n",
    "        "
   ]
  },
  {
   "cell_type": "markdown",
   "metadata": {},
   "source": [
    "### The Continuous Battery Cell"
   ]
  },
  {
   "cell_type": "code",
   "execution_count": 278,
   "metadata": {},
   "outputs": [],
   "source": [
    "class ContinuousBatteryCell(Battery):\n",
    "    def __init__(self, *args, **kwargs):\n",
    "        super(ContinuousBatteryCell, self).__init__(*args, **kwargs)\n",
    "        print(\"continuous battery cell\")\n",
    "        \n",
    "    def get_ocv(self):\n",
    "        return np.polyval(self.z_coef, self.z*100.0)\n",
    "    \n",
    "    def step(self, dt, current):\n",
    "        RC = np.exp(-dt/abs(self.RC))\n",
    "        H = np.exp(-abs(self.n*current*self.G*dt/(3600*self.Q)))\n",
    "        self.Ir = RC*self.Ir + (1-RC)*current\n",
    "        self.h = H*self.h + (H-1)*np.sign(current)\n",
    "        self.z = self.z - self.n*current/3600/self.Q\n",
    "        self.ocv = self.get_ocv() + self.M*self.h + self.M0*np.sign(current) - self.R*self.Ir - self.R0*current\n",
    "        "
   ]
  },
  {
   "cell_type": "code",
   "execution_count": 282,
   "metadata": {},
   "outputs": [],
   "source": [
    "battery_coefficients = get_battery_curves('soc_ocv.csv', 'R0_degradation.csv', 'Q_degradation.csv')\n"
   ]
  },
  {
   "cell_type": "code",
   "execution_count": 279,
   "metadata": {},
   "outputs": [
    {
     "name": "stdout",
     "output_type": "stream",
     "text": [
      "continuous battery cell\n",
      "[4.22139702]\n"
     ]
    },
    {
     "data": {
      "image/png": "[encoded data removed]",
      "text/plain": [
       "<Figure size 432x288 with 1 Axes>"
      ]
     },
     "metadata": {
      "needs_background": "light"
     },
     "output_type": "display_data"
    },
    {
     "data": {
      "image/png": "[encoded data removed]",
      "text/plain": [
       "<Figure size 432x288 with 1 Axes>"
      ]
     },
     "metadata": {
      "needs_background": "light"
     },
     "output_type": "display_data"
    },
    {
     "data": {
      "image/png": "[encoded data removed]",
      "text/plain": [
       "<Figure size 432x288 with 1 Axes>"
      ]
     },
     "metadata": {
      "needs_background": "light"
     },
     "output_type": "display_data"
    }
   ],
   "source": [
    "cbcell = ContinuousBatteryCell(**battery_coefficients)\n",
    "print(cbcell.get_ocv())\n",
    "plt.plot(np.arange(0, cbcell.eol), np.polyval(cbcell.q_coef, np.arange(0, cbcell.eol)))\n",
    "plt.show()\n",
    "plt.plot(np.arange(0, cbcell.eol), np.polyval(cbcell.r0_coef, np.arange(0, cbcell.eol)))\n",
    "plt.show()\n",
    "plt.plot(np.arange(0, 101), np.polyval(cbcell.z_coef, np.arange(0, 101)))\n",
    "plt.show()"
   ]
  },
  {
   "cell_type": "markdown",
   "metadata": {},
   "source": [
    "### The Discrete Battery Cell"
   ]
  },
  {
   "cell_type": "code",
   "execution_count": 283,
   "metadata": {},
   "outputs": [],
   "source": [
    "class DiscreteBatteryCell(Battery):\n",
    "    def __init__(self, *args, **kwargs):\n",
    "        super(DiscreteBatteryCell, self).__init__(*args, **kwargs)\n",
    "        self.soc_ocv = kwargs['soc_ocv']\n",
    "        \n",
    "    def get_ocv(self):\n",
    "        if(self.z < 0.0):\n",
    "            self.z = 0\n",
    "        elif(self.z > 1.0):\n",
    "            self.z = 1.0\n",
    "        idx = int(np.ceil(self.z*100))\n",
    "        if(idx > 101):\n",
    "            idx = 101\n",
    "        elif(idx < 1):\n",
    "            idx = 1\n",
    "        return self.soc_ocv[idx]\n",
    "        \n",
    "    def step(self, dt, current):\n",
    "        RC = np.exp(-dt/abs(self.RC))\n",
    "        H = np.exp(-abs(self.n*current*self.G*dt/(3600*self.Q)))\n",
    "        self.Ir = RC*self.Ir + (1-RC)*current\n",
    "        self.h = H*self.h + (H-1)*np.sign(current)\n",
    "        self.z = self.z - self.n*current/3600/self.Q\n",
    "        self.ocv = self.get_ocv() + self.M*self.h + self.M0*np.sign(current) - self.R*self.Ir - self.R0*current\n",
    "        "
   ]
  },
  {
   "cell_type": "code",
   "execution_count": 286,
   "metadata": {},
   "outputs": [
    {
     "name": "stdout",
     "output_type": "stream",
     "text": [
      "4.2\n"
     ]
    },
    {
     "data": {
      "image/png": "[encoded data removed]",
      "text/plain": [
       "<Figure size 432x288 with 1 Axes>"
      ]
     },
     "metadata": {
      "needs_background": "light"
     },
     "output_type": "display_data"
    },
    {
     "data": {
      "image/png": "[encoded data removed]",
      "text/plain": [
       "<Figure size 432x288 with 1 Axes>"
      ]
     },
     "metadata": {
      "needs_background": "light"
     },
     "output_type": "display_data"
    },
    {
     "data": {
      "image/png": "[encoded data removed]",
      "text/plain": [
       "<Figure size 432x288 with 1 Axes>"
      ]
     },
     "metadata": {
      "needs_background": "light"
     },
     "output_type": "display_data"
    }
   ],
   "source": [
    "dbcell = DiscreteBatteryCell(**battery_coefficients)\n",
    "print(dbcell.get_ocv()[0])\n",
    "plt.plot(np.arange(0, dbcell.eol), np.polyval(dbcell.q_coef, np.arange(0, dbcell.eol)))\n",
    "plt.show()\n",
    "plt.plot(np.arange(0, dbcell.eol), np.polyval(dbcell.r0_coef, np.arange(0, dbcell.eol)))\n",
    "plt.show()\n",
    "plt.plot(np.arange(0, 101), np.polyval(dbcell.z_coef, np.arange(0, 101)))\n",
    "plt.show()"
   ]
  },
  {
   "cell_type": "markdown",
   "metadata": {},
   "source": [
    "### The battery\n",
    "- Something is off with the battery, need to double check the series / parallel configuration"
   ]
  },
  {
   "cell_type": "code",
   "execution_count": null,
   "metadata": {},
   "outputs": [],
   "source": [
    "class DiscreteBattery:\n",
    "    def __init__(self, cells: DiscreteBatteryCell, wiring):\n",
    "        self.cells = cells\n",
    "        self.wiring = wiring\n",
    "        self.v0 = self.cells[0].v0 if wiring == \"parallel\" else sum(cell.v0 for cell in self.cells)\n",
    "        self.v0 = round(self.v0, 3)\n",
    "        self.z = 1.0\n",
    "        self.ocv = self.v0\n",
    "        self.eod = self.cells[0].eod if wiring == \"parallel\" else sum(cell.eod for cell in celf.cells)\n",
    "        \n",
    "    def step(self, dt, current):\n",
    "        if(self.wiring == \"parallel\"):\n",
    "            for cell in self.cells:\n",
    "                cell.step(dt, current)\n",
    "            self.z = sum(cell.z for cell in self.cells) / 3\n",
    "            self.ocv = sum(cell.ocv for cell in self.cells) / 3\n",
    "            "
   ]
  },
  {
   "cell_type": "markdown",
   "metadata": {},
   "source": [
    "### test the cells and battery"
   ]
  },
  {
   "cell_type": "code",
   "execution_count": null,
   "metadata": {},
   "outputs": [],
   "source": [
    "cells = []\n",
    "for i in range(0,3):\n",
    "    cells.append(DiscreteBatteryCell(**battery_curves))\n",
    "battery = DiscreteBattery(cells, \"parallel\")\n",
    "cell = DiscreteBatteryCell(**battery_curves)"
   ]
  },
  {
   "cell_type": "markdown",
   "metadata": {},
   "source": [
    "#### simulate the cell\n",
    "- dt = 1 second, current = 3.8695\n",
    "- the cell capacity is 3.8695 mAh, so, i should be ~3600 \n",
    "- the cell asymptotically approaches the eod, so have to stop slightly above"
   ]
  },
  {
   "cell_type": "code",
   "execution_count": 292,
   "metadata": {},
   "outputs": [
    {
     "name": "stdout",
     "output_type": "stream",
     "text": [
      "[3.04926653]\n",
      "3569\n"
     ]
    }
   ],
   "source": [
    "dbcell.reset()\n",
    "i = 0\n",
    "while(dbcell.ocv > (dbcell.eod * 1.005)):\n",
    "    dbcell.step(1, 3.8695)\n",
    "    i += 1\n",
    "print(dbcell.ocv)\n",
    "print(i)"
   ]
  },
  {
   "cell_type": "markdown",
   "metadata": {},
   "source": [
    "### integration learning\n",
    "quad(f, a, b)\n",
    "- computes integral of f from a to b\n",
    "- returns value, error estimate  \n",
    "\n",
    "dblquad(f, a, b, gx, hx)\n",
    "- computes integral of f from a to b on gy to hy\n",
    "- returns value, error estimate\n"
   ]
  },
  {
   "cell_type": "code",
   "execution_count": null,
   "metadata": {},
   "outputs": [],
   "source": [
    "%matplotlib inline\n",
    "from scipy.integrate import quad, ode, odeint\n",
    "from scipy import random\n",
    "#quad??"
   ]
  },
  {
   "cell_type": "markdown",
   "metadata": {},
   "source": [
    "example: integrate 3x^2 + 1 dx from 0 to 1"
   ]
  },
  {
   "cell_type": "code",
   "execution_count": null,
   "metadata": {},
   "outputs": [],
   "source": [
    "def f(x):\n",
    "    return 3.0*x**2 + 1\n",
    "\n",
    "I = quad(f, 0, 1)[0]\n",
    "print(I)\n",
    "\n",
    "def dxdt(t, x):\n",
    "    return  -x / 10\n",
    "\n",
    "integrator = ode(dxdt).set_integrator('vode', nsteps=500, method='bdf')"
   ]
  },
  {
   "cell_type": "code",
   "execution_count": null,
   "metadata": {},
   "outputs": [],
   "source": [
    "integrator.set_initial_value(y=100, t=0)\n",
    "integrator.integrate(2, .1)"
   ]
  },
  {
   "cell_type": "code",
   "execution_count": null,
   "metadata": {},
   "outputs": [],
   "source": [
    "def f(x, a, b):\n",
    "    return np.sin(x**a) + b\n",
    "    \n",
    "x0 = 0\n",
    "x1 = 5\n",
    "a = 2\n",
    "b = 3\n",
    "\n",
    "I = quad(f, x0, x1, args=(a, b, ))[0]\n",
    "print(I)"
   ]
  },
  {
   "cell_type": "code",
   "execution_count": null,
   "metadata": {},
   "outputs": [],
   "source": [
    "def dCdt(C, t, tau):\n",
    "    return -C/tau\n",
    "\n",
    "C0 = 1.0 \n",
    "\n",
    "times = lambda x: np.linspace(0, x, 500)\n",
    "\n",
    "tau0 = 1.0\n",
    "x = times(5)\n",
    "C = odeint(dCdt, C0, x, args=(tau0,))\n",
    "print(C[-1])\n",
    "plt.plot(x, C)\n"
   ]
  },
  {
   "cell_type": "code",
   "execution_count": null,
   "metadata": {},
   "outputs": [],
   "source": [
    "times = lambda x: np.linspace(0, x, 500)\n",
    "\n",
    "def dvdt(v, t, g, c):\n",
    "    return g - c*v**2\n",
    "\n",
    "v0 = 0.0\n",
    "g = 9.81\n",
    "c = 1.0\n",
    "t1 = times(2)\n",
    "v = odeint(dvdt, v0, t1, args=(g,c,))\n",
    "print(v[-1])\n",
    "plt.plot(t1,v)\n"
   ]
  },
  {
   "cell_type": "code",
   "execution_count": 312,
   "metadata": {},
   "outputs": [],
   "source": [
    "np.random.seed(43)\n",
    "\n",
    "def dzdt(soc, t, current):\n",
    "    return -cbcell.n*current/cbcell.Q\n",
    "\n",
    "def didt(Ir, t, current):\n",
    "    return -1.0/cbcell.RC*Ir + 1.0/cbcell.RC*current"
   ]
  },
  {
   "cell_type": "code",
   "execution_count": 308,
   "metadata": {},
   "outputs": [
    {
     "name": "stdout",
     "output_type": "stream",
     "text": [
      "0.09978291666729\n",
      "3245\n"
     ]
    },
    {
     "data": {
      "image/png": "[encoded data removed]",
      "text/plain": [
       "<Figure size 432x288 with 1 Axes>"
      ]
     },
     "metadata": {
      "needs_background": "light"
     },
     "output_type": "display_data"
    },
    {
     "data": {
      "image/png": "[encoded data removed]",
      "text/plain": [
       "<Figure size 432x288 with 1 Axes>"
      ]
     },
     "metadata": {
      "needs_background": "light"
     },
     "output_type": "display_data"
    },
    {
     "data": {
      "image/png": "[encoded data removed]",
      "text/plain": [
       "<Figure size 432x288 with 1 Axes>"
      ]
     },
     "metadata": {
      "needs_background": "light"
     },
     "output_type": "display_data"
    },
    {
     "data": {
      "image/png": "[encoded data removed]",
      "text/plain": [
       "<Figure size 432x288 with 1 Axes>"
      ]
     },
     "metadata": {
      "needs_background": "light"
     },
     "output_type": "display_data"
    }
   ],
   "source": [
    "#for i in range(0, 5000):\n",
    "    \n",
    "\n",
    "def discrete_test():\n",
    "    dbcell.reset()\n",
    "\n",
    "    dt = 1/3600 # 1.0 seconds\n",
    "\n",
    "    currents = []\n",
    "    socs = []\n",
    "    ocvs = []\n",
    "    Irs = []\n",
    "    i = 0\n",
    "    while(dbcell.z > .1):\n",
    "#         if(i < 1000):\n",
    "#             c = np.random.uniform(0.0, 1.0)\n",
    "#         elif(i >= 1000 and i <= 3000):\n",
    "#             c = np.random.uniform(1.0, 2.0)\n",
    "#         elif(i >= 3000 and i <= 6000):\n",
    "#             c = np.random.uniform(2.8, 3.2)\n",
    "#         else:\n",
    "#             c = np.random.uniform(1.8, 2.2)\n",
    "        currents.append(c)\n",
    "        socs.append(dbcell.z)\n",
    "        ocvs.append(dbcell.ocv)\n",
    "        Irs.append(dbcell.Ir)\n",
    "        dbcell.step(1, c)\n",
    "        i += 1\n",
    "    print(cbcell.z)\n",
    "    print(i)\n",
    "    plt.plot(Irs)\n",
    "    plt.show()\n",
    "    plt.plot(currents)\n",
    "    plt.show()\n",
    "    plt.plot(socs)\n",
    "    plt.show()\n",
    "    plt.plot(ocvs)\n",
    "    plt.show()\n",
    "    return ocvs\n",
    "docvs = discrete_test()"
   ]
  },
  {
   "cell_type": "code",
   "execution_count": 309,
   "metadata": {},
   "outputs": [
    {
     "name": "stdout",
     "output_type": "stream",
     "text": [
      "0.09978291666729\n",
      "3245\n"
     ]
    },
    {
     "data": {
      "image/png": "[encoded data removed]",
      "text/plain": [
       "<Figure size 432x288 with 1 Axes>"
      ]
     },
     "metadata": {
      "needs_background": "light"
     },
     "output_type": "display_data"
    },
    {
     "data": {
      "image/png": "[encoded data removed]",
      "text/plain": [
       "<Figure size 432x288 with 1 Axes>"
      ]
     },
     "metadata": {
      "needs_background": "light"
     },
     "output_type": "display_data"
    },
    {
     "data": {
      "image/png": "[encoded data removed]",
      "text/plain": [
       "<Figure size 432x288 with 1 Axes>"
      ]
     },
     "metadata": {
      "needs_background": "light"
     },
     "output_type": "display_data"
    },
    {
     "data": {
      "image/png": "[encoded data removed]",
      "text/plain": [
       "<Figure size 432x288 with 1 Axes>"
      ]
     },
     "metadata": {
      "needs_background": "light"
     },
     "output_type": "display_data"
    }
   ],
   "source": [
    "def continuous_test():\n",
    "    cbcell.reset()\n",
    "\n",
    "    dt = 1/3600 # 1.0 seconds\n",
    "\n",
    "    t1 = nsteps(dt)\n",
    "    currents = []\n",
    "    socs = []\n",
    "    ocvs = []\n",
    "    Irs = []\n",
    "    i = 0\n",
    "    while(cbcell.z > .1):\n",
    "        c = 3.8695\n",
    "    #     if(i < 1000):\n",
    "    #         c = np.random.uniform(0.0, 1.0)\n",
    "    #     elif(i >= 1000 and i <= 3000):\n",
    "    #         c = np.random.uniform(1.0, 2.0)\n",
    "    #     elif(i >= 3000 and i <= 6000):\n",
    "    #         c = np.random.uniform(2.8, 3.2)\n",
    "    #     else:\n",
    "    #         c = np.random.uniform(1.8, 2.2)\n",
    "        currents.append(c)\n",
    "        socs.append(cbcell.z)\n",
    "        ocvs.append(cbcell.get_ocv() - cbcell.R*cbcell.Ir - cbcell.R0*current)\n",
    "        Irs.append(cbcell.Ir)\n",
    "        dz = (1 - odeint(dzdt, 1.0, t1, args=(c,))[-1][0])\n",
    "        di = odeint(didt, cbcell.Ir, t1, args=(c,))[-1]\n",
    "        cbcell.Ir = di\n",
    "        cbcell.z = cbcell.z - dz\n",
    "        i += 1\n",
    "    print(cbcell.z)\n",
    "    print(i)\n",
    "    plt.plot(Irs)\n",
    "    plt.show()\n",
    "    plt.plot(currents)\n",
    "    plt.show()\n",
    "    plt.plot(socs)\n",
    "    plt.show()\n",
    "    plt.plot(ocvs)\n",
    "    plt.show()\n",
    "    return ocvs\n",
    "    \n",
    "cocvs = continuous_test()"
   ]
  },
  {
   "cell_type": "code",
   "execution_count": 311,
   "metadata": {},
   "outputs": [
    {
     "name": "stdout",
     "output_type": "stream",
     "text": [
      "3245\n",
      "3245\n"
     ]
    },
    {
     "data": {
      "image/png": "[encoded data removed]",
      "text/plain": [
       "<Figure size 432x288 with 1 Axes>"
      ]
     },
     "metadata": {
      "needs_background": "light"
     },
     "output_type": "display_data"
    }
   ],
   "source": [
    "print(len(docvs))\n",
    "print(len(cocvs))\n",
    "plt.plot(docvs)\n",
    "plt.plot(cocvs)\n",
    "plt.show()"
   ]
  },
  {
   "cell_type": "code",
   "execution_count": 66,
   "metadata": {},
   "outputs": [
    {
     "name": "stdout",
     "output_type": "stream",
     "text": [
      "[3.05518742]\n",
      "3556\n"
     ]
    }
   ],
   "source": [
    "i = 0\n",
    "while(cbcell.ocv > (cbcell.eod * 1.005)):\n",
    "    cbcell.step(1, 3.8695)\n",
    "    i += 1\n",
    "print(cbcell.ocv)\n",
    "print(i)"
   ]
  },
  {
   "cell_type": "code",
   "execution_count": 231,
   "metadata": {},
   "outputs": [
    {
     "data": {
      "text/plain": [
       "{'z_coef': array([[ 1.43512460e-09],\n",
       "        [-4.33488147e-07],\n",
       "        [ 5.21563505e-05],\n",
       "        [-3.10719077e-03],\n",
       "        [ 9.14558429e-02],\n",
       "        [ 2.98893868e+00]]),\n",
       " 'r0_coef': array([[ 1.09822958e-12],\n",
       "        [-6.33382267e-10],\n",
       "        [ 1.37942050e-07],\n",
       "        [-1.26888097e-05],\n",
       "        [ 4.51293118e-04],\n",
       "        [-2.43713418e-03]]),\n",
       " 'q_coef': array([[-6.44359504e-14],\n",
       "        [ 4.66926421e-12],\n",
       "        [-1.17626540e-08],\n",
       "        [-3.24917358e-06],\n",
       "        [-1.01950329e-03],\n",
       "        [ 3.80005642e+00]]),\n",
       " 'eol': 320,\n",
       " 'soc': array([0.00194904]),\n",
       " 'Ir': 3.869499999999999,\n",
       " 'h': -0.9999999999999988,\n",
       " 'M0': 0.0019,\n",
       " 'M': 0.0092,\n",
       " 'R0': 0.0112,\n",
       " 'R': 0.000283,\n",
       " 'Q': 3.8695,\n",
       " 'n': 0.9987,\n",
       " 'G': 163.4413,\n",
       " 'v0': 4.2,\n",
       " 'eod': 3.04,\n",
       " 'RC': 3.6572,\n",
       " 'ocv': 4.2}"
      ]
     },
     "execution_count": 231,
     "metadata": {},
     "output_type": "execute_result"
    }
   ],
   "source": [
    "vars(cbcell)"
   ]
  },
  {
   "cell_type": "markdown",
   "metadata": {},
   "source": [
    "### integration thru monte carlo simulation"
   ]
  },
  {
   "cell_type": "code",
   "execution_count": null,
   "metadata": {},
   "outputs": [],
   "source": [
    "a = 0\n",
    "b = np.pi\n",
    "N = 1000\n",
    "xrand = random.uniform(a, b, N)\n",
    "\n",
    "def func(x):\n",
    "    return np.sin(x)\n",
    "\n",
    "I = 0.0\n",
    "\n",
    "for i in range(N):\n",
    "    I += func(xrand[i])\n",
    "I = (b-a)/float(N)*I\n",
    "print(I)\n",
    "\n",
    "Iq = quad(func, a,b)[0]\n",
    "print(Iq)"
   ]
  },
  {
   "cell_type": "code",
   "execution_count": null,
   "metadata": {},
   "outputs": [],
   "source": []
  }
 ],
 "metadata": {
  "kernelspec": {
   "display_name": "Python 3",
   "language": "python",
   "name": "python3"
  },
  "language_info": {
   "codemirror_mode": {
    "name": "ipython",
    "version": 3
   },
   "file_extension": ".py",
   "mimetype": "text/x-python",
   "name": "python",
   "nbconvert_exporter": "python",
   "pygments_lexer": "ipython3",
   "version": "3.7.8"
  }
 },
 "nbformat": 4,
 "nbformat_minor": 4
}
