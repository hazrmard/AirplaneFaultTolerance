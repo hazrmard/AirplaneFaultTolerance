{
 "cells": [
  {
   "cell_type": "markdown",
   "metadata": {},
   "source": [
    "### Previous work (scroll down and start below)"
   ]
  },
  {
   "cell_type": "code",
   "execution_count": 343,
   "metadata": {},
   "outputs": [],
   "source": [
    "import numpy as np\n",
    "import pandas as pd\n",
    "import matplotlib.pyplot as plt\n",
    "import csv"
   ]
  },
  {
   "cell_type": "code",
   "execution_count": 2,
   "metadata": {},
   "outputs": [],
   "source": [
    "def debug(i, j, k, K, n, t, v):\n",
    "    first = \"i: {}\\tj: {}\\tn: {}\\tT(k,j,n): {}\\tV(k): {}\".format(i, j, n, t, v)\n",
    "    others = \"T(k,j,n): {}\\tV(k): {}\".format(t, v)\n",
    "    if(k == 0):\n",
    "        print(first, end=\"\")\n",
    "    else:\n",
    "        print(others, end=\"\")\n",
    "    if(k != K):\n",
    "        print(\" +\\t\", end=\"\")\n",
    "    else:\n",
    "        print(\"\")\n",
    "\n",
    "def value_iteration(states, actions, T, rewards, gamma, beta, values=[], verbose=False):\n",
    "    \"\"\"\n",
    "        @brief: implements Bellman's equation to assign the max expected state values\n",
    "        \n",
    "        @input:\n",
    "            states: a list of states (length is j), type should be string if verbose=True i.e. [\"s1\", \"s2\", \"living room\" ... \"etc\"]\n",
    "            actions: a list of actions (length is n), type should be string if verbose=True i.e. [\"a1\", \"a2\", \"take picture\" ... \"etc\"]\n",
    "            T: a jxjxn matrix of transition probabilities P(Sj | Si, An) for all Sj, Si, and An, j=i is valid (self transitions)\n",
    "            rewards: an array of length j specifying the reward for each state. The reward value never changes.\n",
    "            gamma: the discount factor, i.e. how much do we care about future rewards\n",
    "            beta: the stopping criteria, i.e. minimum amount of improvement between iterations before stopping\n",
    "            values: [optional] current values of the states, set to the states reward value if not supplied\n",
    "            verbose: [optional] set to false \n",
    "        \n",
    "        @output:\n",
    "            values: an array of state values where V(S(i)) = V[i]\n",
    "            policy: a dictionary mapping states as keys to the best action as values, i.e. policy[\"some state\"] -> \"some action\"\n",
    "    \"\"\"\n",
    "    if(len(values) == 0):\n",
    "        values = rewards[:]\n",
    "    old_values = np.ones(len(rewards))*-999\n",
    "    #stopping_criteria = .005\n",
    "    policy = dict.fromkeys(states, \"\")\n",
    "    i = 0\n",
    "    while(abs(sum(values) - sum(old_values)) > beta):\n",
    "        old_values = values[:]\n",
    "        for j in range(0, len(states)): # all states in S\n",
    "            vals = np.zeros(len(actions))\n",
    "            for n in range(0, len(actions)): # valid actions in Sj\n",
    "                assert vals[n] == 0\n",
    "                for k in range(0, len(states)): # reachabe states from Sj\n",
    "                    vals[n] = vals[n] + T[k][j][n]*values[k]\n",
    "                    if(verbose):\n",
    "                        debug(i, j, k, len(states)-1, n, T[k][j][n], values[k])\n",
    "            values[j] = rewards[j] + gamma * np.amax(vals)\n",
    "            policy[states[j]] = actions[np.argmax(vals)]\n",
    "            if(verbose):\n",
    "                print(\"Vals: {}\".format(vals))\n",
    "                print(\"V({0}) = R({0}) + gamma*max({1})\".format(j, vals))\n",
    "                print(\"V({0}) = {1} + {2}*{3}\".format(j, rewards[j], gamma, np.amax(vals)))\n",
    "                print(\"V(\" + str(j) + \"): \" + str(values[j]))\n",
    "        i = i + 1\n",
    "    print(\"Stopping criteria met. state values have been permanently assigned.\")\n",
    "    print(\"V(s1) = {:.2f}\\tV(s2) = {:.2f}\".format(values[0], values[1]))\n",
    "    print(\"R(s1) = {:.2f}\\tR(s2) = {:.2f}\".format(rewards[0], rewards[1]))\n",
    "    print(\"Optimal policy: \")\n",
    "    for key, value in policy.items():\n",
    "        print(\"in state (\" + key + \") take action (\" + value+ \")\")\n",
    "    return values, policy\n"
   ]
  },
  {
   "cell_type": "markdown",
   "metadata": {},
   "source": [
    "### contrived example for understanding value iteration"
   ]
  },
  {
   "cell_type": "code",
   "execution_count": 211,
   "metadata": {},
   "outputs": [
    {
     "name": "stdout",
     "output_type": "stream",
     "text": [
      "Stopping criteria met. state values have been permanently assigned.\n",
      "V(s1) = 4.40\tV(s2) = 1.20\n",
      "R(s1) = 3.00\tR(s2) = -1.00\n",
      "Optimal policy: \n",
      "in state (s1) take action (a2)\n",
      "in state (s2) take action (a1)\n",
      "[4.399061441421509, 1.1995307207107544]\n",
      "{'s1': 'a2', 's2': 'a1'}\n"
     ]
    }
   ],
   "source": [
    "#### dont change anything in this cell, just comment out if needed.\n",
    "states = [\"s1\", \"s2\"]\n",
    "actions = [\"a1\", \"a2\"]\n",
    "rewards = [3, -1]\n",
    "\n",
    "# initialize the values\n",
    "# possible choices are random, zeros, or set to reward value\n",
    "values = rewards[:]\n",
    "\n",
    "# T is a jxjxn matrix of transition probabilities P(Sj | Si, An) for all Sj, Si, and An\n",
    "# P(s1 | s1, a1) = 0.0\n",
    "# P(s1 | s1, a2) = 0.5 \n",
    "# .... \n",
    "# P(s2 | s2, a2) = 1.0\n",
    "# This information must be given (or learned, but that is a different problem)\n",
    "T = [[[0, .5], [1.0, 0]], [[1.0, .5], [0, 1.0]]]\n",
    "\n",
    "# the weight factor for how much we care about future rewards\n",
    "gamma = .5\n",
    "\n",
    "# the stopping criteria, i.e. if improvement is less than this value then stop\n",
    "beta = .005\n",
    "values, policy = value_iteration(states, actions, T, rewards[:], gamma, beta, values=rewards[:], verbose=False)\n",
    "print(values)\n",
    "print(policy)"
   ]
  },
  {
   "cell_type": "markdown",
   "metadata": {},
   "source": [
    "# Start here"
   ]
  },
  {
   "cell_type": "markdown",
   "metadata": {},
   "source": [
    "### Q-value iteration for prognostics scheduling\n",
    "#### valid actions are \n",
    "    - maintenance \n",
    "    - short mission\n",
    "    - long mission"
   ]
  },
  {
   "cell_type": "markdown",
   "metadata": {},
   "source": [
    "### 1) function definitions"
   ]
  },
  {
   "cell_type": "code",
   "execution_count": 1647,
   "metadata": {},
   "outputs": [],
   "source": [
    "def get_actions(state, actions):\n",
    "    \"\"\"\n",
    "        @brief: maps a given state to the valid actions in that state\n",
    "        \n",
    "        @input:\n",
    "            states: a list of states (length is i), type should be string if verbose=True i.e. [\"s1\", \"s2\", \"living room\" ... \"etc\"]\n",
    "            actions: a list of actions (length is j), type should be string if verbose=True i.e. [\"a1\", \"a2\", \"take picture\" ... \"etc\"]\n",
    "        \n",
    "        @output:\n",
    "            valid_actions: an array of valid actions for a given state\n",
    "    \"\"\"\n",
    "    valid_actions = []\n",
    "    if(state == \"dead\"):\n",
    "        valid_actions = [\"maintenance\"]\n",
    "    else:\n",
    "        valid_actions = actions\n",
    "    return valid_actions\n",
    "\n",
    "\n",
    "\n",
    "def build_T(states, actions, verbose=False):\n",
    "    \"\"\"\n",
    "        @brief: constructs the transition matrix\n",
    "        \n",
    "        @input:\n",
    "            states: a list of states (length is i and k where i==k), [\"healthy\", \"good\", \"degraded\", \"dead\"]\n",
    "            actions: a list of actions (length is j), [\"maintenance\", \"short-mission\", \"long-mission\"]\n",
    "        \n",
    "        @output:\n",
    "            T: an [i,j,k] shape matrix where T[i,j,k] = probability of transition to state k from state i taking action j\n",
    "    \"\"\"\n",
    "    T = np.zeros((len(states), len(actions), len(states)))\n",
    "    for i in range(0, len(states)):\n",
    "        current_state = states[i]\n",
    "        valid_actions = get_actions(current_state, actions)\n",
    "        for j in range(0, len(valid_actions)):\n",
    "            action = valid_actions[j]\n",
    "            for k in range(0, len(states)):\n",
    "                next_state = states[k]\n",
    "                if(current_state == \"healthy\"):\n",
    "                    if(action == \"maintenance\"):\n",
    "                        if(next_state == \"healthy\"):\n",
    "                            T[i,j,k] = 1.0\n",
    "                    elif(action == \"short-mission\"):\n",
    "                        if(next_state == \"healthy\"):\n",
    "                            T[i,j,k] = .99\n",
    "                        elif(next_state == \"good\"):\n",
    "                            T[i,j,k] = .01\n",
    "                    elif(action == \"long-mission\"):\n",
    "                        if(next_state == \"healthy\"):\n",
    "                            T[i,j,k] = .9\n",
    "                        elif(next_state == \"good\"):\n",
    "                            T[i,j,k] = .09\n",
    "                        elif(next_state == \"degraded\"):\n",
    "                            T[i,j,k] = .01\n",
    "                            \n",
    "                elif(current_state == \"good\"):\n",
    "                    if(action == \"maintenance\"):\n",
    "                        if(next_state == \"healthy\"):\n",
    "                            T[i,j,k] = .9\n",
    "                        elif(next_state == \"good\"):\n",
    "                            T[i,j,k] = .1\n",
    "                    elif(action == \"short-mission\"):\n",
    "                        if(next_state == \"good\"):\n",
    "                            T[i,j,k] = .9\n",
    "                        elif(next_state == \"degraded\"):\n",
    "                            T[i,j,k] = .1\n",
    "                    elif(action == \"long-mission\"):\n",
    "                        if(next_state == \"good\"):\n",
    "                            T[i,j,k] = .8\n",
    "                        elif(next_state == \"degraded\"):\n",
    "                            T[i,j,k] = .2\n",
    "\n",
    "                elif(current_state == \"degraded\"):\n",
    "                    if(action == \"maintenance\"):\n",
    "                        if(next_state == \"healthy\"):\n",
    "                            T[i,j,k] = .05\n",
    "                        elif(next_state == \"good\"):\n",
    "                            T[i,j,k] = .75\n",
    "                        elif(next_state == \"degraded\"):\n",
    "                            T[i,j,k] = .2\n",
    "                    elif(action == \"short-mission\"):\n",
    "                        if(next_state == \"degraded\"):\n",
    "                            T[i,j,k] = .7\n",
    "                        elif(next_state == \"dead\"):\n",
    "                            T[i,j,k] = .3\n",
    "                    elif(action == \"long-mission\"):\n",
    "                        if(next_state == \"degraded\"):\n",
    "                            T[i,j,k] = .05\n",
    "                        elif(next_state == \"dead\"):\n",
    "                            T[i,j,k] = .95\n",
    "\n",
    "                elif(current_state == \"dead\"):\n",
    "                    if(action == \"maintenance\"):\n",
    "                        if(next_state == \"dead\"):\n",
    "                            T[i,j,k] = .2\n",
    "                        elif(next_state == \"degraded\"):\n",
    "                            T[i,j,k] = .65\n",
    "                        elif(next_state == \"good\"):\n",
    "                            T[i,j,k] = .15\n",
    "                                     \n",
    "                if(verbose):\n",
    "                    print(\"P({} | {} , {}): {}\".format(next_state, current_state, action, T[i,j,k]))\n",
    "    return T\n",
    "    \n",
    "    \n",
    "def build_R(states, actions, rewards, verbose=False):\n",
    "    \"\"\"\n",
    "        @brief: constructs the reward matrix\n",
    "        \n",
    "        @input:\n",
    "            states: a list of states (length is i and k where i==k), [\"healthy\", \"good\", \"degraded\", \"dead\"]\n",
    "            actions: a list of actions (length is j), [\"maintenance\", \"short-mission\", \"long-mission\"]\n",
    "            rewards: a dictionary of rewards mapping quantitative values to qualitative expressions\n",
    "        \n",
    "        @output:\n",
    "            R: an [i,j] shape matrix where R[i,j] = reward for being in state i and taking action j\n",
    "    \"\"\"\n",
    "    R = np.zeros((len(states), len(actions)))\n",
    "    for i in range(0, len(states)):\n",
    "        state = states[i]\n",
    "        for j in range(0, len(actions)):\n",
    "            action = actions[j]\n",
    "            if(state == \"healthy\"):\n",
    "                if(action == \"maintenance\"):\n",
    "                    R[i,j] = rewards[\"bad\"]\n",
    "                elif(action == \"short-mission\"):\n",
    "                    R[i,j] = rewards[\"good\"]\n",
    "                elif(action == \"long-mission\"):\n",
    "                    R[i,j] = rewards[\"best\"]\n",
    "\n",
    "            elif(state == \"good\"):\n",
    "                if(action == \"maintenance\"):\n",
    "                    R[i,j] = rewards[\"none\"]\n",
    "                elif(action == \"short-mission\"):\n",
    "                    R[i,j] = rewards[\"best\"]\n",
    "                elif(action == \"long-mission\"):\n",
    "                    R[i,j] = rewards[\"good\"]\n",
    "  \n",
    "            elif(state == \"degraded\"):\n",
    "                if(action == \"maintenance\"):\n",
    "                    R[i,j] = rewards[\"best\"]\n",
    "                elif(action == \"short-mission\"):\n",
    "                    R[i,j] = rewards[\"bad\"]\n",
    "                elif(action == \"long-mission\"):\n",
    "                    R[i,j] = rewards[\"worst\"]\n",
    "  \n",
    "            elif(state == \"dead\"):\n",
    "                if(action == \"maintenance\"):\n",
    "                    R[i,j] = rewards[\"none\"]\n",
    "                else:\n",
    "                    R[i,j] = -99\n",
    "                    \n",
    "            if(verbose):\n",
    "                print(\"R({} + {}): {}\".format(state, action, R[i,j]))\n",
    "    return R\n",
    "\n",
    "def get_reward(state, action, rewards):\n",
    "    \"\"\"\n",
    "        @brief: returns the reward value for a given state-action pair\n",
    "        \n",
    "        @input:\n",
    "            states: a list of states (length is i and k where i==k), [\"healthy\", \"good\", \"degraded\", \"dead\"]\n",
    "            actions: a list of actions (length is j), [\"maintenance\", \"short-mission\", \"long-mission\"]\n",
    "            rewards: a dictionary of rewards mapping quantitative values to qualitative expressions\n",
    "        \n",
    "        @output:\n",
    "            a real number reward value\n",
    "    \"\"\"\n",
    "    if(state == \"healthy\"):\n",
    "        if(action == \"maintenance\"):\n",
    "            return rewards[\"bad\"]\n",
    "        elif(action == \"short-mission\"):\n",
    "            return rewards[\"good\"]\n",
    "        elif(action == \"long-mission\"):\n",
    "            return rewards[\"best\"]\n",
    "        else:\n",
    "            return -9999 \n",
    "    elif(state == \"good\"):\n",
    "        if(action == \"maintenance\"):\n",
    "            return rewards[\"none\"]\n",
    "        elif(action == \"short-mission\"):\n",
    "            return rewards[\"best\"]\n",
    "        elif(action == \"long-mission\"):\n",
    "            return rewards[\"good\"]\n",
    "        else:\n",
    "            return -9999    \n",
    "    elif(state == \"degraded\"):\n",
    "        if(action == \"maintenance\"):\n",
    "            return rewards[\"best\"]\n",
    "        elif(action == \"short-mission\"):\n",
    "            return rewards[\"bad\"]\n",
    "        elif(action == \"long-mission\"):\n",
    "            return rewards[\"worst\"]\n",
    "        else:\n",
    "            return -9999   \n",
    "    elif(state == \"dead\"):\n",
    "        if(action == \"maintenance\"):\n",
    "            return rewards[\"none\"]\n",
    "        elif(action == \"short-mission\"):\n",
    "            return rewards[\"worst\"]\n",
    "        elif(action == \"long-mission\"):\n",
    "            return rewards[\"worst\"]\n",
    "        else:\n",
    "            return -9999       \n",
    "    else:\n",
    "        return -9999\n",
    "\n",
    "\n",
    "def q_iteration(states, actions, T, R, Q, gamma, epsilon, verbose=False):\n",
    "    \"\"\"\n",
    "        @brief: implements Bellman's equation to solve for Q\n",
    "        \n",
    "        @input:\n",
    "            states: a list of states (length is i and k where i==k), [\"healthy\", \"good\", \"degraded\", \"dead\"]\n",
    "            actions: a list of actions (length is j), [\"maintenance\", \"short-mission\", \"long-mission\"]\n",
    "            T: a ixjxk matrix of transition probabilities P(Sk | Si, An) for all Sk, Si, and An\n",
    "            R: an ixj matrix of reward values \n",
    "            Q: an ixj matrix of Q values for a given state action pair (typically 0s to start)\n",
    "            gamma: the discount factor, i.e. how much do we care about future rewards\n",
    "            epsilon: the stopping criteria, i.e. minimum amount of improvement between iterations before stopping\n",
    "        \n",
    "        @output:\n",
    "            Q: an ixj matrix of Q values \n",
    "            policy: a dictionary mapping states as keys to the best action as values, i.e. policy[\"some state\"] -> \"some action\"\n",
    "    \"\"\"\n",
    "    old_Q = np.ones(R.shape)* -999\n",
    "    epsilon = .1\n",
    "    c = 0\n",
    "    policy = dict.fromkeys(states, \"\")\n",
    "    while(abs(sum(sum(Q)) - sum(sum(old_Q))) > epsilon):\n",
    "        old_Q[:] = Q[:]\n",
    "        for i in range(0, len(states)):\n",
    "            current_state = states[i]\n",
    "            actions = get_actions(state, actions)\n",
    "            for j in range(0, len(actions)):\n",
    "                current_action = actions[j]\n",
    "                q_vals =np.zeros(len(states))\n",
    "                for k in range(0, len(states)):\n",
    "                    next_state = states[k]\n",
    "                    reward = get_reward(current_state, current_action, rewards)\n",
    "                    if(verbose):\n",
    "                        print(\"s[{}]: {}, a[{}]: {}, R: {} \\t s'[{}]: {}, oldQ[s']: {}\".format(i, current_state, j, current_action, reward, k, next_state, old_Q[k]))\n",
    "                    q_vals[k] = T[i,j,k] * (reward + gamma * np.amax(old_Q[k]))\n",
    "                Q[i,j] = np.sum(q_vals)\n",
    "                if(verbose):\n",
    "                    print(\"Q[{},{}]: {}\".format(current_state, current_action, Q[i,j]))\n",
    "            policy[states[i]] = actions[np.argmax(Q[i])]\n",
    "        c+=1\n",
    "    if(verbose):\n",
    "        print(\"Optimal policy: \")\n",
    "        for key, value in policy.items():\n",
    "            print(\"in state (\" + key + \") take action (\" + value+ \")\")\n",
    "    return Q, policy"
   ]
  },
  {
   "cell_type": "markdown",
   "metadata": {},
   "source": [
    "### 2) Implementation"
   ]
  },
  {
   "cell_type": "code",
   "execution_count": 1653,
   "metadata": {},
   "outputs": [
    {
     "name": "stdout",
     "output_type": "stream",
     "text": [
      "[[ 1.99414062  3.99414062  5.99414062]\n",
      " [ 2.99414062  5.99414062  3.99414062]\n",
      " [ 5.99414062  1.49414063 -1.58919271]\n",
      " [ 2.66080729  0.          0.        ]]\n",
      "in state (healthy) take action (long-mission)\n",
      "in state (good) take action (short-mission)\n",
      "in state (degraded) take action (maintenance)\n",
      "in state (dead) take action (maintenance)\n"
     ]
    }
   ],
   "source": [
    "states = [\"healthy\", \"good\", \"degraded\", \"dead\"]\n",
    "actions = [\"maintenance\", \"short-mission\", \"long-mission\"]\n",
    "# best action, ok action, nothing action, crappy action, worst action\n",
    "rewards = {\n",
    "    \"best\"  :  3,\n",
    "    \"good\"  :  1,\n",
    "    \"none\"   :  0,\n",
    "    \"bad\"   : -1,\n",
    "    \"worst\" : -3\n",
    "}\n",
    "\n",
    "gamma = .5\n",
    "epsilon = .01\n",
    "\n",
    "T = build_T(states, actions)\n",
    "R = build_R(states, actions, rewards)\n",
    "Q = np.zeros(R.shape)\n",
    "\n",
    "Q, policy = q_iteration(states, actions, T, R, Q, gamma, epsilon, verbose=False)\n",
    "print(Q)\n",
    "for key, value in policy.items():\n",
    "    print(\"in state (\" + key + \") take action (\" + value+ \")\")"
   ]
  },
  {
   "cell_type": "markdown",
   "metadata": {},
   "source": [
    "### 3) Simulate"
   ]
  },
  {
   "cell_type": "code",
   "execution_count": 1676,
   "metadata": {},
   "outputs": [
    {
     "name": "stdout",
     "output_type": "stream",
     "text": [
      "max iterations reached\n",
      "('healthy', 'long-mission')\n",
      "('healthy', 'long-mission')\n",
      "('healthy', 'long-mission')\n",
      "('healthy', 'long-mission')\n",
      "('healthy', 'long-mission')\n",
      "('healthy', 'long-mission')\n",
      "('healthy', 'long-mission')\n",
      "('healthy', 'long-mission')\n",
      "('healthy', 'long-mission')\n",
      "('healthy', 'long-mission')\n",
      "('healthy', 'long-mission')\n",
      "('healthy', 'long-mission')\n",
      "('healthy', 'long-mission')\n",
      "('healthy', 'long-mission')\n",
      "('healthy', 'long-mission')\n",
      "('healthy', 'long-mission')\n",
      "('healthy', 'long-mission')\n",
      "('healthy', 'long-mission')\n",
      "('healthy', 'long-mission')\n",
      "('healthy', 'long-mission')\n",
      "('healthy', 'long-mission')\n",
      "('healthy', 'long-mission')\n",
      "('healthy', 'long-mission')\n",
      "('healthy', 'long-mission')\n",
      "('good', 'short-mission')\n",
      "('good', 'short-mission')\n",
      "('good', 'short-mission')\n",
      "('degraded', 'maintenance')\n",
      "('good', 'short-mission')\n",
      "('good', 'short-mission')\n",
      "('good', 'short-mission')\n",
      "('good', 'short-mission')\n",
      "('good', 'short-mission')\n",
      "('good', 'short-mission')\n",
      "('good', 'short-mission')\n",
      "('good', 'short-mission')\n",
      "('good', 'short-mission')\n",
      "('good', 'short-mission')\n",
      "('degraded', 'maintenance')\n",
      "('good', 'short-mission')\n",
      "('good', 'short-mission')\n",
      "('degraded', 'maintenance')\n",
      "('degraded', 'maintenance')\n",
      "('good', 'short-mission')\n",
      "('good', 'short-mission')\n",
      "('good', 'short-mission')\n",
      "('good', 'short-mission')\n",
      "('good', 'short-mission')\n",
      "('good', 'short-mission')\n",
      "('good', 'short-mission')\n",
      "('good', 'short-mission')\n",
      "('good', 'short-mission')\n",
      "('degraded', 'maintenance')\n",
      "('good', 'short-mission')\n",
      "('good', 'short-mission')\n",
      "('good', 'short-mission')\n",
      "('good', 'short-mission')\n",
      "('good', 'short-mission')\n",
      "('good', 'short-mission')\n",
      "('good', 'short-mission')\n",
      "('good', 'short-mission')\n",
      "('good', 'short-mission')\n",
      "('good', 'short-mission')\n",
      "('good', 'short-mission')\n",
      "('good', 'short-mission')\n",
      "('good', 'short-mission')\n",
      "('good', 'short-mission')\n",
      "('degraded', 'maintenance')\n",
      "('degraded', 'maintenance')\n",
      "('good', 'short-mission')\n",
      "('good', 'short-mission')\n",
      "('good', 'short-mission')\n",
      "('good', 'short-mission')\n",
      "('degraded', 'maintenance')\n",
      "('good', 'short-mission')\n",
      "('good', 'short-mission')\n",
      "('good', 'short-mission')\n",
      "('good', 'short-mission')\n",
      "('good', 'short-mission')\n",
      "('good', 'short-mission')\n",
      "('good', 'short-mission')\n",
      "('good', 'short-mission')\n",
      "('good', 'short-mission')\n",
      "('good', 'short-mission')\n",
      "('good', 'short-mission')\n",
      "('good', 'short-mission')\n",
      "('degraded', 'maintenance')\n",
      "('good', 'short-mission')\n",
      "('good', 'short-mission')\n",
      "('good', 'short-mission')\n",
      "('good', 'short-mission')\n",
      "('good', 'short-mission')\n",
      "('good', 'short-mission')\n",
      "('good', 'short-mission')\n",
      "('degraded', 'maintenance')\n",
      "('good', 'short-mission')\n",
      "('good', 'short-mission')\n",
      "('good', 'short-mission')\n",
      "('good', 'short-mission')\n",
      "('good', 'short-mission')\n"
     ]
    }
   ],
   "source": [
    "# define max iterations\n",
    "max_iterations = 1000\n",
    "\n",
    "# start in healthy state\n",
    "state = states[0]\n",
    "\n",
    "# create an empty history list (tuple of state-action pairs)\n",
    "history = []\n",
    "i = 0\n",
    "\n",
    "### -----------------------------\n",
    "\n",
    "# simulate until the craft dies (hopefully, it should never happen!)\n",
    "while(state is not \"dead\"):\n",
    "    # get the current best action\n",
    "    action = policy[state]\n",
    "    \n",
    "    # stochasticity\n",
    "    r = np.random.uniform(0.000, 1.0000001)\n",
    "    \n",
    "    # grab the transition probabilities for the current state-action pair\n",
    "    # P is an array where the indicies are the indicies of the next state\n",
    "    # and the values are the probabiliity of transitioning into that state\n",
    "    P = T[states.index(state), actions.index(action)]\n",
    "    \n",
    "    # put them in order for the probability calculate\n",
    "    Ps = np.flip(np.argsort(P))\n",
    "\n",
    "    # find out what state the system transitions to\n",
    "    if(r <= P[Ps[0]]):\n",
    "        next_state = states[Ps[0]]\n",
    "    elif(r <= (P[Ps[0]] + P[Ps[1]])):\n",
    "        next_state = states[Ps[1]]\n",
    "    elif(r <= (P[Ps[0]] + P[Ps[1]] + P[Ps[2]])):\n",
    "        next_state = states[Ps[2]]\n",
    "    else:\n",
    "        next_state = states[Ps[3]]\n",
    "        \n",
    "    # append the current state-action pair to the history\n",
    "    history.append((state, action))\n",
    "    \n",
    "    # assign to current state\n",
    "    state = next_state\n",
    "    \n",
    "    # useful to stop the loop as the model is defined in such a way as to have a\n",
    "    # very small probability of reaching the dead state\n",
    "    i += 1\n",
    "    if(i == max_iterations):\n",
    "        break\n",
    "\n",
    "### -----------------------------\n",
    "\n",
    "if(i == max_iterations):\n",
    "    print(\"max iterations reached\")\n",
    "else:\n",
    "    print(\"the uav died!\")\n",
    "for i in range(0, min(100, max_iterations)):\n",
    "    print(history[i])"
   ]
  },
  {
   "cell_type": "markdown",
   "metadata": {},
   "source": [
    "### The battery"
   ]
  },
  {
   "cell_type": "code",
   "execution_count": 1723,
   "metadata": {},
   "outputs": [],
   "source": [
    "class DiscreteBattery:\n",
    "    def __init__(self, cells: DiscreteBatteryCell, wiring):\n",
    "        self.cells = cells\n",
    "\n",
    "\n",
    "class DiscreteBatteryCell:\n",
    "    def __init__(self, **kwargs):\n",
    "        if(len(kwargs) == 0):\n",
    "            self.soc_ocv = np.zeros((1,1))\n",
    "            self.R0_degradation = np.zeros((1,1))\n",
    "            self.Q_degradation = np.zeros((1,1))\n",
    "        else:\n",
    "            self.soc_ocv = kwargs[\"soc_ocv\"]\n",
    "            self.R0_degradation = kwargs[\"R0_degradation\"]\n",
    "            self.Q_degradation = kwargs[\"Q_degradation\"]\n",
    "        self.soc = 1.0\n",
    "        self.Ir = 0\n",
    "        self.h = 0\n",
    "        self.M0 = .0019\n",
    "        self.M = .0092\n",
    "        self.R0 = .0112\n",
    "        self.R = 2.83e-4\n",
    "        self.Q = 3.8695\n",
    "        self.n = .9987\n",
    "        self.G = 163.4413\n",
    "        self.v0 = 4.2\n",
    "        self.eod = 3.04\n",
    "        self.RC = 3.6572\n",
    "        self.ocv = self.v0\n",
    "        \n",
    "    def get_ocv(self):\n",
    "        if(self.soc < 0.0):\n",
    "            self.soc = 0\n",
    "        elif(self.soc > 1.0):\n",
    "            self.soc = 1.0\n",
    "        idx = int(np.ceil(self.soc*100))\n",
    "        if(idx > 101):\n",
    "            idx = 101\n",
    "        elif(idx < 1):\n",
    "            idx = 1\n",
    "        return self.soc_ocv[idx]\n",
    "        \n",
    "    def step(self, dt, current):\n",
    "        RC = np.exp(-dt/abs(self.RC))\n",
    "        H = np.exp(-abs(self.n*current*self.G*dt/(3600*self.Q)))\n",
    "        self.Ir = RC*self.Ir + (1-RC)*current\n",
    "        self.h = H*self.h + (H-1)*np.sign(current)\n",
    "        self.soc = self.soc - self.n*current/3600/self.Q\n",
    "        self.ocv = self.get_ocv() + self.M*self.h + self.M0*np.sign(current) - self.R*self.Ir - self.R0*current\n",
    "        \n",
    "    def add_profile(self,**profile):\n",
    "        self.soc_ocv = profile[\"soc_ocv\"]\n",
    "        self.R0_degradation = profile[\"R0_degradation\"]\n",
    "        self.Q_degradation = profile[\"Q_degradation\"]\n",
    "        \n",
    "        \n",
    "def get_battery_curves(soc_ocv_file, R0_degradation_file, Q_degradation_file):\n",
    "    \"\"\"\n",
    "        @brief: gets the degradation profile (predefined curves) for the battery\n",
    "        \n",
    "        @input:\n",
    "            soc_ocv_file: a csv file containing the soc_ocv relationship as a column vector\n",
    "            R0_degradation_file: a csv file containing the R0 degradation curve as a column vector\n",
    "            Q_degradation_file: a csv file containing the Q degradation curve as a column vector\n",
    "        \n",
    "        @output:\n",
    "            a dictionary mapping of degradation curves with [\"soc_ocv\", \"R0_degradation\", \"Q_degradation\"] keys\n",
    "    \"\"\"    \n",
    "    soc_ocv = []\n",
    "    R0_degradation = []\n",
    "    Q_degradation = []\n",
    "    \n",
    "    with open(soc_ocv_file, newline='') as f:\n",
    "        soc_ocv = list(csv.reader(f))\n",
    "    soc_ocv = np.asarray(soc_ocv).astype(np.float)\n",
    "    \n",
    "    with open(R0_degradation_file, newline='') as f:\n",
    "        R0_degradation = list(csv.reader(f))\n",
    "    R0_degradation = np.asarray(R0_degradation).astype(np.float)\n",
    "    \n",
    "    with open(Q_degradation_file, newline='') as f:\n",
    "        Q_degradation = list(csv.reader(f))\n",
    "    Q_degradation = np.asarray(Q_degradation).astype(np.float)\n",
    "    \n",
    "    return {\"soc_ocv\": soc_ocv, \"R0_degradation\": R0_degradation, \"Q_degradation\": Q_degradation}"
   ]
  },
  {
   "cell_type": "code",
   "execution_count": 1685,
   "metadata": {},
   "outputs": [],
   "source": []
  },
  {
   "cell_type": "code",
   "execution_count": 1686,
   "metadata": {},
   "outputs": [],
   "source": [
    "battery_curves = get_battery_curves('soc_ocv.csv', 'R0_degradation.csv', 'Q_degradation.csv')"
   ]
  },
  {
   "cell_type": "code",
   "execution_count": 1687,
   "metadata": {},
   "outputs": [
    {
     "data": {
      "image/png": "[encoded data removed]",
      "text/plain": [
       "<Figure size 432x288 with 3 Axes>"
      ]
     },
     "metadata": {
      "needs_background": "light"
     },
     "output_type": "display_data"
    }
   ],
   "source": [
    "fig, axes = plt.subplots(3)\n",
    "axes[0].plot(battery_curves[\"soc_ocv\"])\n",
    "axes[1].plot(battery_curves[\"R0_degradation\"])\n",
    "axes[2].plot(battery_curves[\"Q_degradation\"])\n",
    "plt.show()"
   ]
  },
  {
   "cell_type": "code",
   "execution_count": 1728,
   "metadata": {},
   "outputs": [
    {
     "name": "stdout",
     "output_type": "stream",
     "text": [
      "4.2\n",
      "1.0\n",
      "[[0.]]\n"
     ]
    }
   ],
   "source": [
    "cell = DiscreteBatteryCell(**battery_curves)#soc_ocv, R0_degradation, Q_degradation)\n",
    "print(cell.ocv)\n",
    "print(cell.soc)\n",
    "cell2 = DiscreteBatteryCell()\n",
    "print(cell2.soc_ocv)\n",
    "cell2.add_profile(**battery_curves)\n",
    "battery = DiscreteBattery([DiscreteBatteryCell(), DiscreteBatteryCell(), DiscreteBatteryCell()], \"parallel\")"
   ]
  },
  {
   "cell_type": "code",
   "execution_count": 1509,
   "metadata": {},
   "outputs": [
    {
     "name": "stdout",
     "output_type": "stream",
     "text": [
      "[3.04926653]\n",
      "3569\n"
     ]
    }
   ],
   "source": [
    "i = 0\n",
    "while(cell.ocv > (cell.eod * 1.01)):\n",
    "    cell.step(1, 3.8695)\n",
    "    i += 1\n",
    "print(cell.ocv)\n",
    "print(i)"
   ]
  },
  {
   "cell_type": "code",
   "execution_count": 1694,
   "metadata": {},
   "outputs": [
    {
     "data": {
      "text/plain": [
       "array([[0.]])"
      ]
     },
     "execution_count": 1694,
     "metadata": {},
     "output_type": "execute_result"
    }
   ],
   "source": [
    "np.zeros((1,1))"
   ]
  },
  {
   "cell_type": "code",
   "execution_count": 394,
   "metadata": {},
   "outputs": [
    {
     "name": "stdout",
     "output_type": "stream",
     "text": [
      "0.72\n",
      "72\n"
     ]
    }
   ],
   "source": [
    "\n",
    "\n",
    "v = get_ocv(.72, soc_ocv) + M*h + M0*np.sign(u) - R*Ir - R0*u\n",
    "\n"
   ]
  },
  {
   "cell_type": "code",
   "execution_count": 1606,
   "metadata": {},
   "outputs": [],
   "source": []
  },
  {
   "cell_type": "markdown",
   "metadata": {},
   "source": [
    "### Continuous MDP    \n",
    "# WIP"
   ]
  },
  {
   "cell_type": "code",
   "execution_count": 1607,
   "metadata": {},
   "outputs": [],
   "source": [
    "def get_state(soh):\n",
    "    state = \"\"\n",
    "    if(soh >= 80 and soh <= 100):\n",
    "        state = \"healthy\"\n",
    "    elif(soh >= 65 and soh < 80):\n",
    "        state = \"good\"\n",
    "    elif(soh >= 50 and soh < 65):\n",
    "        state = \"degraded\"\n",
    "    else:\n",
    "        state = \"dead\"\n",
    "    return state\n",
    "        \n",
    "def update_soh(soh, action):\n",
    "    if(action == \"maintenance\"):\n",
    "        soh = soh + 15\n",
    "    elif(action == \"short-mission\"):\n",
    "        soh = soh - .1\n",
    "    elif(action == \"long-mission\"):\n",
    "        soh = soh - .2\n",
    "    else:\n",
    "        soh = soh\n",
    "    return soh"
   ]
  },
  {
   "cell_type": "code",
   "execution_count": 235,
   "metadata": {},
   "outputs": [],
   "source": []
  },
  {
   "cell_type": "code",
   "execution_count": 235,
   "metadata": {},
   "outputs": [],
   "source": [
    "## use for continuous\n",
    "# updates after each iteration\n",
    "# soh = 100\n",
    "\n",
    "# number of actions\n",
    "# steps = 500"
   ]
  },
  {
   "cell_type": "code",
   "execution_count": 234,
   "metadata": {},
   "outputs": [],
   "source": [
    "get_reward(\"healthy\", \"long-mission\", rewards)"
   ]
  },
  {
   "cell_type": "code",
   "execution_count": 277,
   "metadata": {},
   "outputs": [
    {
     "data": {
      "text/plain": [
       "['maintenance']"
      ]
     },
     "execution_count": 277,
     "metadata": {},
     "output_type": "execute_result"
    }
   ],
   "source": [
    "get_actions(\"dead\", actions)"
   ]
  },
  {
   "cell_type": "code",
   "execution_count": 319,
   "metadata": {},
   "outputs": [
    {
     "data": {
      "text/plain": [
       "['maintenance', 'short-mission', 'long-mission']"
      ]
     },
     "execution_count": 319,
     "metadata": {},
     "output_type": "execute_result"
    }
   ],
   "source": [
    "actions"
   ]
  },
  {
   "cell_type": "code",
   "execution_count": 191,
   "metadata": {},
   "outputs": [
    {
     "data": {
      "text/plain": [
       "{'healthy': '', 'good': '', 'degraded': '', 'dead': ''}"
      ]
     },
     "execution_count": 191,
     "metadata": {},
     "output_type": "execute_result"
    }
   ],
   "source": [
    "values = np.zeros(len(states))\n",
    "old_values = np.ones(len(rewards))*-999\n",
    "#stopping_criteria = .005\n"
   ]
  },
  {
   "cell_type": "code",
   "execution_count": 84,
   "metadata": {},
   "outputs": [
    {
     "data": {
      "text/plain": [
       "[<matplotlib.lines.Line2D at 0x1d3b146d908>]"
      ]
     },
     "execution_count": 84,
     "metadata": {},
     "output_type": "execute_result"
    },
    {
     "data": {
      "image/png": "[encoded data removed]",
      "text/plain": [
       "<Figure size 432x288 with 1 Axes>"
      ]
     },
     "metadata": {
      "needs_background": "light"
     },
     "output_type": "display_data"
    }
   ],
   "source": [
    "# placeholder to track the SOH over time\n",
    "vals = np.zeros((steps))\n",
    "\n",
    "# simulation\n",
    "for i in range(0, steps):\n",
    "    if(soh >= 50):\n",
    "        idx = np.random.randint(1, 3)\n",
    "    else:\n",
    "        idx = np.random.randint(0, 3)\n",
    "    vals[i] = soh\n",
    "    soh = update_soh(soh, actions[idx])\n",
    "    state = get_state(soh)\n",
    "plt.plot(vals)"
   ]
  },
  {
   "cell_type": "code",
   "execution_count": 209,
   "metadata": {},
   "outputs": [
    {
     "name": "stdout",
     "output_type": "stream",
     "text": [
      "R(healthy + maintenance): -1.0\n",
      "R(healthy + short-mission): 1.0\n",
      "R(healthy + long-mission): 5.0\n",
      "R(good + maintenance): 0.0\n",
      "R(good + short-mission): 5.0\n",
      "R(good + long-mission): 1.0\n",
      "R(degraded + maintenance): 5.0\n",
      "R(degraded + short-mission): -1.0\n",
      "R(degraded + long-mission): -5.0\n",
      "R(dead + maintenance): 0.0\n",
      "R(dead + short-mission): -99.0\n",
      "R(dead + long-mission): -99.0\n"
     ]
    },
    {
     "data": {
      "text/plain": [
       "array([[ -1.,   1.,   5.],\n",
       "       [  0.,   5.,   1.],\n",
       "       [  5.,  -1.,  -5.],\n",
       "       [  0., -99., -99.]])"
      ]
     },
     "execution_count": 209,
     "metadata": {},
     "output_type": "execute_result"
    }
   ],
   "source": [
    "R = build_R(states, actions, rewards, verbose=True)\n",
    "R"
   ]
  },
  {
   "cell_type": "code",
   "execution_count": 1625,
   "metadata": {},
   "outputs": [
    {
     "name": "stdout",
     "output_type": "stream",
     "text": [
      "P(healthy | healthy , maintenance): 1.0\n",
      "P(good | healthy , maintenance): 0.0\n",
      "P(degraded | healthy , maintenance): 0.0\n",
      "P(dead | healthy , maintenance): 0.0\n",
      "P(healthy | healthy , short-mission): 0.99\n",
      "P(good | healthy , short-mission): 0.01\n",
      "P(degraded | healthy , short-mission): 0.0\n",
      "P(dead | healthy , short-mission): 0.0\n",
      "P(healthy | healthy , long-mission): 0.9\n",
      "P(good | healthy , long-mission): 0.09\n",
      "P(degraded | healthy , long-mission): 0.01\n",
      "P(dead | healthy , long-mission): 0.0\n",
      "P(healthy | good , maintenance): 0.9\n",
      "P(good | good , maintenance): 0.1\n",
      "P(degraded | good , maintenance): 0.0\n",
      "P(dead | good , maintenance): 0.0\n",
      "P(healthy | good , short-mission): 0.0\n",
      "P(good | good , short-mission): 0.9\n",
      "P(degraded | good , short-mission): 0.1\n",
      "P(dead | good , short-mission): 0.0\n",
      "P(healthy | good , long-mission): 0.0\n",
      "P(good | good , long-mission): 0.8\n",
      "P(degraded | good , long-mission): 0.2\n",
      "P(dead | good , long-mission): 0.0\n",
      "P(healthy | degraded , maintenance): 0.05\n",
      "P(good | degraded , maintenance): 0.75\n",
      "P(degraded | degraded , maintenance): 0.2\n",
      "P(dead | degraded , maintenance): 0.0\n",
      "P(healthy | degraded , short-mission): 0.0\n",
      "P(good | degraded , short-mission): 0.0\n",
      "P(degraded | degraded , short-mission): 0.7\n",
      "P(dead | degraded , short-mission): 0.3\n",
      "P(healthy | degraded , long-mission): 0.0\n",
      "P(good | degraded , long-mission): 0.0\n",
      "P(degraded | degraded , long-mission): 0.05\n",
      "P(dead | degraded , long-mission): 0.95\n",
      "P(healthy | dead , maintenance): 0.0\n",
      "P(good | dead , maintenance): 0.15\n",
      "P(degraded | dead , maintenance): 0.65\n",
      "P(dead | dead , maintenance): 0.2\n"
     ]
    },
    {
     "data": {
      "text/plain": [
       "array([[[1.  , 0.  , 0.  , 0.  ],\n",
       "        [0.99, 0.01, 0.  , 0.  ],\n",
       "        [0.9 , 0.09, 0.01, 0.  ]],\n",
       "\n",
       "       [[0.9 , 0.1 , 0.  , 0.  ],\n",
       "        [0.  , 0.9 , 0.1 , 0.  ],\n",
       "        [0.  , 0.8 , 0.2 , 0.  ]],\n",
       "\n",
       "       [[0.05, 0.75, 0.2 , 0.  ],\n",
       "        [0.  , 0.  , 0.7 , 0.3 ],\n",
       "        [0.  , 0.  , 0.05, 0.95]],\n",
       "\n",
       "       [[0.  , 0.15, 0.65, 0.2 ],\n",
       "        [0.  , 0.  , 0.  , 0.  ],\n",
       "        [0.  , 0.  , 0.  , 0.  ]]])"
      ]
     },
     "execution_count": 1625,
     "metadata": {},
     "output_type": "execute_result"
    }
   ],
   "source": [
    "T = build_T(states, actions, verbose=True)\n",
    "T"
   ]
  },
  {
   "cell_type": "code",
   "execution_count": 1626,
   "metadata": {},
   "outputs": [
    {
     "name": "stdout",
     "output_type": "stream",
     "text": [
      "failed\n"
     ]
    }
   ],
   "source": [
    "if(np.all(T.sum(axis=2) == 1)):\n",
    "    print(\"passed\")\n",
    "else:\n",
    "    print(\"failed\")"
   ]
  },
  {
   "cell_type": "code",
   "execution_count": 1629,
   "metadata": {},
   "outputs": [
    {
     "data": {
      "text/plain": [
       "array([[ True,  True,  True],\n",
       "       [ True,  True,  True],\n",
       "       [ True,  True,  True],\n",
       "       [ True, False, False]])"
      ]
     },
     "execution_count": 1629,
     "metadata": {},
     "output_type": "execute_result"
    }
   ],
   "source": [
    "T.sum(axis=2) == 1"
   ]
  },
  {
   "cell_type": "code",
   "execution_count": 165,
   "metadata": {},
   "outputs": [
    {
     "data": {
      "text/plain": [
       "True"
      ]
     },
     "execution_count": 165,
     "metadata": {},
     "output_type": "execute_result"
    }
   ],
   "source": [
    "x = np.ones((3,4,3))\n",
    "x[2,2,2] = 1\n",
    "np.all(x == 1.0)"
   ]
  }
 ],
 "metadata": {
  "kernelspec": {
   "display_name": "Python 3",
   "language": "python",
   "name": "python3"
  },
  "language_info": {
   "codemirror_mode": {
    "name": "ipython",
    "version": 3
   },
   "file_extension": ".py",
   "mimetype": "text/x-python",
   "name": "python",
   "nbconvert_exporter": "python",
   "pygments_lexer": "ipython3",
   "version": "3.7.8"
  }
 },
 "nbformat": 4,
 "nbformat_minor": 4
}
